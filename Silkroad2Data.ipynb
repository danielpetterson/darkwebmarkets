{
 "cells": [
  {
   "cell_type": "code",
   "execution_count": 1,
   "metadata": {},
   "outputs": [],
   "source": [
    "## For Data\n",
    "import numpy as np\n",
    "import pandas as pd\n",
    "import datetime\n",
    "import re\n",
    "\n",
    "## For Plotting\n",
    "import matplotlib.pyplot as plt\n",
    "import seaborn as sns\n",
    "import plotly.express as px\n",
    "from plotly.subplots import make_subplots\n",
    "import plotly.graph_objects as go"
   ]
  },
  {
   "cell_type": "code",
   "execution_count": 2,
   "metadata": {},
   "outputs": [],
   "source": [
    "df1 = pd.read_excel('https://github.com/danielpetterson/darkwebmarkets/raw/master/mastersr2-1.xlsx')\n",
    "df2 = pd.read_excel('https://github.com/danielpetterson/darkwebmarkets/raw/master/mastersr2-2.xlsx')"
   ]
  },
  {
   "cell_type": "code",
   "execution_count": 3,
   "metadata": {},
   "outputs": [
    {
     "data": {
      "text/html": [
       "<div>\n",
       "<style scoped>\n",
       "    .dataframe tbody tr th:only-of-type {\n",
       "        vertical-align: middle;\n",
       "    }\n",
       "\n",
       "    .dataframe tbody tr th {\n",
       "        vertical-align: top;\n",
       "    }\n",
       "\n",
       "    .dataframe thead th {\n",
       "        text-align: right;\n",
       "    }\n",
       "</style>\n",
       "<table border=\"1\" class=\"dataframe\">\n",
       "  <thead>\n",
       "    <tr style=\"text-align: right;\">\n",
       "      <th></th>\n",
       "      <th>Title</th>\n",
       "      <th>Sellerid</th>\n",
       "      <th>PriceUSD</th>\n",
       "      <th>PriceBTC</th>\n",
       "      <th>Rating</th>\n",
       "      <th>Reviews</th>\n",
       "      <th>Origin</th>\n",
       "      <th>Destination</th>\n",
       "      <th>Category</th>\n",
       "      <th>Subcategory</th>\n",
       "      <th>Market</th>\n",
       "      <th>Date</th>\n",
       "    </tr>\n",
       "  </thead>\n",
       "  <tbody>\n",
       "    <tr>\n",
       "      <td>0</td>\n",
       "      <td>Ray Ban Tech RB3460 001 Aviator/Flip Out/ Sung...</td>\n",
       "      <td>FoxyGirl</td>\n",
       "      <td>61.1615</td>\n",
       "      <td>0.098232</td>\n",
       "      <td>NaN</td>\n",
       "      <td>NaN</td>\n",
       "      <td>China</td>\n",
       "      <td>Worldwide</td>\n",
       "      <td>Apparel</td>\n",
       "      <td>None</td>\n",
       "      <td>SilkRoad2</td>\n",
       "      <td>2014-07-17</td>\n",
       "    </tr>\n",
       "    <tr>\n",
       "      <td>1</td>\n",
       "      <td>Ray Ban RB3025 Aviator Classic Sunglasses Replica</td>\n",
       "      <td>FoxyGirl</td>\n",
       "      <td>37.9626</td>\n",
       "      <td>0.060972</td>\n",
       "      <td>NaN</td>\n",
       "      <td>NaN</td>\n",
       "      <td>China</td>\n",
       "      <td>Worldwide</td>\n",
       "      <td>Apparel</td>\n",
       "      <td>None</td>\n",
       "      <td>SilkRoad2</td>\n",
       "      <td>2014-07-17</td>\n",
       "    </tr>\n",
       "    <tr>\n",
       "      <td>2</td>\n",
       "      <td>Rolex - Watch Box (AAA Grade Replica)</td>\n",
       "      <td>RepAAA</td>\n",
       "      <td>100.43</td>\n",
       "      <td>0.161301</td>\n",
       "      <td>NaN</td>\n",
       "      <td>NaN</td>\n",
       "      <td>Hong Kong, (China)</td>\n",
       "      <td>Worldwide</td>\n",
       "      <td>Apparel</td>\n",
       "      <td>None</td>\n",
       "      <td>SilkRoad2</td>\n",
       "      <td>2014-07-17</td>\n",
       "    </tr>\n",
       "    <tr>\n",
       "      <td>3</td>\n",
       "      <td>Ray Ban RB3016 - W0365 | Clubmaster Sunglasses...</td>\n",
       "      <td>FoxyGirl</td>\n",
       "      <td>45.3438</td>\n",
       "      <td>0.072827</td>\n",
       "      <td>NaN</td>\n",
       "      <td>NaN</td>\n",
       "      <td>China</td>\n",
       "      <td>Worldwide</td>\n",
       "      <td>Apparel</td>\n",
       "      <td>None</td>\n",
       "      <td>SilkRoad2</td>\n",
       "      <td>2014-07-17</td>\n",
       "    </tr>\n",
       "    <tr>\n",
       "      <td>4</td>\n",
       "      <td>Rolex - Submariner 2Tone YG/SS Black [Replica]</td>\n",
       "      <td>RepAAA</td>\n",
       "      <td>149.635</td>\n",
       "      <td>0.24033</td>\n",
       "      <td>NaN</td>\n",
       "      <td>NaN</td>\n",
       "      <td>Hong Kong, (China)</td>\n",
       "      <td>Worldwide</td>\n",
       "      <td>Apparel</td>\n",
       "      <td>None</td>\n",
       "      <td>SilkRoad2</td>\n",
       "      <td>2014-07-17</td>\n",
       "    </tr>\n",
       "  </tbody>\n",
       "</table>\n",
       "</div>"
      ],
      "text/plain": [
       "                                               Title  Sellerid PriceUSD  \\\n",
       "0  Ray Ban Tech RB3460 001 Aviator/Flip Out/ Sung...  FoxyGirl  61.1615   \n",
       "1  Ray Ban RB3025 Aviator Classic Sunglasses Replica  FoxyGirl  37.9626   \n",
       "2              Rolex - Watch Box (AAA Grade Replica)    RepAAA   100.43   \n",
       "3  Ray Ban RB3016 - W0365 | Clubmaster Sunglasses...  FoxyGirl  45.3438   \n",
       "4     Rolex - Submariner 2Tone YG/SS Black [Replica]    RepAAA  149.635   \n",
       "\n",
       "   PriceBTC  Rating  Reviews              Origin Destination Category  \\\n",
       "0  0.098232     NaN      NaN               China   Worldwide  Apparel   \n",
       "1  0.060972     NaN      NaN               China   Worldwide  Apparel   \n",
       "2  0.161301     NaN      NaN  Hong Kong, (China)   Worldwide  Apparel   \n",
       "3  0.072827     NaN      NaN               China   Worldwide  Apparel   \n",
       "4   0.24033     NaN      NaN  Hong Kong, (China)   Worldwide  Apparel   \n",
       "\n",
       "  Subcategory     Market        Date  \n",
       "0        None  SilkRoad2  2014-07-17  \n",
       "1        None  SilkRoad2  2014-07-17  \n",
       "2        None  SilkRoad2  2014-07-17  \n",
       "3        None  SilkRoad2  2014-07-17  \n",
       "4        None  SilkRoad2  2014-07-17  "
      ]
     },
     "execution_count": 3,
     "metadata": {},
     "output_type": "execute_result"
    }
   ],
   "source": [
    "# Combine dataframes\n",
    "dfdnm = pd.concat([df1, df2],ignore_index = True)\n",
    "dfdnm.head()"
   ]
  },
  {
   "cell_type": "markdown",
   "metadata": {},
   "source": [
    "### Check for Missing Values\n",
    "The vast majority of missing values are found in the Rating and Reviews columns. This is because earlier versions of the online marketplace didn't have these features."
   ]
  },
  {
   "cell_type": "code",
   "execution_count": 4,
   "metadata": {},
   "outputs": [
    {
     "data": {
      "text/plain": [
       "<matplotlib.axes._subplots.AxesSubplot at 0x1d6a5801e08>"
      ]
     },
     "execution_count": 4,
     "metadata": {},
     "output_type": "execute_result"
    },
    {
     "data": {
      "image/png": "[encoded data removed]",
      "text/plain": [
       "<Figure size 432x288 with 1 Axes>"
      ]
     },
     "metadata": {
      "needs_background": "light"
     },
     "output_type": "display_data"
    }
   ],
   "source": [
    "sns.heatmap(dfdnm.isnull(),\n",
    "           yticklabels=False,\n",
    "           cbar=False,\n",
    "           cmap='viridis')"
   ]
  },
  {
   "cell_type": "code",
   "execution_count": 5,
   "metadata": {},
   "outputs": [],
   "source": [
    "# # Drop Rating and Review columns from df\n",
    "# dfdnm = dfdnm.drop(['Rating','Reviews'], axis=1)"
   ]
  },
  {
   "cell_type": "code",
   "execution_count": null,
   "metadata": {},
   "outputs": [],
   "source": []
  },
  {
   "cell_type": "code",
   "execution_count": 6,
   "metadata": {},
   "outputs": [],
   "source": [
    "region_dict = {\n",
    "    \n",
    "    'Unknown': 'Unknown',\n",
    "    'China': 'Asia',\n",
    "    'Hong Kong, (China)': 'Asia',\n",
    "    'Undeclared': 'Unknown',\n",
    "    'India': 'Asia',\n",
    "    'Canada': 'North America',\n",
    "    'United States': 'North America',\n",
    "    'Netherlands': 'EU',\n",
    "    'United Kingdom': 'EU',\n",
    "    'Germany': 'EU',\n",
    "    'Belgium': 'EU',\n",
    "    'South Africa': 'Africa',\n",
    "    'Australia': 'Oceania',\n",
    "    'Spain': 'EU',\n",
    "    'Czech Republic': 'EU',\n",
    "    'Sweden': 'EU',\n",
    "    'Finland': 'EU',\n",
    "    'New Zealand': 'Oceania',\n",
    "    'Norway': 'Non-EU Europe',\n",
    "    'Poland': 'EU',\n",
    "    'Austria': 'EU',\n",
    "    'Switzerland': 'Non-EU Europe',\n",
    "    'Denmark': 'EU',\n",
    "    'Ireland': 'EU',\n",
    "    'Italy': 'EU',\n",
    "    'Bulgaria': 'EU',\n",
    "    'Slovenia': 'EU',\n",
    "    'Armenia': 'Non-EU Europe',\n",
    "    'Slovakia': 'EU',\n",
    "    'Latvia': 'EU',\n",
    "    'France': 'EU',\n",
    "    'Hungary': 'EU',\n",
    "    'Singapore': 'Asia',\n",
    "    'Germany\\n]': 'EU',\n",
    "    'Colombia': 'Latin America',\n",
    "    'Malaysia': 'Asia',\n",
    "    'Israel': 'Middle East',\n",
    "    'Japan': 'Asia',\n",
    "    'Vatican (Holy See)': 'EU',\n",
    "    'Angola': 'Africa',\n",
    "    'Greece': 'EU',\n",
    "    'Paraguay': 'Latin America',\n",
    "    'Albania': 'Non-EU Europe',\n",
    "    'Panama': 'Latin America',\n",
    "    'Luxembourg': 'EU',\n",
    "    'Kosovo': 'Non-EU Europe',\n",
    "    'Mexico': 'North America',\n",
    "    'Monaco': 'EU',\n",
    "    'Argentina': 'Latin America',\n",
    "    'Bolivia': 'Latin America',\n",
    "    'Ukraine': 'Non-EU Europe',\n",
    "    'Croatia': 'EU',\n",
    "    'Denmark': 'EU',\n",
    "    'Lithuania': 'EU',\n",
    "    'Romania': 'EU',\n",
    "    'Reunion': 'Africa',\n",
    "    'Saint Martin': 'Latin America',\n",
    "    'Moldova': 'Non-EU Europe',\n",
    "    'Central America': 'Latin America',\n",
    "    'Tuvalu': 'Oceania',\n",
    "    'Thailand': 'Asia',\n",
    "    'Afghanistan': 'Asia',\n",
    "    'European union': 'EU',\n",
    "    'Belgium': 'EU',\n",
    "    'Spain': 'EU', \n",
    "    'Hungary': 'EU',\n",
    "    'Philippines': 'Asia',\n",
    "    'EU':'EU'\n",
    "     \n",
    "}\n",
    "\n",
    "country_dict = {\n",
    "    'China': 'China',\n",
    "    'Hong Kong, (China)': 'China',\n",
    "    'Undeclared': 'Unknown',\n",
    "    'India': 'India',\n",
    "    'Canada': 'Canada',\n",
    "    'United States': 'United States',\n",
    "    'Netherlands': 'Netherlands',\n",
    "    'United Kingdom': 'United Kingdom',\n",
    "    'Germany': 'Germany',\n",
    "    'Belgium': 'Belgium',\n",
    "    'South Africa': 'South Africa',\n",
    "    'Australia': 'Australia',\n",
    "    'Spain': 'Spain',\n",
    "    'Czech Republic': 'Czech Republic',\n",
    "    'Sweden': 'Sweden',\n",
    "    'Finland': 'Finland',\n",
    "    'New Zealand': 'New Zealand',\n",
    "    'Norway': 'Norway',\n",
    "    'Poland': 'Poland',\n",
    "    'Austria': 'Austria',\n",
    "    'Switzerland': 'Switzerland',\n",
    "    'Denmark': 'Denmark',\n",
    "    'Ireland': 'Ireland',\n",
    "    'Italy': 'Italy',\n",
    "    'Bulgaria': 'Bulgaria',\n",
    "    'Slovenia': 'Slovenia',\n",
    "    'Armenia': 'Armenia',\n",
    "    'Slovakia': 'Slovakia',\n",
    "    'Latvia': 'Latvia',\n",
    "    'France': 'France',\n",
    "    'Hungary': 'Hungary',\n",
    "    'Singapore': 'Singapore',\n",
    "    'Germany\\n]': 'Germany',\n",
    "    'Colombia': 'Colombia',\n",
    "    'Malaysia': 'Malaysia',\n",
    "    'Israel': 'Israel',\n",
    "    'Japan': 'Japan',\n",
    "    'Vatican (Holy See)': 'Holy See',\n",
    "    'Angola': 'Angola',\n",
    "    'Greece': 'Greece',\n",
    "    'Paraguay': 'Paraguay',\n",
    "    'Albania': 'Albania',\n",
    "    'Panama': 'Panama',\n",
    "    'Luxembourg': 'Luxembourg',\n",
    "    'Kosovo': 'Kosovo',\n",
    "    'Mexico': 'Mexico',\n",
    "    'Monaco': 'Monaco',\n",
    "    'Argentina': 'Argentina',\n",
    "    'Bolivia': 'Bolivia',\n",
    "    'Ukraine': 'Ukraine',\n",
    "    'Croatia': 'Croatia',\n",
    "    'Denmark / UK (Top #4 Seller)': 'United Kingdom',\n",
    "    'Lithuania': 'Lithuania',\n",
    "    'Romania': 'Romania',\n",
    "    'Reunion (FR)': 'Reunion',\n",
    "    'Saint Martin (FR)': 'Saint Martin',\n",
    "    'Moldova, Republic of': 'Moldova',\n",
    "    'Central America': 'Central America',\n",
    "    'Tuvalu': 'Tuvalu',\n",
    "    'Thailand': 'Thailand',\n",
    "    'Afghanistan': 'Afghanistan',\n",
    "    'European union': 'EU',\n",
    "    'Belgium': 'Belgium',\n",
    "    'Spain': 'Spain', \n",
    "    'Hungary': 'Hungary',\n",
    "    'Philippines': 'Philippines'\n",
    "}\n",
    "\n",
    "destination_dict = {\n",
    "    'Worldwide': 'Worldwide',\n",
    "    'Canada': 'Canada',\n",
    "    'United States': 'United States',\n",
    "    'Worldwide except Australia': 'Worldwide ex AUS',\n",
    "    'European Union': 'EU',\n",
    "    'Undeclared': 'Undeclared',\n",
    "    'Australia': 'Australia',\n",
    "    'Sweden': 'Sweden',\n",
    "    'Germany': 'Germany',\n",
    "    'United Kingdom': 'United Kingdom',\n",
    "    'United States &amp; Canada': 'United States and Canada', \n",
    "    'New Zealand': 'New Zealand',\n",
    "    'Norway': 'Norway',\n",
    "    'Finland': 'Finland',\n",
    "    'Ireland': 'Ireland',\n",
    "    'China': 'China',\n",
    "    'Switzerland': 'Switzerland',\n",
    "    'Denmark': 'Denmark',\n",
    "    'Azerbaijan': 'Azerbaijan',\n",
    "    'Netherlands': 'Netherlands',\n",
    "    'Italy': 'Italy',\n",
    "    'France': 'France',\n",
    "    'European Union / UK / Worldwide': 'Worldwide',\n",
    "    'Worldwide\\n ]': 'Worldwide',\n",
    "    'United States & Canada': 'United States and Canada',\n",
    "    'Argentina': 'Argentina',\n",
    "    'Mexico': 'Mexico',\n",
    "    'Japan': 'Japan',\n",
    "    'Tuvalu': 'Tuvalu',\n",
    "    'Belgium': 'Belgium',\n",
    "    'Spain': 'Spain',\n",
    "    'Hungary': 'Hungary',\n",
    "    'Philippines': 'Philippines'\n",
    "}\n",
    "\n",
    "# Map keys to values\n",
    "dfdnm['Origin'] = dfdnm['Origin'].map(country_dict)\n",
    "dfdnm['Origin_region'] = dfdnm['Origin'].map(region_dict)\n",
    "dfdnm['Destination'] = dfdnm['Destination'].map(destination_dict)"
   ]
  },
  {
   "cell_type": "code",
   "execution_count": 7,
   "metadata": {},
   "outputs": [
    {
     "data": {
      "text/plain": [
       "{1: 'China',\n",
       " 2: 'India',\n",
       " 3: 'Canada',\n",
       " 4: 'United States',\n",
       " 5: 'Netherlands',\n",
       " 6: 'United Kingdom',\n",
       " 7: 'Germany',\n",
       " 8: 'Belgium',\n",
       " 9: 'South Africa',\n",
       " 10: 'Australia',\n",
       " 11: 'Spain',\n",
       " 12: 'Czech Republic',\n",
       " 13: 'Sweden',\n",
       " 14: 'Finland',\n",
       " 15: 'New Zealand',\n",
       " 16: 'Norway',\n",
       " 17: 'Poland',\n",
       " 18: 'Austria',\n",
       " 19: 'Switzerland',\n",
       " 20: 'Denmark',\n",
       " 21: 'Ireland',\n",
       " 22: 'Italy',\n",
       " 23: 'Bulgaria',\n",
       " 24: 'Slovenia',\n",
       " 25: 'Armenia',\n",
       " 26: 'Slovakia',\n",
       " 27: 'Latvia',\n",
       " 28: 'France',\n",
       " 29: 'Hungary',\n",
       " 30: 'Singapore',\n",
       " 31: 'Colombia',\n",
       " 32: 'Malaysia',\n",
       " 33: 'Israel',\n",
       " 34: 'Japan',\n",
       " 35: 'Holy See',\n",
       " 36: 'Angola',\n",
       " 37: 'Greece',\n",
       " 38: 'Paraguay',\n",
       " 39: 'Albania',\n",
       " 40: 'Panama',\n",
       " 41: 'Luxembourg',\n",
       " 42: 'Kosovo',\n",
       " 43: 'Mexico',\n",
       " 44: 'Monaco',\n",
       " 45: 'Argentina',\n",
       " 46: 'Bolivia',\n",
       " 47: 'Ukraine',\n",
       " 48: 'Croatia',\n",
       " 49: 'Lithuania',\n",
       " 50: 'Romania',\n",
       " 51: 'Reunion',\n",
       " 52: 'Saint Martin',\n",
       " 53: 'Moldova',\n",
       " 54: 'Central America',\n",
       " 55: 'Tuvalu',\n",
       " 56: 'Thailand',\n",
       " 57: 'Afghanistan',\n",
       " 58: 'EU',\n",
       " 59: 'Philippines'}"
      ]
     },
     "execution_count": 7,
     "metadata": {},
     "output_type": "execute_result"
    }
   ],
   "source": [
    "dfdnm['Origin'].value_counts()\n",
    "\n",
    "country_dict_num = {\n",
    " 'China': 1,\n",
    " 'India': 2,\n",
    " 'Canada': 3,\n",
    " 'United States': 4,\n",
    " 'Netherlands': 5,\n",
    " 'United Kingdom': 6,\n",
    " 'Germany': 7,\n",
    " 'Belgium': 8,\n",
    " 'South Africa': 9,\n",
    " 'Australia': 10,\n",
    " 'Spain': 11,\n",
    " 'Czech Republic': 12,\n",
    " 'Sweden': 13,\n",
    " 'Finland': 14,\n",
    " 'New Zealand': 15,\n",
    " 'Norway': 16,\n",
    " 'Poland': 17,\n",
    " 'Austria': 18,\n",
    " 'Switzerland': 19,\n",
    " 'Denmark': 20,\n",
    " 'Ireland': 21,\n",
    " 'Italy': 22,\n",
    " 'Bulgaria': 23,\n",
    " 'Slovenia': 24,\n",
    " 'Armenia': 25,\n",
    " 'Slovakia': 26,\n",
    " 'Latvia': 27,\n",
    " 'France': 28,\n",
    " 'Hungary': 29,\n",
    " 'Singapore': 30,\n",
    " 'Colombia': 31,\n",
    " 'Malaysia': 32,\n",
    " 'Israel': 33,\n",
    " 'Japan': 34,\n",
    " 'Holy See': 35,\n",
    " 'Angola': 36,\n",
    " 'Greece': 37,\n",
    " 'Paraguay': 38,\n",
    " 'Albania': 39,\n",
    " 'Panama': 40,\n",
    " 'Luxembourg': 41,\n",
    " 'Kosovo': 42,\n",
    " 'Mexico': 43,\n",
    " 'Monaco': 44,\n",
    " 'Argentina': 45,\n",
    " 'Bolivia': 46,\n",
    " 'Ukraine': 47,\n",
    " 'Croatia': 48,\n",
    " 'Lithuania': 49,\n",
    " 'Romania': 50,\n",
    " 'Reunion': 51,\n",
    " 'Saint Martin': 52,\n",
    " 'Moldova': 53,\n",
    " 'Central America': 54,\n",
    " 'Tuvalu': 55,\n",
    " 'Thailand': 56,\n",
    " 'Afghanistan': 57,\n",
    " 'EU': 58,\n",
    " 'Philippines': 59}\n",
    "\n",
    "country_dict_num_inv = {value:key for key, value in country_dict_num.items()}\n",
    "country_dict_num_inv"
   ]
  },
  {
   "cell_type": "code",
   "execution_count": 14,
   "metadata": {
    "scrolled": true
   },
   "outputs": [
    {
     "data": {
      "text/plain": [
       "<matplotlib.axes._subplots.AxesSubplot at 0x1d69f992f08>"
      ]
     },
     "execution_count": 14,
     "metadata": {},
     "output_type": "execute_result"
    },
    {
     "data": {
      "image/png": "[encoded data removed]",
      "text/plain": [
       "<Figure size 432x288 with 1 Axes>"
      ]
     },
     "metadata": {
      "needs_background": "light"
     },
     "output_type": "display_data"
    }
   ],
   "source": [
    "#dfdnm.Origin_region.isnull().sum()\n",
    "sns.heatmap(dfdnm.isnull(),\n",
    "           yticklabels=False,\n",
    "           cbar=False,\n",
    "           cmap='viridis')"
   ]
  },
  {
   "cell_type": "markdown",
   "metadata": {},
   "source": [
    "### Cocaine Data"
   ]
  },
  {
   "cell_type": "code",
   "execution_count": 78,
   "metadata": {},
   "outputs": [],
   "source": [
    "# Subset obs to titles containing 'Cocaine' within Cocaine subcategory\n",
    "key = re.compile('COCAINE')\n",
    "filt = (dfdnm['Title']\n",
    "         .str.upper()\n",
    "         .str.contains(key))\n",
    "dfcoca = dfdnm[(filt.fillna(False))&(dfdnm['Subcategory'] == 'Cocaine')].copy()\n",
    "\n",
    "# Extract product purity\n",
    "dfcoca['Purity'] =  (dfcoca['Title']\n",
    "                     .str.extract(r'(\\d+(?:\\.\\d+)?%)'))\n",
    "dfcoca['Purity'] =   (dfcoca['Purity']\n",
    "                     .str.extract(r'(\\d+)')\n",
    "                     .astype(float))\n",
    "\n",
    "# Fill NAs in Purity with median value of Seller listing\n",
    "dfcoca['Purity'] = dfcoca.Purity.fillna(dfcoca.groupby('Sellerid').Purity.transform('median'))\n",
    "\n",
    "# Fill remaining NAs with median value of origin region\n",
    "dfcoca['Purity'] = dfcoca.Purity.fillna(dfcoca.groupby('Origin_region').Purity.transform('median'))\n",
    "\n",
    "# Fill remaining NAs with median of variable (Asia only has four listings, all without purity values)\n",
    "dfcoca['Purity'].fillna(dfcoca['Purity'].mean(), inplace=True)\n",
    "\n",
    "# List of sellers with improper purity values\n",
    "sellerpure =['NSWGreat','MasterSwe','christian2356']\n",
    "\n",
    "# Replace values with median\n",
    "dfcoca.loc[(dfcoca.Sellerid.isin(sellerpure),'Purity')]= dfcoca.Purity.median()\n",
    "\n",
    "dfcoca['Title1'] = dfcoca['Title'].str.replace(r'(\\d+(?:\\.\\d+)?%)', '')\n",
    "\n",
    "# Extract quantity of units\n",
    "dfcoca['Quantitytext'] = (dfcoca['Title1']\n",
    "                      .str.upper()\n",
    "                      .str.replace('ONE', '1')\n",
    "                      .str.replace(',', '.')\n",
    "                      .str.replace('1/8', '0.125')\n",
    "                      .str.replace('1/4', '0.25')\n",
    "                      .str.replace('1/2', '0.5')\n",
    "                      .str.extract(r'(\\d+(?:\\.\\d+)?.?G?O?K?.K?)')\n",
    "                      .fillna('NA'))\n",
    "dfcoca['Quantity'] =  (dfcoca['Quantitytext']\n",
    "                      .str.extract(r'(\\d+(?:\\.\\d+)?)')\n",
    "                      .astype(float))\n",
    "\n",
    "dfcoca.loc[(dfcoca.Quantitytext.str.contains('K')),'Grams']=1000\n",
    "dfcoca.loc[(dfcoca.Quantitytext.str.contains('.K')),'Grams']=1000\n",
    "dfcoca.loc[(dfcoca.Quantitytext.str.contains('O')),'Grams']=28\n",
    "dfcoca['Grams'] = dfcoca['Grams'].fillna(1)\n",
    "dfcoca['Quantity'] = dfcoca['Grams'] * dfcoca['Quantity']\n",
    "\n",
    "dfcoca['Quantity'] = dfcoca.Quantity.fillna(1)\n",
    "\n",
    "# Calculate price per unit\n",
    "dfcoca['Gram_Price'] = dfcoca['PriceUSD']/dfcoca['Quantity']\n",
    "\n",
    "\n",
    "# Retain only most recent listing scrape values\n",
    "dfcoca = dfcoca.drop_duplicates(subset=['Title', 'Market'], keep='last')\n",
    "\n",
    "\n",
    "# Drop variables\n",
    "dfcoca.drop(['Title1', 'Quantitytext', 'Rating', 'Reviews', 'Market', 'Category', 'Subcategory'], axis=1, inplace = True)"
   ]
  },
  {
   "cell_type": "code",
   "execution_count": 79,
   "metadata": {},
   "outputs": [
    {
     "data": {
      "text/html": [
       "<div>\n",
       "<style scoped>\n",
       "    .dataframe tbody tr th:only-of-type {\n",
       "        vertical-align: middle;\n",
       "    }\n",
       "\n",
       "    .dataframe tbody tr th {\n",
       "        vertical-align: top;\n",
       "    }\n",
       "\n",
       "    .dataframe thead th {\n",
       "        text-align: right;\n",
       "    }\n",
       "</style>\n",
       "<table border=\"1\" class=\"dataframe\">\n",
       "  <thead>\n",
       "    <tr style=\"text-align: right;\">\n",
       "      <th></th>\n",
       "      <th>Title</th>\n",
       "      <th>Sellerid</th>\n",
       "      <th>PriceUSD</th>\n",
       "      <th>PriceBTC</th>\n",
       "      <th>Origin</th>\n",
       "      <th>Destination</th>\n",
       "      <th>Date</th>\n",
       "      <th>Origin_region</th>\n",
       "      <th>Purity</th>\n",
       "      <th>Quantity</th>\n",
       "      <th>Grams</th>\n",
       "      <th>Gram_Price</th>\n",
       "    </tr>\n",
       "  </thead>\n",
       "  <tbody>\n",
       "    <tr>\n",
       "      <td>114438</td>\n",
       "      <td>***OPENING SPECIAL*** 10 grams of Pure Cocaine...</td>\n",
       "      <td>NaN</td>\n",
       "      <td>274.739</td>\n",
       "      <td>0.4104</td>\n",
       "      <td>Unknown</td>\n",
       "      <td>Worldwide</td>\n",
       "      <td>2014-02-11</td>\n",
       "      <td>Unknown</td>\n",
       "      <td>89.0</td>\n",
       "      <td>10.0</td>\n",
       "      <td>1.0</td>\n",
       "      <td>27.4739</td>\n",
       "    </tr>\n",
       "    <tr>\n",
       "      <td>114537</td>\n",
       "      <td>90$ A GRAM, 87% UNCUT COCAINE - BEST SOURCE # ...</td>\n",
       "      <td>TeamDenmark</td>\n",
       "      <td>7029.14</td>\n",
       "      <td>10.5</td>\n",
       "      <td>NaN</td>\n",
       "      <td>Worldwide</td>\n",
       "      <td>2014-02-11</td>\n",
       "      <td>NaN</td>\n",
       "      <td>87.0</td>\n",
       "      <td>90.0</td>\n",
       "      <td>1.0</td>\n",
       "      <td>78.1015</td>\n",
       "    </tr>\n",
       "    <tr>\n",
       "      <td>513059</td>\n",
       "      <td>.2 Gram Godd Cocaine 15</td>\n",
       "      <td>NaN</td>\n",
       "      <td>15.5599</td>\n",
       "      <td>0.041015</td>\n",
       "      <td>United States</td>\n",
       "      <td>United States</td>\n",
       "      <td>2014-10-20</td>\n",
       "      <td>North America</td>\n",
       "      <td>90.0</td>\n",
       "      <td>2.0</td>\n",
       "      <td>1.0</td>\n",
       "      <td>7.77996</td>\n",
       "    </tr>\n",
       "    <tr>\n",
       "      <td>617302</td>\n",
       "      <td>***Budworx***PREMIUM UNCUT COCAINE*** - 0.5 Gr...</td>\n",
       "      <td>NaN</td>\n",
       "      <td>94.9174</td>\n",
       "      <td>0.245729</td>\n",
       "      <td>United Kingdom</td>\n",
       "      <td>Worldwide</td>\n",
       "      <td>2014-09-30</td>\n",
       "      <td>EU</td>\n",
       "      <td>89.0</td>\n",
       "      <td>0.5</td>\n",
       "      <td>1.0</td>\n",
       "      <td>189.835</td>\n",
       "    </tr>\n",
       "  </tbody>\n",
       "</table>\n",
       "</div>"
      ],
      "text/plain": [
       "                                                    Title     Sellerid  \\\n",
       "114438  ***OPENING SPECIAL*** 10 grams of Pure Cocaine...          NaN   \n",
       "114537  90$ A GRAM, 87% UNCUT COCAINE - BEST SOURCE # ...  TeamDenmark   \n",
       "513059                            .2 Gram Godd Cocaine 15          NaN   \n",
       "617302  ***Budworx***PREMIUM UNCUT COCAINE*** - 0.5 Gr...          NaN   \n",
       "\n",
       "       PriceUSD  PriceBTC          Origin    Destination        Date  \\\n",
       "114438  274.739    0.4104         Unknown      Worldwide  2014-02-11   \n",
       "114537  7029.14      10.5             NaN      Worldwide  2014-02-11   \n",
       "513059  15.5599  0.041015   United States  United States  2014-10-20   \n",
       "617302  94.9174  0.245729  United Kingdom      Worldwide  2014-09-30   \n",
       "\n",
       "        Origin_region  Purity  Quantity  Grams Gram_Price  \n",
       "114438        Unknown    89.0      10.0    1.0    27.4739  \n",
       "114537            NaN    87.0      90.0    1.0    78.1015  \n",
       "513059  North America    90.0       2.0    1.0    7.77996  \n",
       "617302             EU    89.0       0.5    1.0    189.835  "
      ]
     },
     "execution_count": 79,
     "metadata": {},
     "output_type": "execute_result"
    },
    {
     "data": {
      "image/png": "[encoded data removed]",
      "text/plain": [
       "<Figure size 432x288 with 1 Axes>"
      ]
     },
     "metadata": {
      "needs_background": "light"
     },
     "output_type": "display_data"
    }
   ],
   "source": [
    "# Check for missing values\n",
    "sns.heatmap(dfcoca.isnull(),\n",
    "           yticklabels=False,\n",
    "           cbar=False,\n",
    "           cmap='viridis')\n",
    "\n",
    "dfcoca[dfcoca.isnull().any(axis=1)]"
   ]
  },
  {
   "cell_type": "markdown",
   "metadata": {},
   "source": [
    "### Cocaine Purity"
   ]
  },
  {
   "cell_type": "code",
   "execution_count": 77,
   "metadata": {},
   "outputs": [
    {
     "data": {
      "text/plain": [
       "<matplotlib.axes._subplots.AxesSubplot at 0x1d69d505a08>"
      ]
     },
     "execution_count": 77,
     "metadata": {},
     "output_type": "execute_result"
    },
    {
     "data": {
      "image/png": "[encoded data removed]",
      "text/plain": [
       "<Figure size 432x288 with 1 Axes>"
      ]
     },
     "metadata": {
      "needs_background": "light"
     },
     "output_type": "display_data"
    }
   ],
   "source": [
    "# Histogram of cocaine purity\n",
    "sns.distplot(dfcoca['Purity'],bins=10, hist=True, rug=True)"
   ]
  },
  {
   "cell_type": "markdown",
   "metadata": {},
   "source": [
    "### Price Per Gram"
   ]
  },
  {
   "cell_type": "code",
   "execution_count": 68,
   "metadata": {},
   "outputs": [
    {
     "data": {
      "text/html": [
       "<div>\n",
       "<style scoped>\n",
       "    .dataframe tbody tr th:only-of-type {\n",
       "        vertical-align: middle;\n",
       "    }\n",
       "\n",
       "    .dataframe tbody tr th {\n",
       "        vertical-align: top;\n",
       "    }\n",
       "\n",
       "    .dataframe thead th {\n",
       "        text-align: right;\n",
       "    }\n",
       "</style>\n",
       "<table border=\"1\" class=\"dataframe\">\n",
       "  <thead>\n",
       "    <tr style=\"text-align: right;\">\n",
       "      <th></th>\n",
       "      <th>Title</th>\n",
       "      <th>Purity</th>\n",
       "      <th>Quantity</th>\n",
       "      <th>Origin</th>\n",
       "      <th>Destination</th>\n",
       "      <th>Gram_Price</th>\n",
       "    </tr>\n",
       "  </thead>\n",
       "  <tbody>\n",
       "    <tr>\n",
       "      <td>378434</td>\n",
       "      <td>2g of our Stunning Cocaine</td>\n",
       "      <td>89.0</td>\n",
       "      <td>2.000</td>\n",
       "      <td>United Kingdom</td>\n",
       "      <td>United Kingdom</td>\n",
       "      <td>1.43755e+11</td>\n",
       "    </tr>\n",
       "    <tr>\n",
       "      <td>340824</td>\n",
       "      <td>5g of our Stunning Cocaine</td>\n",
       "      <td>89.0</td>\n",
       "      <td>5.000</td>\n",
       "      <td>United Kingdom</td>\n",
       "      <td>United Kingdom</td>\n",
       "      <td>1.38277e+11</td>\n",
       "    </tr>\n",
       "    <tr>\n",
       "      <td>114554</td>\n",
       "      <td>3.5G COLUMBIAN FISHSCALE COCAINE **DOMESTIC US...</td>\n",
       "      <td>90.0</td>\n",
       "      <td>3.500</td>\n",
       "      <td>United States</td>\n",
       "      <td>United States</td>\n",
       "      <td>2.50422e+07</td>\n",
       "    </tr>\n",
       "    <tr>\n",
       "      <td>398120</td>\n",
       "      <td>facadeface combo : 1g Peruvian cocaine + 1 xan...</td>\n",
       "      <td>90.0</td>\n",
       "      <td>1.000</td>\n",
       "      <td>United States</td>\n",
       "      <td>United States</td>\n",
       "      <td>1.10693e+07</td>\n",
       "    </tr>\n",
       "    <tr>\n",
       "      <td>196590</td>\n",
       "      <td>Australia cocaine DOMESTIC</td>\n",
       "      <td>90.0</td>\n",
       "      <td>1.000</td>\n",
       "      <td>Australia</td>\n",
       "      <td>Australia</td>\n",
       "      <td>57746.5</td>\n",
       "    </tr>\n",
       "    <tr>\n",
       "      <td>196600</td>\n",
       "      <td>Cocaine to Australia. DOMESTIC</td>\n",
       "      <td>90.0</td>\n",
       "      <td>1.000</td>\n",
       "      <td>Australia</td>\n",
       "      <td>Australia</td>\n",
       "      <td>57746.5</td>\n",
       "    </tr>\n",
       "    <tr>\n",
       "      <td>604886</td>\n",
       "      <td>4 ounces of fishscale cocaine to Australia</td>\n",
       "      <td>90.0</td>\n",
       "      <td>112.000</td>\n",
       "      <td>United States</td>\n",
       "      <td>United States</td>\n",
       "      <td>33061.8</td>\n",
       "    </tr>\n",
       "    <tr>\n",
       "      <td>318137</td>\n",
       "      <td>1 Brick High Quality 90% Pure Very clean cocai...</td>\n",
       "      <td>90.0</td>\n",
       "      <td>1.000</td>\n",
       "      <td>Australia</td>\n",
       "      <td>Australia</td>\n",
       "      <td>17494.7</td>\n",
       "    </tr>\n",
       "    <tr>\n",
       "      <td>420250</td>\n",
       "      <td>1/8 (3.5G) of our Stunning Smooth  Cocaine (ol...</td>\n",
       "      <td>89.0</td>\n",
       "      <td>0.125</td>\n",
       "      <td>United Kingdom</td>\n",
       "      <td>United Kingdom</td>\n",
       "      <td>3761.56</td>\n",
       "    </tr>\n",
       "    <tr>\n",
       "      <td>591967</td>\n",
       "      <td>A1 COCAINE 28g - A1</td>\n",
       "      <td>89.0</td>\n",
       "      <td>1.000</td>\n",
       "      <td>United Kingdom</td>\n",
       "      <td>Worldwide</td>\n",
       "      <td>3391.99</td>\n",
       "    </tr>\n",
       "    <tr>\n",
       "      <td>591983</td>\n",
       "      <td>Cocaine Smuggling Guide: Black Cocaine Liquid ...</td>\n",
       "      <td>90.0</td>\n",
       "      <td>1.000</td>\n",
       "      <td>United States</td>\n",
       "      <td>Worldwide</td>\n",
       "      <td>1585.1</td>\n",
       "    </tr>\n",
       "    <tr>\n",
       "      <td>604982</td>\n",
       "      <td>Cocaine Smuggling Guide: Plastic Cocaine</td>\n",
       "      <td>90.0</td>\n",
       "      <td>1.000</td>\n",
       "      <td>United States</td>\n",
       "      <td>Worldwide</td>\n",
       "      <td>1559.85</td>\n",
       "    </tr>\n",
       "    <tr>\n",
       "      <td>211033</td>\n",
       "      <td>1/2 Price 1oz's for Introduction here in SR2.....</td>\n",
       "      <td>89.0</td>\n",
       "      <td>0.500</td>\n",
       "      <td>Unknown</td>\n",
       "      <td>Worldwide</td>\n",
       "      <td>1536.53</td>\n",
       "    </tr>\n",
       "    <tr>\n",
       "      <td>114321</td>\n",
       "      <td>Bolivian Fishscale Cocaine - pure - best SR co...</td>\n",
       "      <td>85.0</td>\n",
       "      <td>1.000</td>\n",
       "      <td>France</td>\n",
       "      <td>Worldwide</td>\n",
       "      <td>1448.26</td>\n",
       "    </tr>\n",
       "    <tr>\n",
       "      <td>617299</td>\n",
       "      <td>0.1g Cocaine AusMate (S Grade) Sample</td>\n",
       "      <td>92.0</td>\n",
       "      <td>0.100</td>\n",
       "      <td>Australia</td>\n",
       "      <td>Australia</td>\n",
       "      <td>691.104</td>\n",
       "    </tr>\n",
       "  </tbody>\n",
       "</table>\n",
       "</div>"
      ],
      "text/plain": [
       "                                                    Title  Purity  Quantity  \\\n",
       "378434                         2g of our Stunning Cocaine    89.0     2.000   \n",
       "340824                        5g of our Stunning Cocaine     89.0     5.000   \n",
       "114554  3.5G COLUMBIAN FISHSCALE COCAINE **DOMESTIC US...    90.0     3.500   \n",
       "398120  facadeface combo : 1g Peruvian cocaine + 1 xan...    90.0     1.000   \n",
       "196590                         Australia cocaine DOMESTIC    90.0     1.000   \n",
       "196600                     Cocaine to Australia. DOMESTIC    90.0     1.000   \n",
       "604886         4 ounces of fishscale cocaine to Australia    90.0   112.000   \n",
       "318137  1 Brick High Quality 90% Pure Very clean cocai...    90.0     1.000   \n",
       "420250  1/8 (3.5G) of our Stunning Smooth  Cocaine (ol...    89.0     0.125   \n",
       "591967                                A1 COCAINE 28g - A1    89.0     1.000   \n",
       "591983  Cocaine Smuggling Guide: Black Cocaine Liquid ...    90.0     1.000   \n",
       "604982           Cocaine Smuggling Guide: Plastic Cocaine    90.0     1.000   \n",
       "211033  1/2 Price 1oz's for Introduction here in SR2.....    89.0     0.500   \n",
       "114321  Bolivian Fishscale Cocaine - pure - best SR co...    85.0     1.000   \n",
       "617299              0.1g Cocaine AusMate (S Grade) Sample    92.0     0.100   \n",
       "\n",
       "                Origin     Destination   Gram_Price  \n",
       "378434  United Kingdom  United Kingdom  1.43755e+11  \n",
       "340824  United Kingdom  United Kingdom  1.38277e+11  \n",
       "114554   United States   United States  2.50422e+07  \n",
       "398120   United States   United States  1.10693e+07  \n",
       "196590       Australia       Australia      57746.5  \n",
       "196600       Australia       Australia      57746.5  \n",
       "604886   United States   United States      33061.8  \n",
       "318137       Australia       Australia      17494.7  \n",
       "420250  United Kingdom  United Kingdom      3761.56  \n",
       "591967  United Kingdom       Worldwide      3391.99  \n",
       "591983   United States       Worldwide       1585.1  \n",
       "604982   United States       Worldwide      1559.85  \n",
       "211033         Unknown       Worldwide      1536.53  \n",
       "114321          France       Worldwide      1448.26  \n",
       "617299       Australia       Australia      691.104  "
      ]
     },
     "execution_count": 68,
     "metadata": {},
     "output_type": "execute_result"
    }
   ],
   "source": [
    "dfcoca[['Title','Purity','Quantity','Origin','Destination','Gram_Price']].sort_values(by=['Gram_Price'], ascending=False).head(15)"
   ]
  },
  {
   "cell_type": "markdown",
   "metadata": {},
   "source": [
    "There appears to be a small number of extreme outliers in the price per gram. Fourteen listings are listed as being more than 700USD per gram which is far above traditional pricing. The Global Drug Survey 2018 reported that prices are highest in Oceania where, on average, a gram of cocaine will set you back 336AUD and 310AUD in New Zealand and Australia respectively. These figures are derived mostly from street level prices which at which the product is likely to be cut with other substances which serves to both decrease purity and increase profitability. As such it is possible that buying high purity cocaine online would cost more than the reported street price for the same quantity. Another thing to consider is that this survey was carried out a few years after these listings were posted and the price may have changed dramatically since then. In light of this we will exclude from the analysis all listings with a calculated price per gram above 700USD."
   ]
  },
  {
   "cell_type": "code",
   "execution_count": 98,
   "metadata": {},
   "outputs": [
    {
     "data": {
      "application/vnd.plotly.v1+json": {
       "config": {
        "plotlyServerURL": "https://plot.ly"
       },
       "data": [
        {
         "domain": {
          "x": [
           0,
           1
          ]
         },
         "hole": 0.65,
         "hoverinfo": "label+percent",
         "labels": [
          "EU",
          "North America",
          "Oceania",
          "Unknown",
          "Latin America",
          "Non-EU Europe",
          "Asia"
         ],
         "marker": {
          "colors": [
           "lime",
           "darkblue",
           "green",
           "purple",
           "orange"
          ]
         },
         "name": "Proportion",
         "sort": false,
         "type": "pie",
         "values": [
          591,
          302,
          127,
          90,
          16,
          5,
          4
         ]
        }
       ],
       "layout": {
        "template": {
         "data": {
          "bar": [
           {
            "error_x": {
             "color": "#2a3f5f"
            },
            "error_y": {
             "color": "#2a3f5f"
            },
            "marker": {
             "line": {
              "color": "#E5ECF6",
              "width": 0.5
             }
            },
            "type": "bar"
           }
          ],
          "barpolar": [
           {
            "marker": {
             "line": {
              "color": "#E5ECF6",
              "width": 0.5
             }
            },
            "type": "barpolar"
           }
          ],
          "carpet": [
           {
            "aaxis": {
             "endlinecolor": "#2a3f5f",
             "gridcolor": "white",
             "linecolor": "white",
             "minorgridcolor": "white",
             "startlinecolor": "#2a3f5f"
            },
            "baxis": {
             "endlinecolor": "#2a3f5f",
             "gridcolor": "white",
             "linecolor": "white",
             "minorgridcolor": "white",
             "startlinecolor": "#2a3f5f"
            },
            "type": "carpet"
           }
          ],
          "choropleth": [
           {
            "colorbar": {
             "outlinewidth": 0,
             "ticks": ""
            },
            "type": "choropleth"
           }
          ],
          "contour": [
           {
            "colorbar": {
             "outlinewidth": 0,
             "ticks": ""
            },
            "colorscale": [
             [
              0,
              "#0d0887"
             ],
             [
              0.1111111111111111,
              "#46039f"
             ],
             [
              0.2222222222222222,
              "#7201a8"
             ],
             [
              0.3333333333333333,
              "#9c179e"
             ],
             [
              0.4444444444444444,
              "#bd3786"
             ],
             [
              0.5555555555555556,
              "#d8576b"
             ],
             [
              0.6666666666666666,
              "#ed7953"
             ],
             [
              0.7777777777777778,
              "#fb9f3a"
             ],
             [
              0.8888888888888888,
              "#fdca26"
             ],
             [
              1,
              "#f0f921"
             ]
            ],
            "type": "contour"
           }
          ],
          "contourcarpet": [
           {
            "colorbar": {
             "outlinewidth": 0,
             "ticks": ""
            },
            "type": "contourcarpet"
           }
          ],
          "heatmap": [
           {
            "colorbar": {
             "outlinewidth": 0,
             "ticks": ""
            },
            "colorscale": [
             [
              0,
              "#0d0887"
             ],
             [
              0.1111111111111111,
              "#46039f"
             ],
             [
              0.2222222222222222,
              "#7201a8"
             ],
             [
              0.3333333333333333,
              "#9c179e"
             ],
             [
              0.4444444444444444,
              "#bd3786"
             ],
             [
              0.5555555555555556,
              "#d8576b"
             ],
             [
              0.6666666666666666,
              "#ed7953"
             ],
             [
              0.7777777777777778,
              "#fb9f3a"
             ],
             [
              0.8888888888888888,
              "#fdca26"
             ],
             [
              1,
              "#f0f921"
             ]
            ],
            "type": "heatmap"
           }
          ],
          "heatmapgl": [
           {
            "colorbar": {
             "outlinewidth": 0,
             "ticks": ""
            },
            "colorscale": [
             [
              0,
              "#0d0887"
             ],
             [
              0.1111111111111111,
              "#46039f"
             ],
             [
              0.2222222222222222,
              "#7201a8"
             ],
             [
              0.3333333333333333,
              "#9c179e"
             ],
             [
              0.4444444444444444,
              "#bd3786"
             ],
             [
              0.5555555555555556,
              "#d8576b"
             ],
             [
              0.6666666666666666,
              "#ed7953"
             ],
             [
              0.7777777777777778,
              "#fb9f3a"
             ],
             [
              0.8888888888888888,
              "#fdca26"
             ],
             [
              1,
              "#f0f921"
             ]
            ],
            "type": "heatmapgl"
           }
          ],
          "histogram": [
           {
            "marker": {
             "colorbar": {
              "outlinewidth": 0,
              "ticks": ""
             }
            },
            "type": "histogram"
           }
          ],
          "histogram2d": [
           {
            "colorbar": {
             "outlinewidth": 0,
             "ticks": ""
            },
            "colorscale": [
             [
              0,
              "#0d0887"
             ],
             [
              0.1111111111111111,
              "#46039f"
             ],
             [
              0.2222222222222222,
              "#7201a8"
             ],
             [
              0.3333333333333333,
              "#9c179e"
             ],
             [
              0.4444444444444444,
              "#bd3786"
             ],
             [
              0.5555555555555556,
              "#d8576b"
             ],
             [
              0.6666666666666666,
              "#ed7953"
             ],
             [
              0.7777777777777778,
              "#fb9f3a"
             ],
             [
              0.8888888888888888,
              "#fdca26"
             ],
             [
              1,
              "#f0f921"
             ]
            ],
            "type": "histogram2d"
           }
          ],
          "histogram2dcontour": [
           {
            "colorbar": {
             "outlinewidth": 0,
             "ticks": ""
            },
            "colorscale": [
             [
              0,
              "#0d0887"
             ],
             [
              0.1111111111111111,
              "#46039f"
             ],
             [
              0.2222222222222222,
              "#7201a8"
             ],
             [
              0.3333333333333333,
              "#9c179e"
             ],
             [
              0.4444444444444444,
              "#bd3786"
             ],
             [
              0.5555555555555556,
              "#d8576b"
             ],
             [
              0.6666666666666666,
              "#ed7953"
             ],
             [
              0.7777777777777778,
              "#fb9f3a"
             ],
             [
              0.8888888888888888,
              "#fdca26"
             ],
             [
              1,
              "#f0f921"
             ]
            ],
            "type": "histogram2dcontour"
           }
          ],
          "mesh3d": [
           {
            "colorbar": {
             "outlinewidth": 0,
             "ticks": ""
            },
            "type": "mesh3d"
           }
          ],
          "parcoords": [
           {
            "line": {
             "colorbar": {
              "outlinewidth": 0,
              "ticks": ""
             }
            },
            "type": "parcoords"
           }
          ],
          "pie": [
           {
            "automargin": true,
            "type": "pie"
           }
          ],
          "scatter": [
           {
            "marker": {
             "colorbar": {
              "outlinewidth": 0,
              "ticks": ""
             }
            },
            "type": "scatter"
           }
          ],
          "scatter3d": [
           {
            "line": {
             "colorbar": {
              "outlinewidth": 0,
              "ticks": ""
             }
            },
            "marker": {
             "colorbar": {
              "outlinewidth": 0,
              "ticks": ""
             }
            },
            "type": "scatter3d"
           }
          ],
          "scattercarpet": [
           {
            "marker": {
             "colorbar": {
              "outlinewidth": 0,
              "ticks": ""
             }
            },
            "type": "scattercarpet"
           }
          ],
          "scattergeo": [
           {
            "marker": {
             "colorbar": {
              "outlinewidth": 0,
              "ticks": ""
             }
            },
            "type": "scattergeo"
           }
          ],
          "scattergl": [
           {
            "marker": {
             "colorbar": {
              "outlinewidth": 0,
              "ticks": ""
             }
            },
            "type": "scattergl"
           }
          ],
          "scattermapbox": [
           {
            "marker": {
             "colorbar": {
              "outlinewidth": 0,
              "ticks": ""
             }
            },
            "type": "scattermapbox"
           }
          ],
          "scatterpolar": [
           {
            "marker": {
             "colorbar": {
              "outlinewidth": 0,
              "ticks": ""
             }
            },
            "type": "scatterpolar"
           }
          ],
          "scatterpolargl": [
           {
            "marker": {
             "colorbar": {
              "outlinewidth": 0,
              "ticks": ""
             }
            },
            "type": "scatterpolargl"
           }
          ],
          "scatterternary": [
           {
            "marker": {
             "colorbar": {
              "outlinewidth": 0,
              "ticks": ""
             }
            },
            "type": "scatterternary"
           }
          ],
          "surface": [
           {
            "colorbar": {
             "outlinewidth": 0,
             "ticks": ""
            },
            "colorscale": [
             [
              0,
              "#0d0887"
             ],
             [
              0.1111111111111111,
              "#46039f"
             ],
             [
              0.2222222222222222,
              "#7201a8"
             ],
             [
              0.3333333333333333,
              "#9c179e"
             ],
             [
              0.4444444444444444,
              "#bd3786"
             ],
             [
              0.5555555555555556,
              "#d8576b"
             ],
             [
              0.6666666666666666,
              "#ed7953"
             ],
             [
              0.7777777777777778,
              "#fb9f3a"
             ],
             [
              0.8888888888888888,
              "#fdca26"
             ],
             [
              1,
              "#f0f921"
             ]
            ],
            "type": "surface"
           }
          ],
          "table": [
           {
            "cells": {
             "fill": {
              "color": "#EBF0F8"
             },
             "line": {
              "color": "white"
             }
            },
            "header": {
             "fill": {
              "color": "#C8D4E3"
             },
             "line": {
              "color": "white"
             }
            },
            "type": "table"
           }
          ]
         },
         "layout": {
          "annotationdefaults": {
           "arrowcolor": "#2a3f5f",
           "arrowhead": 0,
           "arrowwidth": 1
          },
          "coloraxis": {
           "colorbar": {
            "outlinewidth": 0,
            "ticks": ""
           }
          },
          "colorscale": {
           "diverging": [
            [
             0,
             "#8e0152"
            ],
            [
             0.1,
             "#c51b7d"
            ],
            [
             0.2,
             "#de77ae"
            ],
            [
             0.3,
             "#f1b6da"
            ],
            [
             0.4,
             "#fde0ef"
            ],
            [
             0.5,
             "#f7f7f7"
            ],
            [
             0.6,
             "#e6f5d0"
            ],
            [
             0.7,
             "#b8e186"
            ],
            [
             0.8,
             "#7fbc41"
            ],
            [
             0.9,
             "#4d9221"
            ],
            [
             1,
             "#276419"
            ]
           ],
           "sequential": [
            [
             0,
             "#0d0887"
            ],
            [
             0.1111111111111111,
             "#46039f"
            ],
            [
             0.2222222222222222,
             "#7201a8"
            ],
            [
             0.3333333333333333,
             "#9c179e"
            ],
            [
             0.4444444444444444,
             "#bd3786"
            ],
            [
             0.5555555555555556,
             "#d8576b"
            ],
            [
             0.6666666666666666,
             "#ed7953"
            ],
            [
             0.7777777777777778,
             "#fb9f3a"
            ],
            [
             0.8888888888888888,
             "#fdca26"
            ],
            [
             1,
             "#f0f921"
            ]
           ],
           "sequentialminus": [
            [
             0,
             "#0d0887"
            ],
            [
             0.1111111111111111,
             "#46039f"
            ],
            [
             0.2222222222222222,
             "#7201a8"
            ],
            [
             0.3333333333333333,
             "#9c179e"
            ],
            [
             0.4444444444444444,
             "#bd3786"
            ],
            [
             0.5555555555555556,
             "#d8576b"
            ],
            [
             0.6666666666666666,
             "#ed7953"
            ],
            [
             0.7777777777777778,
             "#fb9f3a"
            ],
            [
             0.8888888888888888,
             "#fdca26"
            ],
            [
             1,
             "#f0f921"
            ]
           ]
          },
          "colorway": [
           "#636efa",
           "#EF553B",
           "#00cc96",
           "#ab63fa",
           "#FFA15A",
           "#19d3f3",
           "#FF6692",
           "#B6E880",
           "#FF97FF",
           "#FECB52"
          ],
          "font": {
           "color": "#2a3f5f"
          },
          "geo": {
           "bgcolor": "white",
           "lakecolor": "white",
           "landcolor": "#E5ECF6",
           "showlakes": true,
           "showland": true,
           "subunitcolor": "white"
          },
          "hoverlabel": {
           "align": "left"
          },
          "hovermode": "closest",
          "mapbox": {
           "style": "light"
          },
          "paper_bgcolor": "white",
          "plot_bgcolor": "#E5ECF6",
          "polar": {
           "angularaxis": {
            "gridcolor": "white",
            "linecolor": "white",
            "ticks": ""
           },
           "bgcolor": "#E5ECF6",
           "radialaxis": {
            "gridcolor": "white",
            "linecolor": "white",
            "ticks": ""
           }
          },
          "scene": {
           "xaxis": {
            "backgroundcolor": "#E5ECF6",
            "gridcolor": "white",
            "gridwidth": 2,
            "linecolor": "white",
            "showbackground": true,
            "ticks": "",
            "zerolinecolor": "white"
           },
           "yaxis": {
            "backgroundcolor": "#E5ECF6",
            "gridcolor": "white",
            "gridwidth": 2,
            "linecolor": "white",
            "showbackground": true,
            "ticks": "",
            "zerolinecolor": "white"
           },
           "zaxis": {
            "backgroundcolor": "#E5ECF6",
            "gridcolor": "white",
            "gridwidth": 2,
            "linecolor": "white",
            "showbackground": true,
            "ticks": "",
            "zerolinecolor": "white"
           }
          },
          "shapedefaults": {
           "line": {
            "color": "#2a3f5f"
           }
          },
          "ternary": {
           "aaxis": {
            "gridcolor": "white",
            "linecolor": "white",
            "ticks": ""
           },
           "baxis": {
            "gridcolor": "white",
            "linecolor": "white",
            "ticks": ""
           },
           "bgcolor": "#E5ECF6",
           "caxis": {
            "gridcolor": "white",
            "linecolor": "white",
            "ticks": ""
           }
          },
          "title": {
           "x": 0.05
          },
          "xaxis": {
           "automargin": true,
           "gridcolor": "white",
           "linecolor": "white",
           "ticks": "",
           "title": {
            "standoff": 15
           },
           "zerolinecolor": "white",
           "zerolinewidth": 2
          },
          "yaxis": {
           "automargin": true,
           "gridcolor": "white",
           "linecolor": "white",
           "ticks": "",
           "title": {
            "standoff": 15
           },
           "zerolinecolor": "white",
           "zerolinewidth": 2
          }
         }
        },
        "title": {
         "text": "Distribution of Shipment Origin Region"
        }
       }
      },
      "text/html": [
       "<div>\n",
       "        \n",
       "        \n",
       "            <div id=\"641a182c-3e46-4c5b-9ef5-1beb3c9a75b6\" class=\"plotly-graph-div\" style=\"height:525px; width:100%;\"></div>\n",
       "            <script type=\"text/javascript\">\n",
       "                require([\"plotly\"], function(Plotly) {\n",
       "                    window.PLOTLYENV=window.PLOTLYENV || {};\n",
       "                    \n",
       "                if (document.getElementById(\"641a182c-3e46-4c5b-9ef5-1beb3c9a75b6\")) {\n",
       "                    Plotly.newPlot(\n",
       "                        '641a182c-3e46-4c5b-9ef5-1beb3c9a75b6',\n",
       "                        [{\"domain\": {\"x\": [0, 1]}, \"hole\": 0.65, \"hoverinfo\": \"label+percent\", \"labels\": [\"EU\", \"North America\", \"Oceania\", \"Unknown\", \"Latin America\", \"Non-EU Europe\", \"Asia\"], \"marker\": {\"colors\": [\"lime\", \"darkblue\", \"green\", \"purple\", \"orange\"]}, \"name\": \"Proportion\", \"sort\": false, \"type\": \"pie\", \"values\": [591, 302, 127, 90, 16, 5, 4]}],\n",
       "                        {\"template\": {\"data\": {\"bar\": [{\"error_x\": {\"color\": \"#2a3f5f\"}, \"error_y\": {\"color\": \"#2a3f5f\"}, \"marker\": {\"line\": {\"color\": \"#E5ECF6\", \"width\": 0.5}}, \"type\": \"bar\"}], \"barpolar\": [{\"marker\": {\"line\": {\"color\": \"#E5ECF6\", \"width\": 0.5}}, \"type\": \"barpolar\"}], \"carpet\": [{\"aaxis\": {\"endlinecolor\": \"#2a3f5f\", \"gridcolor\": \"white\", \"linecolor\": \"white\", \"minorgridcolor\": \"white\", \"startlinecolor\": \"#2a3f5f\"}, \"baxis\": {\"endlinecolor\": \"#2a3f5f\", \"gridcolor\": \"white\", \"linecolor\": \"white\", \"minorgridcolor\": \"white\", \"startlinecolor\": \"#2a3f5f\"}, \"type\": \"carpet\"}], \"choropleth\": [{\"colorbar\": {\"outlinewidth\": 0, \"ticks\": \"\"}, \"type\": \"choropleth\"}], \"contour\": [{\"colorbar\": {\"outlinewidth\": 0, \"ticks\": \"\"}, \"colorscale\": [[0.0, \"#0d0887\"], [0.1111111111111111, \"#46039f\"], [0.2222222222222222, \"#7201a8\"], [0.3333333333333333, \"#9c179e\"], [0.4444444444444444, \"#bd3786\"], [0.5555555555555556, \"#d8576b\"], [0.6666666666666666, \"#ed7953\"], [0.7777777777777778, \"#fb9f3a\"], [0.8888888888888888, \"#fdca26\"], [1.0, \"#f0f921\"]], \"type\": \"contour\"}], \"contourcarpet\": [{\"colorbar\": {\"outlinewidth\": 0, \"ticks\": \"\"}, \"type\": \"contourcarpet\"}], \"heatmap\": [{\"colorbar\": {\"outlinewidth\": 0, \"ticks\": \"\"}, \"colorscale\": [[0.0, \"#0d0887\"], [0.1111111111111111, \"#46039f\"], [0.2222222222222222, \"#7201a8\"], [0.3333333333333333, \"#9c179e\"], [0.4444444444444444, \"#bd3786\"], [0.5555555555555556, \"#d8576b\"], [0.6666666666666666, \"#ed7953\"], [0.7777777777777778, \"#fb9f3a\"], [0.8888888888888888, \"#fdca26\"], [1.0, \"#f0f921\"]], \"type\": \"heatmap\"}], \"heatmapgl\": [{\"colorbar\": {\"outlinewidth\": 0, \"ticks\": \"\"}, \"colorscale\": [[0.0, \"#0d0887\"], [0.1111111111111111, \"#46039f\"], [0.2222222222222222, \"#7201a8\"], [0.3333333333333333, \"#9c179e\"], [0.4444444444444444, \"#bd3786\"], [0.5555555555555556, \"#d8576b\"], [0.6666666666666666, \"#ed7953\"], [0.7777777777777778, \"#fb9f3a\"], [0.8888888888888888, \"#fdca26\"], [1.0, \"#f0f921\"]], \"type\": \"heatmapgl\"}], \"histogram\": [{\"marker\": {\"colorbar\": {\"outlinewidth\": 0, \"ticks\": \"\"}}, \"type\": \"histogram\"}], \"histogram2d\": [{\"colorbar\": {\"outlinewidth\": 0, \"ticks\": \"\"}, \"colorscale\": [[0.0, \"#0d0887\"], [0.1111111111111111, \"#46039f\"], [0.2222222222222222, \"#7201a8\"], [0.3333333333333333, \"#9c179e\"], [0.4444444444444444, \"#bd3786\"], [0.5555555555555556, \"#d8576b\"], [0.6666666666666666, \"#ed7953\"], [0.7777777777777778, \"#fb9f3a\"], [0.8888888888888888, \"#fdca26\"], [1.0, \"#f0f921\"]], \"type\": \"histogram2d\"}], \"histogram2dcontour\": [{\"colorbar\": {\"outlinewidth\": 0, \"ticks\": \"\"}, \"colorscale\": [[0.0, \"#0d0887\"], [0.1111111111111111, \"#46039f\"], [0.2222222222222222, \"#7201a8\"], [0.3333333333333333, \"#9c179e\"], [0.4444444444444444, \"#bd3786\"], [0.5555555555555556, \"#d8576b\"], [0.6666666666666666, \"#ed7953\"], [0.7777777777777778, \"#fb9f3a\"], [0.8888888888888888, \"#fdca26\"], [1.0, \"#f0f921\"]], \"type\": \"histogram2dcontour\"}], \"mesh3d\": [{\"colorbar\": {\"outlinewidth\": 0, \"ticks\": \"\"}, \"type\": \"mesh3d\"}], \"parcoords\": [{\"line\": {\"colorbar\": {\"outlinewidth\": 0, \"ticks\": \"\"}}, \"type\": \"parcoords\"}], \"pie\": [{\"automargin\": true, \"type\": \"pie\"}], \"scatter\": [{\"marker\": {\"colorbar\": {\"outlinewidth\": 0, \"ticks\": \"\"}}, \"type\": \"scatter\"}], \"scatter3d\": [{\"line\": {\"colorbar\": {\"outlinewidth\": 0, \"ticks\": \"\"}}, \"marker\": {\"colorbar\": {\"outlinewidth\": 0, \"ticks\": \"\"}}, \"type\": \"scatter3d\"}], \"scattercarpet\": [{\"marker\": {\"colorbar\": {\"outlinewidth\": 0, \"ticks\": \"\"}}, \"type\": \"scattercarpet\"}], \"scattergeo\": [{\"marker\": {\"colorbar\": {\"outlinewidth\": 0, \"ticks\": \"\"}}, \"type\": \"scattergeo\"}], \"scattergl\": [{\"marker\": {\"colorbar\": {\"outlinewidth\": 0, \"ticks\": \"\"}}, \"type\": \"scattergl\"}], \"scattermapbox\": [{\"marker\": {\"colorbar\": {\"outlinewidth\": 0, \"ticks\": \"\"}}, \"type\": \"scattermapbox\"}], \"scatterpolar\": [{\"marker\": {\"colorbar\": {\"outlinewidth\": 0, \"ticks\": \"\"}}, \"type\": \"scatterpolar\"}], \"scatterpolargl\": [{\"marker\": {\"colorbar\": {\"outlinewidth\": 0, \"ticks\": \"\"}}, \"type\": \"scatterpolargl\"}], \"scatterternary\": [{\"marker\": {\"colorbar\": {\"outlinewidth\": 0, \"ticks\": \"\"}}, \"type\": \"scatterternary\"}], \"surface\": [{\"colorbar\": {\"outlinewidth\": 0, \"ticks\": \"\"}, \"colorscale\": [[0.0, \"#0d0887\"], [0.1111111111111111, \"#46039f\"], [0.2222222222222222, \"#7201a8\"], [0.3333333333333333, \"#9c179e\"], [0.4444444444444444, \"#bd3786\"], [0.5555555555555556, \"#d8576b\"], [0.6666666666666666, \"#ed7953\"], [0.7777777777777778, \"#fb9f3a\"], [0.8888888888888888, \"#fdca26\"], [1.0, \"#f0f921\"]], \"type\": \"surface\"}], \"table\": [{\"cells\": {\"fill\": {\"color\": \"#EBF0F8\"}, \"line\": {\"color\": \"white\"}}, \"header\": {\"fill\": {\"color\": \"#C8D4E3\"}, \"line\": {\"color\": \"white\"}}, \"type\": \"table\"}]}, \"layout\": {\"annotationdefaults\": {\"arrowcolor\": \"#2a3f5f\", \"arrowhead\": 0, \"arrowwidth\": 1}, \"coloraxis\": {\"colorbar\": {\"outlinewidth\": 0, \"ticks\": \"\"}}, \"colorscale\": {\"diverging\": [[0, \"#8e0152\"], [0.1, \"#c51b7d\"], [0.2, \"#de77ae\"], [0.3, \"#f1b6da\"], [0.4, \"#fde0ef\"], [0.5, \"#f7f7f7\"], [0.6, \"#e6f5d0\"], [0.7, \"#b8e186\"], [0.8, \"#7fbc41\"], [0.9, \"#4d9221\"], [1, \"#276419\"]], \"sequential\": [[0.0, \"#0d0887\"], [0.1111111111111111, \"#46039f\"], [0.2222222222222222, \"#7201a8\"], [0.3333333333333333, \"#9c179e\"], [0.4444444444444444, \"#bd3786\"], [0.5555555555555556, \"#d8576b\"], [0.6666666666666666, \"#ed7953\"], [0.7777777777777778, \"#fb9f3a\"], [0.8888888888888888, \"#fdca26\"], [1.0, \"#f0f921\"]], \"sequentialminus\": [[0.0, \"#0d0887\"], [0.1111111111111111, \"#46039f\"], [0.2222222222222222, \"#7201a8\"], [0.3333333333333333, \"#9c179e\"], [0.4444444444444444, \"#bd3786\"], [0.5555555555555556, \"#d8576b\"], [0.6666666666666666, \"#ed7953\"], [0.7777777777777778, \"#fb9f3a\"], [0.8888888888888888, \"#fdca26\"], [1.0, \"#f0f921\"]]}, \"colorway\": [\"#636efa\", \"#EF553B\", \"#00cc96\", \"#ab63fa\", \"#FFA15A\", \"#19d3f3\", \"#FF6692\", \"#B6E880\", \"#FF97FF\", \"#FECB52\"], \"font\": {\"color\": \"#2a3f5f\"}, \"geo\": {\"bgcolor\": \"white\", \"lakecolor\": \"white\", \"landcolor\": \"#E5ECF6\", \"showlakes\": true, \"showland\": true, \"subunitcolor\": \"white\"}, \"hoverlabel\": {\"align\": \"left\"}, \"hovermode\": \"closest\", \"mapbox\": {\"style\": \"light\"}, \"paper_bgcolor\": \"white\", \"plot_bgcolor\": \"#E5ECF6\", \"polar\": {\"angularaxis\": {\"gridcolor\": \"white\", \"linecolor\": \"white\", \"ticks\": \"\"}, \"bgcolor\": \"#E5ECF6\", \"radialaxis\": {\"gridcolor\": \"white\", \"linecolor\": \"white\", \"ticks\": \"\"}}, \"scene\": {\"xaxis\": {\"backgroundcolor\": \"#E5ECF6\", \"gridcolor\": \"white\", \"gridwidth\": 2, \"linecolor\": \"white\", \"showbackground\": true, \"ticks\": \"\", \"zerolinecolor\": \"white\"}, \"yaxis\": {\"backgroundcolor\": \"#E5ECF6\", \"gridcolor\": \"white\", \"gridwidth\": 2, \"linecolor\": \"white\", \"showbackground\": true, \"ticks\": \"\", \"zerolinecolor\": \"white\"}, \"zaxis\": {\"backgroundcolor\": \"#E5ECF6\", \"gridcolor\": \"white\", \"gridwidth\": 2, \"linecolor\": \"white\", \"showbackground\": true, \"ticks\": \"\", \"zerolinecolor\": \"white\"}}, \"shapedefaults\": {\"line\": {\"color\": \"#2a3f5f\"}}, \"ternary\": {\"aaxis\": {\"gridcolor\": \"white\", \"linecolor\": \"white\", \"ticks\": \"\"}, \"baxis\": {\"gridcolor\": \"white\", \"linecolor\": \"white\", \"ticks\": \"\"}, \"bgcolor\": \"#E5ECF6\", \"caxis\": {\"gridcolor\": \"white\", \"linecolor\": \"white\", \"ticks\": \"\"}}, \"title\": {\"x\": 0.05}, \"xaxis\": {\"automargin\": true, \"gridcolor\": \"white\", \"linecolor\": \"white\", \"ticks\": \"\", \"title\": {\"standoff\": 15}, \"zerolinecolor\": \"white\", \"zerolinewidth\": 2}, \"yaxis\": {\"automargin\": true, \"gridcolor\": \"white\", \"linecolor\": \"white\", \"ticks\": \"\", \"title\": {\"standoff\": 15}, \"zerolinecolor\": \"white\", \"zerolinewidth\": 2}}}, \"title\": {\"text\": \"Distribution of Shipment Origin Region\"}},\n",
       "                        {\"responsive\": true}\n",
       "                    ).then(function(){\n",
       "                            \n",
       "var gd = document.getElementById('641a182c-3e46-4c5b-9ef5-1beb3c9a75b6');\n",
       "var x = new MutationObserver(function (mutations, observer) {{\n",
       "        var display = window.getComputedStyle(gd).display;\n",
       "        if (!display || display === 'none') {{\n",
       "            console.log([gd, 'removed!']);\n",
       "            Plotly.purge(gd);\n",
       "            observer.disconnect();\n",
       "        }}\n",
       "}});\n",
       "\n",
       "// Listen for the removal of the full notebook cells\n",
       "var notebookContainer = gd.closest('#notebook-container');\n",
       "if (notebookContainer) {{\n",
       "    x.observe(notebookContainer, {childList: true});\n",
       "}}\n",
       "\n",
       "// Listen for the clearing of the current output cell\n",
       "var outputEl = gd.closest('.output');\n",
       "if (outputEl) {{\n",
       "    x.observe(outputEl, {childList: true});\n",
       "}}\n",
       "\n",
       "                        })\n",
       "                };\n",
       "                });\n",
       "            </script>\n",
       "        </div>"
      ]
     },
     "metadata": {},
     "output_type": "display_data"
    }
   ],
   "source": [
    "dfcoca = dfcoca[dfcoca['Gram_Price'] < 700]\n",
    "dfcoca = dfcoca[dfcoca['Gram_Price'] > 20]\n",
    "\n",
    "def donut_plot(vari, title1) :\n",
    "    \"\"\"Displays distribution of churn status for given variable\"\"\"\n",
    "    trace1 = go.Pie(values  = dfcoca[vari].value_counts().values.tolist(),\n",
    "                    labels  = dfcoca[vari].value_counts().keys().tolist(),\n",
    "                    hoverinfo = \"label+percent\",\n",
    "                    domain  = dict(x = [0,1]),\n",
    "                    name    = \"Proportion\",\n",
    "                    hole    = .65,\n",
    "                    sort = False,\n",
    "                    marker = dict(colors = ['lime','darkblue','green', 'purple', 'orange']                    \n",
    "                   ))\n",
    "\n",
    "\n",
    "    layout = go.Layout(dict(title = \"Distribution of \" + title1\n",
    "                           )\n",
    "                      ) \n",
    "    fig  = go.Figure(data = trace1,layout = layout)\n",
    "    fig.show()\n",
    "\n",
    "# Donut plot proportion originating from each region\n",
    "donut_plot('Origin_region','Shipment Origin Region')"
   ]
  },
  {
   "cell_type": "markdown",
   "metadata": {},
   "source": [
    "It appears that over half of all cocaine listings ship from inside the EU. This is somewhat surprising as we may have expected the Americas to be the primary export point for this drug considering that production predominantly occurs in Peru, Bolivia and Colombia. One factor may be that drug cartels already have established logistics networks to tranport product to Europe where it can be forwarded on to other countries with less scrutiny from customs agencies."
   ]
  },
  {
   "cell_type": "code",
   "execution_count": 99,
   "metadata": {},
   "outputs": [
    {
     "data": {
      "application/vnd.plotly.v1+json": {
       "config": {
        "plotlyServerURL": "https://plot.ly"
       },
       "data": [
        {
         "alignmentgroup": "True",
         "boxpoints": "all",
         "hovertemplate": "Origin_region=%{x}<br>Gram_Price=%{y}<extra></extra>",
         "legendgroup": "",
         "marker": {
          "color": "#636efa"
         },
         "name": "",
         "notched": false,
         "offsetgroup": "",
         "orientation": "v",
         "showlegend": false,
         "type": "box",
         "x": [
          "Oceania",
          "North America",
          "Oceania",
          "Oceania",
          "Oceania",
          "North America",
          "EU",
          "North America",
          "Unknown",
          "North America",
          "EU",
          "EU",
          "EU",
          "EU",
          "EU",
          "North America",
          "North America",
          "EU",
          "Oceania",
          "North America",
          "Oceania",
          "EU",
          "North America",
          "North America",
          "North America",
          "North America",
          "Oceania",
          "Unknown",
          "EU",
          "North America",
          "Oceania",
          "EU",
          "North America",
          "EU",
          "North America",
          "EU",
          "Unknown",
          "Oceania",
          "Unknown",
          "EU",
          "EU",
          "Latin America",
          "EU",
          "EU",
          "Latin America",
          "EU",
          "EU",
          "Oceania",
          "North America",
          "EU",
          "North America",
          "Oceania",
          "North America",
          "Latin America",
          "EU",
          "EU",
          "EU",
          "EU",
          "EU",
          "EU",
          "EU",
          "EU",
          "EU",
          "EU",
          "North America",
          "Latin America",
          "North America",
          "EU",
          "EU",
          "North America",
          "Oceania",
          "North America",
          "Oceania",
          "Latin America",
          "North America",
          "EU",
          "EU",
          "Latin America",
          "Oceania",
          "EU",
          "EU",
          "EU",
          "EU",
          "EU",
          "North America",
          "EU",
          "EU",
          "EU",
          "EU",
          "EU",
          "North America",
          "EU",
          "North America",
          "EU",
          "EU",
          "Unknown",
          "EU",
          "EU",
          "EU",
          "EU",
          "EU",
          "Unknown",
          "EU",
          "Unknown",
          "EU",
          "EU",
          "EU",
          "Unknown",
          "EU",
          null,
          "EU",
          "EU",
          "North America",
          "North America",
          "EU",
          "EU",
          "EU",
          "EU",
          "EU",
          "EU",
          "EU",
          "EU",
          "EU",
          "Oceania",
          "EU",
          "EU",
          "EU",
          "North America",
          "Unknown",
          "North America",
          "EU",
          "EU",
          "North America",
          "North America",
          "EU",
          "EU",
          "North America",
          "EU",
          "North America",
          "North America",
          "Latin America",
          "North America",
          "EU",
          "EU",
          "North America",
          "EU",
          "North America",
          "North America",
          "Unknown",
          "North America",
          "North America",
          "North America",
          "EU",
          "North America",
          "EU",
          "EU",
          "North America",
          "North America",
          "North America",
          "North America",
          "EU",
          "EU",
          "EU",
          "North America",
          "North America",
          "North America",
          "EU",
          "EU",
          "North America",
          "North America",
          "EU",
          "EU",
          "EU",
          "EU",
          "Latin America",
          "North America",
          "EU",
          "North America",
          "EU",
          "EU",
          "North America",
          "EU",
          "North America",
          "EU",
          "Latin America",
          "Oceania",
          "North America",
          "North America",
          "EU",
          "North America",
          "EU",
          "EU",
          "North America",
          "EU",
          "North America",
          "EU",
          "Latin America",
          "Latin America",
          "North America",
          "North America",
          "North America",
          "North America",
          "North America",
          "EU",
          "North America",
          "North America",
          "Oceania",
          "EU",
          "Latin America",
          "North America",
          "North America",
          "EU",
          "EU",
          "EU",
          "North America",
          "North America",
          "North America",
          "North America",
          "Unknown",
          "North America",
          "North America",
          "North America",
          "EU",
          "EU",
          "North America",
          "North America",
          "North America",
          "North America",
          "North America",
          "North America",
          "North America",
          "EU",
          "North America",
          "North America",
          "Unknown",
          "EU",
          "EU",
          "EU",
          "EU",
          "North America",
          "EU",
          "EU",
          "EU",
          "Unknown",
          "Unknown",
          "EU",
          "Unknown",
          "EU",
          "EU",
          "EU",
          "EU",
          "EU",
          "Unknown",
          "Unknown",
          "EU",
          "EU",
          "EU",
          "EU",
          "EU",
          "North America",
          "EU",
          "EU",
          "EU",
          "EU",
          "EU",
          "EU",
          "EU",
          "EU",
          "EU",
          "EU",
          "EU",
          "EU",
          "EU",
          "North America",
          "EU",
          "EU",
          "EU",
          "EU",
          "Oceania",
          "EU",
          "EU",
          "EU",
          "EU",
          "EU",
          "EU",
          "North America",
          "EU",
          "EU",
          "EU",
          "EU",
          "EU",
          "EU",
          "EU",
          "EU",
          "EU",
          "EU",
          "EU",
          "EU",
          "Oceania",
          "EU",
          "EU",
          "EU",
          "Oceania",
          "EU",
          "North America",
          "EU",
          "EU",
          "EU",
          "North America",
          "EU",
          "EU",
          "EU",
          "EU",
          "EU",
          "North America",
          "Oceania",
          "North America",
          "EU",
          "Unknown",
          "EU",
          "Non-EU Europe",
          "EU",
          "EU",
          "North America",
          "EU",
          "EU",
          "North America",
          "North America",
          "North America",
          "North America",
          "North America",
          "EU",
          "Oceania",
          "EU",
          "North America",
          "North America",
          "EU",
          "Unknown",
          "North America",
          "EU",
          "EU",
          "EU",
          "Unknown",
          "Unknown",
          "EU",
          "North America",
          "EU",
          "EU",
          "EU",
          "EU",
          "EU",
          "North America",
          "EU",
          "North America",
          "North America",
          "North America",
          "Non-EU Europe",
          "North America",
          "EU",
          "EU",
          "North America",
          "Oceania",
          "North America",
          "EU",
          "EU",
          "North America",
          "Oceania",
          "North America",
          "North America",
          "EU",
          "EU",
          "North America",
          "North America",
          "EU",
          "EU",
          "EU",
          "Oceania",
          "North America",
          "North America",
          "North America",
          "Oceania",
          "EU",
          "Oceania",
          "EU",
          "Oceania",
          "North America",
          "North America",
          "North America",
          "EU",
          "North America",
          "North America",
          "EU",
          "North America",
          "North America",
          "Oceania",
          "Oceania",
          "North America",
          "EU",
          "EU",
          "EU",
          "Unknown",
          "EU",
          "North America",
          "EU",
          "EU",
          "EU",
          "EU",
          "North America",
          "North America",
          "North America",
          "EU",
          "EU",
          "Oceania",
          "EU",
          "Unknown",
          "Unknown",
          "EU",
          "Unknown",
          "North America",
          "EU",
          "Oceania",
          "EU",
          "Unknown",
          "EU",
          "EU",
          "North America",
          "EU",
          "North America",
          "EU",
          "EU",
          "EU",
          "EU",
          "EU",
          "EU",
          "EU",
          "EU",
          "EU",
          "Oceania",
          "EU",
          "North America",
          "EU",
          "EU",
          "North America",
          "North America",
          "North America",
          "EU",
          "EU",
          "EU",
          "North America",
          "Unknown",
          "North America",
          "North America",
          "Oceania",
          "North America",
          "EU",
          "North America",
          "North America",
          "Oceania",
          "EU",
          "EU",
          "EU",
          "EU",
          "North America",
          "EU",
          "North America",
          "North America",
          "EU",
          "North America",
          "Unknown",
          "Unknown",
          "EU",
          "Unknown",
          "North America",
          "EU",
          "Unknown",
          "EU",
          "EU",
          "North America",
          "EU",
          "EU",
          "North America",
          "Unknown",
          "Unknown",
          "EU",
          "EU",
          "Latin America",
          "EU",
          "Oceania",
          "Unknown",
          "North America",
          "Unknown",
          "Unknown",
          "Oceania",
          "North America",
          "Unknown",
          "Unknown",
          "Unknown",
          "Unknown",
          "Oceania",
          "EU",
          "Unknown",
          "EU",
          "North America",
          "EU",
          "EU",
          "North America",
          "North America",
          "EU",
          "North America",
          "North America",
          "EU",
          "EU",
          "EU",
          "EU",
          "EU",
          "EU",
          "EU",
          "North America",
          "EU",
          "EU",
          "North America",
          "North America",
          "North America",
          "EU",
          "EU",
          "EU",
          "North America",
          "North America",
          "EU",
          "EU",
          "North America",
          "North America",
          "Latin America",
          "North America",
          "North America",
          "EU",
          "North America",
          "North America",
          "EU",
          "Oceania",
          "North America",
          "Unknown",
          "EU",
          "EU",
          "Unknown",
          "EU",
          "North America",
          "Unknown",
          "North America",
          "Unknown",
          "Unknown",
          "EU",
          "North America",
          "EU",
          "EU",
          "EU",
          "Unknown",
          "EU",
          "EU",
          "North America",
          "Unknown",
          "EU",
          "EU",
          "North America",
          "EU",
          "North America",
          "EU",
          "Unknown",
          "North America",
          "EU",
          "North America",
          "EU",
          "Unknown",
          "Unknown",
          "EU",
          "EU",
          "EU",
          "Unknown",
          "EU",
          "North America",
          "EU",
          "Unknown",
          "Unknown",
          "Unknown",
          "Unknown",
          "Unknown",
          "Unknown",
          "Unknown",
          "Unknown",
          "Unknown",
          "Unknown",
          "North America",
          "Unknown",
          "EU",
          "EU",
          "North America",
          "EU",
          "Oceania",
          "EU",
          "Unknown",
          "Unknown",
          "Unknown",
          "Unknown",
          "EU",
          "EU",
          "EU",
          "North America",
          "EU",
          "EU",
          "EU",
          "Oceania",
          "North America",
          "EU",
          "EU",
          "North America",
          "EU",
          "EU",
          "Oceania",
          "North America",
          "EU",
          "Unknown",
          "North America",
          "Unknown",
          "EU",
          "EU",
          "Unknown",
          "Oceania",
          "Non-EU Europe",
          "Non-EU Europe",
          "EU",
          "EU",
          "EU",
          "EU",
          "EU",
          "EU",
          "North America",
          "EU",
          "EU",
          "North America",
          "Unknown",
          "EU",
          "EU",
          "EU",
          "EU",
          "EU",
          "EU",
          "EU",
          "EU",
          "North America",
          "EU",
          "EU",
          "North America",
          "EU",
          "Latin America",
          "EU",
          "EU",
          "EU",
          "North America",
          "EU",
          "EU",
          "EU",
          "North America",
          "EU",
          "Oceania",
          "EU",
          "EU",
          "EU",
          "North America",
          "North America",
          "North America",
          "North America",
          "EU",
          "EU",
          "North America",
          "North America",
          "EU",
          "EU",
          "EU",
          "EU",
          "North America",
          "EU",
          "North America",
          "EU",
          "EU",
          "EU",
          "North America",
          "Oceania",
          "Oceania",
          "Oceania",
          "Oceania",
          "Oceania",
          "EU",
          "North America",
          "Oceania",
          "North America",
          "Oceania",
          "EU",
          "North America",
          "EU",
          "North America",
          "North America",
          "EU",
          "EU",
          "Oceania",
          "Oceania",
          "North America",
          "North America",
          "EU",
          "EU",
          "EU",
          "EU",
          "North America",
          "EU",
          "EU",
          "EU",
          "EU",
          "EU",
          "EU",
          "EU",
          "EU",
          "Oceania",
          "EU",
          "Oceania",
          "EU",
          "North America",
          "EU",
          "EU",
          "EU",
          "EU",
          "EU",
          "EU",
          "EU",
          "EU",
          "North America",
          "EU",
          "North America",
          "Oceania",
          "EU",
          "EU",
          "EU",
          "North America",
          "EU",
          "Oceania",
          "EU",
          "EU",
          "EU",
          "EU",
          "North America",
          "Oceania",
          "Oceania",
          "EU",
          "North America",
          "EU",
          "EU",
          "Oceania",
          "Oceania",
          "EU",
          "EU",
          "Oceania",
          "EU",
          "Oceania",
          "North America",
          "Oceania",
          "EU",
          "EU",
          "EU",
          "Oceania",
          "EU",
          "EU",
          "EU",
          "North America",
          "North America",
          "EU",
          "EU",
          "EU",
          "Oceania",
          "North America",
          "Oceania",
          "EU",
          "Oceania",
          "EU",
          "North America",
          "EU",
          "EU",
          "Unknown",
          "EU",
          "EU",
          "EU",
          "North America",
          "EU",
          "EU",
          "EU",
          "Oceania",
          "North America",
          "EU",
          "EU",
          "North America",
          "Oceania",
          "EU",
          "EU",
          "Unknown",
          "EU",
          "EU",
          "EU",
          "EU",
          "Latin America",
          "EU",
          "Oceania",
          "EU",
          "Unknown",
          "EU",
          "EU",
          "Asia",
          "Unknown",
          "EU",
          "EU",
          "EU",
          "EU",
          "EU",
          "EU",
          "Oceania",
          "North America",
          "Oceania",
          "Asia",
          "Oceania",
          "EU",
          "Unknown",
          "EU",
          "EU",
          "EU",
          "Oceania",
          "EU",
          "EU",
          "EU",
          "EU",
          "North America",
          "EU",
          "North America",
          "EU",
          "EU",
          "Oceania",
          "Asia",
          "EU",
          "North America",
          "EU",
          "EU",
          "EU",
          "EU",
          "EU",
          "EU",
          "EU",
          "EU",
          "Oceania",
          "Oceania",
          "EU",
          "EU",
          "EU",
          "North America",
          "EU",
          "EU",
          "EU",
          "EU",
          "EU",
          "Oceania",
          "Oceania",
          "North America",
          "Oceania",
          "EU",
          "EU",
          "Unknown",
          "EU",
          "Unknown",
          "EU",
          "EU",
          "North America",
          "North America",
          "North America",
          "Oceania",
          "EU",
          "Oceania",
          "EU",
          "EU",
          "North America",
          "Oceania",
          "EU",
          "EU",
          "EU",
          "EU",
          "EU",
          "Unknown",
          "North America",
          "EU",
          "EU",
          "Oceania",
          "EU",
          "EU",
          "Unknown",
          "EU",
          "Asia",
          "EU",
          "Unknown",
          "EU",
          "Unknown",
          "Oceania",
          "EU",
          "North America",
          "EU",
          "North America",
          "EU",
          "EU",
          "Oceania",
          "EU",
          "EU",
          "EU",
          "EU",
          "Oceania",
          "EU",
          "Oceania",
          "Unknown",
          "Oceania",
          "Oceania",
          "EU",
          "Oceania",
          "North America",
          "Oceania",
          "EU",
          "Oceania",
          "Unknown",
          "Unknown",
          "North America",
          "EU",
          "North America",
          "Oceania",
          "Oceania",
          "Oceania",
          "Oceania",
          "Oceania",
          "Oceania",
          "EU",
          "EU",
          "North America",
          "EU",
          "EU",
          "EU",
          "EU",
          "EU",
          "EU",
          "Oceania",
          "EU",
          "North America",
          "North America",
          "EU",
          "Oceania",
          "Oceania",
          "Oceania",
          "Oceania",
          "Oceania",
          "Oceania",
          "Oceania",
          "Oceania",
          "Oceania",
          "Oceania",
          "North America",
          "EU",
          "North America",
          "EU",
          "North America",
          "EU",
          "North America",
          "EU",
          "North America",
          "EU",
          "North America",
          "EU",
          "EU",
          "EU",
          "EU",
          "EU",
          "North America",
          "EU",
          "EU",
          "EU",
          "North America",
          "EU",
          "North America",
          "EU",
          "EU",
          "EU",
          "EU",
          "Unknown",
          "EU",
          "EU",
          "EU",
          "Oceania",
          "EU",
          "North America",
          "EU",
          "North America",
          "EU",
          "EU",
          "Non-EU Europe",
          "EU",
          "EU",
          "EU",
          "EU",
          "North America",
          "Oceania",
          "EU",
          "EU",
          "EU",
          "EU",
          "EU",
          "North America",
          "EU",
          "North America",
          "EU",
          "North America",
          "EU",
          "North America",
          "EU",
          "EU",
          "North America",
          "North America",
          "EU",
          "EU",
          "EU",
          "EU",
          "Oceania",
          "EU",
          "EU",
          "North America",
          "North America",
          "EU",
          "Oceania",
          "EU",
          "North America",
          "North America",
          "Unknown",
          "EU",
          "EU",
          "Unknown",
          "EU",
          "EU",
          "EU",
          "North America",
          "EU",
          "Oceania",
          "EU",
          "Oceania",
          "Oceania",
          "North America",
          "North America",
          "North America",
          "Unknown",
          "Oceania",
          "EU",
          "North America",
          "EU",
          "EU",
          "EU",
          "North America",
          "North America",
          "EU",
          "Oceania",
          "North America",
          "EU",
          "North America",
          "EU",
          "Unknown",
          "North America",
          "EU",
          "EU",
          "EU",
          "EU",
          "EU",
          "EU",
          "North America",
          "EU",
          "Oceania",
          "EU",
          "EU",
          "EU",
          "North America",
          "EU",
          "North America",
          "North America",
          "EU",
          "Oceania",
          "Oceania",
          "North America",
          "Oceania",
          "EU",
          "EU",
          "North America",
          "Oceania",
          "North America",
          "North America",
          "North America",
          "EU",
          "EU",
          "EU",
          "EU",
          "EU",
          "EU",
          "North America",
          "North America",
          "EU",
          "Oceania",
          "North America",
          "North America",
          "North America",
          "EU",
          "EU",
          "EU",
          "Oceania",
          "EU",
          "North America",
          "North America",
          "EU",
          "North America",
          "North America",
          "EU",
          "North America",
          "EU",
          "North America",
          "North America",
          "EU",
          "EU",
          "North America",
          "North America",
          "North America",
          "North America",
          "North America",
          "EU",
          "North America",
          "North America"
         ],
         "x0": " ",
         "xaxis": "x",
         "y": [
          470.6260850984,
          110.4639757578,
          283.10685997999997,
          549.2590205608,
          366.17341561994283,
          100.714431697,
          69.78518849358571,
          22.007806198125,
          61.06586285800001,
          110.0799113794286,
          105.73310701428571,
          100.69812037142857,
          110.76777116,
          90.62834864642856,
          90.62833520904762,
          126.04404897,
          157.55535526,
          162.9827508568,
          218.6174718,
          85.06212746780001,
          177.95551181919998,
          95.60353808026,
          52.763331267800005,
          60.300873754,
          73.98032596304999,
          48.0872129882,
          263.86692856999997,
          100.7633019153,
          91.194135785578,
          96.1744259764,
          320.246568306,
          83.3774923721992,
          97.654031161,
          162.1518798956,
          90.62590653414999,
          80.59824395518842,
          106.259480402,
          250.9244539208,
          98.46014416065,
          103.57248749036,
          111.59747190106667,
          55.36375288928571,
          166.44110286999998,
          91.9035876895,
          65.329107356,
          99.654513094,
          110.727989992,
          291.9210181235,
          119.8245445145,
          116.234222995,
          118.26816150171429,
          311.8275163855,
          123.8139789525,
          39.45479964021429,
          136.589829212,
          66.89166408999999,
          120.3404255013,
          189.096480766,
          149.774960872,
          78.790482777,
          133.339304466,
          148.15478274,
          131.80691422860005,
          163.354968583,
          106.52804376592857,
          27.929597008366073,
          119.5177953075,
          118.566194867,
          146.4261408,
          83.78880615676785,
          284.524294842,
          114.91038348128573,
          270.29822536392857,
          30.92205112860714,
          51.105216838357144,
          174.2900411426667,
          125.49480481642856,
          21.026244720852,
          259.62852193867855,
          40.69741235128571,
          72.92229527399998,
          78.39096533819999,
          102.203679606,
          85.0753417112,
          28.745077769975,
          85.16829848685714,
          147.1754408464,
          95.5979626445,
          91.89747964318572,
          104.8670538073,
          72.9544284804,
          51.29242988346,
          44.75218432999999,
          179.771900972,
          95.9129350114,
          27.473891472000002,
          127.36264133359997,
          140.227973846,
          107.9146876018,
          63.28701944659999,
          148.5899713698,
          22.707465856,
          113.80845320899999,
          90.40964524268573,
          59.74968897539999,
          121.9374849864,
          67.80722436856,
          94.0271174608,
          171.77876587999998,
          78.10154333333332,
          95.037291748164,
          141.0744830021,
          107.67703576279997,
          92.41548414457144,
          69.178917311178,
          103.2908530892,
          51.06809993628,
          41.1720095836,
          112.3577728284,
          125.3904657908,
          78.67434005213998,
          226.48527059999998,
          68.80250072,
          181.7944032775,
          159.98516079,
          177.76204849,
          128.768627325,
          55.69739214928571,
          261.7548,
          93.20480782928571,
          112.690676496,
          35.42962230080357,
          74.5417684925,
          74.5417684925,
          52.553936824821434,
          82.49267960699999,
          65.31261364767856,
          54.32541696607143,
          99.3888428825,
          68.633199205,
          64.43105308450001,
          68.63335501142858,
          79.41862032934999,
          134.71510709375,
          61.63001185357143,
          130.35734410916666,
          68.28321901482143,
          98.4879701125,
          34.764309374999996,
          99.89482425928573,
          108.3364944625,
          98.4879701125,
          155.47144475,
          95.48421692767856,
          173.930611375,
          125.514916664,
          165.96781223,
          99.838224317,
          96.3352006385,
          91.95632187199999,
          40.54532068,
          201.032385741,
          192.6556712685,
          92.58757160399999,
          90.07549600499999,
          135.1132440075,
          65.7119925,
          101.0844451485,
          118.67067301885713,
          80.06706782485715,
          160.134493266,
          105.53784075449998,
          47.79912685467856,
          43.01927228185714,
          70.05863428047,
          90.07528739550001,
          114.71794021285713,
          57.190711644,
          60.050254110313496,
          101.57317250496429,
          80.0669963016,
          184.02612208199997,
          92.076895548,
          159.178227318,
          74.91989662457142,
          230.1928646985,
          92.076895548,
          80.42446060039286,
          130.491500535,
          85.78606746599999,
          63.81188776992857,
          60.050254110313496,
          100.083745377,
          75.06280903274998,
          70.05868434675,
          175.310834391,
          76.0638217185,
          80.067246633,
          62.909711285142855,
          57.190711644,
          85.071371319,
          80.067246633,
          52.18654225596429,
          94.6792156167,
          32.5272016018125,
          55.04599737449999,
          200.167490754,
          127.1822445927,
          68.05697188949999,
          80.067246633,
          67.91397007725,
          66.918589848,
          100.377884772,
          47.799171556714285,
          57.1875825015,
          60.872371305428565,
          38.961176777678574,
          41.46328382271429,
          37.2534149735,
          21.2677646011875,
          60.050211464571426,
          62.909800689214286,
          66.918589848,
          150.5674529865,
          46.46745321075,
          83.217667302,
          80.067246633,
          92.076895548,
          66.57392105990999,
          69.34783078673999,
          64.33964000357143,
          88.84213002000001,
          82.21673502000002,
          71.52548083714285,
          40.709034972,
          162.50698746000003,
          127.17933968571428,
          110.42325,
          87.23364636857143,
          43.557607777499996,
          134.062617294,
          70.55898444,
          60.980640372,
          42.347701980000004,
          40.65378428571428,
          127.00650852,
          96.55282782,
          55.89892791288,
          92.51288321616,
          46.69326,
          51.67808100000001,
          112.89483783,
          29.219884920000005,
          35.063861904,
          127.00650852,
          45.73548616824,
          66.06238143600001,
          63.013353624000004,
          56.447397882000004,
          67.10499025071428,
          71.09501212764,
          85.60418981142858,
          47.32425,
          138.67084944,
          71.09501212764,
          115.56131142857144,
          85.60418981142858,
          81.25144651800001,
          87.0551062457143,
          76.17323298857143,
          72.545929884,
          85.60418981142858,
          76.17322637820001,
          97.93700955,
          60.938582364540004,
          141.02121708,
          63.45950562,
          119.64706182,
          72.18306730602,
          567.84010014,
          76.9952675304,
          76.9952675304,
          92.394351324,
          76.9952675304,
          76.9952675304,
          82.49494151571427,
          72.183068568,
          72.18306255857144,
          72.183068568,
          92.394351324,
          88.89419090160001,
          76.8026241801,
          154.55039986800003,
          656.7179862600001,
          58.729183920000004,
          79.50582169714286,
          47.32425,
          93.57489154800001,
          24.45170382,
          82.2404686572,
          71.96041070604,
          127.83058146,
          165.70554588,
          62.36621028,
          43.86305952000001,
          157.85182368000002,
          111.81163833,
          112.0722372,
          91.43171298,
          72.18306255857144,
          66.4084226619,
          72.18306255857144,
          82.49494151571427,
          76.9952675304,
          78.92014278857143,
          173.23937017199998,
          115.9023465,
          156.02453637212,
          137.2635294394,
          85.10428859334999,
          125.79100079962,
          76.99895633128399,
          113.47241392838,
          71.7051614981,
          120.56440811214799,
          127.656432890025,
          94.2407821875,
          42.07178556689643,
          92.19228806059999,
          79.38760450321999,
          51.21781640625,
          99.2883731138,
          371.7748049222999,
          42.552139926088,
          102.66939678004285,
          69.66849917457857,
          100.10265717777,
          105.1056244108,
          71.8686214519,
          85.22085214864,
          30.800820282752003,
          102.66937180526,
          98.00407612385,
          99.36467107542856,
          71.8686214519,
          97.02266081299999,
          174.3864213,
          51.13254625388,
          65.23844097290001,
          155.4766395858,
          99.1445808015,
          80.3685390495,
          120.38974197328,
          52.97017204542143,
          69.57943285521428,
          80.02076519821428,
          205.6518524632,
          102.8258013576857,
          165.1618603778,
          159.3800108355,
          77.1194446737,
          322.6117575571429,
          94.01220048740001,
          59.22567875076667,
          45.58981152635,
          80.5993496784,
          392.1467014928,
          42.38008277933333,
          65.689046746188,
          124.54151529444,
          176.2381087588,
          131.1238129957,
          90.81433825911428,
          183.5812904674,
          190.92447217600002,
          146.8649449863,
          483.536340786,
          80.00957544685714,
          90.57696704514285,
          126.807579726,
          43.63747629100001,
          123.8175366016,
          386.32726116999993,
          80.24999754359997,
          386.3277868032,
          128.598790546,
          91.8565042328,
          76.77218302102857,
          96.73287851965713,
          109.623966758,
          120.585507012,
          163.918473734,
          109.278762894,
          98.3511030628571,
          386.220539146,
          447.202382808,
          131.135306016,
          131.209090048,
          111.824970784,
          119.27979315999998,
          47.687930454699995,
          105.7363019422,
          124.23616634965715,
          95.3822880621,
          97.1483178978,
          150.138414036,
          167.8015877265,
          84.90594884056073,
          72.35489219399999,
          113.700271035,
          90.6322371201,
          87.99239343375,
          203.7742279259143,
          170.76917835565715,
          39.622798489299996,
          35.06984709470357,
          80.45018828228571,
          98.19551435849999,
          105.947844774525,
          135.5083338102,
          27.213904446767998,
          76.02542792676,
          31.009126141421998,
          143.42767318035,
          87.9921059004,
          124.03646513254286,
          89.8524466749,
          103.4999295993,
          82.2178611657,
          143.58754172295,
          116.10855453015,
          149.75426948039998,
          172.65802600799992,
          140.7377986911,
          132.1359509925,
          120.683928962025,
          102.8196256932,
          341.5505152644,
          112.59012393953999,
          139.7251062324,
          74.24768316085714,
          80.60278633875,
          100.602168498,
          134.55036853245,
          97.10541792197999,
          126.49655939895,
          64.37296639799999,
          64.07142606623572,
          88.892821371276,
          41.3455705299,
          90.96008264576999,
          73.83125271767143,
          349.8930078813,
          86.825548595448,
          63.3545232723,
          83.724639431706,
          113.6998876572,
          262.8393286829143,
          129.52480313448,
          112.5071993214,
          100.4265292753,
          109.5567775906,
          104.19932327720001,
          72.5048766086,
          122.6322408732,
          94.2973449471857,
          88.68834740625714,
          122.6322408732,
          39.98201631140358,
          102.5954361674,
          137.5258327323714,
          45.413542529775,
          95.05158477763999,
          155.6210852209,
          52.80671164059999,
          80.13720671164286,
          76.915479329848,
          73.92890012139999,
          83.23921877346667,
          79.652643548994,
          41.74223560261905,
          29.571609666104,
          38.2846643681625,
          97.715550715,
          74.165191270314,
          35.855578580809,
          87.80264766502998,
          27.705171322228,
          90.52525976734286,
          90.5253483701,
          41.490788361410715,
          38.02062150667,
          148.4205717301375,
          39.22765243708928,
          31.155804813129,
          43.565289015775,
          33.94699456344286,
          39.6048011482125,
          197.8939922703,
          149.58945252840002,
          45.75750581656666,
          122.0740435032,
          79.195802417,
          144.6884796198,
          143.6167406694,
          100.16346768934285,
          116.1534300654,
          82.67904260855713,
          78.44126133717143,
          93.1339907459,
          162.77389720228572,
          325.54814881560003,
          147.83175103219997,
          77.51164120922859,
          96.1817483861,
          142.87961003135,
          137.27225164142857,
          68.6359486152,
          85.90874601055,
          116.15347436677857,
          84.47510909859999,
          105.5941964829,
          93.52614654901427,
          118.8510296093714,
          131.9925905488,
          129.18600961354286,
          58.0767150327,
          56.56825309234286,
          86.1695482262,
          142.55194817516,
          84.47510909859999,
          79.00698994152857,
          93.97872943249999,
          121.0072663072,
          65.7649534755,
          69.52259640592857,
          63.88591050339285,
          126.735611762,
          71.8511654664,
          108.84174005004357,
          71.66589710121428,
          63.367805881,
          77.55213266924285,
          95.05162021874285,
          42.245307290549995,
          116.17420741195,
          211.2256061238,
          103.500633831364,
          113.53393385185,
          211.2256061238,
          126.73548771813998,
          120.70052356197142,
          111.64797986468571,
          98.54019429628,
          114.9626090094,
          166.47802406739999,
          42.24520392066667,
          93.40719734755,
          99.52535063239999,
          49.034537858,
          78.98926939009999,
          122.0740435032,
          126.71297375755,
          98.05162097284287,
          129.2549425586,
          114.04170739276,
          59.75474049953929,
          71.80824629084,
          112.6336855379,
          131.9925905488,
          105.59407243903999,
          105.66073715351429,
          64.41145775738572,
          71.56830116422142,
          100.19560833949643,
          200.3909951721,
          114.50931730385715,
          68.70553722065999,
          93.03878708335,
          108.67672737831428,
          78.3049651254,
          114.63161448999001,
          88.57897711137001,
          140.6842017483,
          122.81960485367142,
          89.32334247535714,
          138.93349932,
          103.1686485102,
          132.49633310537143,
          130.2631868931,
          145.8947091759,
          58.57915051892143,
          98.2603665519,
          100.9423604747472,
          137.3772636945,
          119.8421720379,
          117.28872124450713,
          258.29326337415,
          114.20216935382143,
          156.315222828,
          101.6053960413,
          94.8316361448,
          47.87926753110001,
          143.20859034900002,
          151.9406591641,
          144.9549090484,
          114.37348571508572,
          116.6359319685,
          115.82171206320002,
          107.1785277328,
          420.82093312499995,
          160.38231897799997,
          145.5574211144,
          133.6752788517143,
          83.17546719740001,
          162.35852705279999,
          161.152791754,
          273.2915614978286,
          158.88122548464864,
          115.9426270512,
          64.971954684,
          147.3674019024,
          31.681516830357143,
          85.35996301890953,
          67.566296301,
          38.017820196428566,
          357.0434020983,
          138.53271984984002,
          122.13042345861,
          120.7860200412,
          120.7860200412,
          113.68091393994,
          106.57585137647,
          84.42187190989,
          78.14303279126,
          66.23119741321071,
          79.330249088618,
          108.1776525856,
          36.79511445877143,
          131.32231344515998,
          111.6241191581,
          88.30820580042858,
          81.6730184021,
          152.5279500094,
          144.0538624042,
          143.4473646715,
          68.651381096286,
          71.51185123997999,
          61.71548760695715,
          96.1119582722,
          75.80252065139,
          96.0019419424,
          76.00685761693929,
          71.4113392795,
          147.6043740738,
          79.290523578609,
          110.4778807356,
          67.3799983878,
          165.1884336375,
          92.50566651816,
          103.6616465052,
          90.07343697315001,
          106.19847850042501,
          279.7110929712,
          152.92582135614,
          139.57513730745,
          105.92598974621998,
          66.9784608603,
          126.514853409,
          88.8500175531,
          115.72899095865,
          96.611211984,
          66.62847408041999,
          50.604555866700004,
          103.43197217094,
          71.9831835513,
          182.9291056656,
          313.576947642,
          100.7765288124,
          102.2953926177,
          79.33455826212,
          100.21541796231,
          114.9751010436,
          117.35403000972,
          122.8872633219,
          113.9118604596,
          418.945526328,
          380.8596533586,
          403.2630869169,
          403.26308691689997,
          326.4510874662,
          96.73680135154,
          170.670330765,
          296.27857968719997,
          66.68461351034999,
          310.22462094855,
          45.524556000000004,
          43.71546976005,
          98.54510951670001,
          48.1611323391,
          48.902044488,
          65.80803791064649,
          60.221261809800026,
          262.070847028,
          297.2023629517143,
          80.77806024014285,
          72.39544898348214,
          83.86398483798001,
          206.11329392239995,
          121.73804588379001,
          132.2619160808,
          117.4321077147,
          88.48853328850001,
          93.404797917,
          161.518604735,
          94.8452839525,
          109.1659342813,
          193.254851626,
          115.512858273,
          66.5163543349,
          310.588572753,
          83.62143688433927,
          359.99391088321426,
          156.2372564535,
          71.99878217664285,
          102.687145176,
          101.312629473,
          164.296263175,
          101.312629473,
          153.995318169,
          36.22659696700001,
          156.387319374,
          84.528838636,
          86.282635714,
          102.663545446,
          113.246001517,
          351.103634519,
          146.631528131,
          161.780194818,
          95.21903469885714,
          97.068049463,
          146.631528131,
          360.593085952,
          86.253978899,
          95.34230234980001,
          94.5585890304,
          113.66843668400001,
          86.61370621200001,
          47.353907590137496,
          157.07643149,
          109.4061905904,
          91.06306204246428,
          108.6836679995,
          145.87487583533334,
          316.79266135,
          197.99542538442856,
          111.1427261516,
          180.897998952,
          91.24289860743751,
          143.703813055,
          263.9939245939286,
          100.345040543,
          382.366871128,
          152.40358862457143,
          125.982775798,
          108.68365595882142,
          289.7333313387857,
          113.668436684,
          107.353823214,
          89.116289009,
          79.03977021089285,
          79.21971815214286,
          99.46015180970001,
          142.01306097,
          130.07159759,
          250.9717380680714,
          67.93302687285714,
          397.592068368,
          118.423782279,
          178.98247147942857,
          101.1247756222,
          86.26361144185715,
          94.80640867133333,
          69.0176800962,
          72.99942654179999,
          160.717869829,
          84.27054521013333,
          127.41716738740001,
          61.13972418557143,
          87.5993320785,
          66.363115038,
          86.27218440499999,
          168.41523482614284,
          62.271933273,
          102.99556667598,
          143.800234809,
          67.93302687285714,
          351.7345179134286,
          116.79909595244,
          109.964964769,
          100.38988003,
          173.4580155,
          135.341754438,
          107.54811160342857,
          135.341417299,
          105.673522438,
          162.838137,
          427.63722177,
          121.61255532066667,
          46.99310685064285,
          105.2451873385,
          95.22182813628571,
          79.2950928,
          50.71339959360714,
          103.44326703963999,
          150.35031578914285,
          152.02091980533334,
          96.00990499759999,
          157.868033862,
          126.8702942155,
          361.84697332080003,
          56.39169932314286,
          391.041457598,
          93.80892675,
          382.894830802,
          134.41394791,
          65.7903495909,
          36.83580714,
          102.8677842522,
          104.5136294224,
          381.937693181,
          94.29950445168001,
          104.24289717285714,
          145.338600066,
          99.43882776795,
          78.32186883242856,
          125.70954336844446,
          62.65747580085714,
          119.02730323137497,
          152.02080742566667,
          253.40250544179997,
          79.2950928,
          82.27857066660002,
          147.02651055085715,
          100.2047232912,
          133.091351613,
          140.69282464600002,
          117.869862902,
          178.769303306,
          192.52052883800002,
          110.01182709,
          96.26026441900001,
          401.2685691630001,
          31.99111971,
          137.514952432,
          89.05656724328573,
          99.01098152,
          82.452399535,
          95.47025141657143,
          119.33781427071428,
          189.935346986,
          88.97523005139999,
          150.2350722798,
          400.0167593947,
          467.9986051311429,
          64.06637955,
          259.9992110784536,
          66.07633975735,
          52.86107180588,
          103.69063062346963,
          84.57765219448001,
          124.42874835152143,
          62.92983805835,
          71.338991198,
          93.5905966751,
          94.70495703708927,
          72.792729841,
          346.12988101375,
          149.3142405248,
          427.6985293232,
          129.5096964562,
          81.93466913598,
          46.42399882199286,
          285.99914758014285,
          84.32601042722,
          72.68399332524999,
          129.98719670158,
          119.2676962808,
          126.48903243411428,
          76.31630234759,
          59.27413599099999,
          74.00550131191858,
          82.287093,
          346.6496611512,
          92.50691484462,
          112.99056253645,
          24.9575412964914,
          72.99821246752,
          176.7824558548,
          62.442141658460706,
          112.5783993624643,
          82.95322661,
          32.860762824599995,
          311.86903408944283,
          85.89924560298799,
          65.36499022941072,
          89.203060631639,
          133.70107630345714,
          100.6876625247,
          138.15779004242856,
          301.57028380868,
          86.84321178642,
          47.021195999999996,
          76.648554118526,
          66.07633975735,
          431.3387535802,
          66.36205883026666,
          274.31012607545716,
          99.543002039874,
          245.6990717722,
          350.9989538483572,
          77.1771648365848,
          370.8534299489,
          78.7605033,
          488.495368378,
          69.259329904446,
          43.14790334816,
          90.80021862455861,
          102.7330845507,
          58.70456376564285,
          78.262991617289,
          90.5158023,
          359.56557201699286,
          359.5656000058,
          335.60583762877144,
          342.1011441248,
          251.6958416354,
          293.22944015174284,
          146.90824429414,
          81.8086523307,
          129.5934949447857,
          88.5424794412,
          150.78516429538573,
          85.58468947548002,
          182.49513932549996,
          165.9048858468,
          59.25178692849643,
          214.49936068510715,
          80.55013001976,
          103.9897260138,
          24.04761924265,
          92.5067581073,
          267.17264438834286,
          270.99513175745716,
          338.74394268562855,
          272.17337657175,
          371.146136894,
          296.91690951519996,
          340.2167696951,
          272.1735724934,
          340.21676969509997,
          331.3799755711143,
          98.55601735505715,
          117.09797443492,
          106.1373683112,
          114.40606786461998,
          72.02167527725715,
          102.6918515072,
          90.52692579437144,
          139.7875523804,
          95.69131072275,
          165.67450811700002,
          95.69122795088572,
          140.8772715643429,
          110.3639204266,
          93.06680804060001,
          87.62076701243001,
          81.11121237255,
          109.4662319678,
          151.8908958262,
          73.96162705114288,
          172.577129786,
          163.4407162249,
          113.2323517928,
          106.3235498246,
          155.3194168074,
          97.0569637116,
          77.6597084037,
          148.4164088697,
          94.3608081856,
          88.26104600955,
          233.9119641216,
          146.69075345245,
          489.0887927156001,
          119.4868145832,
          127.588414297,
          154.28421669140002,
          95.69122795088572,
          182.26905291894286,
          97.05688645786003,
          154.1691086188,
          131.15875107234285,
          94.3608081856,
          142.66383787683333,
          94.5029550672,
          148.852506232,
          691.104232666,
          143.23909497612001,
          80.53599390013333,
          189.8348427646,
          118.6250491135,
          74.20824306172,
          111.6397659427,
          86.28856489300001,
          87.1853704519143,
          89.7402619962,
          44.257219138375014,
          121.3212046395,
          75.7874640148,
          144.9647117665,
          109.58700531466667,
          102.80329002715,
          121.2088004478,
          186.38314566140002,
          97.00752131800002,
          131.1586958911,
          77.659804970875,
          354.0577531070001,
          450.4267722639,
          71.49629466401429,
          105.2605383622,
          154.8588741545143,
          157.78491473825716,
          489.0887927156,
          170.11779559997,
          121.51273873345714,
          104.80474129619999,
          93.28250048267999,
          96.2865231988286,
          170.11783422684,
          128.06120718580001,
          95.70884732173,
          130.16593015085715,
          114.97133348020002,
          110.56420074755,
          104.8143980137,
          329.7259151566,
          147.18749500065002,
          593.27009633,
          269.6688576806,
          118.6544055347,
          107.86763136222858,
          67.95658347845715,
          75.27905715186003,
          376.82972768431426,
          91.32716969641,
          95.38066791608573,
          122.64974824252859,
          82.1180217391,
          114.3336038565,
          95.53473394614286,
          91.6824210198,
          101.75580656649001,
          465.3468422513429,
          118.6482252355,
          98.54183209689334,
          107.861671788,
          78.69660810197999,
          93.8493884268,
          101.25758064285715,
          123.177225743,
          116.3340894538,
          85.53979846879801,
          80.65676724699999,
          66.95672694850715,
          125.11969378156,
          98.61649599722857,
          175.2137999322,
          360.7208330007571,
          118.14425494448572,
          154.18826754632,
          116.39208494004286,
          98.61649599722857,
          109.4909531646,
          109.1053466395143,
          59.01584260452857,
          82.11840800780001,
          302.79346800220713,
          234.16027971445718,
          107.861671788,
          316.2509315571,
          91.97243155976,
          176.8932962398,
          78.19984080253333,
          27.142068280227498,
          107.86183733172858,
          154.08832327925714,
          33.0326852686625,
          67.58250983312857,
          91.6986443052,
          89.37981811785714,
          68.43174916070001,
          91.89420662988572,
          88.96138978952,
          85.21087522,
          94.65337913522856,
          63.202153798575004,
          324.4877253159,
          141.5126283946,
          126.35100251655,
          113.21204509542858,
          163.7497311849,
          172.368544688,
          165.47364839300002,
          278.1322256225714,
          132.96968910042855,
          96.02838534474286,
          90.97446774644,
          134.44715584168,
          85.92034045941429,
          75.81229557408572,
          131.9034219447,
          103.10384570262002,
          123.1200579754,
          80.86647252423,
          66.71477320113901,
          100.8304226419,
          90.9747767614,
          70.758075582572,
          62.204289642579596,
          54.17794588706321,
          48.15817586433498,
          58.1911339881068,
          94.81139062415,
          45.14828977141851,
          51.16806311605755
         ],
         "y0": " ",
         "yaxis": "y"
        }
       ],
       "layout": {
        "boxmode": "group",
        "legend": {
         "tracegroupgap": 0
        },
        "margin": {
         "t": 60
        },
        "template": {
         "data": {
          "bar": [
           {
            "error_x": {
             "color": "#2a3f5f"
            },
            "error_y": {
             "color": "#2a3f5f"
            },
            "marker": {
             "line": {
              "color": "#E5ECF6",
              "width": 0.5
             }
            },
            "type": "bar"
           }
          ],
          "barpolar": [
           {
            "marker": {
             "line": {
              "color": "#E5ECF6",
              "width": 0.5
             }
            },
            "type": "barpolar"
           }
          ],
          "carpet": [
           {
            "aaxis": {
             "endlinecolor": "#2a3f5f",
             "gridcolor": "white",
             "linecolor": "white",
             "minorgridcolor": "white",
             "startlinecolor": "#2a3f5f"
            },
            "baxis": {
             "endlinecolor": "#2a3f5f",
             "gridcolor": "white",
             "linecolor": "white",
             "minorgridcolor": "white",
             "startlinecolor": "#2a3f5f"
            },
            "type": "carpet"
           }
          ],
          "choropleth": [
           {
            "colorbar": {
             "outlinewidth": 0,
             "ticks": ""
            },
            "type": "choropleth"
           }
          ],
          "contour": [
           {
            "colorbar": {
             "outlinewidth": 0,
             "ticks": ""
            },
            "colorscale": [
             [
              0,
              "#0d0887"
             ],
             [
              0.1111111111111111,
              "#46039f"
             ],
             [
              0.2222222222222222,
              "#7201a8"
             ],
             [
              0.3333333333333333,
              "#9c179e"
             ],
             [
              0.4444444444444444,
              "#bd3786"
             ],
             [
              0.5555555555555556,
              "#d8576b"
             ],
             [
              0.6666666666666666,
              "#ed7953"
             ],
             [
              0.7777777777777778,
              "#fb9f3a"
             ],
             [
              0.8888888888888888,
              "#fdca26"
             ],
             [
              1,
              "#f0f921"
             ]
            ],
            "type": "contour"
           }
          ],
          "contourcarpet": [
           {
            "colorbar": {
             "outlinewidth": 0,
             "ticks": ""
            },
            "type": "contourcarpet"
           }
          ],
          "heatmap": [
           {
            "colorbar": {
             "outlinewidth": 0,
             "ticks": ""
            },
            "colorscale": [
             [
              0,
              "#0d0887"
             ],
             [
              0.1111111111111111,
              "#46039f"
             ],
             [
              0.2222222222222222,
              "#7201a8"
             ],
             [
              0.3333333333333333,
              "#9c179e"
             ],
             [
              0.4444444444444444,
              "#bd3786"
             ],
             [
              0.5555555555555556,
              "#d8576b"
             ],
             [
              0.6666666666666666,
              "#ed7953"
             ],
             [
              0.7777777777777778,
              "#fb9f3a"
             ],
             [
              0.8888888888888888,
              "#fdca26"
             ],
             [
              1,
              "#f0f921"
             ]
            ],
            "type": "heatmap"
           }
          ],
          "heatmapgl": [
           {
            "colorbar": {
             "outlinewidth": 0,
             "ticks": ""
            },
            "colorscale": [
             [
              0,
              "#0d0887"
             ],
             [
              0.1111111111111111,
              "#46039f"
             ],
             [
              0.2222222222222222,
              "#7201a8"
             ],
             [
              0.3333333333333333,
              "#9c179e"
             ],
             [
              0.4444444444444444,
              "#bd3786"
             ],
             [
              0.5555555555555556,
              "#d8576b"
             ],
             [
              0.6666666666666666,
              "#ed7953"
             ],
             [
              0.7777777777777778,
              "#fb9f3a"
             ],
             [
              0.8888888888888888,
              "#fdca26"
             ],
             [
              1,
              "#f0f921"
             ]
            ],
            "type": "heatmapgl"
           }
          ],
          "histogram": [
           {
            "marker": {
             "colorbar": {
              "outlinewidth": 0,
              "ticks": ""
             }
            },
            "type": "histogram"
           }
          ],
          "histogram2d": [
           {
            "colorbar": {
             "outlinewidth": 0,
             "ticks": ""
            },
            "colorscale": [
             [
              0,
              "#0d0887"
             ],
             [
              0.1111111111111111,
              "#46039f"
             ],
             [
              0.2222222222222222,
              "#7201a8"
             ],
             [
              0.3333333333333333,
              "#9c179e"
             ],
             [
              0.4444444444444444,
              "#bd3786"
             ],
             [
              0.5555555555555556,
              "#d8576b"
             ],
             [
              0.6666666666666666,
              "#ed7953"
             ],
             [
              0.7777777777777778,
              "#fb9f3a"
             ],
             [
              0.8888888888888888,
              "#fdca26"
             ],
             [
              1,
              "#f0f921"
             ]
            ],
            "type": "histogram2d"
           }
          ],
          "histogram2dcontour": [
           {
            "colorbar": {
             "outlinewidth": 0,
             "ticks": ""
            },
            "colorscale": [
             [
              0,
              "#0d0887"
             ],
             [
              0.1111111111111111,
              "#46039f"
             ],
             [
              0.2222222222222222,
              "#7201a8"
             ],
             [
              0.3333333333333333,
              "#9c179e"
             ],
             [
              0.4444444444444444,
              "#bd3786"
             ],
             [
              0.5555555555555556,
              "#d8576b"
             ],
             [
              0.6666666666666666,
              "#ed7953"
             ],
             [
              0.7777777777777778,
              "#fb9f3a"
             ],
             [
              0.8888888888888888,
              "#fdca26"
             ],
             [
              1,
              "#f0f921"
             ]
            ],
            "type": "histogram2dcontour"
           }
          ],
          "mesh3d": [
           {
            "colorbar": {
             "outlinewidth": 0,
             "ticks": ""
            },
            "type": "mesh3d"
           }
          ],
          "parcoords": [
           {
            "line": {
             "colorbar": {
              "outlinewidth": 0,
              "ticks": ""
             }
            },
            "type": "parcoords"
           }
          ],
          "pie": [
           {
            "automargin": true,
            "type": "pie"
           }
          ],
          "scatter": [
           {
            "marker": {
             "colorbar": {
              "outlinewidth": 0,
              "ticks": ""
             }
            },
            "type": "scatter"
           }
          ],
          "scatter3d": [
           {
            "line": {
             "colorbar": {
              "outlinewidth": 0,
              "ticks": ""
             }
            },
            "marker": {
             "colorbar": {
              "outlinewidth": 0,
              "ticks": ""
             }
            },
            "type": "scatter3d"
           }
          ],
          "scattercarpet": [
           {
            "marker": {
             "colorbar": {
              "outlinewidth": 0,
              "ticks": ""
             }
            },
            "type": "scattercarpet"
           }
          ],
          "scattergeo": [
           {
            "marker": {
             "colorbar": {
              "outlinewidth": 0,
              "ticks": ""
             }
            },
            "type": "scattergeo"
           }
          ],
          "scattergl": [
           {
            "marker": {
             "colorbar": {
              "outlinewidth": 0,
              "ticks": ""
             }
            },
            "type": "scattergl"
           }
          ],
          "scattermapbox": [
           {
            "marker": {
             "colorbar": {
              "outlinewidth": 0,
              "ticks": ""
             }
            },
            "type": "scattermapbox"
           }
          ],
          "scatterpolar": [
           {
            "marker": {
             "colorbar": {
              "outlinewidth": 0,
              "ticks": ""
             }
            },
            "type": "scatterpolar"
           }
          ],
          "scatterpolargl": [
           {
            "marker": {
             "colorbar": {
              "outlinewidth": 0,
              "ticks": ""
             }
            },
            "type": "scatterpolargl"
           }
          ],
          "scatterternary": [
           {
            "marker": {
             "colorbar": {
              "outlinewidth": 0,
              "ticks": ""
             }
            },
            "type": "scatterternary"
           }
          ],
          "surface": [
           {
            "colorbar": {
             "outlinewidth": 0,
             "ticks": ""
            },
            "colorscale": [
             [
              0,
              "#0d0887"
             ],
             [
              0.1111111111111111,
              "#46039f"
             ],
             [
              0.2222222222222222,
              "#7201a8"
             ],
             [
              0.3333333333333333,
              "#9c179e"
             ],
             [
              0.4444444444444444,
              "#bd3786"
             ],
             [
              0.5555555555555556,
              "#d8576b"
             ],
             [
              0.6666666666666666,
              "#ed7953"
             ],
             [
              0.7777777777777778,
              "#fb9f3a"
             ],
             [
              0.8888888888888888,
              "#fdca26"
             ],
             [
              1,
              "#f0f921"
             ]
            ],
            "type": "surface"
           }
          ],
          "table": [
           {
            "cells": {
             "fill": {
              "color": "#EBF0F8"
             },
             "line": {
              "color": "white"
             }
            },
            "header": {
             "fill": {
              "color": "#C8D4E3"
             },
             "line": {
              "color": "white"
             }
            },
            "type": "table"
           }
          ]
         },
         "layout": {
          "annotationdefaults": {
           "arrowcolor": "#2a3f5f",
           "arrowhead": 0,
           "arrowwidth": 1
          },
          "coloraxis": {
           "colorbar": {
            "outlinewidth": 0,
            "ticks": ""
           }
          },
          "colorscale": {
           "diverging": [
            [
             0,
             "#8e0152"
            ],
            [
             0.1,
             "#c51b7d"
            ],
            [
             0.2,
             "#de77ae"
            ],
            [
             0.3,
             "#f1b6da"
            ],
            [
             0.4,
             "#fde0ef"
            ],
            [
             0.5,
             "#f7f7f7"
            ],
            [
             0.6,
             "#e6f5d0"
            ],
            [
             0.7,
             "#b8e186"
            ],
            [
             0.8,
             "#7fbc41"
            ],
            [
             0.9,
             "#4d9221"
            ],
            [
             1,
             "#276419"
            ]
           ],
           "sequential": [
            [
             0,
             "#0d0887"
            ],
            [
             0.1111111111111111,
             "#46039f"
            ],
            [
             0.2222222222222222,
             "#7201a8"
            ],
            [
             0.3333333333333333,
             "#9c179e"
            ],
            [
             0.4444444444444444,
             "#bd3786"
            ],
            [
             0.5555555555555556,
             "#d8576b"
            ],
            [
             0.6666666666666666,
             "#ed7953"
            ],
            [
             0.7777777777777778,
             "#fb9f3a"
            ],
            [
             0.8888888888888888,
             "#fdca26"
            ],
            [
             1,
             "#f0f921"
            ]
           ],
           "sequentialminus": [
            [
             0,
             "#0d0887"
            ],
            [
             0.1111111111111111,
             "#46039f"
            ],
            [
             0.2222222222222222,
             "#7201a8"
            ],
            [
             0.3333333333333333,
             "#9c179e"
            ],
            [
             0.4444444444444444,
             "#bd3786"
            ],
            [
             0.5555555555555556,
             "#d8576b"
            ],
            [
             0.6666666666666666,
             "#ed7953"
            ],
            [
             0.7777777777777778,
             "#fb9f3a"
            ],
            [
             0.8888888888888888,
             "#fdca26"
            ],
            [
             1,
             "#f0f921"
            ]
           ]
          },
          "colorway": [
           "#636efa",
           "#EF553B",
           "#00cc96",
           "#ab63fa",
           "#FFA15A",
           "#19d3f3",
           "#FF6692",
           "#B6E880",
           "#FF97FF",
           "#FECB52"
          ],
          "font": {
           "color": "#2a3f5f"
          },
          "geo": {
           "bgcolor": "white",
           "lakecolor": "white",
           "landcolor": "#E5ECF6",
           "showlakes": true,
           "showland": true,
           "subunitcolor": "white"
          },
          "hoverlabel": {
           "align": "left"
          },
          "hovermode": "closest",
          "mapbox": {
           "style": "light"
          },
          "paper_bgcolor": "white",
          "plot_bgcolor": "#E5ECF6",
          "polar": {
           "angularaxis": {
            "gridcolor": "white",
            "linecolor": "white",
            "ticks": ""
           },
           "bgcolor": "#E5ECF6",
           "radialaxis": {
            "gridcolor": "white",
            "linecolor": "white",
            "ticks": ""
           }
          },
          "scene": {
           "xaxis": {
            "backgroundcolor": "#E5ECF6",
            "gridcolor": "white",
            "gridwidth": 2,
            "linecolor": "white",
            "showbackground": true,
            "ticks": "",
            "zerolinecolor": "white"
           },
           "yaxis": {
            "backgroundcolor": "#E5ECF6",
            "gridcolor": "white",
            "gridwidth": 2,
            "linecolor": "white",
            "showbackground": true,
            "ticks": "",
            "zerolinecolor": "white"
           },
           "zaxis": {
            "backgroundcolor": "#E5ECF6",
            "gridcolor": "white",
            "gridwidth": 2,
            "linecolor": "white",
            "showbackground": true,
            "ticks": "",
            "zerolinecolor": "white"
           }
          },
          "shapedefaults": {
           "line": {
            "color": "#2a3f5f"
           }
          },
          "ternary": {
           "aaxis": {
            "gridcolor": "white",
            "linecolor": "white",
            "ticks": ""
           },
           "baxis": {
            "gridcolor": "white",
            "linecolor": "white",
            "ticks": ""
           },
           "bgcolor": "#E5ECF6",
           "caxis": {
            "gridcolor": "white",
            "linecolor": "white",
            "ticks": ""
           }
          },
          "title": {
           "x": 0.05
          },
          "xaxis": {
           "automargin": true,
           "gridcolor": "white",
           "linecolor": "white",
           "ticks": "",
           "title": {
            "standoff": 15
           },
           "zerolinecolor": "white",
           "zerolinewidth": 2
          },
          "yaxis": {
           "automargin": true,
           "gridcolor": "white",
           "linecolor": "white",
           "ticks": "",
           "title": {
            "standoff": 15
           },
           "zerolinecolor": "white",
           "zerolinewidth": 2
          }
         }
        },
        "xaxis": {
         "anchor": "y",
         "domain": [
          0,
          1
         ],
         "title": {
          "text": "Origin_region"
         }
        },
        "yaxis": {
         "anchor": "x",
         "domain": [
          0,
          1
         ],
         "title": {
          "text": "Gram_Price"
         }
        }
       }
      },
      "text/html": [
       "<div>\n",
       "        \n",
       "        \n",
       "            <div id=\"85545a00-cc8c-48c2-a545-45ccca65d8d0\" class=\"plotly-graph-div\" style=\"height:525px; width:100%;\"></div>\n",
       "            <script type=\"text/javascript\">\n",
       "                require([\"plotly\"], function(Plotly) {\n",
       "                    window.PLOTLYENV=window.PLOTLYENV || {};\n",
       "                    \n",
       "                if (document.getElementById(\"85545a00-cc8c-48c2-a545-45ccca65d8d0\")) {\n",
       "                    Plotly.newPlot(\n",
       "                        '85545a00-cc8c-48c2-a545-45ccca65d8d0',\n",
       "                        [{\"alignmentgroup\": \"True\", \"boxpoints\": \"all\", \"hovertemplate\": \"Origin_region=%{x}<br>Gram_Price=%{y}<extra></extra>\", \"legendgroup\": \"\", \"marker\": {\"color\": \"#636efa\"}, \"name\": \"\", \"notched\": false, \"offsetgroup\": \"\", \"orientation\": \"v\", \"showlegend\": false, \"type\": \"box\", \"x\": [\"Oceania\", \"North America\", \"Oceania\", \"Oceania\", \"Oceania\", \"North America\", \"EU\", \"North America\", \"Unknown\", \"North America\", \"EU\", \"EU\", \"EU\", \"EU\", \"EU\", \"North America\", \"North America\", \"EU\", \"Oceania\", \"North America\", \"Oceania\", \"EU\", \"North America\", \"North America\", \"North America\", \"North America\", \"Oceania\", \"Unknown\", \"EU\", \"North America\", \"Oceania\", \"EU\", \"North America\", \"EU\", \"North America\", \"EU\", \"Unknown\", \"Oceania\", \"Unknown\", \"EU\", \"EU\", \"Latin America\", \"EU\", \"EU\", \"Latin America\", \"EU\", \"EU\", \"Oceania\", \"North America\", \"EU\", \"North America\", \"Oceania\", \"North America\", \"Latin America\", \"EU\", \"EU\", \"EU\", \"EU\", \"EU\", \"EU\", \"EU\", \"EU\", \"EU\", \"EU\", \"North America\", \"Latin America\", \"North America\", \"EU\", \"EU\", \"North America\", \"Oceania\", \"North America\", \"Oceania\", \"Latin America\", \"North America\", \"EU\", \"EU\", \"Latin America\", \"Oceania\", \"EU\", \"EU\", \"EU\", \"EU\", \"EU\", \"North America\", \"EU\", \"EU\", \"EU\", \"EU\", \"EU\", \"North America\", \"EU\", \"North America\", \"EU\", \"EU\", \"Unknown\", \"EU\", \"EU\", \"EU\", \"EU\", \"EU\", \"Unknown\", \"EU\", \"Unknown\", \"EU\", \"EU\", \"EU\", \"Unknown\", \"EU\", null, \"EU\", \"EU\", \"North America\", \"North America\", \"EU\", \"EU\", \"EU\", \"EU\", \"EU\", \"EU\", \"EU\", \"EU\", \"EU\", \"Oceania\", \"EU\", \"EU\", \"EU\", \"North America\", \"Unknown\", \"North America\", \"EU\", \"EU\", \"North America\", \"North America\", \"EU\", \"EU\", \"North America\", \"EU\", \"North America\", \"North America\", \"Latin America\", \"North America\", \"EU\", \"EU\", \"North America\", \"EU\", \"North America\", \"North America\", \"Unknown\", \"North America\", \"North America\", \"North America\", \"EU\", \"North America\", \"EU\", \"EU\", \"North America\", \"North America\", \"North America\", \"North America\", \"EU\", \"EU\", \"EU\", \"North America\", \"North America\", \"North America\", \"EU\", \"EU\", \"North America\", \"North America\", \"EU\", \"EU\", \"EU\", \"EU\", \"Latin America\", \"North America\", \"EU\", \"North America\", \"EU\", \"EU\", \"North America\", \"EU\", \"North America\", \"EU\", \"Latin America\", \"Oceania\", \"North America\", \"North America\", \"EU\", \"North America\", \"EU\", \"EU\", \"North America\", \"EU\", \"North America\", \"EU\", \"Latin America\", \"Latin America\", \"North America\", \"North America\", \"North America\", \"North America\", \"North America\", \"EU\", \"North America\", \"North America\", \"Oceania\", \"EU\", \"Latin America\", \"North America\", \"North America\", \"EU\", \"EU\", \"EU\", \"North America\", \"North America\", \"North America\", \"North America\", \"Unknown\", \"North America\", \"North America\", \"North America\", \"EU\", \"EU\", \"North America\", \"North America\", \"North America\", \"North America\", \"North America\", \"North America\", \"North America\", \"EU\", \"North America\", \"North America\", \"Unknown\", \"EU\", \"EU\", \"EU\", \"EU\", \"North America\", \"EU\", \"EU\", \"EU\", \"Unknown\", \"Unknown\", \"EU\", \"Unknown\", \"EU\", \"EU\", \"EU\", \"EU\", \"EU\", \"Unknown\", \"Unknown\", \"EU\", \"EU\", \"EU\", \"EU\", \"EU\", \"North America\", \"EU\", \"EU\", \"EU\", \"EU\", \"EU\", \"EU\", \"EU\", \"EU\", \"EU\", \"EU\", \"EU\", \"EU\", \"EU\", \"North America\", \"EU\", \"EU\", \"EU\", \"EU\", \"Oceania\", \"EU\", \"EU\", \"EU\", \"EU\", \"EU\", \"EU\", \"North America\", \"EU\", \"EU\", \"EU\", \"EU\", \"EU\", \"EU\", \"EU\", \"EU\", \"EU\", \"EU\", \"EU\", \"EU\", \"Oceania\", \"EU\", \"EU\", \"EU\", \"Oceania\", \"EU\", \"North America\", \"EU\", \"EU\", \"EU\", \"North America\", \"EU\", \"EU\", \"EU\", \"EU\", \"EU\", \"North America\", \"Oceania\", \"North America\", \"EU\", \"Unknown\", \"EU\", \"Non-EU Europe\", \"EU\", \"EU\", \"North America\", \"EU\", \"EU\", \"North America\", \"North America\", \"North America\", \"North America\", \"North America\", \"EU\", \"Oceania\", \"EU\", \"North America\", \"North America\", \"EU\", \"Unknown\", \"North America\", \"EU\", \"EU\", \"EU\", \"Unknown\", \"Unknown\", \"EU\", \"North America\", \"EU\", \"EU\", \"EU\", \"EU\", \"EU\", \"North America\", \"EU\", \"North America\", \"North America\", \"North America\", \"Non-EU Europe\", \"North America\", \"EU\", \"EU\", \"North America\", \"Oceania\", \"North America\", \"EU\", \"EU\", \"North America\", \"Oceania\", \"North America\", \"North America\", \"EU\", \"EU\", \"North America\", \"North America\", \"EU\", \"EU\", \"EU\", \"Oceania\", \"North America\", \"North America\", \"North America\", \"Oceania\", \"EU\", \"Oceania\", \"EU\", \"Oceania\", \"North America\", \"North America\", \"North America\", \"EU\", \"North America\", \"North America\", \"EU\", \"North America\", \"North America\", \"Oceania\", \"Oceania\", \"North America\", \"EU\", \"EU\", \"EU\", \"Unknown\", \"EU\", \"North America\", \"EU\", \"EU\", \"EU\", \"EU\", \"North America\", \"North America\", \"North America\", \"EU\", \"EU\", \"Oceania\", \"EU\", \"Unknown\", \"Unknown\", \"EU\", \"Unknown\", \"North America\", \"EU\", \"Oceania\", \"EU\", \"Unknown\", \"EU\", \"EU\", \"North America\", \"EU\", \"North America\", \"EU\", \"EU\", \"EU\", \"EU\", \"EU\", \"EU\", \"EU\", \"EU\", \"EU\", \"Oceania\", \"EU\", \"North America\", \"EU\", \"EU\", \"North America\", \"North America\", \"North America\", \"EU\", \"EU\", \"EU\", \"North America\", \"Unknown\", \"North America\", \"North America\", \"Oceania\", \"North America\", \"EU\", \"North America\", \"North America\", \"Oceania\", \"EU\", \"EU\", \"EU\", \"EU\", \"North America\", \"EU\", \"North America\", \"North America\", \"EU\", \"North America\", \"Unknown\", \"Unknown\", \"EU\", \"Unknown\", \"North America\", \"EU\", \"Unknown\", \"EU\", \"EU\", \"North America\", \"EU\", \"EU\", \"North America\", \"Unknown\", \"Unknown\", \"EU\", \"EU\", \"Latin America\", \"EU\", \"Oceania\", \"Unknown\", \"North America\", \"Unknown\", \"Unknown\", \"Oceania\", \"North America\", \"Unknown\", \"Unknown\", \"Unknown\", \"Unknown\", \"Oceania\", \"EU\", \"Unknown\", \"EU\", \"North America\", \"EU\", \"EU\", \"North America\", \"North America\", \"EU\", \"North America\", \"North America\", \"EU\", \"EU\", \"EU\", \"EU\", \"EU\", \"EU\", \"EU\", \"North America\", \"EU\", \"EU\", \"North America\", \"North America\", \"North America\", \"EU\", \"EU\", \"EU\", \"North America\", \"North America\", \"EU\", \"EU\", \"North America\", \"North America\", \"Latin America\", \"North America\", \"North America\", \"EU\", \"North America\", \"North America\", \"EU\", \"Oceania\", \"North America\", \"Unknown\", \"EU\", \"EU\", \"Unknown\", \"EU\", \"North America\", \"Unknown\", \"North America\", \"Unknown\", \"Unknown\", \"EU\", \"North America\", \"EU\", \"EU\", \"EU\", \"Unknown\", \"EU\", \"EU\", \"North America\", \"Unknown\", \"EU\", \"EU\", \"North America\", \"EU\", \"North America\", \"EU\", \"Unknown\", \"North America\", \"EU\", \"North America\", \"EU\", \"Unknown\", \"Unknown\", \"EU\", \"EU\", \"EU\", \"Unknown\", \"EU\", \"North America\", \"EU\", \"Unknown\", \"Unknown\", \"Unknown\", \"Unknown\", \"Unknown\", \"Unknown\", \"Unknown\", \"Unknown\", \"Unknown\", \"Unknown\", \"North America\", \"Unknown\", \"EU\", \"EU\", \"North America\", \"EU\", \"Oceania\", \"EU\", \"Unknown\", \"Unknown\", \"Unknown\", \"Unknown\", \"EU\", \"EU\", \"EU\", \"North America\", \"EU\", \"EU\", \"EU\", \"Oceania\", \"North America\", \"EU\", \"EU\", \"North America\", \"EU\", \"EU\", \"Oceania\", \"North America\", \"EU\", \"Unknown\", \"North America\", \"Unknown\", \"EU\", \"EU\", \"Unknown\", \"Oceania\", \"Non-EU Europe\", \"Non-EU Europe\", \"EU\", \"EU\", \"EU\", \"EU\", \"EU\", \"EU\", \"North America\", \"EU\", \"EU\", \"North America\", \"Unknown\", \"EU\", \"EU\", \"EU\", \"EU\", \"EU\", \"EU\", \"EU\", \"EU\", \"North America\", \"EU\", \"EU\", \"North America\", \"EU\", \"Latin America\", \"EU\", \"EU\", \"EU\", \"North America\", \"EU\", \"EU\", \"EU\", \"North America\", \"EU\", \"Oceania\", \"EU\", \"EU\", \"EU\", \"North America\", \"North America\", \"North America\", \"North America\", \"EU\", \"EU\", \"North America\", \"North America\", \"EU\", \"EU\", \"EU\", \"EU\", \"North America\", \"EU\", \"North America\", \"EU\", \"EU\", \"EU\", \"North America\", \"Oceania\", \"Oceania\", \"Oceania\", \"Oceania\", \"Oceania\", \"EU\", \"North America\", \"Oceania\", \"North America\", \"Oceania\", \"EU\", \"North America\", \"EU\", \"North America\", \"North America\", \"EU\", \"EU\", \"Oceania\", \"Oceania\", \"North America\", \"North America\", \"EU\", \"EU\", \"EU\", \"EU\", \"North America\", \"EU\", \"EU\", \"EU\", \"EU\", \"EU\", \"EU\", \"EU\", \"EU\", \"Oceania\", \"EU\", \"Oceania\", \"EU\", \"North America\", \"EU\", \"EU\", \"EU\", \"EU\", \"EU\", \"EU\", \"EU\", \"EU\", \"North America\", \"EU\", \"North America\", \"Oceania\", \"EU\", \"EU\", \"EU\", \"North America\", \"EU\", \"Oceania\", \"EU\", \"EU\", \"EU\", \"EU\", \"North America\", \"Oceania\", \"Oceania\", \"EU\", \"North America\", \"EU\", \"EU\", \"Oceania\", \"Oceania\", \"EU\", \"EU\", \"Oceania\", \"EU\", \"Oceania\", \"North America\", \"Oceania\", \"EU\", \"EU\", \"EU\", \"Oceania\", \"EU\", \"EU\", \"EU\", \"North America\", \"North America\", \"EU\", \"EU\", \"EU\", \"Oceania\", \"North America\", \"Oceania\", \"EU\", \"Oceania\", \"EU\", \"North America\", \"EU\", \"EU\", \"Unknown\", \"EU\", \"EU\", \"EU\", \"North America\", \"EU\", \"EU\", \"EU\", \"Oceania\", \"North America\", \"EU\", \"EU\", \"North America\", \"Oceania\", \"EU\", \"EU\", \"Unknown\", \"EU\", \"EU\", \"EU\", \"EU\", \"Latin America\", \"EU\", \"Oceania\", \"EU\", \"Unknown\", \"EU\", \"EU\", \"Asia\", \"Unknown\", \"EU\", \"EU\", \"EU\", \"EU\", \"EU\", \"EU\", \"Oceania\", \"North America\", \"Oceania\", \"Asia\", \"Oceania\", \"EU\", \"Unknown\", \"EU\", \"EU\", \"EU\", \"Oceania\", \"EU\", \"EU\", \"EU\", \"EU\", \"North America\", \"EU\", \"North America\", \"EU\", \"EU\", \"Oceania\", \"Asia\", \"EU\", \"North America\", \"EU\", \"EU\", \"EU\", \"EU\", \"EU\", \"EU\", \"EU\", \"EU\", \"Oceania\", \"Oceania\", \"EU\", \"EU\", \"EU\", \"North America\", \"EU\", \"EU\", \"EU\", \"EU\", \"EU\", \"Oceania\", \"Oceania\", \"North America\", \"Oceania\", \"EU\", \"EU\", \"Unknown\", \"EU\", \"Unknown\", \"EU\", \"EU\", \"North America\", \"North America\", \"North America\", \"Oceania\", \"EU\", \"Oceania\", \"EU\", \"EU\", \"North America\", \"Oceania\", \"EU\", \"EU\", \"EU\", \"EU\", \"EU\", \"Unknown\", \"North America\", \"EU\", \"EU\", \"Oceania\", \"EU\", \"EU\", \"Unknown\", \"EU\", \"Asia\", \"EU\", \"Unknown\", \"EU\", \"Unknown\", \"Oceania\", \"EU\", \"North America\", \"EU\", \"North America\", \"EU\", \"EU\", \"Oceania\", \"EU\", \"EU\", \"EU\", \"EU\", \"Oceania\", \"EU\", \"Oceania\", \"Unknown\", \"Oceania\", \"Oceania\", \"EU\", \"Oceania\", \"North America\", \"Oceania\", \"EU\", \"Oceania\", \"Unknown\", \"Unknown\", \"North America\", \"EU\", \"North America\", \"Oceania\", \"Oceania\", \"Oceania\", \"Oceania\", \"Oceania\", \"Oceania\", \"EU\", \"EU\", \"North America\", \"EU\", \"EU\", \"EU\", \"EU\", \"EU\", \"EU\", \"Oceania\", \"EU\", \"North America\", \"North America\", \"EU\", \"Oceania\", \"Oceania\", \"Oceania\", \"Oceania\", \"Oceania\", \"Oceania\", \"Oceania\", \"Oceania\", \"Oceania\", \"Oceania\", \"North America\", \"EU\", \"North America\", \"EU\", \"North America\", \"EU\", \"North America\", \"EU\", \"North America\", \"EU\", \"North America\", \"EU\", \"EU\", \"EU\", \"EU\", \"EU\", \"North America\", \"EU\", \"EU\", \"EU\", \"North America\", \"EU\", \"North America\", \"EU\", \"EU\", \"EU\", \"EU\", \"Unknown\", \"EU\", \"EU\", \"EU\", \"Oceania\", \"EU\", \"North America\", \"EU\", \"North America\", \"EU\", \"EU\", \"Non-EU Europe\", \"EU\", \"EU\", \"EU\", \"EU\", \"North America\", \"Oceania\", \"EU\", \"EU\", \"EU\", \"EU\", \"EU\", \"North America\", \"EU\", \"North America\", \"EU\", \"North America\", \"EU\", \"North America\", \"EU\", \"EU\", \"North America\", \"North America\", \"EU\", \"EU\", \"EU\", \"EU\", \"Oceania\", \"EU\", \"EU\", \"North America\", \"North America\", \"EU\", \"Oceania\", \"EU\", \"North America\", \"North America\", \"Unknown\", \"EU\", \"EU\", \"Unknown\", \"EU\", \"EU\", \"EU\", \"North America\", \"EU\", \"Oceania\", \"EU\", \"Oceania\", \"Oceania\", \"North America\", \"North America\", \"North America\", \"Unknown\", \"Oceania\", \"EU\", \"North America\", \"EU\", \"EU\", \"EU\", \"North America\", \"North America\", \"EU\", \"Oceania\", \"North America\", \"EU\", \"North America\", \"EU\", \"Unknown\", \"North America\", \"EU\", \"EU\", \"EU\", \"EU\", \"EU\", \"EU\", \"North America\", \"EU\", \"Oceania\", \"EU\", \"EU\", \"EU\", \"North America\", \"EU\", \"North America\", \"North America\", \"EU\", \"Oceania\", \"Oceania\", \"North America\", \"Oceania\", \"EU\", \"EU\", \"North America\", \"Oceania\", \"North America\", \"North America\", \"North America\", \"EU\", \"EU\", \"EU\", \"EU\", \"EU\", \"EU\", \"North America\", \"North America\", \"EU\", \"Oceania\", \"North America\", \"North America\", \"North America\", \"EU\", \"EU\", \"EU\", \"Oceania\", \"EU\", \"North America\", \"North America\", \"EU\", \"North America\", \"North America\", \"EU\", \"North America\", \"EU\", \"North America\", \"North America\", \"EU\", \"EU\", \"North America\", \"North America\", \"North America\", \"North America\", \"North America\", \"EU\", \"North America\", \"North America\"], \"x0\": \" \", \"xaxis\": \"x\", \"y\": [470.6260850984, 110.4639757578, 283.10685997999997, 549.2590205608, 366.17341561994283, 100.714431697, 69.78518849358571, 22.007806198125, 61.06586285800001, 110.0799113794286, 105.73310701428571, 100.69812037142857, 110.76777116, 90.62834864642856, 90.62833520904762, 126.04404897, 157.55535526, 162.9827508568, 218.6174718, 85.06212746780001, 177.95551181919998, 95.60353808026, 52.763331267800005, 60.300873754, 73.98032596304999, 48.0872129882, 263.86692856999997, 100.7633019153, 91.194135785578, 96.1744259764, 320.246568306, 83.3774923721992, 97.654031161, 162.1518798956, 90.62590653414999, 80.59824395518842, 106.259480402, 250.9244539208, 98.46014416065, 103.57248749036, 111.59747190106667, 55.36375288928571, 166.44110286999998, 91.9035876895, 65.329107356, 99.654513094, 110.727989992, 291.9210181235, 119.8245445145, 116.234222995, 118.26816150171429, 311.8275163855, 123.8139789525, 39.45479964021429, 136.589829212, 66.89166408999999, 120.3404255013, 189.096480766, 149.774960872, 78.790482777, 133.339304466, 148.15478274, 131.80691422860005, 163.354968583, 106.52804376592857, 27.929597008366073, 119.5177953075, 118.566194867, 146.4261408, 83.78880615676785, 284.524294842, 114.91038348128573, 270.29822536392857, 30.92205112860714, 51.105216838357144, 174.2900411426667, 125.49480481642856, 21.026244720852, 259.62852193867855, 40.69741235128571, 72.92229527399998, 78.39096533819999, 102.203679606, 85.0753417112, 28.745077769975, 85.16829848685714, 147.1754408464, 95.5979626445, 91.89747964318572, 104.8670538073, 72.9544284804, 51.29242988346, 44.75218432999999, 179.771900972, 95.9129350114, 27.473891472000002, 127.36264133359997, 140.227973846, 107.9146876018, 63.28701944659999, 148.5899713698, 22.707465856, 113.80845320899999, 90.40964524268573, 59.74968897539999, 121.9374849864, 67.80722436856, 94.0271174608, 171.77876587999998, 78.10154333333332, 95.037291748164, 141.0744830021, 107.67703576279997, 92.41548414457144, 69.178917311178, 103.2908530892, 51.06809993628, 41.1720095836, 112.3577728284, 125.3904657908, 78.67434005213998, 226.48527059999998, 68.80250072, 181.7944032775, 159.98516079, 177.76204849, 128.768627325, 55.69739214928571, 261.7548, 93.20480782928571, 112.690676496, 35.42962230080357, 74.5417684925, 74.5417684925, 52.553936824821434, 82.49267960699999, 65.31261364767856, 54.32541696607143, 99.3888428825, 68.633199205, 64.43105308450001, 68.63335501142858, 79.41862032934999, 134.71510709375, 61.63001185357143, 130.35734410916666, 68.28321901482143, 98.4879701125, 34.764309374999996, 99.89482425928573, 108.3364944625, 98.4879701125, 155.47144475, 95.48421692767856, 173.930611375, 125.514916664, 165.96781223, 99.838224317, 96.3352006385, 91.95632187199999, 40.54532068, 201.032385741, 192.6556712685, 92.58757160399999, 90.07549600499999, 135.1132440075, 65.7119925, 101.0844451485, 118.67067301885713, 80.06706782485715, 160.134493266, 105.53784075449998, 47.79912685467856, 43.01927228185714, 70.05863428047, 90.07528739550001, 114.71794021285713, 57.190711644, 60.050254110313496, 101.57317250496429, 80.0669963016, 184.02612208199997, 92.076895548, 159.178227318, 74.91989662457142, 230.1928646985, 92.076895548, 80.42446060039286, 130.491500535, 85.78606746599999, 63.81188776992857, 60.050254110313496, 100.083745377, 75.06280903274998, 70.05868434675, 175.310834391, 76.0638217185, 80.067246633, 62.909711285142855, 57.190711644, 85.071371319, 80.067246633, 52.18654225596429, 94.6792156167, 32.5272016018125, 55.04599737449999, 200.167490754, 127.1822445927, 68.05697188949999, 80.067246633, 67.91397007725, 66.918589848, 100.377884772, 47.799171556714285, 57.1875825015, 60.872371305428565, 38.961176777678574, 41.46328382271429, 37.2534149735, 21.2677646011875, 60.050211464571426, 62.909800689214286, 66.918589848, 150.5674529865, 46.46745321075, 83.217667302, 80.067246633, 92.076895548, 66.57392105990999, 69.34783078673999, 64.33964000357143, 88.84213002000001, 82.21673502000002, 71.52548083714285, 40.709034972, 162.50698746000003, 127.17933968571428, 110.42325, 87.23364636857143, 43.557607777499996, 134.062617294, 70.55898444, 60.980640372, 42.347701980000004, 40.65378428571428, 127.00650852, 96.55282782, 55.89892791288, 92.51288321616, 46.69326, 51.67808100000001, 112.89483783, 29.219884920000005, 35.063861904, 127.00650852, 45.73548616824, 66.06238143600001, 63.013353624000004, 56.447397882000004, 67.10499025071428, 71.09501212764, 85.60418981142858, 47.32425, 138.67084944, 71.09501212764, 115.56131142857144, 85.60418981142858, 81.25144651800001, 87.0551062457143, 76.17323298857143, 72.545929884, 85.60418981142858, 76.17322637820001, 97.93700955, 60.938582364540004, 141.02121708, 63.45950562, 119.64706182, 72.18306730602, 567.84010014, 76.9952675304, 76.9952675304, 92.394351324, 76.9952675304, 76.9952675304, 82.49494151571427, 72.183068568, 72.18306255857144, 72.183068568, 92.394351324, 88.89419090160001, 76.8026241801, 154.55039986800003, 656.7179862600001, 58.729183920000004, 79.50582169714286, 47.32425, 93.57489154800001, 24.45170382, 82.2404686572, 71.96041070604, 127.83058146, 165.70554588, 62.36621028, 43.86305952000001, 157.85182368000002, 111.81163833, 112.0722372, 91.43171298, 72.18306255857144, 66.4084226619, 72.18306255857144, 82.49494151571427, 76.9952675304, 78.92014278857143, 173.23937017199998, 115.9023465, 156.02453637212, 137.2635294394, 85.10428859334999, 125.79100079962, 76.99895633128399, 113.47241392838, 71.7051614981, 120.56440811214799, 127.656432890025, 94.2407821875, 42.07178556689643, 92.19228806059999, 79.38760450321999, 51.21781640625, 99.2883731138, 371.7748049222999, 42.552139926088, 102.66939678004285, 69.66849917457857, 100.10265717777, 105.1056244108, 71.8686214519, 85.22085214864, 30.800820282752003, 102.66937180526, 98.00407612385, 99.36467107542856, 71.8686214519, 97.02266081299999, 174.3864213, 51.13254625388, 65.23844097290001, 155.4766395858, 99.1445808015, 80.3685390495, 120.38974197328, 52.97017204542143, 69.57943285521428, 80.02076519821428, 205.6518524632, 102.8258013576857, 165.1618603778, 159.3800108355, 77.1194446737, 322.6117575571429, 94.01220048740001, 59.22567875076667, 45.58981152635, 80.5993496784, 392.1467014928, 42.38008277933333, 65.689046746188, 124.54151529444, 176.2381087588, 131.1238129957, 90.81433825911428, 183.5812904674, 190.92447217600002, 146.8649449863, 483.536340786, 80.00957544685714, 90.57696704514285, 126.807579726, 43.63747629100001, 123.8175366016, 386.32726116999993, 80.24999754359997, 386.3277868032, 128.598790546, 91.8565042328, 76.77218302102857, 96.73287851965713, 109.623966758, 120.585507012, 163.918473734, 109.278762894, 98.3511030628571, 386.220539146, 447.202382808, 131.135306016, 131.209090048, 111.824970784, 119.27979315999998, 47.687930454699995, 105.7363019422, 124.23616634965715, 95.3822880621, 97.1483178978, 150.138414036, 167.8015877265, 84.90594884056073, 72.35489219399999, 113.700271035, 90.6322371201, 87.99239343375, 203.7742279259143, 170.76917835565715, 39.622798489299996, 35.06984709470357, 80.45018828228571, 98.19551435849999, 105.947844774525, 135.5083338102, 27.213904446767998, 76.02542792676, 31.009126141421998, 143.42767318035, 87.9921059004, 124.03646513254286, 89.8524466749, 103.4999295993, 82.2178611657, 143.58754172295, 116.10855453015, 149.75426948039998, 172.65802600799992, 140.7377986911, 132.1359509925, 120.683928962025, 102.8196256932, 341.5505152644, 112.59012393953999, 139.7251062324, 74.24768316085714, 80.60278633875, 100.602168498, 134.55036853245, 97.10541792197999, 126.49655939895, 64.37296639799999, 64.07142606623572, 88.892821371276, 41.3455705299, 90.96008264576999, 73.83125271767143, 349.8930078813, 86.825548595448, 63.3545232723, 83.724639431706, 113.6998876572, 262.8393286829143, 129.52480313448, 112.5071993214, 100.4265292753, 109.5567775906, 104.19932327720001, 72.5048766086, 122.6322408732, 94.2973449471857, 88.68834740625714, 122.6322408732, 39.98201631140358, 102.5954361674, 137.5258327323714, 45.413542529775, 95.05158477763999, 155.6210852209, 52.80671164059999, 80.13720671164286, 76.915479329848, 73.92890012139999, 83.23921877346667, 79.652643548994, 41.74223560261905, 29.571609666104, 38.2846643681625, 97.715550715, 74.165191270314, 35.855578580809, 87.80264766502998, 27.705171322228, 90.52525976734286, 90.5253483701, 41.490788361410715, 38.02062150667, 148.4205717301375, 39.22765243708928, 31.155804813129, 43.565289015775, 33.94699456344286, 39.6048011482125, 197.8939922703, 149.58945252840002, 45.75750581656666, 122.0740435032, 79.195802417, 144.6884796198, 143.6167406694, 100.16346768934285, 116.1534300654, 82.67904260855713, 78.44126133717143, 93.1339907459, 162.77389720228572, 325.54814881560003, 147.83175103219997, 77.51164120922859, 96.1817483861, 142.87961003135, 137.27225164142857, 68.6359486152, 85.90874601055, 116.15347436677857, 84.47510909859999, 105.5941964829, 93.52614654901427, 118.8510296093714, 131.9925905488, 129.18600961354286, 58.0767150327, 56.56825309234286, 86.1695482262, 142.55194817516, 84.47510909859999, 79.00698994152857, 93.97872943249999, 121.0072663072, 65.7649534755, 69.52259640592857, 63.88591050339285, 126.735611762, 71.8511654664, 108.84174005004357, 71.66589710121428, 63.367805881, 77.55213266924285, 95.05162021874285, 42.245307290549995, 116.17420741195, 211.2256061238, 103.500633831364, 113.53393385185, 211.2256061238, 126.73548771813998, 120.70052356197142, 111.64797986468571, 98.54019429628, 114.9626090094, 166.47802406739999, 42.24520392066667, 93.40719734755, 99.52535063239999, 49.034537858, 78.98926939009999, 122.0740435032, 126.71297375755, 98.05162097284287, 129.2549425586, 114.04170739276, 59.75474049953929, 71.80824629084, 112.6336855379, 131.9925905488, 105.59407243903999, 105.66073715351429, 64.41145775738572, 71.56830116422142, 100.19560833949643, 200.3909951721, 114.50931730385715, 68.70553722065999, 93.03878708335, 108.67672737831428, 78.3049651254, 114.63161448999001, 88.57897711137001, 140.6842017483, 122.81960485367142, 89.32334247535714, 138.93349932, 103.1686485102, 132.49633310537143, 130.2631868931, 145.8947091759, 58.57915051892143, 98.2603665519, 100.9423604747472, 137.3772636945, 119.8421720379, 117.28872124450713, 258.29326337415, 114.20216935382143, 156.315222828, 101.6053960413, 94.8316361448, 47.87926753110001, 143.20859034900002, 151.9406591641, 144.9549090484, 114.37348571508572, 116.6359319685, 115.82171206320002, 107.1785277328, 420.82093312499995, 160.38231897799997, 145.5574211144, 133.6752788517143, 83.17546719740001, 162.35852705279999, 161.152791754, 273.2915614978286, 158.88122548464864, 115.9426270512, 64.971954684, 147.3674019024, 31.681516830357143, 85.35996301890953, 67.566296301, 38.017820196428566, 357.0434020983, 138.53271984984002, 122.13042345861, 120.7860200412, 120.7860200412, 113.68091393994, 106.57585137647, 84.42187190989, 78.14303279126, 66.23119741321071, 79.330249088618, 108.1776525856, 36.79511445877143, 131.32231344515998, 111.6241191581, 88.30820580042858, 81.6730184021, 152.5279500094, 144.0538624042, 143.4473646715, 68.651381096286, 71.51185123997999, 61.71548760695715, 96.1119582722, 75.80252065139, 96.0019419424, 76.00685761693929, 71.4113392795, 147.6043740738, 79.290523578609, 110.4778807356, 67.3799983878, 165.1884336375, 92.50566651816, 103.6616465052, 90.07343697315001, 106.19847850042501, 279.7110929712, 152.92582135614, 139.57513730745, 105.92598974621998, 66.9784608603, 126.514853409, 88.8500175531, 115.72899095865, 96.611211984, 66.62847408041999, 50.604555866700004, 103.43197217094, 71.9831835513, 182.9291056656, 313.576947642, 100.7765288124, 102.2953926177, 79.33455826212, 100.21541796231, 114.9751010436, 117.35403000972, 122.8872633219, 113.9118604596, 418.945526328, 380.8596533586, 403.2630869169, 403.26308691689997, 326.4510874662, 96.73680135154, 170.670330765, 296.27857968719997, 66.68461351034999, 310.22462094855, 45.524556000000004, 43.71546976005, 98.54510951670001, 48.1611323391, 48.902044488, 65.80803791064649, 60.221261809800026, 262.070847028, 297.2023629517143, 80.77806024014285, 72.39544898348214, 83.86398483798001, 206.11329392239995, 121.73804588379001, 132.2619160808, 117.4321077147, 88.48853328850001, 93.404797917, 161.518604735, 94.8452839525, 109.1659342813, 193.254851626, 115.512858273, 66.5163543349, 310.588572753, 83.62143688433927, 359.99391088321426, 156.2372564535, 71.99878217664285, 102.687145176, 101.312629473, 164.296263175, 101.312629473, 153.995318169, 36.22659696700001, 156.387319374, 84.528838636, 86.282635714, 102.663545446, 113.246001517, 351.103634519, 146.631528131, 161.780194818, 95.21903469885714, 97.068049463, 146.631528131, 360.593085952, 86.253978899, 95.34230234980001, 94.5585890304, 113.66843668400001, 86.61370621200001, 47.353907590137496, 157.07643149, 109.4061905904, 91.06306204246428, 108.6836679995, 145.87487583533334, 316.79266135, 197.99542538442856, 111.1427261516, 180.897998952, 91.24289860743751, 143.703813055, 263.9939245939286, 100.345040543, 382.366871128, 152.40358862457143, 125.982775798, 108.68365595882142, 289.7333313387857, 113.668436684, 107.353823214, 89.116289009, 79.03977021089285, 79.21971815214286, 99.46015180970001, 142.01306097, 130.07159759, 250.9717380680714, 67.93302687285714, 397.592068368, 118.423782279, 178.98247147942857, 101.1247756222, 86.26361144185715, 94.80640867133333, 69.0176800962, 72.99942654179999, 160.717869829, 84.27054521013333, 127.41716738740001, 61.13972418557143, 87.5993320785, 66.363115038, 86.27218440499999, 168.41523482614284, 62.271933273, 102.99556667598, 143.800234809, 67.93302687285714, 351.7345179134286, 116.79909595244, 109.964964769, 100.38988003, 173.4580155, 135.341754438, 107.54811160342857, 135.341417299, 105.673522438, 162.838137, 427.63722177, 121.61255532066667, 46.99310685064285, 105.2451873385, 95.22182813628571, 79.2950928, 50.71339959360714, 103.44326703963999, 150.35031578914285, 152.02091980533334, 96.00990499759999, 157.868033862, 126.8702942155, 361.84697332080003, 56.39169932314286, 391.041457598, 93.80892675, 382.894830802, 134.41394791, 65.7903495909, 36.83580714, 102.8677842522, 104.5136294224, 381.937693181, 94.29950445168001, 104.24289717285714, 145.338600066, 99.43882776795, 78.32186883242856, 125.70954336844446, 62.65747580085714, 119.02730323137497, 152.02080742566667, 253.40250544179997, 79.2950928, 82.27857066660002, 147.02651055085715, 100.2047232912, 133.091351613, 140.69282464600002, 117.869862902, 178.769303306, 192.52052883800002, 110.01182709, 96.26026441900001, 401.2685691630001, 31.99111971, 137.514952432, 89.05656724328573, 99.01098152, 82.452399535, 95.47025141657143, 119.33781427071428, 189.935346986, 88.97523005139999, 150.2350722798, 400.0167593947, 467.9986051311429, 64.06637955, 259.9992110784536, 66.07633975735, 52.86107180588, 103.69063062346963, 84.57765219448001, 124.42874835152143, 62.92983805835, 71.338991198, 93.5905966751, 94.70495703708927, 72.792729841, 346.12988101375, 149.3142405248, 427.6985293232, 129.5096964562, 81.93466913598, 46.42399882199286, 285.99914758014285, 84.32601042722, 72.68399332524999, 129.98719670158, 119.2676962808, 126.48903243411428, 76.31630234759, 59.27413599099999, 74.00550131191858, 82.287093, 346.6496611512, 92.50691484462, 112.99056253645, 24.9575412964914, 72.99821246752, 176.7824558548, 62.442141658460706, 112.5783993624643, 82.95322661, 32.860762824599995, 311.86903408944283, 85.89924560298799, 65.36499022941072, 89.203060631639, 133.70107630345714, 100.6876625247, 138.15779004242856, 301.57028380868, 86.84321178642, 47.021195999999996, 76.648554118526, 66.07633975735, 431.3387535802, 66.36205883026666, 274.31012607545716, 99.543002039874, 245.6990717722, 350.9989538483572, 77.1771648365848, 370.8534299489, 78.7605033, 488.495368378, 69.259329904446, 43.14790334816, 90.80021862455861, 102.7330845507, 58.70456376564285, 78.262991617289, 90.5158023, 359.56557201699286, 359.5656000058, 335.60583762877144, 342.1011441248, 251.6958416354, 293.22944015174284, 146.90824429414, 81.8086523307, 129.5934949447857, 88.5424794412, 150.78516429538573, 85.58468947548002, 182.49513932549996, 165.9048858468, 59.25178692849643, 214.49936068510715, 80.55013001976, 103.9897260138, 24.04761924265, 92.5067581073, 267.17264438834286, 270.99513175745716, 338.74394268562855, 272.17337657175, 371.146136894, 296.91690951519996, 340.2167696951, 272.1735724934, 340.21676969509997, 331.3799755711143, 98.55601735505715, 117.09797443492, 106.1373683112, 114.40606786461998, 72.02167527725715, 102.6918515072, 90.52692579437144, 139.7875523804, 95.69131072275, 165.67450811700002, 95.69122795088572, 140.8772715643429, 110.3639204266, 93.06680804060001, 87.62076701243001, 81.11121237255, 109.4662319678, 151.8908958262, 73.96162705114288, 172.577129786, 163.4407162249, 113.2323517928, 106.3235498246, 155.3194168074, 97.0569637116, 77.6597084037, 148.4164088697, 94.3608081856, 88.26104600955, 233.9119641216, 146.69075345245, 489.0887927156001, 119.4868145832, 127.588414297, 154.28421669140002, 95.69122795088572, 182.26905291894286, 97.05688645786003, 154.1691086188, 131.15875107234285, 94.3608081856, 142.66383787683333, 94.5029550672, 148.852506232, 691.104232666, 143.23909497612001, 80.53599390013333, 189.8348427646, 118.6250491135, 74.20824306172, 111.6397659427, 86.28856489300001, 87.1853704519143, 89.7402619962, 44.257219138375014, 121.3212046395, 75.7874640148, 144.9647117665, 109.58700531466667, 102.80329002715, 121.2088004478, 186.38314566140002, 97.00752131800002, 131.1586958911, 77.659804970875, 354.0577531070001, 450.4267722639, 71.49629466401429, 105.2605383622, 154.8588741545143, 157.78491473825716, 489.0887927156, 170.11779559997, 121.51273873345714, 104.80474129619999, 93.28250048267999, 96.2865231988286, 170.11783422684, 128.06120718580001, 95.70884732173, 130.16593015085715, 114.97133348020002, 110.56420074755, 104.8143980137, 329.7259151566, 147.18749500065002, 593.27009633, 269.6688576806, 118.6544055347, 107.86763136222858, 67.95658347845715, 75.27905715186003, 376.82972768431426, 91.32716969641, 95.38066791608573, 122.64974824252859, 82.1180217391, 114.3336038565, 95.53473394614286, 91.6824210198, 101.75580656649001, 465.3468422513429, 118.6482252355, 98.54183209689334, 107.861671788, 78.69660810197999, 93.8493884268, 101.25758064285715, 123.177225743, 116.3340894538, 85.53979846879801, 80.65676724699999, 66.95672694850715, 125.11969378156, 98.61649599722857, 175.2137999322, 360.7208330007571, 118.14425494448572, 154.18826754632, 116.39208494004286, 98.61649599722857, 109.4909531646, 109.1053466395143, 59.01584260452857, 82.11840800780001, 302.79346800220713, 234.16027971445718, 107.861671788, 316.2509315571, 91.97243155976, 176.8932962398, 78.19984080253333, 27.142068280227498, 107.86183733172858, 154.08832327925714, 33.0326852686625, 67.58250983312857, 91.6986443052, 89.37981811785714, 68.43174916070001, 91.89420662988572, 88.96138978952, 85.21087522, 94.65337913522856, 63.202153798575004, 324.4877253159, 141.5126283946, 126.35100251655, 113.21204509542858, 163.7497311849, 172.368544688, 165.47364839300002, 278.1322256225714, 132.96968910042855, 96.02838534474286, 90.97446774644, 134.44715584168, 85.92034045941429, 75.81229557408572, 131.9034219447, 103.10384570262002, 123.1200579754, 80.86647252423, 66.71477320113901, 100.8304226419, 90.9747767614, 70.758075582572, 62.204289642579596, 54.17794588706321, 48.15817586433498, 58.1911339881068, 94.81139062415, 45.14828977141851, 51.16806311605755], \"y0\": \" \", \"yaxis\": \"y\"}],\n",
       "                        {\"boxmode\": \"group\", \"legend\": {\"tracegroupgap\": 0}, \"margin\": {\"t\": 60}, \"template\": {\"data\": {\"bar\": [{\"error_x\": {\"color\": \"#2a3f5f\"}, \"error_y\": {\"color\": \"#2a3f5f\"}, \"marker\": {\"line\": {\"color\": \"#E5ECF6\", \"width\": 0.5}}, \"type\": \"bar\"}], \"barpolar\": [{\"marker\": {\"line\": {\"color\": \"#E5ECF6\", \"width\": 0.5}}, \"type\": \"barpolar\"}], \"carpet\": [{\"aaxis\": {\"endlinecolor\": \"#2a3f5f\", \"gridcolor\": \"white\", \"linecolor\": \"white\", \"minorgridcolor\": \"white\", \"startlinecolor\": \"#2a3f5f\"}, \"baxis\": {\"endlinecolor\": \"#2a3f5f\", \"gridcolor\": \"white\", \"linecolor\": \"white\", \"minorgridcolor\": \"white\", \"startlinecolor\": \"#2a3f5f\"}, \"type\": \"carpet\"}], \"choropleth\": [{\"colorbar\": {\"outlinewidth\": 0, \"ticks\": \"\"}, \"type\": \"choropleth\"}], \"contour\": [{\"colorbar\": {\"outlinewidth\": 0, \"ticks\": \"\"}, \"colorscale\": [[0.0, \"#0d0887\"], [0.1111111111111111, \"#46039f\"], [0.2222222222222222, \"#7201a8\"], [0.3333333333333333, \"#9c179e\"], [0.4444444444444444, \"#bd3786\"], [0.5555555555555556, \"#d8576b\"], [0.6666666666666666, \"#ed7953\"], [0.7777777777777778, \"#fb9f3a\"], [0.8888888888888888, \"#fdca26\"], [1.0, \"#f0f921\"]], \"type\": \"contour\"}], \"contourcarpet\": [{\"colorbar\": {\"outlinewidth\": 0, \"ticks\": \"\"}, \"type\": \"contourcarpet\"}], \"heatmap\": [{\"colorbar\": {\"outlinewidth\": 0, \"ticks\": \"\"}, \"colorscale\": [[0.0, \"#0d0887\"], [0.1111111111111111, \"#46039f\"], [0.2222222222222222, \"#7201a8\"], [0.3333333333333333, \"#9c179e\"], [0.4444444444444444, \"#bd3786\"], [0.5555555555555556, \"#d8576b\"], [0.6666666666666666, \"#ed7953\"], [0.7777777777777778, \"#fb9f3a\"], [0.8888888888888888, \"#fdca26\"], [1.0, \"#f0f921\"]], \"type\": \"heatmap\"}], \"heatmapgl\": [{\"colorbar\": {\"outlinewidth\": 0, \"ticks\": \"\"}, \"colorscale\": [[0.0, \"#0d0887\"], [0.1111111111111111, \"#46039f\"], [0.2222222222222222, \"#7201a8\"], [0.3333333333333333, \"#9c179e\"], [0.4444444444444444, \"#bd3786\"], [0.5555555555555556, \"#d8576b\"], [0.6666666666666666, \"#ed7953\"], [0.7777777777777778, \"#fb9f3a\"], [0.8888888888888888, \"#fdca26\"], [1.0, \"#f0f921\"]], \"type\": \"heatmapgl\"}], \"histogram\": [{\"marker\": {\"colorbar\": {\"outlinewidth\": 0, \"ticks\": \"\"}}, \"type\": \"histogram\"}], \"histogram2d\": [{\"colorbar\": {\"outlinewidth\": 0, \"ticks\": \"\"}, \"colorscale\": [[0.0, \"#0d0887\"], [0.1111111111111111, \"#46039f\"], [0.2222222222222222, \"#7201a8\"], [0.3333333333333333, \"#9c179e\"], [0.4444444444444444, \"#bd3786\"], [0.5555555555555556, \"#d8576b\"], [0.6666666666666666, \"#ed7953\"], [0.7777777777777778, \"#fb9f3a\"], [0.8888888888888888, \"#fdca26\"], [1.0, \"#f0f921\"]], \"type\": \"histogram2d\"}], \"histogram2dcontour\": [{\"colorbar\": {\"outlinewidth\": 0, \"ticks\": \"\"}, \"colorscale\": [[0.0, \"#0d0887\"], [0.1111111111111111, \"#46039f\"], [0.2222222222222222, \"#7201a8\"], [0.3333333333333333, \"#9c179e\"], [0.4444444444444444, \"#bd3786\"], [0.5555555555555556, \"#d8576b\"], [0.6666666666666666, \"#ed7953\"], [0.7777777777777778, \"#fb9f3a\"], [0.8888888888888888, \"#fdca26\"], [1.0, \"#f0f921\"]], \"type\": \"histogram2dcontour\"}], \"mesh3d\": [{\"colorbar\": {\"outlinewidth\": 0, \"ticks\": \"\"}, \"type\": \"mesh3d\"}], \"parcoords\": [{\"line\": {\"colorbar\": {\"outlinewidth\": 0, \"ticks\": \"\"}}, \"type\": \"parcoords\"}], \"pie\": [{\"automargin\": true, \"type\": \"pie\"}], \"scatter\": [{\"marker\": {\"colorbar\": {\"outlinewidth\": 0, \"ticks\": \"\"}}, \"type\": \"scatter\"}], \"scatter3d\": [{\"line\": {\"colorbar\": {\"outlinewidth\": 0, \"ticks\": \"\"}}, \"marker\": {\"colorbar\": {\"outlinewidth\": 0, \"ticks\": \"\"}}, \"type\": \"scatter3d\"}], \"scattercarpet\": [{\"marker\": {\"colorbar\": {\"outlinewidth\": 0, \"ticks\": \"\"}}, \"type\": \"scattercarpet\"}], \"scattergeo\": [{\"marker\": {\"colorbar\": {\"outlinewidth\": 0, \"ticks\": \"\"}}, \"type\": \"scattergeo\"}], \"scattergl\": [{\"marker\": {\"colorbar\": {\"outlinewidth\": 0, \"ticks\": \"\"}}, \"type\": \"scattergl\"}], \"scattermapbox\": [{\"marker\": {\"colorbar\": {\"outlinewidth\": 0, \"ticks\": \"\"}}, \"type\": \"scattermapbox\"}], \"scatterpolar\": [{\"marker\": {\"colorbar\": {\"outlinewidth\": 0, \"ticks\": \"\"}}, \"type\": \"scatterpolar\"}], \"scatterpolargl\": [{\"marker\": {\"colorbar\": {\"outlinewidth\": 0, \"ticks\": \"\"}}, \"type\": \"scatterpolargl\"}], \"scatterternary\": [{\"marker\": {\"colorbar\": {\"outlinewidth\": 0, \"ticks\": \"\"}}, \"type\": \"scatterternary\"}], \"surface\": [{\"colorbar\": {\"outlinewidth\": 0, \"ticks\": \"\"}, \"colorscale\": [[0.0, \"#0d0887\"], [0.1111111111111111, \"#46039f\"], [0.2222222222222222, \"#7201a8\"], [0.3333333333333333, \"#9c179e\"], [0.4444444444444444, \"#bd3786\"], [0.5555555555555556, \"#d8576b\"], [0.6666666666666666, \"#ed7953\"], [0.7777777777777778, \"#fb9f3a\"], [0.8888888888888888, \"#fdca26\"], [1.0, \"#f0f921\"]], \"type\": \"surface\"}], \"table\": [{\"cells\": {\"fill\": {\"color\": \"#EBF0F8\"}, \"line\": {\"color\": \"white\"}}, \"header\": {\"fill\": {\"color\": \"#C8D4E3\"}, \"line\": {\"color\": \"white\"}}, \"type\": \"table\"}]}, \"layout\": {\"annotationdefaults\": {\"arrowcolor\": \"#2a3f5f\", \"arrowhead\": 0, \"arrowwidth\": 1}, \"coloraxis\": {\"colorbar\": {\"outlinewidth\": 0, \"ticks\": \"\"}}, \"colorscale\": {\"diverging\": [[0, \"#8e0152\"], [0.1, \"#c51b7d\"], [0.2, \"#de77ae\"], [0.3, \"#f1b6da\"], [0.4, \"#fde0ef\"], [0.5, \"#f7f7f7\"], [0.6, \"#e6f5d0\"], [0.7, \"#b8e186\"], [0.8, \"#7fbc41\"], [0.9, \"#4d9221\"], [1, \"#276419\"]], \"sequential\": [[0.0, \"#0d0887\"], [0.1111111111111111, \"#46039f\"], [0.2222222222222222, \"#7201a8\"], [0.3333333333333333, \"#9c179e\"], [0.4444444444444444, \"#bd3786\"], [0.5555555555555556, \"#d8576b\"], [0.6666666666666666, \"#ed7953\"], [0.7777777777777778, \"#fb9f3a\"], [0.8888888888888888, \"#fdca26\"], [1.0, \"#f0f921\"]], \"sequentialminus\": [[0.0, \"#0d0887\"], [0.1111111111111111, \"#46039f\"], [0.2222222222222222, \"#7201a8\"], [0.3333333333333333, \"#9c179e\"], [0.4444444444444444, \"#bd3786\"], [0.5555555555555556, \"#d8576b\"], [0.6666666666666666, \"#ed7953\"], [0.7777777777777778, \"#fb9f3a\"], [0.8888888888888888, \"#fdca26\"], [1.0, \"#f0f921\"]]}, \"colorway\": [\"#636efa\", \"#EF553B\", \"#00cc96\", \"#ab63fa\", \"#FFA15A\", \"#19d3f3\", \"#FF6692\", \"#B6E880\", \"#FF97FF\", \"#FECB52\"], \"font\": {\"color\": \"#2a3f5f\"}, \"geo\": {\"bgcolor\": \"white\", \"lakecolor\": \"white\", \"landcolor\": \"#E5ECF6\", \"showlakes\": true, \"showland\": true, \"subunitcolor\": \"white\"}, \"hoverlabel\": {\"align\": \"left\"}, \"hovermode\": \"closest\", \"mapbox\": {\"style\": \"light\"}, \"paper_bgcolor\": \"white\", \"plot_bgcolor\": \"#E5ECF6\", \"polar\": {\"angularaxis\": {\"gridcolor\": \"white\", \"linecolor\": \"white\", \"ticks\": \"\"}, \"bgcolor\": \"#E5ECF6\", \"radialaxis\": {\"gridcolor\": \"white\", \"linecolor\": \"white\", \"ticks\": \"\"}}, \"scene\": {\"xaxis\": {\"backgroundcolor\": \"#E5ECF6\", \"gridcolor\": \"white\", \"gridwidth\": 2, \"linecolor\": \"white\", \"showbackground\": true, \"ticks\": \"\", \"zerolinecolor\": \"white\"}, \"yaxis\": {\"backgroundcolor\": \"#E5ECF6\", \"gridcolor\": \"white\", \"gridwidth\": 2, \"linecolor\": \"white\", \"showbackground\": true, \"ticks\": \"\", \"zerolinecolor\": \"white\"}, \"zaxis\": {\"backgroundcolor\": \"#E5ECF6\", \"gridcolor\": \"white\", \"gridwidth\": 2, \"linecolor\": \"white\", \"showbackground\": true, \"ticks\": \"\", \"zerolinecolor\": \"white\"}}, \"shapedefaults\": {\"line\": {\"color\": \"#2a3f5f\"}}, \"ternary\": {\"aaxis\": {\"gridcolor\": \"white\", \"linecolor\": \"white\", \"ticks\": \"\"}, \"baxis\": {\"gridcolor\": \"white\", \"linecolor\": \"white\", \"ticks\": \"\"}, \"bgcolor\": \"#E5ECF6\", \"caxis\": {\"gridcolor\": \"white\", \"linecolor\": \"white\", \"ticks\": \"\"}}, \"title\": {\"x\": 0.05}, \"xaxis\": {\"automargin\": true, \"gridcolor\": \"white\", \"linecolor\": \"white\", \"ticks\": \"\", \"title\": {\"standoff\": 15}, \"zerolinecolor\": \"white\", \"zerolinewidth\": 2}, \"yaxis\": {\"automargin\": true, \"gridcolor\": \"white\", \"linecolor\": \"white\", \"ticks\": \"\", \"title\": {\"standoff\": 15}, \"zerolinecolor\": \"white\", \"zerolinewidth\": 2}}}, \"xaxis\": {\"anchor\": \"y\", \"domain\": [0.0, 1.0], \"title\": {\"text\": \"Origin_region\"}}, \"yaxis\": {\"anchor\": \"x\", \"domain\": [0.0, 1.0], \"title\": {\"text\": \"Gram_Price\"}}},\n",
       "                        {\"responsive\": true}\n",
       "                    ).then(function(){\n",
       "                            \n",
       "var gd = document.getElementById('85545a00-cc8c-48c2-a545-45ccca65d8d0');\n",
       "var x = new MutationObserver(function (mutations, observer) {{\n",
       "        var display = window.getComputedStyle(gd).display;\n",
       "        if (!display || display === 'none') {{\n",
       "            console.log([gd, 'removed!']);\n",
       "            Plotly.purge(gd);\n",
       "            observer.disconnect();\n",
       "        }}\n",
       "}});\n",
       "\n",
       "// Listen for the removal of the full notebook cells\n",
       "var notebookContainer = gd.closest('#notebook-container');\n",
       "if (notebookContainer) {{\n",
       "    x.observe(notebookContainer, {childList: true});\n",
       "}}\n",
       "\n",
       "// Listen for the clearing of the current output cell\n",
       "var outputEl = gd.closest('.output');\n",
       "if (outputEl) {{\n",
       "    x.observe(outputEl, {childList: true});\n",
       "}}\n",
       "\n",
       "                        })\n",
       "                };\n",
       "                });\n",
       "            </script>\n",
       "        </div>"
      ]
     },
     "metadata": {},
     "output_type": "display_data"
    }
   ],
   "source": [
    "# Boxplot of Gram_Price by Region\n",
    "regionpricefig = px.box(dfcoca, x=\"Origin_region\", y=\"Gram_Price\", points=\"all\")\n",
    "regionpricefig.show()"
   ]
  },
  {
   "cell_type": "code",
   "execution_count": null,
   "metadata": {},
   "outputs": [],
   "source": []
  },
  {
   "cell_type": "code",
   "execution_count": 96,
   "metadata": {},
   "outputs": [
    {
     "data": {
      "application/vnd.plotly.v1+json": {
       "config": {
        "plotlyServerURL": "https://plot.ly"
       },
       "data": [
        {
         "alignmentgroup": "True",
         "hovertemplate": "Origin=%{x}<br>Gram_Price=%{y}<extra></extra>",
         "legendgroup": "",
         "marker": {
          "color": "#636efa"
         },
         "name": "",
         "notched": false,
         "offsetgroup": "",
         "orientation": "v",
         "showlegend": false,
         "type": "box",
         "x": [
          "Australia",
          "United States",
          "Australia",
          "Australia",
          "Australia",
          "United States",
          "United Kingdom",
          "United States",
          "Unknown",
          "United States",
          "United Kingdom",
          "United Kingdom",
          "United Kingdom",
          "United Kingdom",
          "United Kingdom",
          "United States",
          "United States",
          "Germany",
          "Australia",
          "United States",
          "Australia",
          "Netherlands",
          "United States",
          "United States",
          "United States",
          "United States",
          "Australia",
          "Unknown",
          "Germany",
          "Canada",
          "Australia",
          "Germany",
          "Canada",
          "United Kingdom",
          "Canada",
          "Germany",
          "Unknown",
          "Australia",
          "Unknown",
          "Czech Republic",
          "Greece",
          "Panama",
          "United Kingdom",
          "Germany",
          "Panama",
          "Germany",
          "Czech Republic",
          "Australia",
          "Canada",
          "United Kingdom",
          "United States",
          "Australia",
          "Canada",
          "Panama",
          "United Kingdom",
          "United Kingdom",
          "Germany",
          "Sweden",
          "United Kingdom",
          "United Kingdom",
          "Germany",
          "France",
          "Germany",
          "United Kingdom",
          "United States",
          "Panama",
          "United States",
          "Germany",
          "United Kingdom",
          "United States",
          "Australia",
          "United States",
          "Australia",
          "Panama",
          "United States",
          "Sweden",
          "United Kingdom",
          "Panama",
          "Australia",
          "United Kingdom",
          "France",
          "Germany",
          "United Kingdom",
          "France",
          "United States",
          "Germany",
          "Belgium",
          "Germany",
          "United Kingdom",
          "United Kingdom",
          "United States",
          "Netherlands",
          "United States",
          "United Kingdom",
          "Greece",
          "Unknown",
          "United Kingdom",
          "France",
          "Netherlands",
          "Belgium",
          "United Kingdom",
          "Unknown",
          "France",
          "Unknown",
          "Netherlands",
          "France",
          "Germany",
          "Unknown",
          "United Kingdom",
          null,
          "Germany",
          "France",
          "United States",
          "United States",
          "Germany",
          "Netherlands",
          "Belgium",
          "Belgium",
          "United Kingdom",
          "Germany",
          "Germany",
          "United Kingdom",
          "Spain",
          "Australia",
          "United Kingdom",
          "United Kingdom",
          "United Kingdom",
          "United States",
          "Unknown",
          "United States",
          "Netherlands",
          "United Kingdom",
          "United States",
          "United States",
          "United Kingdom",
          "Germany",
          "United States",
          "United Kingdom",
          "United States",
          "United States",
          "Colombia",
          "United States",
          "Germany",
          "Netherlands",
          "United States",
          "United Kingdom",
          "United States",
          "Canada",
          "Unknown",
          "United States",
          "United States",
          "United States",
          "Ireland",
          "United States",
          "United Kingdom",
          "Germany",
          "United States",
          "Mexico",
          "Mexico",
          "Mexico",
          "Spain",
          "United Kingdom",
          "United Kingdom",
          "United States",
          "United States",
          "United States",
          "Germany",
          "Germany",
          "United States",
          "United States",
          "United Kingdom",
          "Greece",
          "United Kingdom",
          "United Kingdom",
          "Bolivia",
          "United States",
          "United Kingdom",
          "Canada",
          "Croatia",
          "United Kingdom",
          "United States",
          "United Kingdom",
          "United States",
          "United Kingdom",
          "Argentina",
          "Australia",
          "United States",
          "Canada",
          "United Kingdom",
          "United States",
          "United Kingdom",
          "Croatia",
          "United States",
          "United Kingdom",
          "Mexico",
          "United Kingdom",
          "Bolivia",
          "Argentina",
          "Mexico",
          "Mexico",
          "United States",
          "Mexico",
          "Mexico",
          "Germany",
          "United States",
          "United States",
          "Australia",
          "United Kingdom",
          "Argentina",
          "United States",
          "United States",
          "United Kingdom",
          "United Kingdom",
          "United Kingdom",
          "United States",
          "United States",
          "United States",
          "United States",
          "Unknown",
          "United States",
          "Canada",
          "United States",
          "United Kingdom",
          "United Kingdom",
          "Mexico",
          "Mexico",
          "United States",
          "United States",
          "Mexico",
          "Mexico",
          "United States",
          "Croatia",
          "United States",
          "United States",
          "Unknown",
          "Germany",
          "France",
          "Germany",
          "Croatia",
          "United States",
          "Germany",
          "Netherlands",
          "Germany",
          "Unknown",
          "Unknown",
          "Spain",
          "Unknown",
          "Croatia",
          "United Kingdom",
          "Belgium",
          "Belgium",
          "Germany",
          "Unknown",
          "Unknown",
          "France",
          "Croatia",
          "Germany",
          "Germany",
          "Netherlands",
          "Canada",
          "Croatia",
          "Croatia",
          "Luxembourg",
          "France",
          "Croatia",
          "United Kingdom",
          "Croatia",
          "Croatia",
          "Croatia",
          "Croatia",
          "Croatia",
          "Croatia",
          "Croatia",
          "United States",
          "Croatia",
          "France",
          "Netherlands",
          "United Kingdom",
          "Australia",
          "Croatia",
          "Croatia",
          "Croatia",
          "Croatia",
          "Croatia",
          "Croatia",
          "Canada",
          "Croatia",
          "Croatia",
          "Croatia",
          "Croatia",
          "Croatia",
          "Croatia",
          "France",
          "Croatia",
          "Netherlands",
          "Croatia",
          "Luxembourg",
          "Croatia",
          "Australia",
          "Croatia",
          "Croatia",
          "United Kingdom",
          "Australia",
          "United Kingdom",
          "United States",
          "France",
          "France",
          "France",
          "United States",
          "Croatia",
          "Croatia",
          "Croatia",
          "Croatia",
          "Croatia",
          "United States",
          "Australia",
          "Canada",
          "Germany",
          "Unknown",
          "Germany",
          "Norway",
          "Netherlands",
          "Spain",
          "United States",
          "Germany",
          "Germany",
          "Canada",
          "United States",
          "United States",
          "United States",
          "Canada",
          "Germany",
          "Australia",
          "Germany",
          "United States",
          "United States",
          "Netherlands",
          "Unknown",
          "United States",
          "Netherlands",
          "Germany",
          "Netherlands",
          "Unknown",
          "Unknown",
          "Germany",
          "United States",
          "Germany",
          "Germany",
          "United Kingdom",
          "Sweden",
          "France",
          "United States",
          "Germany",
          "United States",
          "United States",
          "United States",
          "Norway",
          "United States",
          "France",
          "Sweden",
          "United States",
          "Australia",
          "Canada",
          "United Kingdom",
          "United Kingdom",
          "United States",
          "Australia",
          "United States",
          "Canada",
          "Spain",
          "Germany",
          "United States",
          "United States",
          "France",
          "Germany",
          "France",
          "Australia",
          "United States",
          "United States",
          "United States",
          "Australia",
          "Netherlands",
          "Australia",
          "United Kingdom",
          "Australia",
          "United States",
          "Canada",
          "United States",
          "Spain",
          "United States",
          "United States",
          "United Kingdom",
          "Canada",
          "United States",
          "Australia",
          "Australia",
          "Canada",
          "Spain",
          "Spain",
          "Spain",
          "Unknown",
          "Germany",
          "Canada",
          "United Kingdom",
          "United Kingdom",
          "United Kingdom",
          "United Kingdom",
          "Canada",
          "United States",
          "Canada",
          "United Kingdom",
          "United Kingdom",
          "Australia",
          "Ireland",
          "Unknown",
          "Unknown",
          "United Kingdom",
          "Unknown",
          "Canada",
          "United Kingdom",
          "Australia",
          "United Kingdom",
          "Unknown",
          "United Kingdom",
          "United Kingdom",
          "Canada",
          "United Kingdom",
          "United States",
          "United Kingdom",
          "United Kingdom",
          "Belgium",
          "United Kingdom",
          "United Kingdom",
          "Belgium",
          "United Kingdom",
          "United Kingdom",
          "United Kingdom",
          "Australia",
          "Belgium",
          "Canada",
          "United Kingdom",
          "United Kingdom",
          "United States",
          "Canada",
          "United States",
          "Belgium",
          "United Kingdom",
          "United Kingdom",
          "United States",
          "Unknown",
          "United States",
          "United States",
          "Australia",
          "United States",
          "United Kingdom",
          "United States",
          "Canada",
          "Australia",
          "United Kingdom",
          "Germany",
          "United Kingdom",
          "United Kingdom",
          "United States",
          "Spain",
          "United States",
          "United States",
          "United Kingdom",
          "Canada",
          "Unknown",
          "Unknown",
          "United Kingdom",
          "Unknown",
          "Canada",
          "United Kingdom",
          "Unknown",
          "United Kingdom",
          "Netherlands",
          "United States",
          "United Kingdom",
          "Netherlands",
          "United States",
          "Unknown",
          "Unknown",
          "United Kingdom",
          "Netherlands",
          "Colombia",
          "Netherlands",
          "Australia",
          "Unknown",
          "Canada",
          "Unknown",
          "Unknown",
          "Australia",
          "United States",
          "Unknown",
          "Unknown",
          "Unknown",
          "Unknown",
          "Australia",
          "United Kingdom",
          "Unknown",
          "Germany",
          "United States",
          "United Kingdom",
          "Germany",
          "Canada",
          "United States",
          "United Kingdom",
          "United States",
          "Canada",
          "United Kingdom",
          "United Kingdom",
          "United Kingdom",
          "United Kingdom",
          "United Kingdom",
          "United Kingdom",
          "United Kingdom",
          "Canada",
          "United Kingdom",
          "United Kingdom",
          "United States",
          "United States",
          "Canada",
          "United Kingdom",
          "United Kingdom",
          "United Kingdom",
          "United States",
          "United States",
          "Spain",
          "United Kingdom",
          "United States",
          "United States",
          "Colombia",
          "Canada",
          "United States",
          "United Kingdom",
          "United States",
          "Canada",
          "Netherlands",
          "Australia",
          "United States",
          "Unknown",
          "United Kingdom",
          "United Kingdom",
          "Unknown",
          "Czech Republic",
          "Canada",
          "Unknown",
          "Canada",
          "Unknown",
          "Unknown",
          "Germany",
          "Canada",
          "Netherlands",
          "Germany",
          "United Kingdom",
          "Unknown",
          "Germany",
          "United Kingdom",
          "United States",
          "Unknown",
          "Netherlands",
          "Belgium",
          "Canada",
          "Netherlands",
          "Canada",
          "United Kingdom",
          "Unknown",
          "Canada",
          "Belgium",
          "Canada",
          "Netherlands",
          "Unknown",
          "Unknown",
          "Netherlands",
          "Ireland",
          "Netherlands",
          "Unknown",
          "Netherlands",
          "Canada",
          "Netherlands",
          "Unknown",
          "Unknown",
          "Unknown",
          "Unknown",
          "Unknown",
          "Unknown",
          "Unknown",
          "Unknown",
          "Unknown",
          "Unknown",
          "United States",
          "Unknown",
          "United Kingdom",
          "Austria",
          "Canada",
          "United Kingdom",
          "Australia",
          "United Kingdom",
          "Unknown",
          "Unknown",
          "Unknown",
          "Unknown",
          "United Kingdom",
          "United Kingdom",
          "United Kingdom",
          "Canada",
          "Sweden",
          "United Kingdom",
          "United Kingdom",
          "Australia",
          "Canada",
          "United Kingdom",
          "United Kingdom",
          "United States",
          "United Kingdom",
          "United Kingdom",
          "Australia",
          "Canada",
          "United Kingdom",
          "Unknown",
          "United States",
          "Unknown",
          "Netherlands",
          "Sweden",
          "Unknown",
          "Australia",
          "Norway",
          "Norway",
          "Netherlands",
          "Netherlands",
          "Netherlands",
          "Netherlands",
          "Netherlands",
          "Netherlands",
          "United States",
          "Germany",
          "Germany",
          "United States",
          "Unknown",
          "Netherlands",
          "Germany",
          "Germany",
          "United Kingdom",
          "United Kingdom",
          "Sweden",
          "Netherlands",
          "Netherlands",
          "United States",
          "Netherlands",
          "Netherlands",
          "United States",
          "Netherlands",
          "Saint Martin",
          "Belgium",
          "Germany",
          "Germany",
          "United States",
          "Netherlands",
          "Netherlands",
          "Germany",
          "United States",
          "United Kingdom",
          "Australia",
          "United Kingdom",
          "United Kingdom",
          "Belgium",
          "United States",
          "United States",
          "Canada",
          "United States",
          "Netherlands",
          "Netherlands",
          "United States",
          "Canada",
          "Netherlands",
          "United Kingdom",
          "United Kingdom",
          "Netherlands",
          "Canada",
          "Netherlands",
          "Canada",
          "Germany",
          "Germany",
          "Germany",
          "United States",
          "Australia",
          "Australia",
          "Australia",
          "Australia",
          "Australia",
          "Netherlands",
          "United States",
          "Australia",
          "United States",
          "Australia",
          "United Kingdom",
          "United States",
          "Germany",
          "United States",
          "United States",
          "Germany",
          "United Kingdom",
          "Australia",
          "Australia",
          "United States",
          "United States",
          "Germany",
          "United Kingdom",
          "Italy",
          "Netherlands",
          "United States",
          "Netherlands",
          "Netherlands",
          "United Kingdom",
          "Germany",
          "Italy",
          "United Kingdom",
          "Italy",
          "Netherlands",
          "Australia",
          "Germany",
          "Australia",
          "United Kingdom",
          "United States",
          "Germany",
          "Germany",
          "United Kingdom",
          "Netherlands",
          "Germany",
          "United Kingdom",
          "United Kingdom",
          "United Kingdom",
          "United States",
          "Germany",
          "United States",
          "Australia",
          "United Kingdom",
          "United Kingdom",
          "Germany",
          "United States",
          "United Kingdom",
          "Australia",
          "United Kingdom",
          "Germany",
          "Germany",
          "Netherlands",
          "United States",
          "Australia",
          "Australia",
          "Netherlands",
          "United States",
          "United Kingdom",
          "Ireland",
          "Australia",
          "Australia",
          "Netherlands",
          "United Kingdom",
          "Australia",
          "United Kingdom",
          "Australia",
          "Canada",
          "Australia",
          "United Kingdom",
          "Netherlands",
          "United Kingdom",
          "Australia",
          "Netherlands",
          "Netherlands",
          "Netherlands",
          "Canada",
          "United States",
          "Netherlands",
          "United Kingdom",
          "Netherlands",
          "Australia",
          "United States",
          "Australia",
          "United Kingdom",
          "Australia",
          "Netherlands",
          "Canada",
          "Netherlands",
          "Netherlands",
          "Unknown",
          "United Kingdom",
          "Netherlands",
          "Italy",
          "United States",
          "Netherlands",
          "Netherlands",
          "Netherlands",
          "Australia",
          "United States",
          "Italy",
          "United Kingdom",
          "United States",
          "Australia",
          "Italy",
          "United Kingdom",
          "Unknown",
          "United Kingdom",
          "United Kingdom",
          "United Kingdom",
          "United Kingdom",
          "Argentina",
          "United Kingdom",
          "Australia",
          "Netherlands",
          "Unknown",
          "United Kingdom",
          "United Kingdom",
          "Thailand",
          "Unknown",
          "Germany",
          "United Kingdom",
          "United Kingdom",
          "Germany",
          "United Kingdom",
          "Italy",
          "Australia",
          "United States",
          "Australia",
          "Thailand",
          "Australia",
          "Netherlands",
          "Unknown",
          "United Kingdom",
          "Netherlands",
          "Italy",
          "Australia",
          "Germany",
          "United Kingdom",
          "United Kingdom",
          "Italy",
          "United States",
          "United Kingdom",
          "United States",
          "United Kingdom",
          "United Kingdom",
          "Australia",
          "Thailand",
          "Netherlands",
          "Canada",
          "Netherlands",
          "United Kingdom",
          "United Kingdom",
          "Netherlands",
          "Ireland",
          "Ireland",
          "Germany",
          "Netherlands",
          "Australia",
          "Australia",
          "Italy",
          "Netherlands",
          "Netherlands",
          "United States",
          "United Kingdom",
          "United Kingdom",
          "United Kingdom",
          "Germany",
          "United Kingdom",
          "Australia",
          "Australia",
          "Canada",
          "Australia",
          "Netherlands",
          "Germany",
          "Unknown",
          "Netherlands",
          "Unknown",
          "Netherlands",
          "United Kingdom",
          "United States",
          "United States",
          "United States",
          "Australia",
          "United Kingdom",
          "Australia",
          "Netherlands",
          "Netherlands",
          "United States",
          "Australia",
          "Netherlands",
          "Germany",
          "Finland",
          "Netherlands",
          "Italy",
          "Unknown",
          "United States",
          "Germany",
          "United Kingdom",
          "Australia",
          "Germany",
          "Netherlands",
          "Unknown",
          "United Kingdom",
          "China",
          "Germany",
          "Unknown",
          "United Kingdom",
          "Unknown",
          "Australia",
          "Netherlands",
          "United States",
          "Italy",
          "Canada",
          "Netherlands",
          "United Kingdom",
          "Australia",
          "Netherlands",
          "United Kingdom",
          "Germany",
          "Germany",
          "Australia",
          "United Kingdom",
          "Australia",
          "Unknown",
          "Australia",
          "Australia",
          "Germany",
          "Australia",
          "Canada",
          "Australia",
          "Germany",
          "Australia",
          "Unknown",
          "Unknown",
          "United States",
          "Germany",
          "Canada",
          "Australia",
          "Australia",
          "Australia",
          "Australia",
          "Australia",
          "Australia",
          "United Kingdom",
          "Netherlands",
          "United States",
          "Germany",
          "United Kingdom",
          "Netherlands",
          "United Kingdom",
          "United Kingdom",
          "United Kingdom",
          "Australia",
          "Netherlands",
          "United States",
          "United States",
          "Netherlands",
          "Australia",
          "Australia",
          "Australia",
          "Australia",
          "Australia",
          "Australia",
          "Australia",
          "Australia",
          "Australia",
          "Australia",
          "United States",
          "Netherlands",
          "United States",
          "Belgium",
          "United States",
          "Netherlands",
          "United States",
          "United Kingdom",
          "United States",
          "United Kingdom",
          "United States",
          "United Kingdom",
          "Germany",
          "Netherlands",
          "Germany",
          "United Kingdom",
          "Canada",
          "United Kingdom",
          "United Kingdom",
          "United Kingdom",
          "United States",
          "Netherlands",
          "United States",
          "United Kingdom",
          "Netherlands",
          "United Kingdom",
          "United Kingdom",
          "Unknown",
          "Netherlands",
          "Germany",
          "United Kingdom",
          "Australia",
          "Germany",
          "Canada",
          "United Kingdom",
          "United States",
          "Germany",
          "Netherlands",
          "Norway",
          "United Kingdom",
          "Germany",
          "United Kingdom",
          "United Kingdom",
          "Canada",
          "Australia",
          "United Kingdom",
          "United Kingdom",
          "United Kingdom",
          "Belgium",
          "United Kingdom",
          "United States",
          "United Kingdom",
          "United States",
          "United Kingdom",
          "United States",
          "Netherlands",
          "United States",
          "United Kingdom",
          "United Kingdom",
          "Canada",
          "United States",
          "United Kingdom",
          "Germany",
          "United Kingdom",
          "United Kingdom",
          "Australia",
          "United Kingdom",
          "United Kingdom",
          "United States",
          "United States",
          "United Kingdom",
          "Australia",
          "Germany",
          "United States",
          "United States",
          "Unknown",
          "Netherlands",
          "Germany",
          "Unknown",
          "Netherlands",
          "United Kingdom",
          "Netherlands",
          "United States",
          "Germany",
          "Australia",
          "United Kingdom",
          "Australia",
          "Australia",
          "United States",
          "United States",
          "United States",
          "Unknown",
          "Australia",
          "Germany",
          "United States",
          "United Kingdom",
          "Netherlands",
          "Germany",
          "Canada",
          "United States",
          "Germany",
          "Australia",
          "Canada",
          "Netherlands",
          "Canada",
          "Germany",
          "Unknown",
          "Canada",
          "Netherlands",
          "Netherlands",
          "Germany",
          "United Kingdom",
          "United Kingdom",
          "Belgium",
          "Canada",
          "United Kingdom",
          "Australia",
          "United Kingdom",
          "United Kingdom",
          "United Kingdom",
          "United States",
          "Germany",
          "United States",
          "United States",
          "Netherlands",
          "Australia",
          "Australia",
          "Canada",
          "Australia",
          "Netherlands",
          "United Kingdom",
          "United States",
          "Australia",
          "United States",
          "United States",
          "United States",
          "United Kingdom",
          "Netherlands",
          "Netherlands",
          "Netherlands",
          "Netherlands",
          "Netherlands",
          "United States",
          "Canada",
          "United Kingdom",
          "Australia",
          "United States",
          "United States",
          "United States",
          "United Kingdom",
          "United Kingdom",
          "United Kingdom",
          "Australia",
          "United Kingdom",
          "United States",
          "United States",
          "United Kingdom",
          "United States",
          "United States",
          "Spain",
          "United States",
          "United Kingdom",
          "United States",
          "United States",
          "Netherlands",
          "Netherlands",
          "United States",
          "United States",
          "United States",
          "United States",
          "United States",
          "Netherlands",
          "United States",
          "United States"
         ],
         "x0": " ",
         "xaxis": "x",
         "y": [
          470.6260850984,
          110.4639757578,
          283.10685997999997,
          549.2590205608,
          366.17341561994283,
          100.714431697,
          69.78518849358571,
          22.007806198125,
          61.06586285800001,
          110.0799113794286,
          105.73310701428571,
          100.69812037142857,
          110.76777116,
          90.62834864642856,
          90.62833520904762,
          126.04404897,
          157.55535526,
          162.9827508568,
          218.6174718,
          85.06212746780001,
          177.95551181919998,
          95.60353808026,
          52.763331267800005,
          60.300873754,
          73.98032596304999,
          48.0872129882,
          263.86692856999997,
          100.7633019153,
          91.194135785578,
          96.1744259764,
          320.246568306,
          83.3774923721992,
          97.654031161,
          162.1518798956,
          90.62590653414999,
          80.59824395518842,
          106.259480402,
          250.9244539208,
          98.46014416065,
          103.57248749036,
          111.59747190106667,
          55.36375288928571,
          166.44110286999998,
          91.9035876895,
          65.329107356,
          99.654513094,
          110.727989992,
          291.9210181235,
          119.8245445145,
          116.234222995,
          118.26816150171429,
          311.8275163855,
          123.8139789525,
          39.45479964021429,
          136.589829212,
          66.89166408999999,
          120.3404255013,
          189.096480766,
          149.774960872,
          78.790482777,
          133.339304466,
          148.15478274,
          131.80691422860005,
          163.354968583,
          106.52804376592857,
          27.929597008366073,
          119.5177953075,
          118.566194867,
          146.4261408,
          83.78880615676785,
          284.524294842,
          114.91038348128573,
          270.29822536392857,
          30.92205112860714,
          51.105216838357144,
          174.2900411426667,
          125.49480481642856,
          21.026244720852,
          259.62852193867855,
          40.69741235128571,
          72.92229527399998,
          78.39096533819999,
          102.203679606,
          85.0753417112,
          28.745077769975,
          85.16829848685714,
          147.1754408464,
          95.5979626445,
          91.89747964318572,
          104.8670538073,
          72.9544284804,
          51.29242988346,
          44.75218432999999,
          179.771900972,
          95.9129350114,
          27.473891472000002,
          127.36264133359997,
          140.227973846,
          107.9146876018,
          63.28701944659999,
          148.5899713698,
          22.707465856,
          113.80845320899999,
          90.40964524268573,
          59.74968897539999,
          121.9374849864,
          67.80722436856,
          94.0271174608,
          171.77876587999998,
          78.10154333333332,
          95.037291748164,
          141.0744830021,
          107.67703576279997,
          92.41548414457144,
          69.178917311178,
          103.2908530892,
          51.06809993628,
          41.1720095836,
          112.3577728284,
          125.3904657908,
          78.67434005213998,
          226.48527059999998,
          68.80250072,
          181.7944032775,
          159.98516079,
          177.76204849,
          128.768627325,
          55.69739214928571,
          261.7548,
          93.20480782928571,
          112.690676496,
          35.42962230080357,
          74.5417684925,
          74.5417684925,
          52.553936824821434,
          82.49267960699999,
          65.31261364767856,
          54.32541696607143,
          99.3888428825,
          68.633199205,
          64.43105308450001,
          68.63335501142858,
          79.41862032934999,
          134.71510709375,
          61.63001185357143,
          130.35734410916666,
          68.28321901482143,
          98.4879701125,
          34.764309374999996,
          99.89482425928573,
          108.3364944625,
          98.4879701125,
          155.47144475,
          95.48421692767856,
          173.930611375,
          125.514916664,
          165.96781223,
          99.838224317,
          96.3352006385,
          91.95632187199999,
          40.54532068,
          201.032385741,
          192.6556712685,
          92.58757160399999,
          90.07549600499999,
          135.1132440075,
          65.7119925,
          101.0844451485,
          118.67067301885713,
          80.06706782485715,
          160.134493266,
          105.53784075449998,
          47.79912685467856,
          43.01927228185714,
          70.05863428047,
          90.07528739550001,
          114.71794021285713,
          57.190711644,
          60.050254110313496,
          101.57317250496429,
          80.0669963016,
          184.02612208199997,
          92.076895548,
          159.178227318,
          74.91989662457142,
          230.1928646985,
          92.076895548,
          80.42446060039286,
          130.491500535,
          85.78606746599999,
          63.81188776992857,
          60.050254110313496,
          100.083745377,
          75.06280903274998,
          70.05868434675,
          175.310834391,
          76.0638217185,
          80.067246633,
          62.909711285142855,
          57.190711644,
          85.071371319,
          80.067246633,
          52.18654225596429,
          94.6792156167,
          32.5272016018125,
          55.04599737449999,
          200.167490754,
          127.1822445927,
          68.05697188949999,
          80.067246633,
          67.91397007725,
          66.918589848,
          100.377884772,
          47.799171556714285,
          57.1875825015,
          60.872371305428565,
          38.961176777678574,
          41.46328382271429,
          37.2534149735,
          21.2677646011875,
          60.050211464571426,
          62.909800689214286,
          66.918589848,
          150.5674529865,
          46.46745321075,
          83.217667302,
          80.067246633,
          92.076895548,
          66.57392105990999,
          69.34783078673999,
          64.33964000357143,
          88.84213002000001,
          82.21673502000002,
          71.52548083714285,
          40.709034972,
          162.50698746000003,
          127.17933968571428,
          110.42325,
          87.23364636857143,
          43.557607777499996,
          134.062617294,
          70.55898444,
          60.980640372,
          42.347701980000004,
          40.65378428571428,
          127.00650852,
          96.55282782,
          55.89892791288,
          92.51288321616,
          46.69326,
          51.67808100000001,
          112.89483783,
          29.219884920000005,
          35.063861904,
          127.00650852,
          45.73548616824,
          66.06238143600001,
          63.013353624000004,
          56.447397882000004,
          67.10499025071428,
          71.09501212764,
          85.60418981142858,
          47.32425,
          138.67084944,
          71.09501212764,
          115.56131142857144,
          85.60418981142858,
          81.25144651800001,
          87.0551062457143,
          76.17323298857143,
          72.545929884,
          85.60418981142858,
          76.17322637820001,
          97.93700955,
          60.938582364540004,
          141.02121708,
          63.45950562,
          119.64706182,
          72.18306730602,
          567.84010014,
          76.9952675304,
          76.9952675304,
          92.394351324,
          76.9952675304,
          76.9952675304,
          82.49494151571427,
          72.183068568,
          72.18306255857144,
          72.183068568,
          92.394351324,
          88.89419090160001,
          76.8026241801,
          154.55039986800003,
          656.7179862600001,
          58.729183920000004,
          79.50582169714286,
          47.32425,
          93.57489154800001,
          24.45170382,
          82.2404686572,
          71.96041070604,
          127.83058146,
          165.70554588,
          62.36621028,
          43.86305952000001,
          157.85182368000002,
          111.81163833,
          112.0722372,
          91.43171298,
          72.18306255857144,
          66.4084226619,
          72.18306255857144,
          82.49494151571427,
          76.9952675304,
          78.92014278857143,
          173.23937017199998,
          115.9023465,
          156.02453637212,
          137.2635294394,
          85.10428859334999,
          125.79100079962,
          76.99895633128399,
          113.47241392838,
          71.7051614981,
          120.56440811214799,
          127.656432890025,
          94.2407821875,
          42.07178556689643,
          92.19228806059999,
          79.38760450321999,
          51.21781640625,
          99.2883731138,
          371.7748049222999,
          42.552139926088,
          102.66939678004285,
          69.66849917457857,
          100.10265717777,
          105.1056244108,
          71.8686214519,
          85.22085214864,
          30.800820282752003,
          102.66937180526,
          98.00407612385,
          99.36467107542856,
          71.8686214519,
          97.02266081299999,
          174.3864213,
          51.13254625388,
          65.23844097290001,
          155.4766395858,
          99.1445808015,
          80.3685390495,
          120.38974197328,
          52.97017204542143,
          69.57943285521428,
          80.02076519821428,
          205.6518524632,
          102.8258013576857,
          165.1618603778,
          159.3800108355,
          77.1194446737,
          322.6117575571429,
          94.01220048740001,
          59.22567875076667,
          45.58981152635,
          80.5993496784,
          392.1467014928,
          42.38008277933333,
          65.689046746188,
          124.54151529444,
          176.2381087588,
          131.1238129957,
          90.81433825911428,
          183.5812904674,
          190.92447217600002,
          146.8649449863,
          483.536340786,
          80.00957544685714,
          90.57696704514285,
          126.807579726,
          43.63747629100001,
          123.8175366016,
          386.32726116999993,
          80.24999754359997,
          386.3277868032,
          128.598790546,
          91.8565042328,
          76.77218302102857,
          96.73287851965713,
          109.623966758,
          120.585507012,
          163.918473734,
          109.278762894,
          98.3511030628571,
          386.220539146,
          447.202382808,
          131.135306016,
          131.209090048,
          111.824970784,
          119.27979315999998,
          47.687930454699995,
          105.7363019422,
          124.23616634965715,
          95.3822880621,
          97.1483178978,
          150.138414036,
          167.8015877265,
          84.90594884056073,
          72.35489219399999,
          113.700271035,
          90.6322371201,
          87.99239343375,
          203.7742279259143,
          170.76917835565715,
          39.622798489299996,
          35.06984709470357,
          80.45018828228571,
          98.19551435849999,
          105.947844774525,
          135.5083338102,
          27.213904446767998,
          76.02542792676,
          31.009126141421998,
          143.42767318035,
          87.9921059004,
          124.03646513254286,
          89.8524466749,
          103.4999295993,
          82.2178611657,
          143.58754172295,
          116.10855453015,
          149.75426948039998,
          172.65802600799992,
          140.7377986911,
          132.1359509925,
          120.683928962025,
          102.8196256932,
          341.5505152644,
          112.59012393953999,
          139.7251062324,
          74.24768316085714,
          80.60278633875,
          100.602168498,
          134.55036853245,
          97.10541792197999,
          126.49655939895,
          64.37296639799999,
          64.07142606623572,
          88.892821371276,
          41.3455705299,
          90.96008264576999,
          73.83125271767143,
          349.8930078813,
          86.825548595448,
          63.3545232723,
          83.724639431706,
          113.6998876572,
          262.8393286829143,
          129.52480313448,
          112.5071993214,
          100.4265292753,
          109.5567775906,
          104.19932327720001,
          72.5048766086,
          122.6322408732,
          94.2973449471857,
          88.68834740625714,
          122.6322408732,
          39.98201631140358,
          102.5954361674,
          137.5258327323714,
          45.413542529775,
          95.05158477763999,
          155.6210852209,
          52.80671164059999,
          80.13720671164286,
          76.915479329848,
          73.92890012139999,
          83.23921877346667,
          79.652643548994,
          41.74223560261905,
          29.571609666104,
          38.2846643681625,
          97.715550715,
          74.165191270314,
          35.855578580809,
          87.80264766502998,
          27.705171322228,
          90.52525976734286,
          90.5253483701,
          41.490788361410715,
          38.02062150667,
          148.4205717301375,
          39.22765243708928,
          31.155804813129,
          43.565289015775,
          33.94699456344286,
          39.6048011482125,
          197.8939922703,
          149.58945252840002,
          45.75750581656666,
          122.0740435032,
          79.195802417,
          144.6884796198,
          143.6167406694,
          100.16346768934285,
          116.1534300654,
          82.67904260855713,
          78.44126133717143,
          93.1339907459,
          162.77389720228572,
          325.54814881560003,
          147.83175103219997,
          77.51164120922859,
          96.1817483861,
          142.87961003135,
          137.27225164142857,
          68.6359486152,
          85.90874601055,
          116.15347436677857,
          84.47510909859999,
          105.5941964829,
          93.52614654901427,
          118.8510296093714,
          131.9925905488,
          129.18600961354286,
          58.0767150327,
          56.56825309234286,
          86.1695482262,
          142.55194817516,
          84.47510909859999,
          79.00698994152857,
          93.97872943249999,
          121.0072663072,
          65.7649534755,
          69.52259640592857,
          63.88591050339285,
          126.735611762,
          71.8511654664,
          108.84174005004357,
          71.66589710121428,
          63.367805881,
          77.55213266924285,
          95.05162021874285,
          42.245307290549995,
          116.17420741195,
          211.2256061238,
          103.500633831364,
          113.53393385185,
          211.2256061238,
          126.73548771813998,
          120.70052356197142,
          111.64797986468571,
          98.54019429628,
          114.9626090094,
          166.47802406739999,
          42.24520392066667,
          93.40719734755,
          99.52535063239999,
          49.034537858,
          78.98926939009999,
          122.0740435032,
          126.71297375755,
          98.05162097284287,
          129.2549425586,
          114.04170739276,
          59.75474049953929,
          71.80824629084,
          112.6336855379,
          131.9925905488,
          105.59407243903999,
          105.66073715351429,
          64.41145775738572,
          71.56830116422142,
          100.19560833949643,
          200.3909951721,
          114.50931730385715,
          68.70553722065999,
          93.03878708335,
          108.67672737831428,
          78.3049651254,
          114.63161448999001,
          88.57897711137001,
          140.6842017483,
          122.81960485367142,
          89.32334247535714,
          138.93349932,
          103.1686485102,
          132.49633310537143,
          130.2631868931,
          145.8947091759,
          58.57915051892143,
          98.2603665519,
          100.9423604747472,
          137.3772636945,
          119.8421720379,
          117.28872124450713,
          258.29326337415,
          114.20216935382143,
          156.315222828,
          101.6053960413,
          94.8316361448,
          47.87926753110001,
          143.20859034900002,
          151.9406591641,
          144.9549090484,
          114.37348571508572,
          116.6359319685,
          115.82171206320002,
          107.1785277328,
          420.82093312499995,
          160.38231897799997,
          145.5574211144,
          133.6752788517143,
          83.17546719740001,
          162.35852705279999,
          161.152791754,
          273.2915614978286,
          158.88122548464864,
          115.9426270512,
          64.971954684,
          147.3674019024,
          31.681516830357143,
          85.35996301890953,
          67.566296301,
          38.017820196428566,
          357.0434020983,
          138.53271984984002,
          122.13042345861,
          120.7860200412,
          120.7860200412,
          113.68091393994,
          106.57585137647,
          84.42187190989,
          78.14303279126,
          66.23119741321071,
          79.330249088618,
          108.1776525856,
          36.79511445877143,
          131.32231344515998,
          111.6241191581,
          88.30820580042858,
          81.6730184021,
          152.5279500094,
          144.0538624042,
          143.4473646715,
          68.651381096286,
          71.51185123997999,
          61.71548760695715,
          96.1119582722,
          75.80252065139,
          96.0019419424,
          76.00685761693929,
          71.4113392795,
          147.6043740738,
          79.290523578609,
          110.4778807356,
          67.3799983878,
          165.1884336375,
          92.50566651816,
          103.6616465052,
          90.07343697315001,
          106.19847850042501,
          279.7110929712,
          152.92582135614,
          139.57513730745,
          105.92598974621998,
          66.9784608603,
          126.514853409,
          88.8500175531,
          115.72899095865,
          96.611211984,
          66.62847408041999,
          50.604555866700004,
          103.43197217094,
          71.9831835513,
          182.9291056656,
          313.576947642,
          100.7765288124,
          102.2953926177,
          79.33455826212,
          100.21541796231,
          114.9751010436,
          117.35403000972,
          122.8872633219,
          113.9118604596,
          418.945526328,
          380.8596533586,
          403.2630869169,
          403.26308691689997,
          326.4510874662,
          96.73680135154,
          170.670330765,
          296.27857968719997,
          66.68461351034999,
          310.22462094855,
          45.524556000000004,
          43.71546976005,
          98.54510951670001,
          48.1611323391,
          48.902044488,
          65.80803791064649,
          60.221261809800026,
          262.070847028,
          297.2023629517143,
          80.77806024014285,
          72.39544898348214,
          83.86398483798001,
          206.11329392239995,
          121.73804588379001,
          132.2619160808,
          117.4321077147,
          88.48853328850001,
          93.404797917,
          161.518604735,
          94.8452839525,
          109.1659342813,
          193.254851626,
          115.512858273,
          66.5163543349,
          310.588572753,
          83.62143688433927,
          359.99391088321426,
          156.2372564535,
          71.99878217664285,
          102.687145176,
          101.312629473,
          164.296263175,
          101.312629473,
          153.995318169,
          36.22659696700001,
          156.387319374,
          84.528838636,
          86.282635714,
          102.663545446,
          113.246001517,
          351.103634519,
          146.631528131,
          161.780194818,
          95.21903469885714,
          97.068049463,
          146.631528131,
          360.593085952,
          86.253978899,
          95.34230234980001,
          94.5585890304,
          113.66843668400001,
          86.61370621200001,
          47.353907590137496,
          157.07643149,
          109.4061905904,
          91.06306204246428,
          108.6836679995,
          145.87487583533334,
          316.79266135,
          197.99542538442856,
          111.1427261516,
          180.897998952,
          91.24289860743751,
          143.703813055,
          263.9939245939286,
          100.345040543,
          382.366871128,
          152.40358862457143,
          125.982775798,
          108.68365595882142,
          289.7333313387857,
          113.668436684,
          107.353823214,
          89.116289009,
          79.03977021089285,
          79.21971815214286,
          99.46015180970001,
          142.01306097,
          130.07159759,
          250.9717380680714,
          67.93302687285714,
          397.592068368,
          118.423782279,
          178.98247147942857,
          101.1247756222,
          86.26361144185715,
          94.80640867133333,
          69.0176800962,
          72.99942654179999,
          160.717869829,
          84.27054521013333,
          127.41716738740001,
          61.13972418557143,
          87.5993320785,
          66.363115038,
          86.27218440499999,
          168.41523482614284,
          62.271933273,
          102.99556667598,
          143.800234809,
          67.93302687285714,
          351.7345179134286,
          116.79909595244,
          109.964964769,
          100.38988003,
          173.4580155,
          135.341754438,
          107.54811160342857,
          135.341417299,
          105.673522438,
          162.838137,
          427.63722177,
          121.61255532066667,
          46.99310685064285,
          105.2451873385,
          95.22182813628571,
          79.2950928,
          50.71339959360714,
          103.44326703963999,
          150.35031578914285,
          152.02091980533334,
          96.00990499759999,
          157.868033862,
          126.8702942155,
          361.84697332080003,
          56.39169932314286,
          391.041457598,
          93.80892675,
          382.894830802,
          134.41394791,
          65.7903495909,
          36.83580714,
          102.8677842522,
          104.5136294224,
          381.937693181,
          94.29950445168001,
          104.24289717285714,
          145.338600066,
          99.43882776795,
          78.32186883242856,
          125.70954336844446,
          62.65747580085714,
          119.02730323137497,
          152.02080742566667,
          253.40250544179997,
          79.2950928,
          82.27857066660002,
          147.02651055085715,
          100.2047232912,
          133.091351613,
          140.69282464600002,
          117.869862902,
          178.769303306,
          192.52052883800002,
          110.01182709,
          96.26026441900001,
          401.2685691630001,
          31.99111971,
          137.514952432,
          89.05656724328573,
          99.01098152,
          82.452399535,
          95.47025141657143,
          119.33781427071428,
          189.935346986,
          88.97523005139999,
          150.2350722798,
          400.0167593947,
          467.9986051311429,
          64.06637955,
          259.9992110784536,
          66.07633975735,
          52.86107180588,
          103.69063062346963,
          84.57765219448001,
          124.42874835152143,
          62.92983805835,
          71.338991198,
          93.5905966751,
          94.70495703708927,
          72.792729841,
          346.12988101375,
          149.3142405248,
          427.6985293232,
          129.5096964562,
          81.93466913598,
          46.42399882199286,
          285.99914758014285,
          84.32601042722,
          72.68399332524999,
          129.98719670158,
          119.2676962808,
          126.48903243411428,
          76.31630234759,
          59.27413599099999,
          74.00550131191858,
          82.287093,
          346.6496611512,
          92.50691484462,
          112.99056253645,
          24.9575412964914,
          72.99821246752,
          176.7824558548,
          62.442141658460706,
          112.5783993624643,
          82.95322661,
          32.860762824599995,
          311.86903408944283,
          85.89924560298799,
          65.36499022941072,
          89.203060631639,
          133.70107630345714,
          100.6876625247,
          138.15779004242856,
          301.57028380868,
          86.84321178642,
          47.021195999999996,
          76.648554118526,
          66.07633975735,
          431.3387535802,
          66.36205883026666,
          274.31012607545716,
          99.543002039874,
          245.6990717722,
          350.9989538483572,
          77.1771648365848,
          370.8534299489,
          78.7605033,
          488.495368378,
          69.259329904446,
          43.14790334816,
          90.80021862455861,
          102.7330845507,
          58.70456376564285,
          78.262991617289,
          90.5158023,
          359.56557201699286,
          359.5656000058,
          335.60583762877144,
          342.1011441248,
          251.6958416354,
          293.22944015174284,
          146.90824429414,
          81.8086523307,
          129.5934949447857,
          88.5424794412,
          150.78516429538573,
          85.58468947548002,
          182.49513932549996,
          165.9048858468,
          59.25178692849643,
          214.49936068510715,
          80.55013001976,
          103.9897260138,
          24.04761924265,
          92.5067581073,
          267.17264438834286,
          270.99513175745716,
          338.74394268562855,
          272.17337657175,
          371.146136894,
          296.91690951519996,
          340.2167696951,
          272.1735724934,
          340.21676969509997,
          331.3799755711143,
          98.55601735505715,
          117.09797443492,
          106.1373683112,
          114.40606786461998,
          72.02167527725715,
          102.6918515072,
          90.52692579437144,
          139.7875523804,
          95.69131072275,
          165.67450811700002,
          95.69122795088572,
          140.8772715643429,
          110.3639204266,
          93.06680804060001,
          87.62076701243001,
          81.11121237255,
          109.4662319678,
          151.8908958262,
          73.96162705114288,
          172.577129786,
          163.4407162249,
          113.2323517928,
          106.3235498246,
          155.3194168074,
          97.0569637116,
          77.6597084037,
          148.4164088697,
          94.3608081856,
          88.26104600955,
          233.9119641216,
          146.69075345245,
          489.0887927156001,
          119.4868145832,
          127.588414297,
          154.28421669140002,
          95.69122795088572,
          182.26905291894286,
          97.05688645786003,
          154.1691086188,
          131.15875107234285,
          94.3608081856,
          142.66383787683333,
          94.5029550672,
          148.852506232,
          691.104232666,
          143.23909497612001,
          80.53599390013333,
          189.8348427646,
          118.6250491135,
          74.20824306172,
          111.6397659427,
          86.28856489300001,
          87.1853704519143,
          89.7402619962,
          44.257219138375014,
          121.3212046395,
          75.7874640148,
          144.9647117665,
          109.58700531466667,
          102.80329002715,
          121.2088004478,
          186.38314566140002,
          97.00752131800002,
          131.1586958911,
          77.659804970875,
          354.0577531070001,
          450.4267722639,
          71.49629466401429,
          105.2605383622,
          154.8588741545143,
          157.78491473825716,
          489.0887927156,
          170.11779559997,
          121.51273873345714,
          104.80474129619999,
          93.28250048267999,
          96.2865231988286,
          170.11783422684,
          128.06120718580001,
          95.70884732173,
          130.16593015085715,
          114.97133348020002,
          110.56420074755,
          104.8143980137,
          329.7259151566,
          147.18749500065002,
          593.27009633,
          269.6688576806,
          118.6544055347,
          107.86763136222858,
          67.95658347845715,
          75.27905715186003,
          376.82972768431426,
          91.32716969641,
          95.38066791608573,
          122.64974824252859,
          82.1180217391,
          114.3336038565,
          95.53473394614286,
          91.6824210198,
          101.75580656649001,
          465.3468422513429,
          118.6482252355,
          98.54183209689334,
          107.861671788,
          78.69660810197999,
          93.8493884268,
          101.25758064285715,
          123.177225743,
          116.3340894538,
          85.53979846879801,
          80.65676724699999,
          66.95672694850715,
          125.11969378156,
          98.61649599722857,
          175.2137999322,
          360.7208330007571,
          118.14425494448572,
          154.18826754632,
          116.39208494004286,
          98.61649599722857,
          109.4909531646,
          109.1053466395143,
          59.01584260452857,
          82.11840800780001,
          302.79346800220713,
          234.16027971445718,
          107.861671788,
          316.2509315571,
          91.97243155976,
          176.8932962398,
          78.19984080253333,
          27.142068280227498,
          107.86183733172858,
          154.08832327925714,
          33.0326852686625,
          67.58250983312857,
          91.6986443052,
          89.37981811785714,
          68.43174916070001,
          91.89420662988572,
          88.96138978952,
          85.21087522,
          94.65337913522856,
          63.202153798575004,
          324.4877253159,
          141.5126283946,
          126.35100251655,
          113.21204509542858,
          163.7497311849,
          172.368544688,
          165.47364839300002,
          278.1322256225714,
          132.96968910042855,
          96.02838534474286,
          90.97446774644,
          134.44715584168,
          85.92034045941429,
          75.81229557408572,
          131.9034219447,
          103.10384570262002,
          123.1200579754,
          80.86647252423,
          66.71477320113901,
          100.8304226419,
          90.9747767614,
          70.758075582572,
          62.204289642579596,
          54.17794588706321,
          48.15817586433498,
          58.1911339881068,
          94.81139062415,
          45.14828977141851,
          51.16806311605755
         ],
         "y0": " ",
         "yaxis": "y"
        }
       ],
       "layout": {
        "boxmode": "group",
        "legend": {
         "tracegroupgap": 0
        },
        "margin": {
         "t": 60
        },
        "template": {
         "data": {
          "bar": [
           {
            "error_x": {
             "color": "#2a3f5f"
            },
            "error_y": {
             "color": "#2a3f5f"
            },
            "marker": {
             "line": {
              "color": "#E5ECF6",
              "width": 0.5
             }
            },
            "type": "bar"
           }
          ],
          "barpolar": [
           {
            "marker": {
             "line": {
              "color": "#E5ECF6",
              "width": 0.5
             }
            },
            "type": "barpolar"
           }
          ],
          "carpet": [
           {
            "aaxis": {
             "endlinecolor": "#2a3f5f",
             "gridcolor": "white",
             "linecolor": "white",
             "minorgridcolor": "white",
             "startlinecolor": "#2a3f5f"
            },
            "baxis": {
             "endlinecolor": "#2a3f5f",
             "gridcolor": "white",
             "linecolor": "white",
             "minorgridcolor": "white",
             "startlinecolor": "#2a3f5f"
            },
            "type": "carpet"
           }
          ],
          "choropleth": [
           {
            "colorbar": {
             "outlinewidth": 0,
             "ticks": ""
            },
            "type": "choropleth"
           }
          ],
          "contour": [
           {
            "colorbar": {
             "outlinewidth": 0,
             "ticks": ""
            },
            "colorscale": [
             [
              0,
              "#0d0887"
             ],
             [
              0.1111111111111111,
              "#46039f"
             ],
             [
              0.2222222222222222,
              "#7201a8"
             ],
             [
              0.3333333333333333,
              "#9c179e"
             ],
             [
              0.4444444444444444,
              "#bd3786"
             ],
             [
              0.5555555555555556,
              "#d8576b"
             ],
             [
              0.6666666666666666,
              "#ed7953"
             ],
             [
              0.7777777777777778,
              "#fb9f3a"
             ],
             [
              0.8888888888888888,
              "#fdca26"
             ],
             [
              1,
              "#f0f921"
             ]
            ],
            "type": "contour"
           }
          ],
          "contourcarpet": [
           {
            "colorbar": {
             "outlinewidth": 0,
             "ticks": ""
            },
            "type": "contourcarpet"
           }
          ],
          "heatmap": [
           {
            "colorbar": {
             "outlinewidth": 0,
             "ticks": ""
            },
            "colorscale": [
             [
              0,
              "#0d0887"
             ],
             [
              0.1111111111111111,
              "#46039f"
             ],
             [
              0.2222222222222222,
              "#7201a8"
             ],
             [
              0.3333333333333333,
              "#9c179e"
             ],
             [
              0.4444444444444444,
              "#bd3786"
             ],
             [
              0.5555555555555556,
              "#d8576b"
             ],
             [
              0.6666666666666666,
              "#ed7953"
             ],
             [
              0.7777777777777778,
              "#fb9f3a"
             ],
             [
              0.8888888888888888,
              "#fdca26"
             ],
             [
              1,
              "#f0f921"
             ]
            ],
            "type": "heatmap"
           }
          ],
          "heatmapgl": [
           {
            "colorbar": {
             "outlinewidth": 0,
             "ticks": ""
            },
            "colorscale": [
             [
              0,
              "#0d0887"
             ],
             [
              0.1111111111111111,
              "#46039f"
             ],
             [
              0.2222222222222222,
              "#7201a8"
             ],
             [
              0.3333333333333333,
              "#9c179e"
             ],
             [
              0.4444444444444444,
              "#bd3786"
             ],
             [
              0.5555555555555556,
              "#d8576b"
             ],
             [
              0.6666666666666666,
              "#ed7953"
             ],
             [
              0.7777777777777778,
              "#fb9f3a"
             ],
             [
              0.8888888888888888,
              "#fdca26"
             ],
             [
              1,
              "#f0f921"
             ]
            ],
            "type": "heatmapgl"
           }
          ],
          "histogram": [
           {
            "marker": {
             "colorbar": {
              "outlinewidth": 0,
              "ticks": ""
             }
            },
            "type": "histogram"
           }
          ],
          "histogram2d": [
           {
            "colorbar": {
             "outlinewidth": 0,
             "ticks": ""
            },
            "colorscale": [
             [
              0,
              "#0d0887"
             ],
             [
              0.1111111111111111,
              "#46039f"
             ],
             [
              0.2222222222222222,
              "#7201a8"
             ],
             [
              0.3333333333333333,
              "#9c179e"
             ],
             [
              0.4444444444444444,
              "#bd3786"
             ],
             [
              0.5555555555555556,
              "#d8576b"
             ],
             [
              0.6666666666666666,
              "#ed7953"
             ],
             [
              0.7777777777777778,
              "#fb9f3a"
             ],
             [
              0.8888888888888888,
              "#fdca26"
             ],
             [
              1,
              "#f0f921"
             ]
            ],
            "type": "histogram2d"
           }
          ],
          "histogram2dcontour": [
           {
            "colorbar": {
             "outlinewidth": 0,
             "ticks": ""
            },
            "colorscale": [
             [
              0,
              "#0d0887"
             ],
             [
              0.1111111111111111,
              "#46039f"
             ],
             [
              0.2222222222222222,
              "#7201a8"
             ],
             [
              0.3333333333333333,
              "#9c179e"
             ],
             [
              0.4444444444444444,
              "#bd3786"
             ],
             [
              0.5555555555555556,
              "#d8576b"
             ],
             [
              0.6666666666666666,
              "#ed7953"
             ],
             [
              0.7777777777777778,
              "#fb9f3a"
             ],
             [
              0.8888888888888888,
              "#fdca26"
             ],
             [
              1,
              "#f0f921"
             ]
            ],
            "type": "histogram2dcontour"
           }
          ],
          "mesh3d": [
           {
            "colorbar": {
             "outlinewidth": 0,
             "ticks": ""
            },
            "type": "mesh3d"
           }
          ],
          "parcoords": [
           {
            "line": {
             "colorbar": {
              "outlinewidth": 0,
              "ticks": ""
             }
            },
            "type": "parcoords"
           }
          ],
          "pie": [
           {
            "automargin": true,
            "type": "pie"
           }
          ],
          "scatter": [
           {
            "marker": {
             "colorbar": {
              "outlinewidth": 0,
              "ticks": ""
             }
            },
            "type": "scatter"
           }
          ],
          "scatter3d": [
           {
            "line": {
             "colorbar": {
              "outlinewidth": 0,
              "ticks": ""
             }
            },
            "marker": {
             "colorbar": {
              "outlinewidth": 0,
              "ticks": ""
             }
            },
            "type": "scatter3d"
           }
          ],
          "scattercarpet": [
           {
            "marker": {
             "colorbar": {
              "outlinewidth": 0,
              "ticks": ""
             }
            },
            "type": "scattercarpet"
           }
          ],
          "scattergeo": [
           {
            "marker": {
             "colorbar": {
              "outlinewidth": 0,
              "ticks": ""
             }
            },
            "type": "scattergeo"
           }
          ],
          "scattergl": [
           {
            "marker": {
             "colorbar": {
              "outlinewidth": 0,
              "ticks": ""
             }
            },
            "type": "scattergl"
           }
          ],
          "scattermapbox": [
           {
            "marker": {
             "colorbar": {
              "outlinewidth": 0,
              "ticks": ""
             }
            },
            "type": "scattermapbox"
           }
          ],
          "scatterpolar": [
           {
            "marker": {
             "colorbar": {
              "outlinewidth": 0,
              "ticks": ""
             }
            },
            "type": "scatterpolar"
           }
          ],
          "scatterpolargl": [
           {
            "marker": {
             "colorbar": {
              "outlinewidth": 0,
              "ticks": ""
             }
            },
            "type": "scatterpolargl"
           }
          ],
          "scatterternary": [
           {
            "marker": {
             "colorbar": {
              "outlinewidth": 0,
              "ticks": ""
             }
            },
            "type": "scatterternary"
           }
          ],
          "surface": [
           {
            "colorbar": {
             "outlinewidth": 0,
             "ticks": ""
            },
            "colorscale": [
             [
              0,
              "#0d0887"
             ],
             [
              0.1111111111111111,
              "#46039f"
             ],
             [
              0.2222222222222222,
              "#7201a8"
             ],
             [
              0.3333333333333333,
              "#9c179e"
             ],
             [
              0.4444444444444444,
              "#bd3786"
             ],
             [
              0.5555555555555556,
              "#d8576b"
             ],
             [
              0.6666666666666666,
              "#ed7953"
             ],
             [
              0.7777777777777778,
              "#fb9f3a"
             ],
             [
              0.8888888888888888,
              "#fdca26"
             ],
             [
              1,
              "#f0f921"
             ]
            ],
            "type": "surface"
           }
          ],
          "table": [
           {
            "cells": {
             "fill": {
              "color": "#EBF0F8"
             },
             "line": {
              "color": "white"
             }
            },
            "header": {
             "fill": {
              "color": "#C8D4E3"
             },
             "line": {
              "color": "white"
             }
            },
            "type": "table"
           }
          ]
         },
         "layout": {
          "annotationdefaults": {
           "arrowcolor": "#2a3f5f",
           "arrowhead": 0,
           "arrowwidth": 1
          },
          "coloraxis": {
           "colorbar": {
            "outlinewidth": 0,
            "ticks": ""
           }
          },
          "colorscale": {
           "diverging": [
            [
             0,
             "#8e0152"
            ],
            [
             0.1,
             "#c51b7d"
            ],
            [
             0.2,
             "#de77ae"
            ],
            [
             0.3,
             "#f1b6da"
            ],
            [
             0.4,
             "#fde0ef"
            ],
            [
             0.5,
             "#f7f7f7"
            ],
            [
             0.6,
             "#e6f5d0"
            ],
            [
             0.7,
             "#b8e186"
            ],
            [
             0.8,
             "#7fbc41"
            ],
            [
             0.9,
             "#4d9221"
            ],
            [
             1,
             "#276419"
            ]
           ],
           "sequential": [
            [
             0,
             "#0d0887"
            ],
            [
             0.1111111111111111,
             "#46039f"
            ],
            [
             0.2222222222222222,
             "#7201a8"
            ],
            [
             0.3333333333333333,
             "#9c179e"
            ],
            [
             0.4444444444444444,
             "#bd3786"
            ],
            [
             0.5555555555555556,
             "#d8576b"
            ],
            [
             0.6666666666666666,
             "#ed7953"
            ],
            [
             0.7777777777777778,
             "#fb9f3a"
            ],
            [
             0.8888888888888888,
             "#fdca26"
            ],
            [
             1,
             "#f0f921"
            ]
           ],
           "sequentialminus": [
            [
             0,
             "#0d0887"
            ],
            [
             0.1111111111111111,
             "#46039f"
            ],
            [
             0.2222222222222222,
             "#7201a8"
            ],
            [
             0.3333333333333333,
             "#9c179e"
            ],
            [
             0.4444444444444444,
             "#bd3786"
            ],
            [
             0.5555555555555556,
             "#d8576b"
            ],
            [
             0.6666666666666666,
             "#ed7953"
            ],
            [
             0.7777777777777778,
             "#fb9f3a"
            ],
            [
             0.8888888888888888,
             "#fdca26"
            ],
            [
             1,
             "#f0f921"
            ]
           ]
          },
          "colorway": [
           "#636efa",
           "#EF553B",
           "#00cc96",
           "#ab63fa",
           "#FFA15A",
           "#19d3f3",
           "#FF6692",
           "#B6E880",
           "#FF97FF",
           "#FECB52"
          ],
          "font": {
           "color": "#2a3f5f"
          },
          "geo": {
           "bgcolor": "white",
           "lakecolor": "white",
           "landcolor": "#E5ECF6",
           "showlakes": true,
           "showland": true,
           "subunitcolor": "white"
          },
          "hoverlabel": {
           "align": "left"
          },
          "hovermode": "closest",
          "mapbox": {
           "style": "light"
          },
          "paper_bgcolor": "white",
          "plot_bgcolor": "#E5ECF6",
          "polar": {
           "angularaxis": {
            "gridcolor": "white",
            "linecolor": "white",
            "ticks": ""
           },
           "bgcolor": "#E5ECF6",
           "radialaxis": {
            "gridcolor": "white",
            "linecolor": "white",
            "ticks": ""
           }
          },
          "scene": {
           "xaxis": {
            "backgroundcolor": "#E5ECF6",
            "gridcolor": "white",
            "gridwidth": 2,
            "linecolor": "white",
            "showbackground": true,
            "ticks": "",
            "zerolinecolor": "white"
           },
           "yaxis": {
            "backgroundcolor": "#E5ECF6",
            "gridcolor": "white",
            "gridwidth": 2,
            "linecolor": "white",
            "showbackground": true,
            "ticks": "",
            "zerolinecolor": "white"
           },
           "zaxis": {
            "backgroundcolor": "#E5ECF6",
            "gridcolor": "white",
            "gridwidth": 2,
            "linecolor": "white",
            "showbackground": true,
            "ticks": "",
            "zerolinecolor": "white"
           }
          },
          "shapedefaults": {
           "line": {
            "color": "#2a3f5f"
           }
          },
          "ternary": {
           "aaxis": {
            "gridcolor": "white",
            "linecolor": "white",
            "ticks": ""
           },
           "baxis": {
            "gridcolor": "white",
            "linecolor": "white",
            "ticks": ""
           },
           "bgcolor": "#E5ECF6",
           "caxis": {
            "gridcolor": "white",
            "linecolor": "white",
            "ticks": ""
           }
          },
          "title": {
           "x": 0.05
          },
          "xaxis": {
           "automargin": true,
           "gridcolor": "white",
           "linecolor": "white",
           "ticks": "",
           "title": {
            "standoff": 15
           },
           "zerolinecolor": "white",
           "zerolinewidth": 2
          },
          "yaxis": {
           "automargin": true,
           "gridcolor": "white",
           "linecolor": "white",
           "ticks": "",
           "title": {
            "standoff": 15
           },
           "zerolinecolor": "white",
           "zerolinewidth": 2
          }
         }
        },
        "xaxis": {
         "anchor": "y",
         "domain": [
          0,
          1
         ],
         "title": {
          "text": "Origin"
         }
        },
        "yaxis": {
         "anchor": "x",
         "domain": [
          0,
          1
         ],
         "title": {
          "text": "Gram_Price"
         }
        }
       }
      },
      "text/html": [
       "<div>\n",
       "        \n",
       "        \n",
       "            <div id=\"578a3175-879b-409e-a7de-52afdd6d5512\" class=\"plotly-graph-div\" style=\"height:525px; width:100%;\"></div>\n",
       "            <script type=\"text/javascript\">\n",
       "                require([\"plotly\"], function(Plotly) {\n",
       "                    window.PLOTLYENV=window.PLOTLYENV || {};\n",
       "                    \n",
       "                if (document.getElementById(\"578a3175-879b-409e-a7de-52afdd6d5512\")) {\n",
       "                    Plotly.newPlot(\n",
       "                        '578a3175-879b-409e-a7de-52afdd6d5512',\n",
       "                        [{\"alignmentgroup\": \"True\", \"hovertemplate\": \"Origin=%{x}<br>Gram_Price=%{y}<extra></extra>\", \"legendgroup\": \"\", \"marker\": {\"color\": \"#636efa\"}, \"name\": \"\", \"notched\": false, \"offsetgroup\": \"\", \"orientation\": \"v\", \"showlegend\": false, \"type\": \"box\", \"x\": [\"Australia\", \"United States\", \"Australia\", \"Australia\", \"Australia\", \"United States\", \"United Kingdom\", \"United States\", \"Unknown\", \"United States\", \"United Kingdom\", \"United Kingdom\", \"United Kingdom\", \"United Kingdom\", \"United Kingdom\", \"United States\", \"United States\", \"Germany\", \"Australia\", \"United States\", \"Australia\", \"Netherlands\", \"United States\", \"United States\", \"United States\", \"United States\", \"Australia\", \"Unknown\", \"Germany\", \"Canada\", \"Australia\", \"Germany\", \"Canada\", \"United Kingdom\", \"Canada\", \"Germany\", \"Unknown\", \"Australia\", \"Unknown\", \"Czech Republic\", \"Greece\", \"Panama\", \"United Kingdom\", \"Germany\", \"Panama\", \"Germany\", \"Czech Republic\", \"Australia\", \"Canada\", \"United Kingdom\", \"United States\", \"Australia\", \"Canada\", \"Panama\", \"United Kingdom\", \"United Kingdom\", \"Germany\", \"Sweden\", \"United Kingdom\", \"United Kingdom\", \"Germany\", \"France\", \"Germany\", \"United Kingdom\", \"United States\", \"Panama\", \"United States\", \"Germany\", \"United Kingdom\", \"United States\", \"Australia\", \"United States\", \"Australia\", \"Panama\", \"United States\", \"Sweden\", \"United Kingdom\", \"Panama\", \"Australia\", \"United Kingdom\", \"France\", \"Germany\", \"United Kingdom\", \"France\", \"United States\", \"Germany\", \"Belgium\", \"Germany\", \"United Kingdom\", \"United Kingdom\", \"United States\", \"Netherlands\", \"United States\", \"United Kingdom\", \"Greece\", \"Unknown\", \"United Kingdom\", \"France\", \"Netherlands\", \"Belgium\", \"United Kingdom\", \"Unknown\", \"France\", \"Unknown\", \"Netherlands\", \"France\", \"Germany\", \"Unknown\", \"United Kingdom\", null, \"Germany\", \"France\", \"United States\", \"United States\", \"Germany\", \"Netherlands\", \"Belgium\", \"Belgium\", \"United Kingdom\", \"Germany\", \"Germany\", \"United Kingdom\", \"Spain\", \"Australia\", \"United Kingdom\", \"United Kingdom\", \"United Kingdom\", \"United States\", \"Unknown\", \"United States\", \"Netherlands\", \"United Kingdom\", \"United States\", \"United States\", \"United Kingdom\", \"Germany\", \"United States\", \"United Kingdom\", \"United States\", \"United States\", \"Colombia\", \"United States\", \"Germany\", \"Netherlands\", \"United States\", \"United Kingdom\", \"United States\", \"Canada\", \"Unknown\", \"United States\", \"United States\", \"United States\", \"Ireland\", \"United States\", \"United Kingdom\", \"Germany\", \"United States\", \"Mexico\", \"Mexico\", \"Mexico\", \"Spain\", \"United Kingdom\", \"United Kingdom\", \"United States\", \"United States\", \"United States\", \"Germany\", \"Germany\", \"United States\", \"United States\", \"United Kingdom\", \"Greece\", \"United Kingdom\", \"United Kingdom\", \"Bolivia\", \"United States\", \"United Kingdom\", \"Canada\", \"Croatia\", \"United Kingdom\", \"United States\", \"United Kingdom\", \"United States\", \"United Kingdom\", \"Argentina\", \"Australia\", \"United States\", \"Canada\", \"United Kingdom\", \"United States\", \"United Kingdom\", \"Croatia\", \"United States\", \"United Kingdom\", \"Mexico\", \"United Kingdom\", \"Bolivia\", \"Argentina\", \"Mexico\", \"Mexico\", \"United States\", \"Mexico\", \"Mexico\", \"Germany\", \"United States\", \"United States\", \"Australia\", \"United Kingdom\", \"Argentina\", \"United States\", \"United States\", \"United Kingdom\", \"United Kingdom\", \"United Kingdom\", \"United States\", \"United States\", \"United States\", \"United States\", \"Unknown\", \"United States\", \"Canada\", \"United States\", \"United Kingdom\", \"United Kingdom\", \"Mexico\", \"Mexico\", \"United States\", \"United States\", \"Mexico\", \"Mexico\", \"United States\", \"Croatia\", \"United States\", \"United States\", \"Unknown\", \"Germany\", \"France\", \"Germany\", \"Croatia\", \"United States\", \"Germany\", \"Netherlands\", \"Germany\", \"Unknown\", \"Unknown\", \"Spain\", \"Unknown\", \"Croatia\", \"United Kingdom\", \"Belgium\", \"Belgium\", \"Germany\", \"Unknown\", \"Unknown\", \"France\", \"Croatia\", \"Germany\", \"Germany\", \"Netherlands\", \"Canada\", \"Croatia\", \"Croatia\", \"Luxembourg\", \"France\", \"Croatia\", \"United Kingdom\", \"Croatia\", \"Croatia\", \"Croatia\", \"Croatia\", \"Croatia\", \"Croatia\", \"Croatia\", \"United States\", \"Croatia\", \"France\", \"Netherlands\", \"United Kingdom\", \"Australia\", \"Croatia\", \"Croatia\", \"Croatia\", \"Croatia\", \"Croatia\", \"Croatia\", \"Canada\", \"Croatia\", \"Croatia\", \"Croatia\", \"Croatia\", \"Croatia\", \"Croatia\", \"France\", \"Croatia\", \"Netherlands\", \"Croatia\", \"Luxembourg\", \"Croatia\", \"Australia\", \"Croatia\", \"Croatia\", \"United Kingdom\", \"Australia\", \"United Kingdom\", \"United States\", \"France\", \"France\", \"France\", \"United States\", \"Croatia\", \"Croatia\", \"Croatia\", \"Croatia\", \"Croatia\", \"United States\", \"Australia\", \"Canada\", \"Germany\", \"Unknown\", \"Germany\", \"Norway\", \"Netherlands\", \"Spain\", \"United States\", \"Germany\", \"Germany\", \"Canada\", \"United States\", \"United States\", \"United States\", \"Canada\", \"Germany\", \"Australia\", \"Germany\", \"United States\", \"United States\", \"Netherlands\", \"Unknown\", \"United States\", \"Netherlands\", \"Germany\", \"Netherlands\", \"Unknown\", \"Unknown\", \"Germany\", \"United States\", \"Germany\", \"Germany\", \"United Kingdom\", \"Sweden\", \"France\", \"United States\", \"Germany\", \"United States\", \"United States\", \"United States\", \"Norway\", \"United States\", \"France\", \"Sweden\", \"United States\", \"Australia\", \"Canada\", \"United Kingdom\", \"United Kingdom\", \"United States\", \"Australia\", \"United States\", \"Canada\", \"Spain\", \"Germany\", \"United States\", \"United States\", \"France\", \"Germany\", \"France\", \"Australia\", \"United States\", \"United States\", \"United States\", \"Australia\", \"Netherlands\", \"Australia\", \"United Kingdom\", \"Australia\", \"United States\", \"Canada\", \"United States\", \"Spain\", \"United States\", \"United States\", \"United Kingdom\", \"Canada\", \"United States\", \"Australia\", \"Australia\", \"Canada\", \"Spain\", \"Spain\", \"Spain\", \"Unknown\", \"Germany\", \"Canada\", \"United Kingdom\", \"United Kingdom\", \"United Kingdom\", \"United Kingdom\", \"Canada\", \"United States\", \"Canada\", \"United Kingdom\", \"United Kingdom\", \"Australia\", \"Ireland\", \"Unknown\", \"Unknown\", \"United Kingdom\", \"Unknown\", \"Canada\", \"United Kingdom\", \"Australia\", \"United Kingdom\", \"Unknown\", \"United Kingdom\", \"United Kingdom\", \"Canada\", \"United Kingdom\", \"United States\", \"United Kingdom\", \"United Kingdom\", \"Belgium\", \"United Kingdom\", \"United Kingdom\", \"Belgium\", \"United Kingdom\", \"United Kingdom\", \"United Kingdom\", \"Australia\", \"Belgium\", \"Canada\", \"United Kingdom\", \"United Kingdom\", \"United States\", \"Canada\", \"United States\", \"Belgium\", \"United Kingdom\", \"United Kingdom\", \"United States\", \"Unknown\", \"United States\", \"United States\", \"Australia\", \"United States\", \"United Kingdom\", \"United States\", \"Canada\", \"Australia\", \"United Kingdom\", \"Germany\", \"United Kingdom\", \"United Kingdom\", \"United States\", \"Spain\", \"United States\", \"United States\", \"United Kingdom\", \"Canada\", \"Unknown\", \"Unknown\", \"United Kingdom\", \"Unknown\", \"Canada\", \"United Kingdom\", \"Unknown\", \"United Kingdom\", \"Netherlands\", \"United States\", \"United Kingdom\", \"Netherlands\", \"United States\", \"Unknown\", \"Unknown\", \"United Kingdom\", \"Netherlands\", \"Colombia\", \"Netherlands\", \"Australia\", \"Unknown\", \"Canada\", \"Unknown\", \"Unknown\", \"Australia\", \"United States\", \"Unknown\", \"Unknown\", \"Unknown\", \"Unknown\", \"Australia\", \"United Kingdom\", \"Unknown\", \"Germany\", \"United States\", \"United Kingdom\", \"Germany\", \"Canada\", \"United States\", \"United Kingdom\", \"United States\", \"Canada\", \"United Kingdom\", \"United Kingdom\", \"United Kingdom\", \"United Kingdom\", \"United Kingdom\", \"United Kingdom\", \"United Kingdom\", \"Canada\", \"United Kingdom\", \"United Kingdom\", \"United States\", \"United States\", \"Canada\", \"United Kingdom\", \"United Kingdom\", \"United Kingdom\", \"United States\", \"United States\", \"Spain\", \"United Kingdom\", \"United States\", \"United States\", \"Colombia\", \"Canada\", \"United States\", \"United Kingdom\", \"United States\", \"Canada\", \"Netherlands\", \"Australia\", \"United States\", \"Unknown\", \"United Kingdom\", \"United Kingdom\", \"Unknown\", \"Czech Republic\", \"Canada\", \"Unknown\", \"Canada\", \"Unknown\", \"Unknown\", \"Germany\", \"Canada\", \"Netherlands\", \"Germany\", \"United Kingdom\", \"Unknown\", \"Germany\", \"United Kingdom\", \"United States\", \"Unknown\", \"Netherlands\", \"Belgium\", \"Canada\", \"Netherlands\", \"Canada\", \"United Kingdom\", \"Unknown\", \"Canada\", \"Belgium\", \"Canada\", \"Netherlands\", \"Unknown\", \"Unknown\", \"Netherlands\", \"Ireland\", \"Netherlands\", \"Unknown\", \"Netherlands\", \"Canada\", \"Netherlands\", \"Unknown\", \"Unknown\", \"Unknown\", \"Unknown\", \"Unknown\", \"Unknown\", \"Unknown\", \"Unknown\", \"Unknown\", \"Unknown\", \"United States\", \"Unknown\", \"United Kingdom\", \"Austria\", \"Canada\", \"United Kingdom\", \"Australia\", \"United Kingdom\", \"Unknown\", \"Unknown\", \"Unknown\", \"Unknown\", \"United Kingdom\", \"United Kingdom\", \"United Kingdom\", \"Canada\", \"Sweden\", \"United Kingdom\", \"United Kingdom\", \"Australia\", \"Canada\", \"United Kingdom\", \"United Kingdom\", \"United States\", \"United Kingdom\", \"United Kingdom\", \"Australia\", \"Canada\", \"United Kingdom\", \"Unknown\", \"United States\", \"Unknown\", \"Netherlands\", \"Sweden\", \"Unknown\", \"Australia\", \"Norway\", \"Norway\", \"Netherlands\", \"Netherlands\", \"Netherlands\", \"Netherlands\", \"Netherlands\", \"Netherlands\", \"United States\", \"Germany\", \"Germany\", \"United States\", \"Unknown\", \"Netherlands\", \"Germany\", \"Germany\", \"United Kingdom\", \"United Kingdom\", \"Sweden\", \"Netherlands\", \"Netherlands\", \"United States\", \"Netherlands\", \"Netherlands\", \"United States\", \"Netherlands\", \"Saint Martin\", \"Belgium\", \"Germany\", \"Germany\", \"United States\", \"Netherlands\", \"Netherlands\", \"Germany\", \"United States\", \"United Kingdom\", \"Australia\", \"United Kingdom\", \"United Kingdom\", \"Belgium\", \"United States\", \"United States\", \"Canada\", \"United States\", \"Netherlands\", \"Netherlands\", \"United States\", \"Canada\", \"Netherlands\", \"United Kingdom\", \"United Kingdom\", \"Netherlands\", \"Canada\", \"Netherlands\", \"Canada\", \"Germany\", \"Germany\", \"Germany\", \"United States\", \"Australia\", \"Australia\", \"Australia\", \"Australia\", \"Australia\", \"Netherlands\", \"United States\", \"Australia\", \"United States\", \"Australia\", \"United Kingdom\", \"United States\", \"Germany\", \"United States\", \"United States\", \"Germany\", \"United Kingdom\", \"Australia\", \"Australia\", \"United States\", \"United States\", \"Germany\", \"United Kingdom\", \"Italy\", \"Netherlands\", \"United States\", \"Netherlands\", \"Netherlands\", \"United Kingdom\", \"Germany\", \"Italy\", \"United Kingdom\", \"Italy\", \"Netherlands\", \"Australia\", \"Germany\", \"Australia\", \"United Kingdom\", \"United States\", \"Germany\", \"Germany\", \"United Kingdom\", \"Netherlands\", \"Germany\", \"United Kingdom\", \"United Kingdom\", \"United Kingdom\", \"United States\", \"Germany\", \"United States\", \"Australia\", \"United Kingdom\", \"United Kingdom\", \"Germany\", \"United States\", \"United Kingdom\", \"Australia\", \"United Kingdom\", \"Germany\", \"Germany\", \"Netherlands\", \"United States\", \"Australia\", \"Australia\", \"Netherlands\", \"United States\", \"United Kingdom\", \"Ireland\", \"Australia\", \"Australia\", \"Netherlands\", \"United Kingdom\", \"Australia\", \"United Kingdom\", \"Australia\", \"Canada\", \"Australia\", \"United Kingdom\", \"Netherlands\", \"United Kingdom\", \"Australia\", \"Netherlands\", \"Netherlands\", \"Netherlands\", \"Canada\", \"United States\", \"Netherlands\", \"United Kingdom\", \"Netherlands\", \"Australia\", \"United States\", \"Australia\", \"United Kingdom\", \"Australia\", \"Netherlands\", \"Canada\", \"Netherlands\", \"Netherlands\", \"Unknown\", \"United Kingdom\", \"Netherlands\", \"Italy\", \"United States\", \"Netherlands\", \"Netherlands\", \"Netherlands\", \"Australia\", \"United States\", \"Italy\", \"United Kingdom\", \"United States\", \"Australia\", \"Italy\", \"United Kingdom\", \"Unknown\", \"United Kingdom\", \"United Kingdom\", \"United Kingdom\", \"United Kingdom\", \"Argentina\", \"United Kingdom\", \"Australia\", \"Netherlands\", \"Unknown\", \"United Kingdom\", \"United Kingdom\", \"Thailand\", \"Unknown\", \"Germany\", \"United Kingdom\", \"United Kingdom\", \"Germany\", \"United Kingdom\", \"Italy\", \"Australia\", \"United States\", \"Australia\", \"Thailand\", \"Australia\", \"Netherlands\", \"Unknown\", \"United Kingdom\", \"Netherlands\", \"Italy\", \"Australia\", \"Germany\", \"United Kingdom\", \"United Kingdom\", \"Italy\", \"United States\", \"United Kingdom\", \"United States\", \"United Kingdom\", \"United Kingdom\", \"Australia\", \"Thailand\", \"Netherlands\", \"Canada\", \"Netherlands\", \"United Kingdom\", \"United Kingdom\", \"Netherlands\", \"Ireland\", \"Ireland\", \"Germany\", \"Netherlands\", \"Australia\", \"Australia\", \"Italy\", \"Netherlands\", \"Netherlands\", \"United States\", \"United Kingdom\", \"United Kingdom\", \"United Kingdom\", \"Germany\", \"United Kingdom\", \"Australia\", \"Australia\", \"Canada\", \"Australia\", \"Netherlands\", \"Germany\", \"Unknown\", \"Netherlands\", \"Unknown\", \"Netherlands\", \"United Kingdom\", \"United States\", \"United States\", \"United States\", \"Australia\", \"United Kingdom\", \"Australia\", \"Netherlands\", \"Netherlands\", \"United States\", \"Australia\", \"Netherlands\", \"Germany\", \"Finland\", \"Netherlands\", \"Italy\", \"Unknown\", \"United States\", \"Germany\", \"United Kingdom\", \"Australia\", \"Germany\", \"Netherlands\", \"Unknown\", \"United Kingdom\", \"China\", \"Germany\", \"Unknown\", \"United Kingdom\", \"Unknown\", \"Australia\", \"Netherlands\", \"United States\", \"Italy\", \"Canada\", \"Netherlands\", \"United Kingdom\", \"Australia\", \"Netherlands\", \"United Kingdom\", \"Germany\", \"Germany\", \"Australia\", \"United Kingdom\", \"Australia\", \"Unknown\", \"Australia\", \"Australia\", \"Germany\", \"Australia\", \"Canada\", \"Australia\", \"Germany\", \"Australia\", \"Unknown\", \"Unknown\", \"United States\", \"Germany\", \"Canada\", \"Australia\", \"Australia\", \"Australia\", \"Australia\", \"Australia\", \"Australia\", \"United Kingdom\", \"Netherlands\", \"United States\", \"Germany\", \"United Kingdom\", \"Netherlands\", \"United Kingdom\", \"United Kingdom\", \"United Kingdom\", \"Australia\", \"Netherlands\", \"United States\", \"United States\", \"Netherlands\", \"Australia\", \"Australia\", \"Australia\", \"Australia\", \"Australia\", \"Australia\", \"Australia\", \"Australia\", \"Australia\", \"Australia\", \"United States\", \"Netherlands\", \"United States\", \"Belgium\", \"United States\", \"Netherlands\", \"United States\", \"United Kingdom\", \"United States\", \"United Kingdom\", \"United States\", \"United Kingdom\", \"Germany\", \"Netherlands\", \"Germany\", \"United Kingdom\", \"Canada\", \"United Kingdom\", \"United Kingdom\", \"United Kingdom\", \"United States\", \"Netherlands\", \"United States\", \"United Kingdom\", \"Netherlands\", \"United Kingdom\", \"United Kingdom\", \"Unknown\", \"Netherlands\", \"Germany\", \"United Kingdom\", \"Australia\", \"Germany\", \"Canada\", \"United Kingdom\", \"United States\", \"Germany\", \"Netherlands\", \"Norway\", \"United Kingdom\", \"Germany\", \"United Kingdom\", \"United Kingdom\", \"Canada\", \"Australia\", \"United Kingdom\", \"United Kingdom\", \"United Kingdom\", \"Belgium\", \"United Kingdom\", \"United States\", \"United Kingdom\", \"United States\", \"United Kingdom\", \"United States\", \"Netherlands\", \"United States\", \"United Kingdom\", \"United Kingdom\", \"Canada\", \"United States\", \"United Kingdom\", \"Germany\", \"United Kingdom\", \"United Kingdom\", \"Australia\", \"United Kingdom\", \"United Kingdom\", \"United States\", \"United States\", \"United Kingdom\", \"Australia\", \"Germany\", \"United States\", \"United States\", \"Unknown\", \"Netherlands\", \"Germany\", \"Unknown\", \"Netherlands\", \"United Kingdom\", \"Netherlands\", \"United States\", \"Germany\", \"Australia\", \"United Kingdom\", \"Australia\", \"Australia\", \"United States\", \"United States\", \"United States\", \"Unknown\", \"Australia\", \"Germany\", \"United States\", \"United Kingdom\", \"Netherlands\", \"Germany\", \"Canada\", \"United States\", \"Germany\", \"Australia\", \"Canada\", \"Netherlands\", \"Canada\", \"Germany\", \"Unknown\", \"Canada\", \"Netherlands\", \"Netherlands\", \"Germany\", \"United Kingdom\", \"United Kingdom\", \"Belgium\", \"Canada\", \"United Kingdom\", \"Australia\", \"United Kingdom\", \"United Kingdom\", \"United Kingdom\", \"United States\", \"Germany\", \"United States\", \"United States\", \"Netherlands\", \"Australia\", \"Australia\", \"Canada\", \"Australia\", \"Netherlands\", \"United Kingdom\", \"United States\", \"Australia\", \"United States\", \"United States\", \"United States\", \"United Kingdom\", \"Netherlands\", \"Netherlands\", \"Netherlands\", \"Netherlands\", \"Netherlands\", \"United States\", \"Canada\", \"United Kingdom\", \"Australia\", \"United States\", \"United States\", \"United States\", \"United Kingdom\", \"United Kingdom\", \"United Kingdom\", \"Australia\", \"United Kingdom\", \"United States\", \"United States\", \"United Kingdom\", \"United States\", \"United States\", \"Spain\", \"United States\", \"United Kingdom\", \"United States\", \"United States\", \"Netherlands\", \"Netherlands\", \"United States\", \"United States\", \"United States\", \"United States\", \"United States\", \"Netherlands\", \"United States\", \"United States\"], \"x0\": \" \", \"xaxis\": \"x\", \"y\": [470.6260850984, 110.4639757578, 283.10685997999997, 549.2590205608, 366.17341561994283, 100.714431697, 69.78518849358571, 22.007806198125, 61.06586285800001, 110.0799113794286, 105.73310701428571, 100.69812037142857, 110.76777116, 90.62834864642856, 90.62833520904762, 126.04404897, 157.55535526, 162.9827508568, 218.6174718, 85.06212746780001, 177.95551181919998, 95.60353808026, 52.763331267800005, 60.300873754, 73.98032596304999, 48.0872129882, 263.86692856999997, 100.7633019153, 91.194135785578, 96.1744259764, 320.246568306, 83.3774923721992, 97.654031161, 162.1518798956, 90.62590653414999, 80.59824395518842, 106.259480402, 250.9244539208, 98.46014416065, 103.57248749036, 111.59747190106667, 55.36375288928571, 166.44110286999998, 91.9035876895, 65.329107356, 99.654513094, 110.727989992, 291.9210181235, 119.8245445145, 116.234222995, 118.26816150171429, 311.8275163855, 123.8139789525, 39.45479964021429, 136.589829212, 66.89166408999999, 120.3404255013, 189.096480766, 149.774960872, 78.790482777, 133.339304466, 148.15478274, 131.80691422860005, 163.354968583, 106.52804376592857, 27.929597008366073, 119.5177953075, 118.566194867, 146.4261408, 83.78880615676785, 284.524294842, 114.91038348128573, 270.29822536392857, 30.92205112860714, 51.105216838357144, 174.2900411426667, 125.49480481642856, 21.026244720852, 259.62852193867855, 40.69741235128571, 72.92229527399998, 78.39096533819999, 102.203679606, 85.0753417112, 28.745077769975, 85.16829848685714, 147.1754408464, 95.5979626445, 91.89747964318572, 104.8670538073, 72.9544284804, 51.29242988346, 44.75218432999999, 179.771900972, 95.9129350114, 27.473891472000002, 127.36264133359997, 140.227973846, 107.9146876018, 63.28701944659999, 148.5899713698, 22.707465856, 113.80845320899999, 90.40964524268573, 59.74968897539999, 121.9374849864, 67.80722436856, 94.0271174608, 171.77876587999998, 78.10154333333332, 95.037291748164, 141.0744830021, 107.67703576279997, 92.41548414457144, 69.178917311178, 103.2908530892, 51.06809993628, 41.1720095836, 112.3577728284, 125.3904657908, 78.67434005213998, 226.48527059999998, 68.80250072, 181.7944032775, 159.98516079, 177.76204849, 128.768627325, 55.69739214928571, 261.7548, 93.20480782928571, 112.690676496, 35.42962230080357, 74.5417684925, 74.5417684925, 52.553936824821434, 82.49267960699999, 65.31261364767856, 54.32541696607143, 99.3888428825, 68.633199205, 64.43105308450001, 68.63335501142858, 79.41862032934999, 134.71510709375, 61.63001185357143, 130.35734410916666, 68.28321901482143, 98.4879701125, 34.764309374999996, 99.89482425928573, 108.3364944625, 98.4879701125, 155.47144475, 95.48421692767856, 173.930611375, 125.514916664, 165.96781223, 99.838224317, 96.3352006385, 91.95632187199999, 40.54532068, 201.032385741, 192.6556712685, 92.58757160399999, 90.07549600499999, 135.1132440075, 65.7119925, 101.0844451485, 118.67067301885713, 80.06706782485715, 160.134493266, 105.53784075449998, 47.79912685467856, 43.01927228185714, 70.05863428047, 90.07528739550001, 114.71794021285713, 57.190711644, 60.050254110313496, 101.57317250496429, 80.0669963016, 184.02612208199997, 92.076895548, 159.178227318, 74.91989662457142, 230.1928646985, 92.076895548, 80.42446060039286, 130.491500535, 85.78606746599999, 63.81188776992857, 60.050254110313496, 100.083745377, 75.06280903274998, 70.05868434675, 175.310834391, 76.0638217185, 80.067246633, 62.909711285142855, 57.190711644, 85.071371319, 80.067246633, 52.18654225596429, 94.6792156167, 32.5272016018125, 55.04599737449999, 200.167490754, 127.1822445927, 68.05697188949999, 80.067246633, 67.91397007725, 66.918589848, 100.377884772, 47.799171556714285, 57.1875825015, 60.872371305428565, 38.961176777678574, 41.46328382271429, 37.2534149735, 21.2677646011875, 60.050211464571426, 62.909800689214286, 66.918589848, 150.5674529865, 46.46745321075, 83.217667302, 80.067246633, 92.076895548, 66.57392105990999, 69.34783078673999, 64.33964000357143, 88.84213002000001, 82.21673502000002, 71.52548083714285, 40.709034972, 162.50698746000003, 127.17933968571428, 110.42325, 87.23364636857143, 43.557607777499996, 134.062617294, 70.55898444, 60.980640372, 42.347701980000004, 40.65378428571428, 127.00650852, 96.55282782, 55.89892791288, 92.51288321616, 46.69326, 51.67808100000001, 112.89483783, 29.219884920000005, 35.063861904, 127.00650852, 45.73548616824, 66.06238143600001, 63.013353624000004, 56.447397882000004, 67.10499025071428, 71.09501212764, 85.60418981142858, 47.32425, 138.67084944, 71.09501212764, 115.56131142857144, 85.60418981142858, 81.25144651800001, 87.0551062457143, 76.17323298857143, 72.545929884, 85.60418981142858, 76.17322637820001, 97.93700955, 60.938582364540004, 141.02121708, 63.45950562, 119.64706182, 72.18306730602, 567.84010014, 76.9952675304, 76.9952675304, 92.394351324, 76.9952675304, 76.9952675304, 82.49494151571427, 72.183068568, 72.18306255857144, 72.183068568, 92.394351324, 88.89419090160001, 76.8026241801, 154.55039986800003, 656.7179862600001, 58.729183920000004, 79.50582169714286, 47.32425, 93.57489154800001, 24.45170382, 82.2404686572, 71.96041070604, 127.83058146, 165.70554588, 62.36621028, 43.86305952000001, 157.85182368000002, 111.81163833, 112.0722372, 91.43171298, 72.18306255857144, 66.4084226619, 72.18306255857144, 82.49494151571427, 76.9952675304, 78.92014278857143, 173.23937017199998, 115.9023465, 156.02453637212, 137.2635294394, 85.10428859334999, 125.79100079962, 76.99895633128399, 113.47241392838, 71.7051614981, 120.56440811214799, 127.656432890025, 94.2407821875, 42.07178556689643, 92.19228806059999, 79.38760450321999, 51.21781640625, 99.2883731138, 371.7748049222999, 42.552139926088, 102.66939678004285, 69.66849917457857, 100.10265717777, 105.1056244108, 71.8686214519, 85.22085214864, 30.800820282752003, 102.66937180526, 98.00407612385, 99.36467107542856, 71.8686214519, 97.02266081299999, 174.3864213, 51.13254625388, 65.23844097290001, 155.4766395858, 99.1445808015, 80.3685390495, 120.38974197328, 52.97017204542143, 69.57943285521428, 80.02076519821428, 205.6518524632, 102.8258013576857, 165.1618603778, 159.3800108355, 77.1194446737, 322.6117575571429, 94.01220048740001, 59.22567875076667, 45.58981152635, 80.5993496784, 392.1467014928, 42.38008277933333, 65.689046746188, 124.54151529444, 176.2381087588, 131.1238129957, 90.81433825911428, 183.5812904674, 190.92447217600002, 146.8649449863, 483.536340786, 80.00957544685714, 90.57696704514285, 126.807579726, 43.63747629100001, 123.8175366016, 386.32726116999993, 80.24999754359997, 386.3277868032, 128.598790546, 91.8565042328, 76.77218302102857, 96.73287851965713, 109.623966758, 120.585507012, 163.918473734, 109.278762894, 98.3511030628571, 386.220539146, 447.202382808, 131.135306016, 131.209090048, 111.824970784, 119.27979315999998, 47.687930454699995, 105.7363019422, 124.23616634965715, 95.3822880621, 97.1483178978, 150.138414036, 167.8015877265, 84.90594884056073, 72.35489219399999, 113.700271035, 90.6322371201, 87.99239343375, 203.7742279259143, 170.76917835565715, 39.622798489299996, 35.06984709470357, 80.45018828228571, 98.19551435849999, 105.947844774525, 135.5083338102, 27.213904446767998, 76.02542792676, 31.009126141421998, 143.42767318035, 87.9921059004, 124.03646513254286, 89.8524466749, 103.4999295993, 82.2178611657, 143.58754172295, 116.10855453015, 149.75426948039998, 172.65802600799992, 140.7377986911, 132.1359509925, 120.683928962025, 102.8196256932, 341.5505152644, 112.59012393953999, 139.7251062324, 74.24768316085714, 80.60278633875, 100.602168498, 134.55036853245, 97.10541792197999, 126.49655939895, 64.37296639799999, 64.07142606623572, 88.892821371276, 41.3455705299, 90.96008264576999, 73.83125271767143, 349.8930078813, 86.825548595448, 63.3545232723, 83.724639431706, 113.6998876572, 262.8393286829143, 129.52480313448, 112.5071993214, 100.4265292753, 109.5567775906, 104.19932327720001, 72.5048766086, 122.6322408732, 94.2973449471857, 88.68834740625714, 122.6322408732, 39.98201631140358, 102.5954361674, 137.5258327323714, 45.413542529775, 95.05158477763999, 155.6210852209, 52.80671164059999, 80.13720671164286, 76.915479329848, 73.92890012139999, 83.23921877346667, 79.652643548994, 41.74223560261905, 29.571609666104, 38.2846643681625, 97.715550715, 74.165191270314, 35.855578580809, 87.80264766502998, 27.705171322228, 90.52525976734286, 90.5253483701, 41.490788361410715, 38.02062150667, 148.4205717301375, 39.22765243708928, 31.155804813129, 43.565289015775, 33.94699456344286, 39.6048011482125, 197.8939922703, 149.58945252840002, 45.75750581656666, 122.0740435032, 79.195802417, 144.6884796198, 143.6167406694, 100.16346768934285, 116.1534300654, 82.67904260855713, 78.44126133717143, 93.1339907459, 162.77389720228572, 325.54814881560003, 147.83175103219997, 77.51164120922859, 96.1817483861, 142.87961003135, 137.27225164142857, 68.6359486152, 85.90874601055, 116.15347436677857, 84.47510909859999, 105.5941964829, 93.52614654901427, 118.8510296093714, 131.9925905488, 129.18600961354286, 58.0767150327, 56.56825309234286, 86.1695482262, 142.55194817516, 84.47510909859999, 79.00698994152857, 93.97872943249999, 121.0072663072, 65.7649534755, 69.52259640592857, 63.88591050339285, 126.735611762, 71.8511654664, 108.84174005004357, 71.66589710121428, 63.367805881, 77.55213266924285, 95.05162021874285, 42.245307290549995, 116.17420741195, 211.2256061238, 103.500633831364, 113.53393385185, 211.2256061238, 126.73548771813998, 120.70052356197142, 111.64797986468571, 98.54019429628, 114.9626090094, 166.47802406739999, 42.24520392066667, 93.40719734755, 99.52535063239999, 49.034537858, 78.98926939009999, 122.0740435032, 126.71297375755, 98.05162097284287, 129.2549425586, 114.04170739276, 59.75474049953929, 71.80824629084, 112.6336855379, 131.9925905488, 105.59407243903999, 105.66073715351429, 64.41145775738572, 71.56830116422142, 100.19560833949643, 200.3909951721, 114.50931730385715, 68.70553722065999, 93.03878708335, 108.67672737831428, 78.3049651254, 114.63161448999001, 88.57897711137001, 140.6842017483, 122.81960485367142, 89.32334247535714, 138.93349932, 103.1686485102, 132.49633310537143, 130.2631868931, 145.8947091759, 58.57915051892143, 98.2603665519, 100.9423604747472, 137.3772636945, 119.8421720379, 117.28872124450713, 258.29326337415, 114.20216935382143, 156.315222828, 101.6053960413, 94.8316361448, 47.87926753110001, 143.20859034900002, 151.9406591641, 144.9549090484, 114.37348571508572, 116.6359319685, 115.82171206320002, 107.1785277328, 420.82093312499995, 160.38231897799997, 145.5574211144, 133.6752788517143, 83.17546719740001, 162.35852705279999, 161.152791754, 273.2915614978286, 158.88122548464864, 115.9426270512, 64.971954684, 147.3674019024, 31.681516830357143, 85.35996301890953, 67.566296301, 38.017820196428566, 357.0434020983, 138.53271984984002, 122.13042345861, 120.7860200412, 120.7860200412, 113.68091393994, 106.57585137647, 84.42187190989, 78.14303279126, 66.23119741321071, 79.330249088618, 108.1776525856, 36.79511445877143, 131.32231344515998, 111.6241191581, 88.30820580042858, 81.6730184021, 152.5279500094, 144.0538624042, 143.4473646715, 68.651381096286, 71.51185123997999, 61.71548760695715, 96.1119582722, 75.80252065139, 96.0019419424, 76.00685761693929, 71.4113392795, 147.6043740738, 79.290523578609, 110.4778807356, 67.3799983878, 165.1884336375, 92.50566651816, 103.6616465052, 90.07343697315001, 106.19847850042501, 279.7110929712, 152.92582135614, 139.57513730745, 105.92598974621998, 66.9784608603, 126.514853409, 88.8500175531, 115.72899095865, 96.611211984, 66.62847408041999, 50.604555866700004, 103.43197217094, 71.9831835513, 182.9291056656, 313.576947642, 100.7765288124, 102.2953926177, 79.33455826212, 100.21541796231, 114.9751010436, 117.35403000972, 122.8872633219, 113.9118604596, 418.945526328, 380.8596533586, 403.2630869169, 403.26308691689997, 326.4510874662, 96.73680135154, 170.670330765, 296.27857968719997, 66.68461351034999, 310.22462094855, 45.524556000000004, 43.71546976005, 98.54510951670001, 48.1611323391, 48.902044488, 65.80803791064649, 60.221261809800026, 262.070847028, 297.2023629517143, 80.77806024014285, 72.39544898348214, 83.86398483798001, 206.11329392239995, 121.73804588379001, 132.2619160808, 117.4321077147, 88.48853328850001, 93.404797917, 161.518604735, 94.8452839525, 109.1659342813, 193.254851626, 115.512858273, 66.5163543349, 310.588572753, 83.62143688433927, 359.99391088321426, 156.2372564535, 71.99878217664285, 102.687145176, 101.312629473, 164.296263175, 101.312629473, 153.995318169, 36.22659696700001, 156.387319374, 84.528838636, 86.282635714, 102.663545446, 113.246001517, 351.103634519, 146.631528131, 161.780194818, 95.21903469885714, 97.068049463, 146.631528131, 360.593085952, 86.253978899, 95.34230234980001, 94.5585890304, 113.66843668400001, 86.61370621200001, 47.353907590137496, 157.07643149, 109.4061905904, 91.06306204246428, 108.6836679995, 145.87487583533334, 316.79266135, 197.99542538442856, 111.1427261516, 180.897998952, 91.24289860743751, 143.703813055, 263.9939245939286, 100.345040543, 382.366871128, 152.40358862457143, 125.982775798, 108.68365595882142, 289.7333313387857, 113.668436684, 107.353823214, 89.116289009, 79.03977021089285, 79.21971815214286, 99.46015180970001, 142.01306097, 130.07159759, 250.9717380680714, 67.93302687285714, 397.592068368, 118.423782279, 178.98247147942857, 101.1247756222, 86.26361144185715, 94.80640867133333, 69.0176800962, 72.99942654179999, 160.717869829, 84.27054521013333, 127.41716738740001, 61.13972418557143, 87.5993320785, 66.363115038, 86.27218440499999, 168.41523482614284, 62.271933273, 102.99556667598, 143.800234809, 67.93302687285714, 351.7345179134286, 116.79909595244, 109.964964769, 100.38988003, 173.4580155, 135.341754438, 107.54811160342857, 135.341417299, 105.673522438, 162.838137, 427.63722177, 121.61255532066667, 46.99310685064285, 105.2451873385, 95.22182813628571, 79.2950928, 50.71339959360714, 103.44326703963999, 150.35031578914285, 152.02091980533334, 96.00990499759999, 157.868033862, 126.8702942155, 361.84697332080003, 56.39169932314286, 391.041457598, 93.80892675, 382.894830802, 134.41394791, 65.7903495909, 36.83580714, 102.8677842522, 104.5136294224, 381.937693181, 94.29950445168001, 104.24289717285714, 145.338600066, 99.43882776795, 78.32186883242856, 125.70954336844446, 62.65747580085714, 119.02730323137497, 152.02080742566667, 253.40250544179997, 79.2950928, 82.27857066660002, 147.02651055085715, 100.2047232912, 133.091351613, 140.69282464600002, 117.869862902, 178.769303306, 192.52052883800002, 110.01182709, 96.26026441900001, 401.2685691630001, 31.99111971, 137.514952432, 89.05656724328573, 99.01098152, 82.452399535, 95.47025141657143, 119.33781427071428, 189.935346986, 88.97523005139999, 150.2350722798, 400.0167593947, 467.9986051311429, 64.06637955, 259.9992110784536, 66.07633975735, 52.86107180588, 103.69063062346963, 84.57765219448001, 124.42874835152143, 62.92983805835, 71.338991198, 93.5905966751, 94.70495703708927, 72.792729841, 346.12988101375, 149.3142405248, 427.6985293232, 129.5096964562, 81.93466913598, 46.42399882199286, 285.99914758014285, 84.32601042722, 72.68399332524999, 129.98719670158, 119.2676962808, 126.48903243411428, 76.31630234759, 59.27413599099999, 74.00550131191858, 82.287093, 346.6496611512, 92.50691484462, 112.99056253645, 24.9575412964914, 72.99821246752, 176.7824558548, 62.442141658460706, 112.5783993624643, 82.95322661, 32.860762824599995, 311.86903408944283, 85.89924560298799, 65.36499022941072, 89.203060631639, 133.70107630345714, 100.6876625247, 138.15779004242856, 301.57028380868, 86.84321178642, 47.021195999999996, 76.648554118526, 66.07633975735, 431.3387535802, 66.36205883026666, 274.31012607545716, 99.543002039874, 245.6990717722, 350.9989538483572, 77.1771648365848, 370.8534299489, 78.7605033, 488.495368378, 69.259329904446, 43.14790334816, 90.80021862455861, 102.7330845507, 58.70456376564285, 78.262991617289, 90.5158023, 359.56557201699286, 359.5656000058, 335.60583762877144, 342.1011441248, 251.6958416354, 293.22944015174284, 146.90824429414, 81.8086523307, 129.5934949447857, 88.5424794412, 150.78516429538573, 85.58468947548002, 182.49513932549996, 165.9048858468, 59.25178692849643, 214.49936068510715, 80.55013001976, 103.9897260138, 24.04761924265, 92.5067581073, 267.17264438834286, 270.99513175745716, 338.74394268562855, 272.17337657175, 371.146136894, 296.91690951519996, 340.2167696951, 272.1735724934, 340.21676969509997, 331.3799755711143, 98.55601735505715, 117.09797443492, 106.1373683112, 114.40606786461998, 72.02167527725715, 102.6918515072, 90.52692579437144, 139.7875523804, 95.69131072275, 165.67450811700002, 95.69122795088572, 140.8772715643429, 110.3639204266, 93.06680804060001, 87.62076701243001, 81.11121237255, 109.4662319678, 151.8908958262, 73.96162705114288, 172.577129786, 163.4407162249, 113.2323517928, 106.3235498246, 155.3194168074, 97.0569637116, 77.6597084037, 148.4164088697, 94.3608081856, 88.26104600955, 233.9119641216, 146.69075345245, 489.0887927156001, 119.4868145832, 127.588414297, 154.28421669140002, 95.69122795088572, 182.26905291894286, 97.05688645786003, 154.1691086188, 131.15875107234285, 94.3608081856, 142.66383787683333, 94.5029550672, 148.852506232, 691.104232666, 143.23909497612001, 80.53599390013333, 189.8348427646, 118.6250491135, 74.20824306172, 111.6397659427, 86.28856489300001, 87.1853704519143, 89.7402619962, 44.257219138375014, 121.3212046395, 75.7874640148, 144.9647117665, 109.58700531466667, 102.80329002715, 121.2088004478, 186.38314566140002, 97.00752131800002, 131.1586958911, 77.659804970875, 354.0577531070001, 450.4267722639, 71.49629466401429, 105.2605383622, 154.8588741545143, 157.78491473825716, 489.0887927156, 170.11779559997, 121.51273873345714, 104.80474129619999, 93.28250048267999, 96.2865231988286, 170.11783422684, 128.06120718580001, 95.70884732173, 130.16593015085715, 114.97133348020002, 110.56420074755, 104.8143980137, 329.7259151566, 147.18749500065002, 593.27009633, 269.6688576806, 118.6544055347, 107.86763136222858, 67.95658347845715, 75.27905715186003, 376.82972768431426, 91.32716969641, 95.38066791608573, 122.64974824252859, 82.1180217391, 114.3336038565, 95.53473394614286, 91.6824210198, 101.75580656649001, 465.3468422513429, 118.6482252355, 98.54183209689334, 107.861671788, 78.69660810197999, 93.8493884268, 101.25758064285715, 123.177225743, 116.3340894538, 85.53979846879801, 80.65676724699999, 66.95672694850715, 125.11969378156, 98.61649599722857, 175.2137999322, 360.7208330007571, 118.14425494448572, 154.18826754632, 116.39208494004286, 98.61649599722857, 109.4909531646, 109.1053466395143, 59.01584260452857, 82.11840800780001, 302.79346800220713, 234.16027971445718, 107.861671788, 316.2509315571, 91.97243155976, 176.8932962398, 78.19984080253333, 27.142068280227498, 107.86183733172858, 154.08832327925714, 33.0326852686625, 67.58250983312857, 91.6986443052, 89.37981811785714, 68.43174916070001, 91.89420662988572, 88.96138978952, 85.21087522, 94.65337913522856, 63.202153798575004, 324.4877253159, 141.5126283946, 126.35100251655, 113.21204509542858, 163.7497311849, 172.368544688, 165.47364839300002, 278.1322256225714, 132.96968910042855, 96.02838534474286, 90.97446774644, 134.44715584168, 85.92034045941429, 75.81229557408572, 131.9034219447, 103.10384570262002, 123.1200579754, 80.86647252423, 66.71477320113901, 100.8304226419, 90.9747767614, 70.758075582572, 62.204289642579596, 54.17794588706321, 48.15817586433498, 58.1911339881068, 94.81139062415, 45.14828977141851, 51.16806311605755], \"y0\": \" \", \"yaxis\": \"y\"}],\n",
       "                        {\"boxmode\": \"group\", \"legend\": {\"tracegroupgap\": 0}, \"margin\": {\"t\": 60}, \"template\": {\"data\": {\"bar\": [{\"error_x\": {\"color\": \"#2a3f5f\"}, \"error_y\": {\"color\": \"#2a3f5f\"}, \"marker\": {\"line\": {\"color\": \"#E5ECF6\", \"width\": 0.5}}, \"type\": \"bar\"}], \"barpolar\": [{\"marker\": {\"line\": {\"color\": \"#E5ECF6\", \"width\": 0.5}}, \"type\": \"barpolar\"}], \"carpet\": [{\"aaxis\": {\"endlinecolor\": \"#2a3f5f\", \"gridcolor\": \"white\", \"linecolor\": \"white\", \"minorgridcolor\": \"white\", \"startlinecolor\": \"#2a3f5f\"}, \"baxis\": {\"endlinecolor\": \"#2a3f5f\", \"gridcolor\": \"white\", \"linecolor\": \"white\", \"minorgridcolor\": \"white\", \"startlinecolor\": \"#2a3f5f\"}, \"type\": \"carpet\"}], \"choropleth\": [{\"colorbar\": {\"outlinewidth\": 0, \"ticks\": \"\"}, \"type\": \"choropleth\"}], \"contour\": [{\"colorbar\": {\"outlinewidth\": 0, \"ticks\": \"\"}, \"colorscale\": [[0.0, \"#0d0887\"], [0.1111111111111111, \"#46039f\"], [0.2222222222222222, \"#7201a8\"], [0.3333333333333333, \"#9c179e\"], [0.4444444444444444, \"#bd3786\"], [0.5555555555555556, \"#d8576b\"], [0.6666666666666666, \"#ed7953\"], [0.7777777777777778, \"#fb9f3a\"], [0.8888888888888888, \"#fdca26\"], [1.0, \"#f0f921\"]], \"type\": \"contour\"}], \"contourcarpet\": [{\"colorbar\": {\"outlinewidth\": 0, \"ticks\": \"\"}, \"type\": \"contourcarpet\"}], \"heatmap\": [{\"colorbar\": {\"outlinewidth\": 0, \"ticks\": \"\"}, \"colorscale\": [[0.0, \"#0d0887\"], [0.1111111111111111, \"#46039f\"], [0.2222222222222222, \"#7201a8\"], [0.3333333333333333, \"#9c179e\"], [0.4444444444444444, \"#bd3786\"], [0.5555555555555556, \"#d8576b\"], [0.6666666666666666, \"#ed7953\"], [0.7777777777777778, \"#fb9f3a\"], [0.8888888888888888, \"#fdca26\"], [1.0, \"#f0f921\"]], \"type\": \"heatmap\"}], \"heatmapgl\": [{\"colorbar\": {\"outlinewidth\": 0, \"ticks\": \"\"}, \"colorscale\": [[0.0, \"#0d0887\"], [0.1111111111111111, \"#46039f\"], [0.2222222222222222, \"#7201a8\"], [0.3333333333333333, \"#9c179e\"], [0.4444444444444444, \"#bd3786\"], [0.5555555555555556, \"#d8576b\"], [0.6666666666666666, \"#ed7953\"], [0.7777777777777778, \"#fb9f3a\"], [0.8888888888888888, \"#fdca26\"], [1.0, \"#f0f921\"]], \"type\": \"heatmapgl\"}], \"histogram\": [{\"marker\": {\"colorbar\": {\"outlinewidth\": 0, \"ticks\": \"\"}}, \"type\": \"histogram\"}], \"histogram2d\": [{\"colorbar\": {\"outlinewidth\": 0, \"ticks\": \"\"}, \"colorscale\": [[0.0, \"#0d0887\"], [0.1111111111111111, \"#46039f\"], [0.2222222222222222, \"#7201a8\"], [0.3333333333333333, \"#9c179e\"], [0.4444444444444444, \"#bd3786\"], [0.5555555555555556, \"#d8576b\"], [0.6666666666666666, \"#ed7953\"], [0.7777777777777778, \"#fb9f3a\"], [0.8888888888888888, \"#fdca26\"], [1.0, \"#f0f921\"]], \"type\": \"histogram2d\"}], \"histogram2dcontour\": [{\"colorbar\": {\"outlinewidth\": 0, \"ticks\": \"\"}, \"colorscale\": [[0.0, \"#0d0887\"], [0.1111111111111111, \"#46039f\"], [0.2222222222222222, \"#7201a8\"], [0.3333333333333333, \"#9c179e\"], [0.4444444444444444, \"#bd3786\"], [0.5555555555555556, \"#d8576b\"], [0.6666666666666666, \"#ed7953\"], [0.7777777777777778, \"#fb9f3a\"], [0.8888888888888888, \"#fdca26\"], [1.0, \"#f0f921\"]], \"type\": \"histogram2dcontour\"}], \"mesh3d\": [{\"colorbar\": {\"outlinewidth\": 0, \"ticks\": \"\"}, \"type\": \"mesh3d\"}], \"parcoords\": [{\"line\": {\"colorbar\": {\"outlinewidth\": 0, \"ticks\": \"\"}}, \"type\": \"parcoords\"}], \"pie\": [{\"automargin\": true, \"type\": \"pie\"}], \"scatter\": [{\"marker\": {\"colorbar\": {\"outlinewidth\": 0, \"ticks\": \"\"}}, \"type\": \"scatter\"}], \"scatter3d\": [{\"line\": {\"colorbar\": {\"outlinewidth\": 0, \"ticks\": \"\"}}, \"marker\": {\"colorbar\": {\"outlinewidth\": 0, \"ticks\": \"\"}}, \"type\": \"scatter3d\"}], \"scattercarpet\": [{\"marker\": {\"colorbar\": {\"outlinewidth\": 0, \"ticks\": \"\"}}, \"type\": \"scattercarpet\"}], \"scattergeo\": [{\"marker\": {\"colorbar\": {\"outlinewidth\": 0, \"ticks\": \"\"}}, \"type\": \"scattergeo\"}], \"scattergl\": [{\"marker\": {\"colorbar\": {\"outlinewidth\": 0, \"ticks\": \"\"}}, \"type\": \"scattergl\"}], \"scattermapbox\": [{\"marker\": {\"colorbar\": {\"outlinewidth\": 0, \"ticks\": \"\"}}, \"type\": \"scattermapbox\"}], \"scatterpolar\": [{\"marker\": {\"colorbar\": {\"outlinewidth\": 0, \"ticks\": \"\"}}, \"type\": \"scatterpolar\"}], \"scatterpolargl\": [{\"marker\": {\"colorbar\": {\"outlinewidth\": 0, \"ticks\": \"\"}}, \"type\": \"scatterpolargl\"}], \"scatterternary\": [{\"marker\": {\"colorbar\": {\"outlinewidth\": 0, \"ticks\": \"\"}}, \"type\": \"scatterternary\"}], \"surface\": [{\"colorbar\": {\"outlinewidth\": 0, \"ticks\": \"\"}, \"colorscale\": [[0.0, \"#0d0887\"], [0.1111111111111111, \"#46039f\"], [0.2222222222222222, \"#7201a8\"], [0.3333333333333333, \"#9c179e\"], [0.4444444444444444, \"#bd3786\"], [0.5555555555555556, \"#d8576b\"], [0.6666666666666666, \"#ed7953\"], [0.7777777777777778, \"#fb9f3a\"], [0.8888888888888888, \"#fdca26\"], [1.0, \"#f0f921\"]], \"type\": \"surface\"}], \"table\": [{\"cells\": {\"fill\": {\"color\": \"#EBF0F8\"}, \"line\": {\"color\": \"white\"}}, \"header\": {\"fill\": {\"color\": \"#C8D4E3\"}, \"line\": {\"color\": \"white\"}}, \"type\": \"table\"}]}, \"layout\": {\"annotationdefaults\": {\"arrowcolor\": \"#2a3f5f\", \"arrowhead\": 0, \"arrowwidth\": 1}, \"coloraxis\": {\"colorbar\": {\"outlinewidth\": 0, \"ticks\": \"\"}}, \"colorscale\": {\"diverging\": [[0, \"#8e0152\"], [0.1, \"#c51b7d\"], [0.2, \"#de77ae\"], [0.3, \"#f1b6da\"], [0.4, \"#fde0ef\"], [0.5, \"#f7f7f7\"], [0.6, \"#e6f5d0\"], [0.7, \"#b8e186\"], [0.8, \"#7fbc41\"], [0.9, \"#4d9221\"], [1, \"#276419\"]], \"sequential\": [[0.0, \"#0d0887\"], [0.1111111111111111, \"#46039f\"], [0.2222222222222222, \"#7201a8\"], [0.3333333333333333, \"#9c179e\"], [0.4444444444444444, \"#bd3786\"], [0.5555555555555556, \"#d8576b\"], [0.6666666666666666, \"#ed7953\"], [0.7777777777777778, \"#fb9f3a\"], [0.8888888888888888, \"#fdca26\"], [1.0, \"#f0f921\"]], \"sequentialminus\": [[0.0, \"#0d0887\"], [0.1111111111111111, \"#46039f\"], [0.2222222222222222, \"#7201a8\"], [0.3333333333333333, \"#9c179e\"], [0.4444444444444444, \"#bd3786\"], [0.5555555555555556, \"#d8576b\"], [0.6666666666666666, \"#ed7953\"], [0.7777777777777778, \"#fb9f3a\"], [0.8888888888888888, \"#fdca26\"], [1.0, \"#f0f921\"]]}, \"colorway\": [\"#636efa\", \"#EF553B\", \"#00cc96\", \"#ab63fa\", \"#FFA15A\", \"#19d3f3\", \"#FF6692\", \"#B6E880\", \"#FF97FF\", \"#FECB52\"], \"font\": {\"color\": \"#2a3f5f\"}, \"geo\": {\"bgcolor\": \"white\", \"lakecolor\": \"white\", \"landcolor\": \"#E5ECF6\", \"showlakes\": true, \"showland\": true, \"subunitcolor\": \"white\"}, \"hoverlabel\": {\"align\": \"left\"}, \"hovermode\": \"closest\", \"mapbox\": {\"style\": \"light\"}, \"paper_bgcolor\": \"white\", \"plot_bgcolor\": \"#E5ECF6\", \"polar\": {\"angularaxis\": {\"gridcolor\": \"white\", \"linecolor\": \"white\", \"ticks\": \"\"}, \"bgcolor\": \"#E5ECF6\", \"radialaxis\": {\"gridcolor\": \"white\", \"linecolor\": \"white\", \"ticks\": \"\"}}, \"scene\": {\"xaxis\": {\"backgroundcolor\": \"#E5ECF6\", \"gridcolor\": \"white\", \"gridwidth\": 2, \"linecolor\": \"white\", \"showbackground\": true, \"ticks\": \"\", \"zerolinecolor\": \"white\"}, \"yaxis\": {\"backgroundcolor\": \"#E5ECF6\", \"gridcolor\": \"white\", \"gridwidth\": 2, \"linecolor\": \"white\", \"showbackground\": true, \"ticks\": \"\", \"zerolinecolor\": \"white\"}, \"zaxis\": {\"backgroundcolor\": \"#E5ECF6\", \"gridcolor\": \"white\", \"gridwidth\": 2, \"linecolor\": \"white\", \"showbackground\": true, \"ticks\": \"\", \"zerolinecolor\": \"white\"}}, \"shapedefaults\": {\"line\": {\"color\": \"#2a3f5f\"}}, \"ternary\": {\"aaxis\": {\"gridcolor\": \"white\", \"linecolor\": \"white\", \"ticks\": \"\"}, \"baxis\": {\"gridcolor\": \"white\", \"linecolor\": \"white\", \"ticks\": \"\"}, \"bgcolor\": \"#E5ECF6\", \"caxis\": {\"gridcolor\": \"white\", \"linecolor\": \"white\", \"ticks\": \"\"}}, \"title\": {\"x\": 0.05}, \"xaxis\": {\"automargin\": true, \"gridcolor\": \"white\", \"linecolor\": \"white\", \"ticks\": \"\", \"title\": {\"standoff\": 15}, \"zerolinecolor\": \"white\", \"zerolinewidth\": 2}, \"yaxis\": {\"automargin\": true, \"gridcolor\": \"white\", \"linecolor\": \"white\", \"ticks\": \"\", \"title\": {\"standoff\": 15}, \"zerolinecolor\": \"white\", \"zerolinewidth\": 2}}}, \"xaxis\": {\"anchor\": \"y\", \"domain\": [0.0, 1.0], \"title\": {\"text\": \"Origin\"}}, \"yaxis\": {\"anchor\": \"x\", \"domain\": [0.0, 1.0], \"title\": {\"text\": \"Gram_Price\"}}},\n",
       "                        {\"responsive\": true}\n",
       "                    ).then(function(){\n",
       "                            \n",
       "var gd = document.getElementById('578a3175-879b-409e-a7de-52afdd6d5512');\n",
       "var x = new MutationObserver(function (mutations, observer) {{\n",
       "        var display = window.getComputedStyle(gd).display;\n",
       "        if (!display || display === 'none') {{\n",
       "            console.log([gd, 'removed!']);\n",
       "            Plotly.purge(gd);\n",
       "            observer.disconnect();\n",
       "        }}\n",
       "}});\n",
       "\n",
       "// Listen for the removal of the full notebook cells\n",
       "var notebookContainer = gd.closest('#notebook-container');\n",
       "if (notebookContainer) {{\n",
       "    x.observe(notebookContainer, {childList: true});\n",
       "}}\n",
       "\n",
       "// Listen for the clearing of the current output cell\n",
       "var outputEl = gd.closest('.output');\n",
       "if (outputEl) {{\n",
       "    x.observe(outputEl, {childList: true});\n",
       "}}\n",
       "\n",
       "                        })\n",
       "                };\n",
       "                });\n",
       "            </script>\n",
       "        </div>"
      ]
     },
     "metadata": {},
     "output_type": "display_data"
    },
    {
     "data": {
      "application/vnd.plotly.v1+json": {
       "config": {
        "plotlyServerURL": "https://plot.ly"
       },
       "data": [
        {
         "domain": {
          "x": [
           0,
           1
          ]
         },
         "hole": 0.65,
         "hoverinfo": "label+percent",
         "labels": [
          "United Kingdom",
          "United States",
          "Australia",
          "Netherlands",
          "Germany",
          "Unknown",
          "Canada",
          "Croatia",
          "France",
          "Belgium",
          "Mexico",
          "Italy",
          "Spain",
          "Sweden",
          "Ireland",
          "Panama",
          "Norway",
          "Argentina",
          "Czech Republic",
          "Thailand",
          "Greece",
          "Colombia",
          "Luxembourg",
          "Bolivia",
          "Austria",
          "China",
          "Saint Martin",
          "Finland"
         ],
         "marker": {
          "colors": [
           "lime",
           "darkblue",
           "green",
           "purple",
           "orange"
          ]
         },
         "name": "Proportion",
         "sort": false,
         "type": "pie",
         "values": [
          244,
          219,
          127,
          120,
          105,
          90,
          71,
          39,
          19,
          17,
          12,
          12,
          12,
          7,
          6,
          6,
          5,
          4,
          3,
          3,
          3,
          3,
          2,
          2,
          1,
          1,
          1,
          1
         ]
        }
       ],
       "layout": {
        "template": {
         "data": {
          "bar": [
           {
            "error_x": {
             "color": "#2a3f5f"
            },
            "error_y": {
             "color": "#2a3f5f"
            },
            "marker": {
             "line": {
              "color": "#E5ECF6",
              "width": 0.5
             }
            },
            "type": "bar"
           }
          ],
          "barpolar": [
           {
            "marker": {
             "line": {
              "color": "#E5ECF6",
              "width": 0.5
             }
            },
            "type": "barpolar"
           }
          ],
          "carpet": [
           {
            "aaxis": {
             "endlinecolor": "#2a3f5f",
             "gridcolor": "white",
             "linecolor": "white",
             "minorgridcolor": "white",
             "startlinecolor": "#2a3f5f"
            },
            "baxis": {
             "endlinecolor": "#2a3f5f",
             "gridcolor": "white",
             "linecolor": "white",
             "minorgridcolor": "white",
             "startlinecolor": "#2a3f5f"
            },
            "type": "carpet"
           }
          ],
          "choropleth": [
           {
            "colorbar": {
             "outlinewidth": 0,
             "ticks": ""
            },
            "type": "choropleth"
           }
          ],
          "contour": [
           {
            "colorbar": {
             "outlinewidth": 0,
             "ticks": ""
            },
            "colorscale": [
             [
              0,
              "#0d0887"
             ],
             [
              0.1111111111111111,
              "#46039f"
             ],
             [
              0.2222222222222222,
              "#7201a8"
             ],
             [
              0.3333333333333333,
              "#9c179e"
             ],
             [
              0.4444444444444444,
              "#bd3786"
             ],
             [
              0.5555555555555556,
              "#d8576b"
             ],
             [
              0.6666666666666666,
              "#ed7953"
             ],
             [
              0.7777777777777778,
              "#fb9f3a"
             ],
             [
              0.8888888888888888,
              "#fdca26"
             ],
             [
              1,
              "#f0f921"
             ]
            ],
            "type": "contour"
           }
          ],
          "contourcarpet": [
           {
            "colorbar": {
             "outlinewidth": 0,
             "ticks": ""
            },
            "type": "contourcarpet"
           }
          ],
          "heatmap": [
           {
            "colorbar": {
             "outlinewidth": 0,
             "ticks": ""
            },
            "colorscale": [
             [
              0,
              "#0d0887"
             ],
             [
              0.1111111111111111,
              "#46039f"
             ],
             [
              0.2222222222222222,
              "#7201a8"
             ],
             [
              0.3333333333333333,
              "#9c179e"
             ],
             [
              0.4444444444444444,
              "#bd3786"
             ],
             [
              0.5555555555555556,
              "#d8576b"
             ],
             [
              0.6666666666666666,
              "#ed7953"
             ],
             [
              0.7777777777777778,
              "#fb9f3a"
             ],
             [
              0.8888888888888888,
              "#fdca26"
             ],
             [
              1,
              "#f0f921"
             ]
            ],
            "type": "heatmap"
           }
          ],
          "heatmapgl": [
           {
            "colorbar": {
             "outlinewidth": 0,
             "ticks": ""
            },
            "colorscale": [
             [
              0,
              "#0d0887"
             ],
             [
              0.1111111111111111,
              "#46039f"
             ],
             [
              0.2222222222222222,
              "#7201a8"
             ],
             [
              0.3333333333333333,
              "#9c179e"
             ],
             [
              0.4444444444444444,
              "#bd3786"
             ],
             [
              0.5555555555555556,
              "#d8576b"
             ],
             [
              0.6666666666666666,
              "#ed7953"
             ],
             [
              0.7777777777777778,
              "#fb9f3a"
             ],
             [
              0.8888888888888888,
              "#fdca26"
             ],
             [
              1,
              "#f0f921"
             ]
            ],
            "type": "heatmapgl"
           }
          ],
          "histogram": [
           {
            "marker": {
             "colorbar": {
              "outlinewidth": 0,
              "ticks": ""
             }
            },
            "type": "histogram"
           }
          ],
          "histogram2d": [
           {
            "colorbar": {
             "outlinewidth": 0,
             "ticks": ""
            },
            "colorscale": [
             [
              0,
              "#0d0887"
             ],
             [
              0.1111111111111111,
              "#46039f"
             ],
             [
              0.2222222222222222,
              "#7201a8"
             ],
             [
              0.3333333333333333,
              "#9c179e"
             ],
             [
              0.4444444444444444,
              "#bd3786"
             ],
             [
              0.5555555555555556,
              "#d8576b"
             ],
             [
              0.6666666666666666,
              "#ed7953"
             ],
             [
              0.7777777777777778,
              "#fb9f3a"
             ],
             [
              0.8888888888888888,
              "#fdca26"
             ],
             [
              1,
              "#f0f921"
             ]
            ],
            "type": "histogram2d"
           }
          ],
          "histogram2dcontour": [
           {
            "colorbar": {
             "outlinewidth": 0,
             "ticks": ""
            },
            "colorscale": [
             [
              0,
              "#0d0887"
             ],
             [
              0.1111111111111111,
              "#46039f"
             ],
             [
              0.2222222222222222,
              "#7201a8"
             ],
             [
              0.3333333333333333,
              "#9c179e"
             ],
             [
              0.4444444444444444,
              "#bd3786"
             ],
             [
              0.5555555555555556,
              "#d8576b"
             ],
             [
              0.6666666666666666,
              "#ed7953"
             ],
             [
              0.7777777777777778,
              "#fb9f3a"
             ],
             [
              0.8888888888888888,
              "#fdca26"
             ],
             [
              1,
              "#f0f921"
             ]
            ],
            "type": "histogram2dcontour"
           }
          ],
          "mesh3d": [
           {
            "colorbar": {
             "outlinewidth": 0,
             "ticks": ""
            },
            "type": "mesh3d"
           }
          ],
          "parcoords": [
           {
            "line": {
             "colorbar": {
              "outlinewidth": 0,
              "ticks": ""
             }
            },
            "type": "parcoords"
           }
          ],
          "pie": [
           {
            "automargin": true,
            "type": "pie"
           }
          ],
          "scatter": [
           {
            "marker": {
             "colorbar": {
              "outlinewidth": 0,
              "ticks": ""
             }
            },
            "type": "scatter"
           }
          ],
          "scatter3d": [
           {
            "line": {
             "colorbar": {
              "outlinewidth": 0,
              "ticks": ""
             }
            },
            "marker": {
             "colorbar": {
              "outlinewidth": 0,
              "ticks": ""
             }
            },
            "type": "scatter3d"
           }
          ],
          "scattercarpet": [
           {
            "marker": {
             "colorbar": {
              "outlinewidth": 0,
              "ticks": ""
             }
            },
            "type": "scattercarpet"
           }
          ],
          "scattergeo": [
           {
            "marker": {
             "colorbar": {
              "outlinewidth": 0,
              "ticks": ""
             }
            },
            "type": "scattergeo"
           }
          ],
          "scattergl": [
           {
            "marker": {
             "colorbar": {
              "outlinewidth": 0,
              "ticks": ""
             }
            },
            "type": "scattergl"
           }
          ],
          "scattermapbox": [
           {
            "marker": {
             "colorbar": {
              "outlinewidth": 0,
              "ticks": ""
             }
            },
            "type": "scattermapbox"
           }
          ],
          "scatterpolar": [
           {
            "marker": {
             "colorbar": {
              "outlinewidth": 0,
              "ticks": ""
             }
            },
            "type": "scatterpolar"
           }
          ],
          "scatterpolargl": [
           {
            "marker": {
             "colorbar": {
              "outlinewidth": 0,
              "ticks": ""
             }
            },
            "type": "scatterpolargl"
           }
          ],
          "scatterternary": [
           {
            "marker": {
             "colorbar": {
              "outlinewidth": 0,
              "ticks": ""
             }
            },
            "type": "scatterternary"
           }
          ],
          "surface": [
           {
            "colorbar": {
             "outlinewidth": 0,
             "ticks": ""
            },
            "colorscale": [
             [
              0,
              "#0d0887"
             ],
             [
              0.1111111111111111,
              "#46039f"
             ],
             [
              0.2222222222222222,
              "#7201a8"
             ],
             [
              0.3333333333333333,
              "#9c179e"
             ],
             [
              0.4444444444444444,
              "#bd3786"
             ],
             [
              0.5555555555555556,
              "#d8576b"
             ],
             [
              0.6666666666666666,
              "#ed7953"
             ],
             [
              0.7777777777777778,
              "#fb9f3a"
             ],
             [
              0.8888888888888888,
              "#fdca26"
             ],
             [
              1,
              "#f0f921"
             ]
            ],
            "type": "surface"
           }
          ],
          "table": [
           {
            "cells": {
             "fill": {
              "color": "#EBF0F8"
             },
             "line": {
              "color": "white"
             }
            },
            "header": {
             "fill": {
              "color": "#C8D4E3"
             },
             "line": {
              "color": "white"
             }
            },
            "type": "table"
           }
          ]
         },
         "layout": {
          "annotationdefaults": {
           "arrowcolor": "#2a3f5f",
           "arrowhead": 0,
           "arrowwidth": 1
          },
          "coloraxis": {
           "colorbar": {
            "outlinewidth": 0,
            "ticks": ""
           }
          },
          "colorscale": {
           "diverging": [
            [
             0,
             "#8e0152"
            ],
            [
             0.1,
             "#c51b7d"
            ],
            [
             0.2,
             "#de77ae"
            ],
            [
             0.3,
             "#f1b6da"
            ],
            [
             0.4,
             "#fde0ef"
            ],
            [
             0.5,
             "#f7f7f7"
            ],
            [
             0.6,
             "#e6f5d0"
            ],
            [
             0.7,
             "#b8e186"
            ],
            [
             0.8,
             "#7fbc41"
            ],
            [
             0.9,
             "#4d9221"
            ],
            [
             1,
             "#276419"
            ]
           ],
           "sequential": [
            [
             0,
             "#0d0887"
            ],
            [
             0.1111111111111111,
             "#46039f"
            ],
            [
             0.2222222222222222,
             "#7201a8"
            ],
            [
             0.3333333333333333,
             "#9c179e"
            ],
            [
             0.4444444444444444,
             "#bd3786"
            ],
            [
             0.5555555555555556,
             "#d8576b"
            ],
            [
             0.6666666666666666,
             "#ed7953"
            ],
            [
             0.7777777777777778,
             "#fb9f3a"
            ],
            [
             0.8888888888888888,
             "#fdca26"
            ],
            [
             1,
             "#f0f921"
            ]
           ],
           "sequentialminus": [
            [
             0,
             "#0d0887"
            ],
            [
             0.1111111111111111,
             "#46039f"
            ],
            [
             0.2222222222222222,
             "#7201a8"
            ],
            [
             0.3333333333333333,
             "#9c179e"
            ],
            [
             0.4444444444444444,
             "#bd3786"
            ],
            [
             0.5555555555555556,
             "#d8576b"
            ],
            [
             0.6666666666666666,
             "#ed7953"
            ],
            [
             0.7777777777777778,
             "#fb9f3a"
            ],
            [
             0.8888888888888888,
             "#fdca26"
            ],
            [
             1,
             "#f0f921"
            ]
           ]
          },
          "colorway": [
           "#636efa",
           "#EF553B",
           "#00cc96",
           "#ab63fa",
           "#FFA15A",
           "#19d3f3",
           "#FF6692",
           "#B6E880",
           "#FF97FF",
           "#FECB52"
          ],
          "font": {
           "color": "#2a3f5f"
          },
          "geo": {
           "bgcolor": "white",
           "lakecolor": "white",
           "landcolor": "#E5ECF6",
           "showlakes": true,
           "showland": true,
           "subunitcolor": "white"
          },
          "hoverlabel": {
           "align": "left"
          },
          "hovermode": "closest",
          "mapbox": {
           "style": "light"
          },
          "paper_bgcolor": "white",
          "plot_bgcolor": "#E5ECF6",
          "polar": {
           "angularaxis": {
            "gridcolor": "white",
            "linecolor": "white",
            "ticks": ""
           },
           "bgcolor": "#E5ECF6",
           "radialaxis": {
            "gridcolor": "white",
            "linecolor": "white",
            "ticks": ""
           }
          },
          "scene": {
           "xaxis": {
            "backgroundcolor": "#E5ECF6",
            "gridcolor": "white",
            "gridwidth": 2,
            "linecolor": "white",
            "showbackground": true,
            "ticks": "",
            "zerolinecolor": "white"
           },
           "yaxis": {
            "backgroundcolor": "#E5ECF6",
            "gridcolor": "white",
            "gridwidth": 2,
            "linecolor": "white",
            "showbackground": true,
            "ticks": "",
            "zerolinecolor": "white"
           },
           "zaxis": {
            "backgroundcolor": "#E5ECF6",
            "gridcolor": "white",
            "gridwidth": 2,
            "linecolor": "white",
            "showbackground": true,
            "ticks": "",
            "zerolinecolor": "white"
           }
          },
          "shapedefaults": {
           "line": {
            "color": "#2a3f5f"
           }
          },
          "ternary": {
           "aaxis": {
            "gridcolor": "white",
            "linecolor": "white",
            "ticks": ""
           },
           "baxis": {
            "gridcolor": "white",
            "linecolor": "white",
            "ticks": ""
           },
           "bgcolor": "#E5ECF6",
           "caxis": {
            "gridcolor": "white",
            "linecolor": "white",
            "ticks": ""
           }
          },
          "title": {
           "x": 0.05
          },
          "xaxis": {
           "automargin": true,
           "gridcolor": "white",
           "linecolor": "white",
           "ticks": "",
           "title": {
            "standoff": 15
           },
           "zerolinecolor": "white",
           "zerolinewidth": 2
          },
          "yaxis": {
           "automargin": true,
           "gridcolor": "white",
           "linecolor": "white",
           "ticks": "",
           "title": {
            "standoff": 15
           },
           "zerolinecolor": "white",
           "zerolinewidth": 2
          }
         }
        },
        "title": {
         "text": "Distribution of Shipment Origin Countries"
        }
       }
      },
      "text/html": [
       "<div>\n",
       "        \n",
       "        \n",
       "            <div id=\"0bdc20db-efbf-4364-82b8-db5712907d30\" class=\"plotly-graph-div\" style=\"height:525px; width:100%;\"></div>\n",
       "            <script type=\"text/javascript\">\n",
       "                require([\"plotly\"], function(Plotly) {\n",
       "                    window.PLOTLYENV=window.PLOTLYENV || {};\n",
       "                    \n",
       "                if (document.getElementById(\"0bdc20db-efbf-4364-82b8-db5712907d30\")) {\n",
       "                    Plotly.newPlot(\n",
       "                        '0bdc20db-efbf-4364-82b8-db5712907d30',\n",
       "                        [{\"domain\": {\"x\": [0, 1]}, \"hole\": 0.65, \"hoverinfo\": \"label+percent\", \"labels\": [\"United Kingdom\", \"United States\", \"Australia\", \"Netherlands\", \"Germany\", \"Unknown\", \"Canada\", \"Croatia\", \"France\", \"Belgium\", \"Mexico\", \"Italy\", \"Spain\", \"Sweden\", \"Ireland\", \"Panama\", \"Norway\", \"Argentina\", \"Czech Republic\", \"Thailand\", \"Greece\", \"Colombia\", \"Luxembourg\", \"Bolivia\", \"Austria\", \"China\", \"Saint Martin\", \"Finland\"], \"marker\": {\"colors\": [\"lime\", \"darkblue\", \"green\", \"purple\", \"orange\"]}, \"name\": \"Proportion\", \"sort\": false, \"type\": \"pie\", \"values\": [244, 219, 127, 120, 105, 90, 71, 39, 19, 17, 12, 12, 12, 7, 6, 6, 5, 4, 3, 3, 3, 3, 2, 2, 1, 1, 1, 1]}],\n",
       "                        {\"template\": {\"data\": {\"bar\": [{\"error_x\": {\"color\": \"#2a3f5f\"}, \"error_y\": {\"color\": \"#2a3f5f\"}, \"marker\": {\"line\": {\"color\": \"#E5ECF6\", \"width\": 0.5}}, \"type\": \"bar\"}], \"barpolar\": [{\"marker\": {\"line\": {\"color\": \"#E5ECF6\", \"width\": 0.5}}, \"type\": \"barpolar\"}], \"carpet\": [{\"aaxis\": {\"endlinecolor\": \"#2a3f5f\", \"gridcolor\": \"white\", \"linecolor\": \"white\", \"minorgridcolor\": \"white\", \"startlinecolor\": \"#2a3f5f\"}, \"baxis\": {\"endlinecolor\": \"#2a3f5f\", \"gridcolor\": \"white\", \"linecolor\": \"white\", \"minorgridcolor\": \"white\", \"startlinecolor\": \"#2a3f5f\"}, \"type\": \"carpet\"}], \"choropleth\": [{\"colorbar\": {\"outlinewidth\": 0, \"ticks\": \"\"}, \"type\": \"choropleth\"}], \"contour\": [{\"colorbar\": {\"outlinewidth\": 0, \"ticks\": \"\"}, \"colorscale\": [[0.0, \"#0d0887\"], [0.1111111111111111, \"#46039f\"], [0.2222222222222222, \"#7201a8\"], [0.3333333333333333, \"#9c179e\"], [0.4444444444444444, \"#bd3786\"], [0.5555555555555556, \"#d8576b\"], [0.6666666666666666, \"#ed7953\"], [0.7777777777777778, \"#fb9f3a\"], [0.8888888888888888, \"#fdca26\"], [1.0, \"#f0f921\"]], \"type\": \"contour\"}], \"contourcarpet\": [{\"colorbar\": {\"outlinewidth\": 0, \"ticks\": \"\"}, \"type\": \"contourcarpet\"}], \"heatmap\": [{\"colorbar\": {\"outlinewidth\": 0, \"ticks\": \"\"}, \"colorscale\": [[0.0, \"#0d0887\"], [0.1111111111111111, \"#46039f\"], [0.2222222222222222, \"#7201a8\"], [0.3333333333333333, \"#9c179e\"], [0.4444444444444444, \"#bd3786\"], [0.5555555555555556, \"#d8576b\"], [0.6666666666666666, \"#ed7953\"], [0.7777777777777778, \"#fb9f3a\"], [0.8888888888888888, \"#fdca26\"], [1.0, \"#f0f921\"]], \"type\": \"heatmap\"}], \"heatmapgl\": [{\"colorbar\": {\"outlinewidth\": 0, \"ticks\": \"\"}, \"colorscale\": [[0.0, \"#0d0887\"], [0.1111111111111111, \"#46039f\"], [0.2222222222222222, \"#7201a8\"], [0.3333333333333333, \"#9c179e\"], [0.4444444444444444, \"#bd3786\"], [0.5555555555555556, \"#d8576b\"], [0.6666666666666666, \"#ed7953\"], [0.7777777777777778, \"#fb9f3a\"], [0.8888888888888888, \"#fdca26\"], [1.0, \"#f0f921\"]], \"type\": \"heatmapgl\"}], \"histogram\": [{\"marker\": {\"colorbar\": {\"outlinewidth\": 0, \"ticks\": \"\"}}, \"type\": \"histogram\"}], \"histogram2d\": [{\"colorbar\": {\"outlinewidth\": 0, \"ticks\": \"\"}, \"colorscale\": [[0.0, \"#0d0887\"], [0.1111111111111111, \"#46039f\"], [0.2222222222222222, \"#7201a8\"], [0.3333333333333333, \"#9c179e\"], [0.4444444444444444, \"#bd3786\"], [0.5555555555555556, \"#d8576b\"], [0.6666666666666666, \"#ed7953\"], [0.7777777777777778, \"#fb9f3a\"], [0.8888888888888888, \"#fdca26\"], [1.0, \"#f0f921\"]], \"type\": \"histogram2d\"}], \"histogram2dcontour\": [{\"colorbar\": {\"outlinewidth\": 0, \"ticks\": \"\"}, \"colorscale\": [[0.0, \"#0d0887\"], [0.1111111111111111, \"#46039f\"], [0.2222222222222222, \"#7201a8\"], [0.3333333333333333, \"#9c179e\"], [0.4444444444444444, \"#bd3786\"], [0.5555555555555556, \"#d8576b\"], [0.6666666666666666, \"#ed7953\"], [0.7777777777777778, \"#fb9f3a\"], [0.8888888888888888, \"#fdca26\"], [1.0, \"#f0f921\"]], \"type\": \"histogram2dcontour\"}], \"mesh3d\": [{\"colorbar\": {\"outlinewidth\": 0, \"ticks\": \"\"}, \"type\": \"mesh3d\"}], \"parcoords\": [{\"line\": {\"colorbar\": {\"outlinewidth\": 0, \"ticks\": \"\"}}, \"type\": \"parcoords\"}], \"pie\": [{\"automargin\": true, \"type\": \"pie\"}], \"scatter\": [{\"marker\": {\"colorbar\": {\"outlinewidth\": 0, \"ticks\": \"\"}}, \"type\": \"scatter\"}], \"scatter3d\": [{\"line\": {\"colorbar\": {\"outlinewidth\": 0, \"ticks\": \"\"}}, \"marker\": {\"colorbar\": {\"outlinewidth\": 0, \"ticks\": \"\"}}, \"type\": \"scatter3d\"}], \"scattercarpet\": [{\"marker\": {\"colorbar\": {\"outlinewidth\": 0, \"ticks\": \"\"}}, \"type\": \"scattercarpet\"}], \"scattergeo\": [{\"marker\": {\"colorbar\": {\"outlinewidth\": 0, \"ticks\": \"\"}}, \"type\": \"scattergeo\"}], \"scattergl\": [{\"marker\": {\"colorbar\": {\"outlinewidth\": 0, \"ticks\": \"\"}}, \"type\": \"scattergl\"}], \"scattermapbox\": [{\"marker\": {\"colorbar\": {\"outlinewidth\": 0, \"ticks\": \"\"}}, \"type\": \"scattermapbox\"}], \"scatterpolar\": [{\"marker\": {\"colorbar\": {\"outlinewidth\": 0, \"ticks\": \"\"}}, \"type\": \"scatterpolar\"}], \"scatterpolargl\": [{\"marker\": {\"colorbar\": {\"outlinewidth\": 0, \"ticks\": \"\"}}, \"type\": \"scatterpolargl\"}], \"scatterternary\": [{\"marker\": {\"colorbar\": {\"outlinewidth\": 0, \"ticks\": \"\"}}, \"type\": \"scatterternary\"}], \"surface\": [{\"colorbar\": {\"outlinewidth\": 0, \"ticks\": \"\"}, \"colorscale\": [[0.0, \"#0d0887\"], [0.1111111111111111, \"#46039f\"], [0.2222222222222222, \"#7201a8\"], [0.3333333333333333, \"#9c179e\"], [0.4444444444444444, \"#bd3786\"], [0.5555555555555556, \"#d8576b\"], [0.6666666666666666, \"#ed7953\"], [0.7777777777777778, \"#fb9f3a\"], [0.8888888888888888, \"#fdca26\"], [1.0, \"#f0f921\"]], \"type\": \"surface\"}], \"table\": [{\"cells\": {\"fill\": {\"color\": \"#EBF0F8\"}, \"line\": {\"color\": \"white\"}}, \"header\": {\"fill\": {\"color\": \"#C8D4E3\"}, \"line\": {\"color\": \"white\"}}, \"type\": \"table\"}]}, \"layout\": {\"annotationdefaults\": {\"arrowcolor\": \"#2a3f5f\", \"arrowhead\": 0, \"arrowwidth\": 1}, \"coloraxis\": {\"colorbar\": {\"outlinewidth\": 0, \"ticks\": \"\"}}, \"colorscale\": {\"diverging\": [[0, \"#8e0152\"], [0.1, \"#c51b7d\"], [0.2, \"#de77ae\"], [0.3, \"#f1b6da\"], [0.4, \"#fde0ef\"], [0.5, \"#f7f7f7\"], [0.6, \"#e6f5d0\"], [0.7, \"#b8e186\"], [0.8, \"#7fbc41\"], [0.9, \"#4d9221\"], [1, \"#276419\"]], \"sequential\": [[0.0, \"#0d0887\"], [0.1111111111111111, \"#46039f\"], [0.2222222222222222, \"#7201a8\"], [0.3333333333333333, \"#9c179e\"], [0.4444444444444444, \"#bd3786\"], [0.5555555555555556, \"#d8576b\"], [0.6666666666666666, \"#ed7953\"], [0.7777777777777778, \"#fb9f3a\"], [0.8888888888888888, \"#fdca26\"], [1.0, \"#f0f921\"]], \"sequentialminus\": [[0.0, \"#0d0887\"], [0.1111111111111111, \"#46039f\"], [0.2222222222222222, \"#7201a8\"], [0.3333333333333333, \"#9c179e\"], [0.4444444444444444, \"#bd3786\"], [0.5555555555555556, \"#d8576b\"], [0.6666666666666666, \"#ed7953\"], [0.7777777777777778, \"#fb9f3a\"], [0.8888888888888888, \"#fdca26\"], [1.0, \"#f0f921\"]]}, \"colorway\": [\"#636efa\", \"#EF553B\", \"#00cc96\", \"#ab63fa\", \"#FFA15A\", \"#19d3f3\", \"#FF6692\", \"#B6E880\", \"#FF97FF\", \"#FECB52\"], \"font\": {\"color\": \"#2a3f5f\"}, \"geo\": {\"bgcolor\": \"white\", \"lakecolor\": \"white\", \"landcolor\": \"#E5ECF6\", \"showlakes\": true, \"showland\": true, \"subunitcolor\": \"white\"}, \"hoverlabel\": {\"align\": \"left\"}, \"hovermode\": \"closest\", \"mapbox\": {\"style\": \"light\"}, \"paper_bgcolor\": \"white\", \"plot_bgcolor\": \"#E5ECF6\", \"polar\": {\"angularaxis\": {\"gridcolor\": \"white\", \"linecolor\": \"white\", \"ticks\": \"\"}, \"bgcolor\": \"#E5ECF6\", \"radialaxis\": {\"gridcolor\": \"white\", \"linecolor\": \"white\", \"ticks\": \"\"}}, \"scene\": {\"xaxis\": {\"backgroundcolor\": \"#E5ECF6\", \"gridcolor\": \"white\", \"gridwidth\": 2, \"linecolor\": \"white\", \"showbackground\": true, \"ticks\": \"\", \"zerolinecolor\": \"white\"}, \"yaxis\": {\"backgroundcolor\": \"#E5ECF6\", \"gridcolor\": \"white\", \"gridwidth\": 2, \"linecolor\": \"white\", \"showbackground\": true, \"ticks\": \"\", \"zerolinecolor\": \"white\"}, \"zaxis\": {\"backgroundcolor\": \"#E5ECF6\", \"gridcolor\": \"white\", \"gridwidth\": 2, \"linecolor\": \"white\", \"showbackground\": true, \"ticks\": \"\", \"zerolinecolor\": \"white\"}}, \"shapedefaults\": {\"line\": {\"color\": \"#2a3f5f\"}}, \"ternary\": {\"aaxis\": {\"gridcolor\": \"white\", \"linecolor\": \"white\", \"ticks\": \"\"}, \"baxis\": {\"gridcolor\": \"white\", \"linecolor\": \"white\", \"ticks\": \"\"}, \"bgcolor\": \"#E5ECF6\", \"caxis\": {\"gridcolor\": \"white\", \"linecolor\": \"white\", \"ticks\": \"\"}}, \"title\": {\"x\": 0.05}, \"xaxis\": {\"automargin\": true, \"gridcolor\": \"white\", \"linecolor\": \"white\", \"ticks\": \"\", \"title\": {\"standoff\": 15}, \"zerolinecolor\": \"white\", \"zerolinewidth\": 2}, \"yaxis\": {\"automargin\": true, \"gridcolor\": \"white\", \"linecolor\": \"white\", \"ticks\": \"\", \"title\": {\"standoff\": 15}, \"zerolinecolor\": \"white\", \"zerolinewidth\": 2}}}, \"title\": {\"text\": \"Distribution of Shipment Origin Countries\"}},\n",
       "                        {\"responsive\": true}\n",
       "                    ).then(function(){\n",
       "                            \n",
       "var gd = document.getElementById('0bdc20db-efbf-4364-82b8-db5712907d30');\n",
       "var x = new MutationObserver(function (mutations, observer) {{\n",
       "        var display = window.getComputedStyle(gd).display;\n",
       "        if (!display || display === 'none') {{\n",
       "            console.log([gd, 'removed!']);\n",
       "            Plotly.purge(gd);\n",
       "            observer.disconnect();\n",
       "        }}\n",
       "}});\n",
       "\n",
       "// Listen for the removal of the full notebook cells\n",
       "var notebookContainer = gd.closest('#notebook-container');\n",
       "if (notebookContainer) {{\n",
       "    x.observe(notebookContainer, {childList: true});\n",
       "}}\n",
       "\n",
       "// Listen for the clearing of the current output cell\n",
       "var outputEl = gd.closest('.output');\n",
       "if (outputEl) {{\n",
       "    x.observe(outputEl, {childList: true});\n",
       "}}\n",
       "\n",
       "                        })\n",
       "                };\n",
       "                });\n",
       "            </script>\n",
       "        </div>"
      ]
     },
     "metadata": {},
     "output_type": "display_data"
    }
   ],
   "source": [
    "# Boxplot of Gram_Price by Origin Country\n",
    "originpricefig = px.box(dfcoca, x=\"Origin\", y=\"Gram_Price\")\n",
    "originpricefig.show()\n",
    "\n",
    "donut_plot('Origin','Shipment Origin Countries')"
   ]
  },
  {
   "cell_type": "code",
   "execution_count": 84,
   "metadata": {},
   "outputs": [
    {
     "data": {
      "application/vnd.plotly.v1+json": {
       "config": {
        "plotlyServerURL": "https://plot.ly"
       },
       "data": [
        {
         "alignmentgroup": "True",
         "hovertemplate": "Destination=%{x}<br>Gram_Price=%{y}<extra></extra>",
         "legendgroup": "",
         "marker": {
          "color": "#636efa"
         },
         "name": "",
         "notched": false,
         "offsetgroup": "",
         "orientation": "v",
         "showlegend": false,
         "type": "box",
         "x": [
          "Australia",
          "United States",
          "Australia",
          "Australia",
          "Australia",
          "United States",
          "Worldwide",
          "United States",
          "Worldwide",
          "United States",
          "Worldwide",
          "Worldwide",
          "Worldwide",
          "Worldwide",
          "Worldwide",
          "United States",
          "United States",
          "Worldwide",
          "Australia",
          "United States",
          "Australia",
          "Worldwide",
          "Worldwide",
          "Worldwide",
          "Australia",
          "Worldwide",
          "Australia",
          "Worldwide",
          "Worldwide ex AUS",
          "Canada",
          "Australia",
          "Worldwide ex AUS",
          "Worldwide",
          "United Kingdom",
          "Canada",
          "Worldwide ex AUS",
          "Worldwide",
          "Australia",
          "Worldwide",
          "Worldwide",
          "EU",
          "Worldwide",
          "United Kingdom",
          "Worldwide",
          "Worldwide",
          "Worldwide",
          "Worldwide",
          "Australia",
          "Worldwide",
          "United Kingdom",
          "Worldwide",
          "Australia",
          "Canada",
          "Worldwide",
          "United Kingdom",
          "Worldwide",
          "EU",
          "Sweden",
          "United Kingdom",
          "Worldwide",
          "EU",
          "Worldwide",
          "EU",
          "United Kingdom",
          "Worldwide",
          "Worldwide",
          "United States",
          "EU",
          "United Kingdom",
          "United States",
          "Australia",
          "Worldwide",
          "Australia",
          "Worldwide",
          "Worldwide ex AUS",
          "Worldwide",
          "United Kingdom",
          "Worldwide",
          "Australia",
          "Worldwide",
          "Worldwide",
          "Worldwide",
          "United Kingdom",
          "Worldwide",
          "United States",
          "Worldwide",
          "Worldwide",
          "Worldwide",
          "Worldwide",
          "Worldwide",
          "United States",
          "EU",
          "Worldwide",
          "United Kingdom",
          "EU",
          "Worldwide",
          "Worldwide",
          "Worldwide",
          "Worldwide ex AUS",
          "Worldwide",
          "Worldwide",
          "Worldwide",
          "Worldwide",
          "Worldwide",
          "EU",
          "Worldwide",
          "Worldwide",
          "Worldwide",
          "Worldwide",
          "Worldwide",
          "EU",
          "Worldwide",
          "United States",
          "United States",
          "Worldwide",
          "Worldwide ex AUS",
          "Worldwide",
          "Worldwide",
          "Worldwide",
          "EU",
          "Worldwide",
          "United Kingdom",
          "Worldwide",
          "Australia",
          "Worldwide",
          "Worldwide",
          "Worldwide",
          "United States and Canada",
          "Worldwide",
          "United States",
          "Worldwide ex AUS",
          "Worldwide",
          "United States",
          "Worldwide",
          "Worldwide",
          "Worldwide",
          "Worldwide",
          "Worldwide",
          "Worldwide",
          "Worldwide",
          "Worldwide ex AUS",
          "United States",
          "Worldwide",
          "Worldwide ex AUS",
          "Worldwide",
          "United Kingdom",
          "United States",
          "Worldwide",
          "Worldwide",
          "Worldwide",
          "United States",
          "Worldwide",
          "Ireland",
          "Worldwide",
          "Worldwide",
          "EU",
          "United States",
          "Worldwide",
          "Worldwide",
          "Worldwide",
          "EU",
          "Worldwide",
          "Worldwide",
          "United States",
          "United States",
          "Worldwide",
          "Worldwide",
          "Worldwide",
          "Worldwide",
          "United States",
          "Worldwide",
          "Worldwide",
          "Worldwide",
          "United Kingdom",
          "Worldwide",
          "Worldwide",
          "Worldwide",
          "Worldwide",
          "Undeclared",
          "Worldwide",
          "Worldwide",
          "United Kingdom",
          "United States",
          "United Kingdom",
          "Worldwide",
          "Australia",
          "United States",
          "Worldwide",
          "United Kingdom",
          "Worldwide",
          "Worldwide",
          "Undeclared",
          "United States",
          "Worldwide",
          "Undeclared",
          "Worldwide ex AUS",
          "Worldwide",
          "Worldwide",
          "Undeclared",
          "Undeclared",
          "United States",
          "Undeclared",
          "Undeclared",
          "Worldwide",
          "United States",
          "United States",
          "Australia",
          "United Kingdom",
          "Worldwide",
          "United States",
          "United States",
          "Worldwide",
          "Worldwide",
          "United Kingdom",
          "United States",
          "United States",
          "United States",
          "United States",
          "Worldwide",
          "United States",
          "Worldwide",
          "Worldwide",
          "United Kingdom",
          "United Kingdom",
          "Undeclared",
          "Worldwide",
          "United States",
          "United States",
          "Worldwide",
          "Worldwide",
          "United States",
          "Undeclared",
          "United States",
          "United States",
          "Worldwide",
          "EU",
          "Worldwide",
          "Germany",
          "Undeclared",
          "United States and Canada",
          "EU",
          "Worldwide",
          "Worldwide",
          "Worldwide",
          "Worldwide",
          "Worldwide",
          "Worldwide",
          "Undeclared",
          "Worldwide",
          "Worldwide",
          "Worldwide",
          "EU",
          "Worldwide",
          "Worldwide",
          "Worldwide",
          "Undeclared",
          "Worldwide ex AUS",
          "Worldwide ex AUS",
          "Worldwide",
          "United States and Canada",
          "Undeclared",
          "Undeclared",
          "Worldwide",
          "Worldwide",
          "Undeclared",
          "United Kingdom",
          "Undeclared",
          "Undeclared",
          "Undeclared",
          "Undeclared",
          "Undeclared",
          "Undeclared",
          "Undeclared",
          "Worldwide",
          "Undeclared",
          "Worldwide",
          "Worldwide",
          "Worldwide",
          "Australia",
          "Undeclared",
          "Undeclared",
          "Undeclared",
          "Undeclared",
          "Undeclared",
          "Undeclared",
          "United States and Canada",
          "Undeclared",
          "Undeclared",
          "Undeclared",
          "Undeclared",
          "Undeclared",
          "Undeclared",
          "Worldwide",
          "Undeclared",
          "Worldwide",
          "Undeclared",
          "Worldwide",
          "Undeclared",
          "Australia",
          "Undeclared",
          "Undeclared",
          "Worldwide",
          "Australia",
          "Worldwide",
          "United States",
          "Worldwide",
          "Worldwide",
          "Worldwide",
          "United States",
          "Undeclared",
          "Undeclared",
          "Undeclared",
          "Undeclared",
          "Undeclared",
          "United States",
          "Australia",
          "Worldwide",
          "EU",
          "Sweden",
          "Worldwide",
          "Worldwide",
          "EU",
          "Worldwide",
          "Worldwide ex AUS",
          "EU",
          "EU",
          "Worldwide",
          "Worldwide",
          "United States",
          "United States",
          "United States and Canada",
          "Worldwide",
          "Australia",
          "Worldwide",
          "United States",
          "United States and Canada",
          "Worldwide",
          "Worldwide",
          "Worldwide ex AUS",
          "EU",
          "Worldwide",
          "Worldwide",
          "Worldwide",
          "Worldwide",
          "Worldwide",
          "United States",
          "Germany",
          "Worldwide",
          "United Kingdom",
          "Worldwide",
          "Worldwide",
          "United States and Canada",
          "EU",
          "United States and Canada",
          "Worldwide",
          "Worldwide",
          "Worldwide",
          "United States",
          "Worldwide",
          "Worldwide",
          "United States",
          "Australia",
          "Worldwide",
          "United Kingdom",
          "United Kingdom",
          "United States",
          "Australia",
          "Worldwide",
          "Worldwide ex AUS",
          "Worldwide",
          "EU",
          "Worldwide",
          "Worldwide",
          "Worldwide",
          "EU",
          "Worldwide",
          "Australia",
          "United States",
          "United States and Canada",
          "United States and Canada",
          "Australia",
          "EU",
          "Australia",
          "United Kingdom",
          "Australia",
          "United States",
          "United States and Canada",
          "Worldwide ex AUS",
          "Worldwide",
          "Worldwide",
          "Worldwide",
          "Worldwide",
          "United States and Canada",
          "Worldwide",
          "Australia",
          "Australia",
          "Worldwide",
          "Worldwide",
          "Worldwide",
          "Worldwide",
          "Undeclared",
          "Germany",
          "Worldwide",
          "United Kingdom",
          "United Kingdom",
          "United Kingdom",
          "United Kingdom",
          "Undeclared",
          "Worldwide",
          "Worldwide ex AUS",
          "United Kingdom",
          "United Kingdom",
          "Australia",
          "Worldwide",
          "Worldwide",
          "Worldwide",
          "United Kingdom",
          "Worldwide",
          "Worldwide ex AUS",
          "United Kingdom",
          "Worldwide",
          "United Kingdom",
          "Worldwide",
          "United Kingdom",
          "United Kingdom",
          "Worldwide",
          "United Kingdom",
          "Worldwide",
          "United Kingdom",
          "United Kingdom",
          "Worldwide",
          "United Kingdom",
          "United Kingdom",
          "Worldwide",
          "United Kingdom",
          "United Kingdom",
          "United Kingdom",
          "Australia",
          "Worldwide",
          "Worldwide",
          "United Kingdom",
          "United Kingdom",
          "Worldwide",
          "Worldwide",
          "Worldwide",
          "Worldwide",
          "United Kingdom",
          "United Kingdom",
          "Worldwide",
          "Undeclared",
          "Worldwide",
          "Worldwide",
          "Australia",
          "Worldwide",
          "United Kingdom",
          "Worldwide",
          "Worldwide",
          "Australia",
          "United Kingdom",
          "Germany",
          "EU",
          "EU",
          "United States",
          "Worldwide",
          "United States",
          "United States",
          "EU",
          "Worldwide",
          "Worldwide",
          "Worldwide ex AUS",
          "United Kingdom",
          "Worldwide",
          "Undeclared",
          "United Kingdom",
          "Worldwide",
          "United Kingdom",
          "EU",
          "Worldwide",
          "United Kingdom",
          "EU",
          "Undeclared",
          "Worldwide",
          "Worldwide",
          "United Kingdom",
          "EU",
          "Worldwide",
          "EU",
          "Australia",
          "Worldwide",
          "Worldwide ex AUS",
          "Worldwide",
          "Worldwide",
          "Australia",
          "Undeclared",
          "Worldwide",
          "Worldwide",
          "Worldwide",
          "Worldwide",
          "Australia",
          "United Kingdom",
          "Worldwide",
          "EU",
          "Worldwide",
          "United Kingdom",
          "EU",
          "Worldwide",
          "United States",
          "EU",
          "Worldwide",
          "Worldwide",
          "United Kingdom",
          "Worldwide",
          "Worldwide",
          "United Kingdom",
          "United Kingdom",
          "United Kingdom",
          "Worldwide",
          "Worldwide",
          "United Kingdom",
          "Worldwide",
          "Worldwide",
          "Worldwide",
          "Worldwide",
          "United Kingdom",
          "Worldwide",
          "Worldwide",
          "Undeclared",
          "Worldwide",
          "Worldwide",
          "Worldwide",
          "United States",
          "United States",
          "Worldwide",
          "Worldwide",
          "United States",
          "United Kingdom",
          "Worldwide",
          "Worldwide",
          "Worldwide ex AUS",
          "Australia",
          "Worldwide",
          "Undeclared",
          "EU",
          "Worldwide",
          "Worldwide",
          "Worldwide",
          "Worldwide",
          "Worldwide",
          "Worldwide ex AUS",
          "Worldwide",
          "Worldwide",
          "EU",
          "United States and Canada",
          "EU",
          "EU",
          "United Kingdom",
          "Worldwide",
          "EU",
          "United Kingdom",
          "Undeclared",
          "Worldwide",
          "Worldwide",
          "Worldwide",
          "Worldwide ex AUS",
          "Worldwide",
          "Worldwide ex AUS",
          "Worldwide",
          "Worldwide",
          "Worldwide ex AUS",
          "Worldwide ex AUS",
          "Worldwide ex AUS",
          "Worldwide",
          "Worldwide",
          "Worldwide",
          "Worldwide",
          "Worldwide",
          "Worldwide",
          "Worldwide",
          "Worldwide",
          "Worldwide",
          "EU",
          "Worldwide ex AUS",
          "Worldwide ex AUS",
          "Worldwide ex AUS",
          "Worldwide ex AUS",
          "Worldwide ex AUS",
          "Worldwide ex AUS",
          "Worldwide ex AUS",
          "Worldwide ex AUS",
          "Worldwide ex AUS",
          "Worldwide ex AUS",
          "United States",
          "Worldwide ex AUS",
          "Worldwide",
          "EU",
          "Worldwide",
          "Worldwide",
          "Australia",
          "Worldwide",
          "Worldwide ex AUS",
          "Worldwide ex AUS",
          "Worldwide ex AUS",
          "EU",
          "Worldwide",
          "Worldwide",
          "Worldwide",
          "Worldwide",
          "Worldwide ex AUS",
          "Worldwide",
          "Worldwide",
          "Australia",
          "Worldwide",
          "United Kingdom",
          "United Kingdom",
          "United States",
          "United Kingdom",
          "United Kingdom",
          "Australia",
          "Canada",
          "United Kingdom",
          "Worldwide",
          "Worldwide",
          "Worldwide",
          "Worldwide",
          "Worldwide ex AUS",
          "Worldwide",
          "Australia",
          "Worldwide",
          "Worldwide",
          "EU",
          "EU",
          "Worldwide ex AUS",
          "Worldwide ex AUS",
          "Worldwide ex AUS",
          "Worldwide ex AUS",
          "Undeclared",
          "Worldwide",
          "Worldwide",
          "United States",
          "Worldwide",
          "Worldwide ex AUS",
          "Worldwide",
          "Worldwide",
          "United Kingdom",
          "United Kingdom",
          "Sweden",
          "Worldwide ex AUS",
          "Worldwide ex AUS",
          "Undeclared",
          "Worldwide",
          "Worldwide ex AUS",
          "Undeclared",
          "Worldwide ex AUS",
          "Worldwide",
          "Worldwide",
          "Worldwide",
          "EU",
          "United States",
          "Worldwide ex AUS",
          "Worldwide ex AUS",
          "Worldwide ex AUS",
          "United States",
          "Worldwide",
          "Australia",
          "Worldwide",
          "Worldwide",
          "Worldwide",
          "United States",
          "Worldwide",
          "Worldwide",
          "Worldwide",
          "Worldwide",
          "Worldwide ex AUS",
          "United States",
          "Worldwide",
          "Worldwide ex AUS",
          "Worldwide",
          "Worldwide",
          "Worldwide",
          "Worldwide",
          "Worldwide ex AUS",
          "Worldwide",
          "Worldwide",
          "Worldwide",
          "EU",
          "United States",
          "Australia",
          "Australia",
          "Australia",
          "Australia",
          "Australia",
          "Worldwide",
          "United States",
          "Australia",
          "United States",
          "Australia",
          "EU",
          "United States",
          "Worldwide ex AUS",
          "Worldwide",
          "Worldwide",
          "EU",
          "United Kingdom",
          "Australia",
          "Australia",
          "United States",
          "Worldwide",
          "EU",
          "United Kingdom",
          "Worldwide",
          "Worldwide",
          "Worldwide",
          "Worldwide",
          "Worldwide",
          "United Kingdom",
          "Worldwide",
          "Worldwide",
          "Worldwide",
          "Worldwide",
          "Worldwide",
          "Australia",
          "Worldwide ex AUS",
          "Australia",
          "United Kingdom",
          "United States",
          "Worldwide",
          "Worldwide",
          "Worldwide ex AUS",
          "Worldwide",
          "Worldwide",
          "Worldwide",
          "Worldwide",
          "Worldwide",
          "United States",
          "Worldwide",
          "United States",
          "Australia",
          "Worldwide",
          "Worldwide",
          "Worldwide",
          "Worldwide",
          "Worldwide",
          "Australia",
          "Worldwide",
          "Worldwide",
          "Worldwide",
          "Worldwide ex AUS",
          "United States",
          "Australia",
          "Australia",
          "Worldwide ex AUS",
          "United States",
          "EU",
          "Worldwide",
          "Australia",
          "Australia",
          "Worldwide",
          "Worldwide",
          "Australia",
          "United Kingdom",
          "Australia",
          "Worldwide",
          "Australia",
          "United Kingdom",
          "Worldwide",
          "EU",
          "Australia",
          "Worldwide ex AUS",
          "Worldwide",
          "Worldwide",
          "United States and Canada",
          "United States",
          "Worldwide ex AUS",
          "Worldwide",
          "Worldwide",
          "Australia",
          "United States",
          "Australia",
          "Worldwide",
          "Australia",
          "Worldwide",
          "United States and Canada",
          "Worldwide ex AUS",
          "EU",
          "Worldwide",
          "United Kingdom",
          "Worldwide ex AUS",
          "Worldwide",
          "United States",
          "Worldwide",
          "EU",
          "EU",
          "Australia",
          "United States and Canada",
          "Worldwide",
          "Worldwide ex AUS",
          "Worldwide",
          "Australia",
          "Worldwide",
          "Worldwide",
          "Undeclared",
          "United Kingdom",
          "Worldwide",
          "EU",
          "Worldwide",
          "Worldwide",
          "Worldwide",
          "Australia",
          "Worldwide",
          "Undeclared",
          "Worldwide",
          "EU",
          "Worldwide ex AUS",
          "Worldwide",
          "Worldwide ex AUS",
          "Worldwide ex AUS",
          "Worldwide",
          "EU",
          "United Kingdom",
          "Worldwide",
          "Australia",
          "United States",
          "Australia",
          "Worldwide ex AUS",
          "Australia",
          "Worldwide",
          "Worldwide",
          "United Kingdom",
          "Worldwide ex AUS",
          "Worldwide",
          "Australia",
          "Worldwide",
          "Worldwide",
          "United Kingdom",
          "Worldwide",
          "United States",
          "EU",
          "United States",
          "Worldwide",
          "United Kingdom",
          "Australia",
          "Worldwide ex AUS",
          "EU",
          "Worldwide ex AUS",
          "Worldwide",
          "EU",
          "EU",
          "Worldwide",
          "Worldwide",
          "Worldwide",
          "EU",
          "Worldwide",
          "Australia",
          "Australia",
          "Worldwide",
          "Worldwide ex AUS",
          "Worldwide",
          "United States",
          "EU",
          "Worldwide",
          "Worldwide",
          "Worldwide ex AUS",
          "United Kingdom",
          "Australia",
          "Australia",
          "United States and Canada",
          "Australia",
          "EU",
          "Worldwide",
          "Worldwide",
          "EU",
          "Worldwide",
          "Worldwide",
          "United Kingdom",
          "Worldwide",
          "Worldwide",
          "Worldwide",
          "Australia",
          "Worldwide",
          "Australia",
          "Worldwide",
          "EU",
          "United States",
          "Australia",
          "Worldwide ex AUS",
          "Worldwide",
          "Finland",
          "Worldwide",
          "Worldwide",
          "Worldwide",
          "United States",
          "EU",
          "EU",
          "Australia",
          "EU",
          "Worldwide",
          "Worldwide",
          "Worldwide",
          "China",
          "Worldwide ex AUS",
          "Worldwide",
          "United Kingdom",
          "Worldwide",
          "Australia",
          "Worldwide",
          "United States",
          "Worldwide",
          "Worldwide ex AUS",
          "Worldwide ex AUS",
          "United Kingdom",
          "Australia",
          "Worldwide ex AUS",
          "EU",
          "EU",
          "Worldwide",
          "Australia",
          "United Kingdom",
          "Australia",
          "Worldwide",
          "Australia",
          "Australia",
          "EU",
          "Australia",
          "United States and Canada",
          "Australia",
          "Worldwide",
          "Australia",
          "Worldwide",
          "Undeclared",
          "Worldwide",
          "Worldwide ex AUS",
          "United States and Canada",
          "Australia",
          "Australia",
          "Australia",
          "Australia",
          "Australia",
          "Australia",
          "Worldwide",
          "Worldwide",
          "United States",
          "EU",
          "Worldwide",
          "Worldwide ex AUS",
          "United Kingdom",
          "United Kingdom",
          "Worldwide",
          "Australia",
          "Worldwide",
          "United States",
          "United States",
          "Worldwide",
          "Australia",
          "Australia",
          "Australia",
          "Australia",
          "Australia",
          "Australia",
          "Australia",
          "Australia",
          "Australia",
          "Australia",
          "Undeclared",
          "Worldwide",
          "Undeclared",
          "Worldwide",
          "Undeclared",
          "Worldwide ex AUS",
          "United States",
          "Worldwide",
          "United States",
          "Worldwide",
          "United States",
          "Worldwide ex AUS",
          "Worldwide ex AUS",
          "Worldwide ex AUS",
          "Worldwide",
          "Worldwide",
          "Worldwide",
          "Worldwide",
          "Worldwide",
          "Worldwide",
          "United States",
          "Worldwide",
          "United States",
          "United Kingdom",
          "Worldwide",
          "Worldwide",
          "Worldwide",
          "Worldwide",
          "Worldwide ex AUS",
          "Worldwide",
          "Worldwide",
          "Australia",
          "Worldwide",
          "Worldwide",
          "United Kingdom",
          "Worldwide",
          "Worldwide",
          "Worldwide",
          "Worldwide",
          "Worldwide",
          "Worldwide",
          "Worldwide",
          "United Kingdom",
          "Worldwide",
          "Australia",
          "Worldwide",
          "Worldwide",
          "Worldwide",
          "Worldwide",
          "Worldwide",
          "United States",
          "United Kingdom",
          "United States",
          "Worldwide",
          "United States",
          "Worldwide",
          "United States",
          "United Kingdom",
          "United Kingdom",
          "Worldwide",
          "United States",
          "United Kingdom",
          "Worldwide ex AUS",
          "Worldwide",
          "Worldwide",
          "Australia",
          "Worldwide",
          "Worldwide",
          "United States",
          "United States",
          "Worldwide",
          "Australia",
          "Worldwide",
          "Worldwide",
          "United States",
          "Worldwide",
          "Worldwide",
          "Worldwide",
          "Worldwide",
          "Worldwide",
          "United Kingdom",
          "Worldwide",
          "United States",
          "Worldwide",
          "Australia",
          "Worldwide",
          "Australia",
          "Australia",
          "United States",
          "United States and Canada",
          "United States",
          "Worldwide",
          "Australia",
          "Worldwide ex AUS",
          "United States",
          "Worldwide",
          "Worldwide ex AUS",
          "Worldwide ex AUS",
          "Worldwide",
          "United States",
          "Worldwide",
          "Australia",
          "Worldwide",
          "Worldwide",
          "United States and Canada",
          "Worldwide",
          "Worldwide",
          "United States and Canada",
          "Worldwide ex AUS",
          "Worldwide ex AUS",
          "Worldwide",
          "United Kingdom",
          "Worldwide",
          "Worldwide",
          "Worldwide",
          "United Kingdom",
          "Australia",
          "United Kingdom",
          "Worldwide",
          "Worldwide",
          "United States",
          "Worldwide ex AUS",
          "United States",
          "United States",
          "EU",
          "Australia",
          "Australia",
          "Worldwide",
          "Australia",
          "Worldwide",
          "United Kingdom",
          "United States",
          "Australia",
          "United States",
          "Worldwide",
          "United States",
          "Worldwide",
          "Worldwide",
          "Worldwide ex AUS",
          "Worldwide",
          "Worldwide",
          "Worldwide",
          "United States",
          "United States and Canada",
          "Worldwide",
          "Australia",
          "Worldwide",
          "Worldwide",
          "Worldwide",
          "EU",
          "EU",
          "EU",
          "Australia",
          "EU",
          "Worldwide",
          "Worldwide",
          "EU",
          "Worldwide",
          "Worldwide",
          "Worldwide",
          "Worldwide",
          "EU",
          "Worldwide",
          "Worldwide",
          "Worldwide",
          "Worldwide",
          "Worldwide",
          "Worldwide",
          "Worldwide",
          "United States",
          "Worldwide",
          "Worldwide",
          "United States",
          "Worldwide"
         ],
         "x0": " ",
         "xaxis": "x",
         "y": [
          470.6260850984,
          110.4639757578,
          283.10685997999997,
          549.2590205608,
          366.17341561994283,
          100.714431697,
          69.78518849358571,
          22.007806198125,
          61.06586285800001,
          110.0799113794286,
          105.73310701428571,
          100.69812037142857,
          110.76777116,
          90.62834864642856,
          90.62833520904762,
          126.04404897,
          157.55535526,
          162.9827508568,
          218.6174718,
          85.06212746780001,
          177.95551181919998,
          95.60353808026,
          52.763331267800005,
          60.300873754,
          73.98032596304999,
          48.0872129882,
          263.86692856999997,
          100.7633019153,
          91.194135785578,
          96.1744259764,
          320.246568306,
          83.3774923721992,
          97.654031161,
          162.1518798956,
          90.62590653414999,
          80.59824395518842,
          106.259480402,
          250.9244539208,
          98.46014416065,
          103.57248749036,
          111.59747190106667,
          55.36375288928571,
          166.44110286999998,
          91.9035876895,
          65.329107356,
          99.654513094,
          110.727989992,
          291.9210181235,
          119.8245445145,
          116.234222995,
          118.26816150171429,
          311.8275163855,
          123.8139789525,
          39.45479964021429,
          136.589829212,
          66.89166408999999,
          120.3404255013,
          189.096480766,
          149.774960872,
          78.790482777,
          133.339304466,
          148.15478274,
          131.80691422860005,
          163.354968583,
          106.52804376592857,
          27.929597008366073,
          119.5177953075,
          118.566194867,
          146.4261408,
          83.78880615676785,
          284.524294842,
          114.91038348128573,
          270.29822536392857,
          30.92205112860714,
          51.105216838357144,
          174.2900411426667,
          125.49480481642856,
          21.026244720852,
          259.62852193867855,
          40.69741235128571,
          72.92229527399998,
          78.39096533819999,
          102.203679606,
          85.0753417112,
          28.745077769975,
          85.16829848685714,
          147.1754408464,
          95.5979626445,
          91.89747964318572,
          104.8670538073,
          72.9544284804,
          51.29242988346,
          44.75218432999999,
          179.771900972,
          95.9129350114,
          27.473891472000002,
          127.36264133359997,
          140.227973846,
          107.9146876018,
          63.28701944659999,
          148.5899713698,
          22.707465856,
          113.80845320899999,
          90.40964524268573,
          59.74968897539999,
          121.9374849864,
          67.80722436856,
          94.0271174608,
          171.77876587999998,
          78.10154333333332,
          95.037291748164,
          141.0744830021,
          107.67703576279997,
          92.41548414457144,
          69.178917311178,
          103.2908530892,
          51.06809993628,
          41.1720095836,
          112.3577728284,
          125.3904657908,
          78.67434005213998,
          226.48527059999998,
          68.80250072,
          181.7944032775,
          159.98516079,
          177.76204849,
          128.768627325,
          55.69739214928571,
          261.7548,
          93.20480782928571,
          112.690676496,
          35.42962230080357,
          74.5417684925,
          74.5417684925,
          52.553936824821434,
          82.49267960699999,
          65.31261364767856,
          54.32541696607143,
          99.3888428825,
          68.633199205,
          64.43105308450001,
          68.63335501142858,
          79.41862032934999,
          134.71510709375,
          61.63001185357143,
          130.35734410916666,
          68.28321901482143,
          98.4879701125,
          34.764309374999996,
          99.89482425928573,
          108.3364944625,
          98.4879701125,
          155.47144475,
          95.48421692767856,
          173.930611375,
          125.514916664,
          165.96781223,
          99.838224317,
          96.3352006385,
          91.95632187199999,
          40.54532068,
          201.032385741,
          192.6556712685,
          92.58757160399999,
          90.07549600499999,
          135.1132440075,
          65.7119925,
          101.0844451485,
          118.67067301885713,
          80.06706782485715,
          160.134493266,
          105.53784075449998,
          47.79912685467856,
          43.01927228185714,
          70.05863428047,
          90.07528739550001,
          114.71794021285713,
          57.190711644,
          60.050254110313496,
          101.57317250496429,
          80.0669963016,
          184.02612208199997,
          92.076895548,
          159.178227318,
          74.91989662457142,
          230.1928646985,
          92.076895548,
          80.42446060039286,
          130.491500535,
          85.78606746599999,
          63.81188776992857,
          60.050254110313496,
          100.083745377,
          75.06280903274998,
          70.05868434675,
          175.310834391,
          76.0638217185,
          80.067246633,
          62.909711285142855,
          57.190711644,
          85.071371319,
          80.067246633,
          52.18654225596429,
          94.6792156167,
          32.5272016018125,
          55.04599737449999,
          200.167490754,
          127.1822445927,
          68.05697188949999,
          80.067246633,
          67.91397007725,
          66.918589848,
          100.377884772,
          47.799171556714285,
          57.1875825015,
          60.872371305428565,
          38.961176777678574,
          41.46328382271429,
          37.2534149735,
          21.2677646011875,
          60.050211464571426,
          62.909800689214286,
          66.918589848,
          150.5674529865,
          46.46745321075,
          83.217667302,
          80.067246633,
          92.076895548,
          66.57392105990999,
          69.34783078673999,
          64.33964000357143,
          88.84213002000001,
          82.21673502000002,
          71.52548083714285,
          40.709034972,
          162.50698746000003,
          127.17933968571428,
          110.42325,
          87.23364636857143,
          43.557607777499996,
          134.062617294,
          70.55898444,
          60.980640372,
          42.347701980000004,
          40.65378428571428,
          127.00650852,
          96.55282782,
          55.89892791288,
          92.51288321616,
          46.69326,
          51.67808100000001,
          112.89483783,
          29.219884920000005,
          35.063861904,
          127.00650852,
          45.73548616824,
          66.06238143600001,
          63.013353624000004,
          56.447397882000004,
          67.10499025071428,
          71.09501212764,
          85.60418981142858,
          47.32425,
          138.67084944,
          71.09501212764,
          115.56131142857144,
          85.60418981142858,
          81.25144651800001,
          87.0551062457143,
          76.17323298857143,
          72.545929884,
          85.60418981142858,
          76.17322637820001,
          97.93700955,
          60.938582364540004,
          141.02121708,
          63.45950562,
          119.64706182,
          72.18306730602,
          567.84010014,
          76.9952675304,
          76.9952675304,
          92.394351324,
          76.9952675304,
          76.9952675304,
          82.49494151571427,
          72.183068568,
          72.18306255857144,
          72.183068568,
          92.394351324,
          88.89419090160001,
          76.8026241801,
          154.55039986800003,
          656.7179862600001,
          58.729183920000004,
          79.50582169714286,
          47.32425,
          93.57489154800001,
          24.45170382,
          82.2404686572,
          71.96041070604,
          127.83058146,
          165.70554588,
          62.36621028,
          43.86305952000001,
          157.85182368000002,
          111.81163833,
          112.0722372,
          91.43171298,
          72.18306255857144,
          66.4084226619,
          72.18306255857144,
          82.49494151571427,
          76.9952675304,
          78.92014278857143,
          173.23937017199998,
          115.9023465,
          156.02453637212,
          137.2635294394,
          85.10428859334999,
          125.79100079962,
          76.99895633128399,
          113.47241392838,
          71.7051614981,
          120.56440811214799,
          127.656432890025,
          94.2407821875,
          42.07178556689643,
          92.19228806059999,
          79.38760450321999,
          51.21781640625,
          99.2883731138,
          371.7748049222999,
          42.552139926088,
          102.66939678004285,
          69.66849917457857,
          100.10265717777,
          105.1056244108,
          71.8686214519,
          85.22085214864,
          30.800820282752003,
          102.66937180526,
          98.00407612385,
          99.36467107542856,
          71.8686214519,
          97.02266081299999,
          174.3864213,
          51.13254625388,
          65.23844097290001,
          155.4766395858,
          99.1445808015,
          80.3685390495,
          120.38974197328,
          52.97017204542143,
          69.57943285521428,
          80.02076519821428,
          205.6518524632,
          102.8258013576857,
          165.1618603778,
          159.3800108355,
          77.1194446737,
          322.6117575571429,
          94.01220048740001,
          59.22567875076667,
          45.58981152635,
          80.5993496784,
          392.1467014928,
          42.38008277933333,
          65.689046746188,
          124.54151529444,
          176.2381087588,
          131.1238129957,
          90.81433825911428,
          183.5812904674,
          190.92447217600002,
          146.8649449863,
          483.536340786,
          80.00957544685714,
          90.57696704514285,
          126.807579726,
          43.63747629100001,
          123.8175366016,
          386.32726116999993,
          80.24999754359997,
          386.3277868032,
          128.598790546,
          91.8565042328,
          76.77218302102857,
          96.73287851965713,
          109.623966758,
          120.585507012,
          163.918473734,
          109.278762894,
          98.3511030628571,
          386.220539146,
          447.202382808,
          131.135306016,
          131.209090048,
          111.824970784,
          119.27979315999998,
          47.687930454699995,
          105.7363019422,
          124.23616634965715,
          95.3822880621,
          97.1483178978,
          150.138414036,
          167.8015877265,
          84.90594884056073,
          72.35489219399999,
          113.700271035,
          90.6322371201,
          87.99239343375,
          203.7742279259143,
          170.76917835565715,
          39.622798489299996,
          35.06984709470357,
          80.45018828228571,
          98.19551435849999,
          105.947844774525,
          135.5083338102,
          27.213904446767998,
          76.02542792676,
          31.009126141421998,
          143.42767318035,
          87.9921059004,
          124.03646513254286,
          89.8524466749,
          103.4999295993,
          82.2178611657,
          143.58754172295,
          116.10855453015,
          149.75426948039998,
          172.65802600799992,
          140.7377986911,
          132.1359509925,
          120.683928962025,
          102.8196256932,
          341.5505152644,
          112.59012393953999,
          139.7251062324,
          74.24768316085714,
          80.60278633875,
          100.602168498,
          134.55036853245,
          97.10541792197999,
          126.49655939895,
          64.37296639799999,
          64.07142606623572,
          88.892821371276,
          41.3455705299,
          90.96008264576999,
          73.83125271767143,
          349.8930078813,
          86.825548595448,
          63.3545232723,
          83.724639431706,
          113.6998876572,
          262.8393286829143,
          129.52480313448,
          112.5071993214,
          100.4265292753,
          109.5567775906,
          104.19932327720001,
          72.5048766086,
          122.6322408732,
          94.2973449471857,
          88.68834740625714,
          122.6322408732,
          39.98201631140358,
          102.5954361674,
          137.5258327323714,
          45.413542529775,
          95.05158477763999,
          155.6210852209,
          52.80671164059999,
          80.13720671164286,
          76.915479329848,
          73.92890012139999,
          83.23921877346667,
          79.652643548994,
          41.74223560261905,
          29.571609666104,
          38.2846643681625,
          97.715550715,
          74.165191270314,
          35.855578580809,
          87.80264766502998,
          27.705171322228,
          90.52525976734286,
          90.5253483701,
          41.490788361410715,
          38.02062150667,
          148.4205717301375,
          39.22765243708928,
          31.155804813129,
          43.565289015775,
          33.94699456344286,
          39.6048011482125,
          197.8939922703,
          149.58945252840002,
          45.75750581656666,
          122.0740435032,
          79.195802417,
          144.6884796198,
          143.6167406694,
          100.16346768934285,
          116.1534300654,
          82.67904260855713,
          78.44126133717143,
          93.1339907459,
          162.77389720228572,
          325.54814881560003,
          147.83175103219997,
          77.51164120922859,
          96.1817483861,
          142.87961003135,
          137.27225164142857,
          68.6359486152,
          85.90874601055,
          116.15347436677857,
          84.47510909859999,
          105.5941964829,
          93.52614654901427,
          118.8510296093714,
          131.9925905488,
          129.18600961354286,
          58.0767150327,
          56.56825309234286,
          86.1695482262,
          142.55194817516,
          84.47510909859999,
          79.00698994152857,
          93.97872943249999,
          121.0072663072,
          65.7649534755,
          69.52259640592857,
          63.88591050339285,
          126.735611762,
          71.8511654664,
          108.84174005004357,
          71.66589710121428,
          63.367805881,
          77.55213266924285,
          95.05162021874285,
          42.245307290549995,
          116.17420741195,
          211.2256061238,
          103.500633831364,
          113.53393385185,
          211.2256061238,
          126.73548771813998,
          120.70052356197142,
          111.64797986468571,
          98.54019429628,
          114.9626090094,
          166.47802406739999,
          42.24520392066667,
          93.40719734755,
          99.52535063239999,
          49.034537858,
          78.98926939009999,
          122.0740435032,
          126.71297375755,
          98.05162097284287,
          129.2549425586,
          114.04170739276,
          59.75474049953929,
          71.80824629084,
          112.6336855379,
          131.9925905488,
          105.59407243903999,
          105.66073715351429,
          64.41145775738572,
          71.56830116422142,
          100.19560833949643,
          200.3909951721,
          114.50931730385715,
          68.70553722065999,
          93.03878708335,
          108.67672737831428,
          78.3049651254,
          114.63161448999001,
          88.57897711137001,
          140.6842017483,
          122.81960485367142,
          89.32334247535714,
          138.93349932,
          103.1686485102,
          132.49633310537143,
          130.2631868931,
          145.8947091759,
          58.57915051892143,
          98.2603665519,
          100.9423604747472,
          137.3772636945,
          119.8421720379,
          117.28872124450713,
          258.29326337415,
          114.20216935382143,
          156.315222828,
          101.6053960413,
          94.8316361448,
          47.87926753110001,
          143.20859034900002,
          151.9406591641,
          144.9549090484,
          114.37348571508572,
          116.6359319685,
          115.82171206320002,
          107.1785277328,
          420.82093312499995,
          160.38231897799997,
          145.5574211144,
          133.6752788517143,
          83.17546719740001,
          162.35852705279999,
          161.152791754,
          273.2915614978286,
          158.88122548464864,
          115.9426270512,
          64.971954684,
          147.3674019024,
          31.681516830357143,
          85.35996301890953,
          67.566296301,
          38.017820196428566,
          357.0434020983,
          138.53271984984002,
          122.13042345861,
          120.7860200412,
          120.7860200412,
          113.68091393994,
          106.57585137647,
          84.42187190989,
          78.14303279126,
          66.23119741321071,
          79.330249088618,
          108.1776525856,
          36.79511445877143,
          131.32231344515998,
          111.6241191581,
          88.30820580042858,
          81.6730184021,
          152.5279500094,
          144.0538624042,
          143.4473646715,
          68.651381096286,
          71.51185123997999,
          61.71548760695715,
          96.1119582722,
          75.80252065139,
          96.0019419424,
          76.00685761693929,
          71.4113392795,
          147.6043740738,
          79.290523578609,
          110.4778807356,
          67.3799983878,
          165.1884336375,
          92.50566651816,
          103.6616465052,
          90.07343697315001,
          106.19847850042501,
          279.7110929712,
          152.92582135614,
          139.57513730745,
          105.92598974621998,
          66.9784608603,
          126.514853409,
          88.8500175531,
          115.72899095865,
          96.611211984,
          66.62847408041999,
          50.604555866700004,
          103.43197217094,
          71.9831835513,
          182.9291056656,
          313.576947642,
          100.7765288124,
          102.2953926177,
          79.33455826212,
          100.21541796231,
          114.9751010436,
          117.35403000972,
          122.8872633219,
          113.9118604596,
          418.945526328,
          380.8596533586,
          403.2630869169,
          403.26308691689997,
          326.4510874662,
          96.73680135154,
          170.670330765,
          296.27857968719997,
          66.68461351034999,
          310.22462094855,
          45.524556000000004,
          43.71546976005,
          98.54510951670001,
          48.1611323391,
          48.902044488,
          65.80803791064649,
          60.221261809800026,
          262.070847028,
          297.2023629517143,
          80.77806024014285,
          72.39544898348214,
          83.86398483798001,
          206.11329392239995,
          121.73804588379001,
          132.2619160808,
          117.4321077147,
          88.48853328850001,
          93.404797917,
          161.518604735,
          94.8452839525,
          109.1659342813,
          193.254851626,
          115.512858273,
          66.5163543349,
          310.588572753,
          83.62143688433927,
          359.99391088321426,
          156.2372564535,
          71.99878217664285,
          102.687145176,
          101.312629473,
          164.296263175,
          101.312629473,
          153.995318169,
          36.22659696700001,
          156.387319374,
          84.528838636,
          86.282635714,
          102.663545446,
          113.246001517,
          351.103634519,
          146.631528131,
          161.780194818,
          95.21903469885714,
          97.068049463,
          146.631528131,
          360.593085952,
          86.253978899,
          95.34230234980001,
          94.5585890304,
          113.66843668400001,
          86.61370621200001,
          47.353907590137496,
          157.07643149,
          109.4061905904,
          91.06306204246428,
          108.6836679995,
          145.87487583533334,
          316.79266135,
          197.99542538442856,
          111.1427261516,
          180.897998952,
          91.24289860743751,
          143.703813055,
          263.9939245939286,
          100.345040543,
          382.366871128,
          152.40358862457143,
          125.982775798,
          108.68365595882142,
          289.7333313387857,
          113.668436684,
          107.353823214,
          89.116289009,
          79.03977021089285,
          79.21971815214286,
          99.46015180970001,
          142.01306097,
          130.07159759,
          250.9717380680714,
          67.93302687285714,
          397.592068368,
          118.423782279,
          178.98247147942857,
          101.1247756222,
          86.26361144185715,
          94.80640867133333,
          69.0176800962,
          72.99942654179999,
          160.717869829,
          84.27054521013333,
          127.41716738740001,
          61.13972418557143,
          87.5993320785,
          66.363115038,
          86.27218440499999,
          168.41523482614284,
          62.271933273,
          102.99556667598,
          143.800234809,
          67.93302687285714,
          351.7345179134286,
          116.79909595244,
          109.964964769,
          100.38988003,
          173.4580155,
          135.341754438,
          107.54811160342857,
          135.341417299,
          105.673522438,
          162.838137,
          427.63722177,
          121.61255532066667,
          46.99310685064285,
          105.2451873385,
          95.22182813628571,
          79.2950928,
          50.71339959360714,
          103.44326703963999,
          150.35031578914285,
          152.02091980533334,
          96.00990499759999,
          157.868033862,
          126.8702942155,
          361.84697332080003,
          56.39169932314286,
          391.041457598,
          93.80892675,
          382.894830802,
          134.41394791,
          65.7903495909,
          36.83580714,
          102.8677842522,
          104.5136294224,
          381.937693181,
          94.29950445168001,
          104.24289717285714,
          145.338600066,
          99.43882776795,
          78.32186883242856,
          125.70954336844446,
          62.65747580085714,
          119.02730323137497,
          152.02080742566667,
          253.40250544179997,
          79.2950928,
          82.27857066660002,
          147.02651055085715,
          100.2047232912,
          133.091351613,
          140.69282464600002,
          117.869862902,
          178.769303306,
          192.52052883800002,
          110.01182709,
          96.26026441900001,
          401.2685691630001,
          31.99111971,
          137.514952432,
          89.05656724328573,
          99.01098152,
          82.452399535,
          95.47025141657143,
          119.33781427071428,
          189.935346986,
          88.97523005139999,
          150.2350722798,
          400.0167593947,
          467.9986051311429,
          64.06637955,
          259.9992110784536,
          66.07633975735,
          52.86107180588,
          103.69063062346963,
          84.57765219448001,
          124.42874835152143,
          62.92983805835,
          71.338991198,
          93.5905966751,
          94.70495703708927,
          72.792729841,
          346.12988101375,
          149.3142405248,
          427.6985293232,
          129.5096964562,
          81.93466913598,
          46.42399882199286,
          285.99914758014285,
          84.32601042722,
          72.68399332524999,
          129.98719670158,
          119.2676962808,
          126.48903243411428,
          76.31630234759,
          59.27413599099999,
          74.00550131191858,
          82.287093,
          346.6496611512,
          92.50691484462,
          112.99056253645,
          24.9575412964914,
          72.99821246752,
          176.7824558548,
          62.442141658460706,
          112.5783993624643,
          82.95322661,
          32.860762824599995,
          311.86903408944283,
          85.89924560298799,
          65.36499022941072,
          89.203060631639,
          133.70107630345714,
          100.6876625247,
          138.15779004242856,
          301.57028380868,
          86.84321178642,
          47.021195999999996,
          76.648554118526,
          66.07633975735,
          431.3387535802,
          66.36205883026666,
          274.31012607545716,
          99.543002039874,
          245.6990717722,
          350.9989538483572,
          77.1771648365848,
          370.8534299489,
          78.7605033,
          488.495368378,
          69.259329904446,
          43.14790334816,
          90.80021862455861,
          102.7330845507,
          58.70456376564285,
          78.262991617289,
          90.5158023,
          359.56557201699286,
          359.5656000058,
          335.60583762877144,
          342.1011441248,
          251.6958416354,
          293.22944015174284,
          146.90824429414,
          81.8086523307,
          129.5934949447857,
          88.5424794412,
          150.78516429538573,
          85.58468947548002,
          182.49513932549996,
          165.9048858468,
          59.25178692849643,
          214.49936068510715,
          80.55013001976,
          103.9897260138,
          24.04761924265,
          92.5067581073,
          267.17264438834286,
          270.99513175745716,
          338.74394268562855,
          272.17337657175,
          371.146136894,
          296.91690951519996,
          340.2167696951,
          272.1735724934,
          340.21676969509997,
          331.3799755711143,
          98.55601735505715,
          117.09797443492,
          106.1373683112,
          114.40606786461998,
          72.02167527725715,
          102.6918515072,
          90.52692579437144,
          139.7875523804,
          95.69131072275,
          165.67450811700002,
          95.69122795088572,
          140.8772715643429,
          110.3639204266,
          93.06680804060001,
          87.62076701243001,
          81.11121237255,
          109.4662319678,
          151.8908958262,
          73.96162705114288,
          172.577129786,
          163.4407162249,
          113.2323517928,
          106.3235498246,
          155.3194168074,
          97.0569637116,
          77.6597084037,
          148.4164088697,
          94.3608081856,
          88.26104600955,
          233.9119641216,
          146.69075345245,
          489.0887927156001,
          119.4868145832,
          127.588414297,
          154.28421669140002,
          95.69122795088572,
          182.26905291894286,
          97.05688645786003,
          154.1691086188,
          131.15875107234285,
          94.3608081856,
          142.66383787683333,
          94.5029550672,
          148.852506232,
          691.104232666,
          143.23909497612001,
          80.53599390013333,
          189.8348427646,
          118.6250491135,
          74.20824306172,
          111.6397659427,
          86.28856489300001,
          87.1853704519143,
          89.7402619962,
          44.257219138375014,
          121.3212046395,
          75.7874640148,
          144.9647117665,
          109.58700531466667,
          102.80329002715,
          121.2088004478,
          186.38314566140002,
          97.00752131800002,
          131.1586958911,
          77.659804970875,
          354.0577531070001,
          450.4267722639,
          71.49629466401429,
          105.2605383622,
          154.8588741545143,
          157.78491473825716,
          489.0887927156,
          170.11779559997,
          121.51273873345714,
          104.80474129619999,
          93.28250048267999,
          96.2865231988286,
          170.11783422684,
          128.06120718580001,
          95.70884732173,
          130.16593015085715,
          114.97133348020002,
          110.56420074755,
          104.8143980137,
          329.7259151566,
          147.18749500065002,
          593.27009633,
          269.6688576806,
          118.6544055347,
          107.86763136222858,
          67.95658347845715,
          75.27905715186003,
          376.82972768431426,
          91.32716969641,
          95.38066791608573,
          122.64974824252859,
          82.1180217391,
          114.3336038565,
          95.53473394614286,
          91.6824210198,
          101.75580656649001,
          465.3468422513429,
          118.6482252355,
          98.54183209689334,
          107.861671788,
          78.69660810197999,
          93.8493884268,
          101.25758064285715,
          123.177225743,
          116.3340894538,
          85.53979846879801,
          80.65676724699999,
          66.95672694850715,
          125.11969378156,
          98.61649599722857,
          175.2137999322,
          360.7208330007571,
          118.14425494448572,
          154.18826754632,
          116.39208494004286,
          98.61649599722857,
          109.4909531646,
          109.1053466395143,
          59.01584260452857,
          82.11840800780001,
          302.79346800220713,
          234.16027971445718,
          107.861671788,
          316.2509315571,
          91.97243155976,
          176.8932962398,
          78.19984080253333,
          27.142068280227498,
          107.86183733172858,
          154.08832327925714,
          33.0326852686625,
          67.58250983312857,
          91.6986443052,
          89.37981811785714,
          68.43174916070001,
          91.89420662988572,
          88.96138978952,
          85.21087522,
          94.65337913522856,
          63.202153798575004,
          324.4877253159,
          141.5126283946,
          126.35100251655,
          113.21204509542858,
          163.7497311849,
          172.368544688,
          165.47364839300002,
          278.1322256225714,
          132.96968910042855,
          96.02838534474286,
          90.97446774644,
          134.44715584168,
          85.92034045941429,
          75.81229557408572,
          131.9034219447,
          103.10384570262002,
          123.1200579754,
          80.86647252423,
          66.71477320113901,
          100.8304226419,
          90.9747767614,
          70.758075582572,
          62.204289642579596,
          54.17794588706321,
          48.15817586433498,
          58.1911339881068,
          94.81139062415,
          45.14828977141851,
          51.16806311605755
         ],
         "y0": " ",
         "yaxis": "y"
        }
       ],
       "layout": {
        "boxmode": "group",
        "legend": {
         "tracegroupgap": 0
        },
        "margin": {
         "t": 60
        },
        "template": {
         "data": {
          "bar": [
           {
            "error_x": {
             "color": "#2a3f5f"
            },
            "error_y": {
             "color": "#2a3f5f"
            },
            "marker": {
             "line": {
              "color": "#E5ECF6",
              "width": 0.5
             }
            },
            "type": "bar"
           }
          ],
          "barpolar": [
           {
            "marker": {
             "line": {
              "color": "#E5ECF6",
              "width": 0.5
             }
            },
            "type": "barpolar"
           }
          ],
          "carpet": [
           {
            "aaxis": {
             "endlinecolor": "#2a3f5f",
             "gridcolor": "white",
             "linecolor": "white",
             "minorgridcolor": "white",
             "startlinecolor": "#2a3f5f"
            },
            "baxis": {
             "endlinecolor": "#2a3f5f",
             "gridcolor": "white",
             "linecolor": "white",
             "minorgridcolor": "white",
             "startlinecolor": "#2a3f5f"
            },
            "type": "carpet"
           }
          ],
          "choropleth": [
           {
            "colorbar": {
             "outlinewidth": 0,
             "ticks": ""
            },
            "type": "choropleth"
           }
          ],
          "contour": [
           {
            "colorbar": {
             "outlinewidth": 0,
             "ticks": ""
            },
            "colorscale": [
             [
              0,
              "#0d0887"
             ],
             [
              0.1111111111111111,
              "#46039f"
             ],
             [
              0.2222222222222222,
              "#7201a8"
             ],
             [
              0.3333333333333333,
              "#9c179e"
             ],
             [
              0.4444444444444444,
              "#bd3786"
             ],
             [
              0.5555555555555556,
              "#d8576b"
             ],
             [
              0.6666666666666666,
              "#ed7953"
             ],
             [
              0.7777777777777778,
              "#fb9f3a"
             ],
             [
              0.8888888888888888,
              "#fdca26"
             ],
             [
              1,
              "#f0f921"
             ]
            ],
            "type": "contour"
           }
          ],
          "contourcarpet": [
           {
            "colorbar": {
             "outlinewidth": 0,
             "ticks": ""
            },
            "type": "contourcarpet"
           }
          ],
          "heatmap": [
           {
            "colorbar": {
             "outlinewidth": 0,
             "ticks": ""
            },
            "colorscale": [
             [
              0,
              "#0d0887"
             ],
             [
              0.1111111111111111,
              "#46039f"
             ],
             [
              0.2222222222222222,
              "#7201a8"
             ],
             [
              0.3333333333333333,
              "#9c179e"
             ],
             [
              0.4444444444444444,
              "#bd3786"
             ],
             [
              0.5555555555555556,
              "#d8576b"
             ],
             [
              0.6666666666666666,
              "#ed7953"
             ],
             [
              0.7777777777777778,
              "#fb9f3a"
             ],
             [
              0.8888888888888888,
              "#fdca26"
             ],
             [
              1,
              "#f0f921"
             ]
            ],
            "type": "heatmap"
           }
          ],
          "heatmapgl": [
           {
            "colorbar": {
             "outlinewidth": 0,
             "ticks": ""
            },
            "colorscale": [
             [
              0,
              "#0d0887"
             ],
             [
              0.1111111111111111,
              "#46039f"
             ],
             [
              0.2222222222222222,
              "#7201a8"
             ],
             [
              0.3333333333333333,
              "#9c179e"
             ],
             [
              0.4444444444444444,
              "#bd3786"
             ],
             [
              0.5555555555555556,
              "#d8576b"
             ],
             [
              0.6666666666666666,
              "#ed7953"
             ],
             [
              0.7777777777777778,
              "#fb9f3a"
             ],
             [
              0.8888888888888888,
              "#fdca26"
             ],
             [
              1,
              "#f0f921"
             ]
            ],
            "type": "heatmapgl"
           }
          ],
          "histogram": [
           {
            "marker": {
             "colorbar": {
              "outlinewidth": 0,
              "ticks": ""
             }
            },
            "type": "histogram"
           }
          ],
          "histogram2d": [
           {
            "colorbar": {
             "outlinewidth": 0,
             "ticks": ""
            },
            "colorscale": [
             [
              0,
              "#0d0887"
             ],
             [
              0.1111111111111111,
              "#46039f"
             ],
             [
              0.2222222222222222,
              "#7201a8"
             ],
             [
              0.3333333333333333,
              "#9c179e"
             ],
             [
              0.4444444444444444,
              "#bd3786"
             ],
             [
              0.5555555555555556,
              "#d8576b"
             ],
             [
              0.6666666666666666,
              "#ed7953"
             ],
             [
              0.7777777777777778,
              "#fb9f3a"
             ],
             [
              0.8888888888888888,
              "#fdca26"
             ],
             [
              1,
              "#f0f921"
             ]
            ],
            "type": "histogram2d"
           }
          ],
          "histogram2dcontour": [
           {
            "colorbar": {
             "outlinewidth": 0,
             "ticks": ""
            },
            "colorscale": [
             [
              0,
              "#0d0887"
             ],
             [
              0.1111111111111111,
              "#46039f"
             ],
             [
              0.2222222222222222,
              "#7201a8"
             ],
             [
              0.3333333333333333,
              "#9c179e"
             ],
             [
              0.4444444444444444,
              "#bd3786"
             ],
             [
              0.5555555555555556,
              "#d8576b"
             ],
             [
              0.6666666666666666,
              "#ed7953"
             ],
             [
              0.7777777777777778,
              "#fb9f3a"
             ],
             [
              0.8888888888888888,
              "#fdca26"
             ],
             [
              1,
              "#f0f921"
             ]
            ],
            "type": "histogram2dcontour"
           }
          ],
          "mesh3d": [
           {
            "colorbar": {
             "outlinewidth": 0,
             "ticks": ""
            },
            "type": "mesh3d"
           }
          ],
          "parcoords": [
           {
            "line": {
             "colorbar": {
              "outlinewidth": 0,
              "ticks": ""
             }
            },
            "type": "parcoords"
           }
          ],
          "pie": [
           {
            "automargin": true,
            "type": "pie"
           }
          ],
          "scatter": [
           {
            "marker": {
             "colorbar": {
              "outlinewidth": 0,
              "ticks": ""
             }
            },
            "type": "scatter"
           }
          ],
          "scatter3d": [
           {
            "line": {
             "colorbar": {
              "outlinewidth": 0,
              "ticks": ""
             }
            },
            "marker": {
             "colorbar": {
              "outlinewidth": 0,
              "ticks": ""
             }
            },
            "type": "scatter3d"
           }
          ],
          "scattercarpet": [
           {
            "marker": {
             "colorbar": {
              "outlinewidth": 0,
              "ticks": ""
             }
            },
            "type": "scattercarpet"
           }
          ],
          "scattergeo": [
           {
            "marker": {
             "colorbar": {
              "outlinewidth": 0,
              "ticks": ""
             }
            },
            "type": "scattergeo"
           }
          ],
          "scattergl": [
           {
            "marker": {
             "colorbar": {
              "outlinewidth": 0,
              "ticks": ""
             }
            },
            "type": "scattergl"
           }
          ],
          "scattermapbox": [
           {
            "marker": {
             "colorbar": {
              "outlinewidth": 0,
              "ticks": ""
             }
            },
            "type": "scattermapbox"
           }
          ],
          "scatterpolar": [
           {
            "marker": {
             "colorbar": {
              "outlinewidth": 0,
              "ticks": ""
             }
            },
            "type": "scatterpolar"
           }
          ],
          "scatterpolargl": [
           {
            "marker": {
             "colorbar": {
              "outlinewidth": 0,
              "ticks": ""
             }
            },
            "type": "scatterpolargl"
           }
          ],
          "scatterternary": [
           {
            "marker": {
             "colorbar": {
              "outlinewidth": 0,
              "ticks": ""
             }
            },
            "type": "scatterternary"
           }
          ],
          "surface": [
           {
            "colorbar": {
             "outlinewidth": 0,
             "ticks": ""
            },
            "colorscale": [
             [
              0,
              "#0d0887"
             ],
             [
              0.1111111111111111,
              "#46039f"
             ],
             [
              0.2222222222222222,
              "#7201a8"
             ],
             [
              0.3333333333333333,
              "#9c179e"
             ],
             [
              0.4444444444444444,
              "#bd3786"
             ],
             [
              0.5555555555555556,
              "#d8576b"
             ],
             [
              0.6666666666666666,
              "#ed7953"
             ],
             [
              0.7777777777777778,
              "#fb9f3a"
             ],
             [
              0.8888888888888888,
              "#fdca26"
             ],
             [
              1,
              "#f0f921"
             ]
            ],
            "type": "surface"
           }
          ],
          "table": [
           {
            "cells": {
             "fill": {
              "color": "#EBF0F8"
             },
             "line": {
              "color": "white"
             }
            },
            "header": {
             "fill": {
              "color": "#C8D4E3"
             },
             "line": {
              "color": "white"
             }
            },
            "type": "table"
           }
          ]
         },
         "layout": {
          "annotationdefaults": {
           "arrowcolor": "#2a3f5f",
           "arrowhead": 0,
           "arrowwidth": 1
          },
          "coloraxis": {
           "colorbar": {
            "outlinewidth": 0,
            "ticks": ""
           }
          },
          "colorscale": {
           "diverging": [
            [
             0,
             "#8e0152"
            ],
            [
             0.1,
             "#c51b7d"
            ],
            [
             0.2,
             "#de77ae"
            ],
            [
             0.3,
             "#f1b6da"
            ],
            [
             0.4,
             "#fde0ef"
            ],
            [
             0.5,
             "#f7f7f7"
            ],
            [
             0.6,
             "#e6f5d0"
            ],
            [
             0.7,
             "#b8e186"
            ],
            [
             0.8,
             "#7fbc41"
            ],
            [
             0.9,
             "#4d9221"
            ],
            [
             1,
             "#276419"
            ]
           ],
           "sequential": [
            [
             0,
             "#0d0887"
            ],
            [
             0.1111111111111111,
             "#46039f"
            ],
            [
             0.2222222222222222,
             "#7201a8"
            ],
            [
             0.3333333333333333,
             "#9c179e"
            ],
            [
             0.4444444444444444,
             "#bd3786"
            ],
            [
             0.5555555555555556,
             "#d8576b"
            ],
            [
             0.6666666666666666,
             "#ed7953"
            ],
            [
             0.7777777777777778,
             "#fb9f3a"
            ],
            [
             0.8888888888888888,
             "#fdca26"
            ],
            [
             1,
             "#f0f921"
            ]
           ],
           "sequentialminus": [
            [
             0,
             "#0d0887"
            ],
            [
             0.1111111111111111,
             "#46039f"
            ],
            [
             0.2222222222222222,
             "#7201a8"
            ],
            [
             0.3333333333333333,
             "#9c179e"
            ],
            [
             0.4444444444444444,
             "#bd3786"
            ],
            [
             0.5555555555555556,
             "#d8576b"
            ],
            [
             0.6666666666666666,
             "#ed7953"
            ],
            [
             0.7777777777777778,
             "#fb9f3a"
            ],
            [
             0.8888888888888888,
             "#fdca26"
            ],
            [
             1,
             "#f0f921"
            ]
           ]
          },
          "colorway": [
           "#636efa",
           "#EF553B",
           "#00cc96",
           "#ab63fa",
           "#FFA15A",
           "#19d3f3",
           "#FF6692",
           "#B6E880",
           "#FF97FF",
           "#FECB52"
          ],
          "font": {
           "color": "#2a3f5f"
          },
          "geo": {
           "bgcolor": "white",
           "lakecolor": "white",
           "landcolor": "#E5ECF6",
           "showlakes": true,
           "showland": true,
           "subunitcolor": "white"
          },
          "hoverlabel": {
           "align": "left"
          },
          "hovermode": "closest",
          "mapbox": {
           "style": "light"
          },
          "paper_bgcolor": "white",
          "plot_bgcolor": "#E5ECF6",
          "polar": {
           "angularaxis": {
            "gridcolor": "white",
            "linecolor": "white",
            "ticks": ""
           },
           "bgcolor": "#E5ECF6",
           "radialaxis": {
            "gridcolor": "white",
            "linecolor": "white",
            "ticks": ""
           }
          },
          "scene": {
           "xaxis": {
            "backgroundcolor": "#E5ECF6",
            "gridcolor": "white",
            "gridwidth": 2,
            "linecolor": "white",
            "showbackground": true,
            "ticks": "",
            "zerolinecolor": "white"
           },
           "yaxis": {
            "backgroundcolor": "#E5ECF6",
            "gridcolor": "white",
            "gridwidth": 2,
            "linecolor": "white",
            "showbackground": true,
            "ticks": "",
            "zerolinecolor": "white"
           },
           "zaxis": {
            "backgroundcolor": "#E5ECF6",
            "gridcolor": "white",
            "gridwidth": 2,
            "linecolor": "white",
            "showbackground": true,
            "ticks": "",
            "zerolinecolor": "white"
           }
          },
          "shapedefaults": {
           "line": {
            "color": "#2a3f5f"
           }
          },
          "ternary": {
           "aaxis": {
            "gridcolor": "white",
            "linecolor": "white",
            "ticks": ""
           },
           "baxis": {
            "gridcolor": "white",
            "linecolor": "white",
            "ticks": ""
           },
           "bgcolor": "#E5ECF6",
           "caxis": {
            "gridcolor": "white",
            "linecolor": "white",
            "ticks": ""
           }
          },
          "title": {
           "x": 0.05
          },
          "xaxis": {
           "automargin": true,
           "gridcolor": "white",
           "linecolor": "white",
           "ticks": "",
           "title": {
            "standoff": 15
           },
           "zerolinecolor": "white",
           "zerolinewidth": 2
          },
          "yaxis": {
           "automargin": true,
           "gridcolor": "white",
           "linecolor": "white",
           "ticks": "",
           "title": {
            "standoff": 15
           },
           "zerolinecolor": "white",
           "zerolinewidth": 2
          }
         }
        },
        "xaxis": {
         "anchor": "y",
         "domain": [
          0,
          1
         ],
         "title": {
          "text": "Destination"
         }
        },
        "yaxis": {
         "anchor": "x",
         "domain": [
          0,
          1
         ],
         "title": {
          "text": "Gram_Price"
         }
        }
       }
      },
      "text/html": [
       "<div>\n",
       "        \n",
       "        \n",
       "            <div id=\"b3e301f5-e08d-47f9-83c3-cbbe7cd18691\" class=\"plotly-graph-div\" style=\"height:525px; width:100%;\"></div>\n",
       "            <script type=\"text/javascript\">\n",
       "                require([\"plotly\"], function(Plotly) {\n",
       "                    window.PLOTLYENV=window.PLOTLYENV || {};\n",
       "                    \n",
       "                if (document.getElementById(\"b3e301f5-e08d-47f9-83c3-cbbe7cd18691\")) {\n",
       "                    Plotly.newPlot(\n",
       "                        'b3e301f5-e08d-47f9-83c3-cbbe7cd18691',\n",
       "                        [{\"alignmentgroup\": \"True\", \"hovertemplate\": \"Destination=%{x}<br>Gram_Price=%{y}<extra></extra>\", \"legendgroup\": \"\", \"marker\": {\"color\": \"#636efa\"}, \"name\": \"\", \"notched\": false, \"offsetgroup\": \"\", \"orientation\": \"v\", \"showlegend\": false, \"type\": \"box\", \"x\": [\"Australia\", \"United States\", \"Australia\", \"Australia\", \"Australia\", \"United States\", \"Worldwide\", \"United States\", \"Worldwide\", \"United States\", \"Worldwide\", \"Worldwide\", \"Worldwide\", \"Worldwide\", \"Worldwide\", \"United States\", \"United States\", \"Worldwide\", \"Australia\", \"United States\", \"Australia\", \"Worldwide\", \"Worldwide\", \"Worldwide\", \"Australia\", \"Worldwide\", \"Australia\", \"Worldwide\", \"Worldwide ex AUS\", \"Canada\", \"Australia\", \"Worldwide ex AUS\", \"Worldwide\", \"United Kingdom\", \"Canada\", \"Worldwide ex AUS\", \"Worldwide\", \"Australia\", \"Worldwide\", \"Worldwide\", \"EU\", \"Worldwide\", \"United Kingdom\", \"Worldwide\", \"Worldwide\", \"Worldwide\", \"Worldwide\", \"Australia\", \"Worldwide\", \"United Kingdom\", \"Worldwide\", \"Australia\", \"Canada\", \"Worldwide\", \"United Kingdom\", \"Worldwide\", \"EU\", \"Sweden\", \"United Kingdom\", \"Worldwide\", \"EU\", \"Worldwide\", \"EU\", \"United Kingdom\", \"Worldwide\", \"Worldwide\", \"United States\", \"EU\", \"United Kingdom\", \"United States\", \"Australia\", \"Worldwide\", \"Australia\", \"Worldwide\", \"Worldwide ex AUS\", \"Worldwide\", \"United Kingdom\", \"Worldwide\", \"Australia\", \"Worldwide\", \"Worldwide\", \"Worldwide\", \"United Kingdom\", \"Worldwide\", \"United States\", \"Worldwide\", \"Worldwide\", \"Worldwide\", \"Worldwide\", \"Worldwide\", \"United States\", \"EU\", \"Worldwide\", \"United Kingdom\", \"EU\", \"Worldwide\", \"Worldwide\", \"Worldwide\", \"Worldwide ex AUS\", \"Worldwide\", \"Worldwide\", \"Worldwide\", \"Worldwide\", \"Worldwide\", \"EU\", \"Worldwide\", \"Worldwide\", \"Worldwide\", \"Worldwide\", \"Worldwide\", \"EU\", \"Worldwide\", \"United States\", \"United States\", \"Worldwide\", \"Worldwide ex AUS\", \"Worldwide\", \"Worldwide\", \"Worldwide\", \"EU\", \"Worldwide\", \"United Kingdom\", \"Worldwide\", \"Australia\", \"Worldwide\", \"Worldwide\", \"Worldwide\", \"United States and Canada\", \"Worldwide\", \"United States\", \"Worldwide ex AUS\", \"Worldwide\", \"United States\", \"Worldwide\", \"Worldwide\", \"Worldwide\", \"Worldwide\", \"Worldwide\", \"Worldwide\", \"Worldwide\", \"Worldwide ex AUS\", \"United States\", \"Worldwide\", \"Worldwide ex AUS\", \"Worldwide\", \"United Kingdom\", \"United States\", \"Worldwide\", \"Worldwide\", \"Worldwide\", \"United States\", \"Worldwide\", \"Ireland\", \"Worldwide\", \"Worldwide\", \"EU\", \"United States\", \"Worldwide\", \"Worldwide\", \"Worldwide\", \"EU\", \"Worldwide\", \"Worldwide\", \"United States\", \"United States\", \"Worldwide\", \"Worldwide\", \"Worldwide\", \"Worldwide\", \"United States\", \"Worldwide\", \"Worldwide\", \"Worldwide\", \"United Kingdom\", \"Worldwide\", \"Worldwide\", \"Worldwide\", \"Worldwide\", \"Undeclared\", \"Worldwide\", \"Worldwide\", \"United Kingdom\", \"United States\", \"United Kingdom\", \"Worldwide\", \"Australia\", \"United States\", \"Worldwide\", \"United Kingdom\", \"Worldwide\", \"Worldwide\", \"Undeclared\", \"United States\", \"Worldwide\", \"Undeclared\", \"Worldwide ex AUS\", \"Worldwide\", \"Worldwide\", \"Undeclared\", \"Undeclared\", \"United States\", \"Undeclared\", \"Undeclared\", \"Worldwide\", \"United States\", \"United States\", \"Australia\", \"United Kingdom\", \"Worldwide\", \"United States\", \"United States\", \"Worldwide\", \"Worldwide\", \"United Kingdom\", \"United States\", \"United States\", \"United States\", \"United States\", \"Worldwide\", \"United States\", \"Worldwide\", \"Worldwide\", \"United Kingdom\", \"United Kingdom\", \"Undeclared\", \"Worldwide\", \"United States\", \"United States\", \"Worldwide\", \"Worldwide\", \"United States\", \"Undeclared\", \"United States\", \"United States\", \"Worldwide\", \"EU\", \"Worldwide\", \"Germany\", \"Undeclared\", \"United States and Canada\", \"EU\", \"Worldwide\", \"Worldwide\", \"Worldwide\", \"Worldwide\", \"Worldwide\", \"Worldwide\", \"Undeclared\", \"Worldwide\", \"Worldwide\", \"Worldwide\", \"EU\", \"Worldwide\", \"Worldwide\", \"Worldwide\", \"Undeclared\", \"Worldwide ex AUS\", \"Worldwide ex AUS\", \"Worldwide\", \"United States and Canada\", \"Undeclared\", \"Undeclared\", \"Worldwide\", \"Worldwide\", \"Undeclared\", \"United Kingdom\", \"Undeclared\", \"Undeclared\", \"Undeclared\", \"Undeclared\", \"Undeclared\", \"Undeclared\", \"Undeclared\", \"Worldwide\", \"Undeclared\", \"Worldwide\", \"Worldwide\", \"Worldwide\", \"Australia\", \"Undeclared\", \"Undeclared\", \"Undeclared\", \"Undeclared\", \"Undeclared\", \"Undeclared\", \"United States and Canada\", \"Undeclared\", \"Undeclared\", \"Undeclared\", \"Undeclared\", \"Undeclared\", \"Undeclared\", \"Worldwide\", \"Undeclared\", \"Worldwide\", \"Undeclared\", \"Worldwide\", \"Undeclared\", \"Australia\", \"Undeclared\", \"Undeclared\", \"Worldwide\", \"Australia\", \"Worldwide\", \"United States\", \"Worldwide\", \"Worldwide\", \"Worldwide\", \"United States\", \"Undeclared\", \"Undeclared\", \"Undeclared\", \"Undeclared\", \"Undeclared\", \"United States\", \"Australia\", \"Worldwide\", \"EU\", \"Sweden\", \"Worldwide\", \"Worldwide\", \"EU\", \"Worldwide\", \"Worldwide ex AUS\", \"EU\", \"EU\", \"Worldwide\", \"Worldwide\", \"United States\", \"United States\", \"United States and Canada\", \"Worldwide\", \"Australia\", \"Worldwide\", \"United States\", \"United States and Canada\", \"Worldwide\", \"Worldwide\", \"Worldwide ex AUS\", \"EU\", \"Worldwide\", \"Worldwide\", \"Worldwide\", \"Worldwide\", \"Worldwide\", \"United States\", \"Germany\", \"Worldwide\", \"United Kingdom\", \"Worldwide\", \"Worldwide\", \"United States and Canada\", \"EU\", \"United States and Canada\", \"Worldwide\", \"Worldwide\", \"Worldwide\", \"United States\", \"Worldwide\", \"Worldwide\", \"United States\", \"Australia\", \"Worldwide\", \"United Kingdom\", \"United Kingdom\", \"United States\", \"Australia\", \"Worldwide\", \"Worldwide ex AUS\", \"Worldwide\", \"EU\", \"Worldwide\", \"Worldwide\", \"Worldwide\", \"EU\", \"Worldwide\", \"Australia\", \"United States\", \"United States and Canada\", \"United States and Canada\", \"Australia\", \"EU\", \"Australia\", \"United Kingdom\", \"Australia\", \"United States\", \"United States and Canada\", \"Worldwide ex AUS\", \"Worldwide\", \"Worldwide\", \"Worldwide\", \"Worldwide\", \"United States and Canada\", \"Worldwide\", \"Australia\", \"Australia\", \"Worldwide\", \"Worldwide\", \"Worldwide\", \"Worldwide\", \"Undeclared\", \"Germany\", \"Worldwide\", \"United Kingdom\", \"United Kingdom\", \"United Kingdom\", \"United Kingdom\", \"Undeclared\", \"Worldwide\", \"Worldwide ex AUS\", \"United Kingdom\", \"United Kingdom\", \"Australia\", \"Worldwide\", \"Worldwide\", \"Worldwide\", \"United Kingdom\", \"Worldwide\", \"Worldwide ex AUS\", \"United Kingdom\", \"Worldwide\", \"United Kingdom\", \"Worldwide\", \"United Kingdom\", \"United Kingdom\", \"Worldwide\", \"United Kingdom\", \"Worldwide\", \"United Kingdom\", \"United Kingdom\", \"Worldwide\", \"United Kingdom\", \"United Kingdom\", \"Worldwide\", \"United Kingdom\", \"United Kingdom\", \"United Kingdom\", \"Australia\", \"Worldwide\", \"Worldwide\", \"United Kingdom\", \"United Kingdom\", \"Worldwide\", \"Worldwide\", \"Worldwide\", \"Worldwide\", \"United Kingdom\", \"United Kingdom\", \"Worldwide\", \"Undeclared\", \"Worldwide\", \"Worldwide\", \"Australia\", \"Worldwide\", \"United Kingdom\", \"Worldwide\", \"Worldwide\", \"Australia\", \"United Kingdom\", \"Germany\", \"EU\", \"EU\", \"United States\", \"Worldwide\", \"United States\", \"United States\", \"EU\", \"Worldwide\", \"Worldwide\", \"Worldwide ex AUS\", \"United Kingdom\", \"Worldwide\", \"Undeclared\", \"United Kingdom\", \"Worldwide\", \"United Kingdom\", \"EU\", \"Worldwide\", \"United Kingdom\", \"EU\", \"Undeclared\", \"Worldwide\", \"Worldwide\", \"United Kingdom\", \"EU\", \"Worldwide\", \"EU\", \"Australia\", \"Worldwide\", \"Worldwide ex AUS\", \"Worldwide\", \"Worldwide\", \"Australia\", \"Undeclared\", \"Worldwide\", \"Worldwide\", \"Worldwide\", \"Worldwide\", \"Australia\", \"United Kingdom\", \"Worldwide\", \"EU\", \"Worldwide\", \"United Kingdom\", \"EU\", \"Worldwide\", \"United States\", \"EU\", \"Worldwide\", \"Worldwide\", \"United Kingdom\", \"Worldwide\", \"Worldwide\", \"United Kingdom\", \"United Kingdom\", \"United Kingdom\", \"Worldwide\", \"Worldwide\", \"United Kingdom\", \"Worldwide\", \"Worldwide\", \"Worldwide\", \"Worldwide\", \"United Kingdom\", \"Worldwide\", \"Worldwide\", \"Undeclared\", \"Worldwide\", \"Worldwide\", \"Worldwide\", \"United States\", \"United States\", \"Worldwide\", \"Worldwide\", \"United States\", \"United Kingdom\", \"Worldwide\", \"Worldwide\", \"Worldwide ex AUS\", \"Australia\", \"Worldwide\", \"Undeclared\", \"EU\", \"Worldwide\", \"Worldwide\", \"Worldwide\", \"Worldwide\", \"Worldwide\", \"Worldwide ex AUS\", \"Worldwide\", \"Worldwide\", \"EU\", \"United States and Canada\", \"EU\", \"EU\", \"United Kingdom\", \"Worldwide\", \"EU\", \"United Kingdom\", \"Undeclared\", \"Worldwide\", \"Worldwide\", \"Worldwide\", \"Worldwide ex AUS\", \"Worldwide\", \"Worldwide ex AUS\", \"Worldwide\", \"Worldwide\", \"Worldwide ex AUS\", \"Worldwide ex AUS\", \"Worldwide ex AUS\", \"Worldwide\", \"Worldwide\", \"Worldwide\", \"Worldwide\", \"Worldwide\", \"Worldwide\", \"Worldwide\", \"Worldwide\", \"Worldwide\", \"EU\", \"Worldwide ex AUS\", \"Worldwide ex AUS\", \"Worldwide ex AUS\", \"Worldwide ex AUS\", \"Worldwide ex AUS\", \"Worldwide ex AUS\", \"Worldwide ex AUS\", \"Worldwide ex AUS\", \"Worldwide ex AUS\", \"Worldwide ex AUS\", \"United States\", \"Worldwide ex AUS\", \"Worldwide\", \"EU\", \"Worldwide\", \"Worldwide\", \"Australia\", \"Worldwide\", \"Worldwide ex AUS\", \"Worldwide ex AUS\", \"Worldwide ex AUS\", \"EU\", \"Worldwide\", \"Worldwide\", \"Worldwide\", \"Worldwide\", \"Worldwide ex AUS\", \"Worldwide\", \"Worldwide\", \"Australia\", \"Worldwide\", \"United Kingdom\", \"United Kingdom\", \"United States\", \"United Kingdom\", \"United Kingdom\", \"Australia\", \"Canada\", \"United Kingdom\", \"Worldwide\", \"Worldwide\", \"Worldwide\", \"Worldwide\", \"Worldwide ex AUS\", \"Worldwide\", \"Australia\", \"Worldwide\", \"Worldwide\", \"EU\", \"EU\", \"Worldwide ex AUS\", \"Worldwide ex AUS\", \"Worldwide ex AUS\", \"Worldwide ex AUS\", \"Undeclared\", \"Worldwide\", \"Worldwide\", \"United States\", \"Worldwide\", \"Worldwide ex AUS\", \"Worldwide\", \"Worldwide\", \"United Kingdom\", \"United Kingdom\", \"Sweden\", \"Worldwide ex AUS\", \"Worldwide ex AUS\", \"Undeclared\", \"Worldwide\", \"Worldwide ex AUS\", \"Undeclared\", \"Worldwide ex AUS\", \"Worldwide\", \"Worldwide\", \"Worldwide\", \"EU\", \"United States\", \"Worldwide ex AUS\", \"Worldwide ex AUS\", \"Worldwide ex AUS\", \"United States\", \"Worldwide\", \"Australia\", \"Worldwide\", \"Worldwide\", \"Worldwide\", \"United States\", \"Worldwide\", \"Worldwide\", \"Worldwide\", \"Worldwide\", \"Worldwide ex AUS\", \"United States\", \"Worldwide\", \"Worldwide ex AUS\", \"Worldwide\", \"Worldwide\", \"Worldwide\", \"Worldwide\", \"Worldwide ex AUS\", \"Worldwide\", \"Worldwide\", \"Worldwide\", \"EU\", \"United States\", \"Australia\", \"Australia\", \"Australia\", \"Australia\", \"Australia\", \"Worldwide\", \"United States\", \"Australia\", \"United States\", \"Australia\", \"EU\", \"United States\", \"Worldwide ex AUS\", \"Worldwide\", \"Worldwide\", \"EU\", \"United Kingdom\", \"Australia\", \"Australia\", \"United States\", \"Worldwide\", \"EU\", \"United Kingdom\", \"Worldwide\", \"Worldwide\", \"Worldwide\", \"Worldwide\", \"Worldwide\", \"United Kingdom\", \"Worldwide\", \"Worldwide\", \"Worldwide\", \"Worldwide\", \"Worldwide\", \"Australia\", \"Worldwide ex AUS\", \"Australia\", \"United Kingdom\", \"United States\", \"Worldwide\", \"Worldwide\", \"Worldwide ex AUS\", \"Worldwide\", \"Worldwide\", \"Worldwide\", \"Worldwide\", \"Worldwide\", \"United States\", \"Worldwide\", \"United States\", \"Australia\", \"Worldwide\", \"Worldwide\", \"Worldwide\", \"Worldwide\", \"Worldwide\", \"Australia\", \"Worldwide\", \"Worldwide\", \"Worldwide\", \"Worldwide ex AUS\", \"United States\", \"Australia\", \"Australia\", \"Worldwide ex AUS\", \"United States\", \"EU\", \"Worldwide\", \"Australia\", \"Australia\", \"Worldwide\", \"Worldwide\", \"Australia\", \"United Kingdom\", \"Australia\", \"Worldwide\", \"Australia\", \"United Kingdom\", \"Worldwide\", \"EU\", \"Australia\", \"Worldwide ex AUS\", \"Worldwide\", \"Worldwide\", \"United States and Canada\", \"United States\", \"Worldwide ex AUS\", \"Worldwide\", \"Worldwide\", \"Australia\", \"United States\", \"Australia\", \"Worldwide\", \"Australia\", \"Worldwide\", \"United States and Canada\", \"Worldwide ex AUS\", \"EU\", \"Worldwide\", \"United Kingdom\", \"Worldwide ex AUS\", \"Worldwide\", \"United States\", \"Worldwide\", \"EU\", \"EU\", \"Australia\", \"United States and Canada\", \"Worldwide\", \"Worldwide ex AUS\", \"Worldwide\", \"Australia\", \"Worldwide\", \"Worldwide\", \"Undeclared\", \"United Kingdom\", \"Worldwide\", \"EU\", \"Worldwide\", \"Worldwide\", \"Worldwide\", \"Australia\", \"Worldwide\", \"Undeclared\", \"Worldwide\", \"EU\", \"Worldwide ex AUS\", \"Worldwide\", \"Worldwide ex AUS\", \"Worldwide ex AUS\", \"Worldwide\", \"EU\", \"United Kingdom\", \"Worldwide\", \"Australia\", \"United States\", \"Australia\", \"Worldwide ex AUS\", \"Australia\", \"Worldwide\", \"Worldwide\", \"United Kingdom\", \"Worldwide ex AUS\", \"Worldwide\", \"Australia\", \"Worldwide\", \"Worldwide\", \"United Kingdom\", \"Worldwide\", \"United States\", \"EU\", \"United States\", \"Worldwide\", \"United Kingdom\", \"Australia\", \"Worldwide ex AUS\", \"EU\", \"Worldwide ex AUS\", \"Worldwide\", \"EU\", \"EU\", \"Worldwide\", \"Worldwide\", \"Worldwide\", \"EU\", \"Worldwide\", \"Australia\", \"Australia\", \"Worldwide\", \"Worldwide ex AUS\", \"Worldwide\", \"United States\", \"EU\", \"Worldwide\", \"Worldwide\", \"Worldwide ex AUS\", \"United Kingdom\", \"Australia\", \"Australia\", \"United States and Canada\", \"Australia\", \"EU\", \"Worldwide\", \"Worldwide\", \"EU\", \"Worldwide\", \"Worldwide\", \"United Kingdom\", \"Worldwide\", \"Worldwide\", \"Worldwide\", \"Australia\", \"Worldwide\", \"Australia\", \"Worldwide\", \"EU\", \"United States\", \"Australia\", \"Worldwide ex AUS\", \"Worldwide\", \"Finland\", \"Worldwide\", \"Worldwide\", \"Worldwide\", \"United States\", \"EU\", \"EU\", \"Australia\", \"EU\", \"Worldwide\", \"Worldwide\", \"Worldwide\", \"China\", \"Worldwide ex AUS\", \"Worldwide\", \"United Kingdom\", \"Worldwide\", \"Australia\", \"Worldwide\", \"United States\", \"Worldwide\", \"Worldwide ex AUS\", \"Worldwide ex AUS\", \"United Kingdom\", \"Australia\", \"Worldwide ex AUS\", \"EU\", \"EU\", \"Worldwide\", \"Australia\", \"United Kingdom\", \"Australia\", \"Worldwide\", \"Australia\", \"Australia\", \"EU\", \"Australia\", \"United States and Canada\", \"Australia\", \"Worldwide\", \"Australia\", \"Worldwide\", \"Undeclared\", \"Worldwide\", \"Worldwide ex AUS\", \"United States and Canada\", \"Australia\", \"Australia\", \"Australia\", \"Australia\", \"Australia\", \"Australia\", \"Worldwide\", \"Worldwide\", \"United States\", \"EU\", \"Worldwide\", \"Worldwide ex AUS\", \"United Kingdom\", \"United Kingdom\", \"Worldwide\", \"Australia\", \"Worldwide\", \"United States\", \"United States\", \"Worldwide\", \"Australia\", \"Australia\", \"Australia\", \"Australia\", \"Australia\", \"Australia\", \"Australia\", \"Australia\", \"Australia\", \"Australia\", \"Undeclared\", \"Worldwide\", \"Undeclared\", \"Worldwide\", \"Undeclared\", \"Worldwide ex AUS\", \"United States\", \"Worldwide\", \"United States\", \"Worldwide\", \"United States\", \"Worldwide ex AUS\", \"Worldwide ex AUS\", \"Worldwide ex AUS\", \"Worldwide\", \"Worldwide\", \"Worldwide\", \"Worldwide\", \"Worldwide\", \"Worldwide\", \"United States\", \"Worldwide\", \"United States\", \"United Kingdom\", \"Worldwide\", \"Worldwide\", \"Worldwide\", \"Worldwide\", \"Worldwide ex AUS\", \"Worldwide\", \"Worldwide\", \"Australia\", \"Worldwide\", \"Worldwide\", \"United Kingdom\", \"Worldwide\", \"Worldwide\", \"Worldwide\", \"Worldwide\", \"Worldwide\", \"Worldwide\", \"Worldwide\", \"United Kingdom\", \"Worldwide\", \"Australia\", \"Worldwide\", \"Worldwide\", \"Worldwide\", \"Worldwide\", \"Worldwide\", \"United States\", \"United Kingdom\", \"United States\", \"Worldwide\", \"United States\", \"Worldwide\", \"United States\", \"United Kingdom\", \"United Kingdom\", \"Worldwide\", \"United States\", \"United Kingdom\", \"Worldwide ex AUS\", \"Worldwide\", \"Worldwide\", \"Australia\", \"Worldwide\", \"Worldwide\", \"United States\", \"United States\", \"Worldwide\", \"Australia\", \"Worldwide\", \"Worldwide\", \"United States\", \"Worldwide\", \"Worldwide\", \"Worldwide\", \"Worldwide\", \"Worldwide\", \"United Kingdom\", \"Worldwide\", \"United States\", \"Worldwide\", \"Australia\", \"Worldwide\", \"Australia\", \"Australia\", \"United States\", \"United States and Canada\", \"United States\", \"Worldwide\", \"Australia\", \"Worldwide ex AUS\", \"United States\", \"Worldwide\", \"Worldwide ex AUS\", \"Worldwide ex AUS\", \"Worldwide\", \"United States\", \"Worldwide\", \"Australia\", \"Worldwide\", \"Worldwide\", \"United States and Canada\", \"Worldwide\", \"Worldwide\", \"United States and Canada\", \"Worldwide ex AUS\", \"Worldwide ex AUS\", \"Worldwide\", \"United Kingdom\", \"Worldwide\", \"Worldwide\", \"Worldwide\", \"United Kingdom\", \"Australia\", \"United Kingdom\", \"Worldwide\", \"Worldwide\", \"United States\", \"Worldwide ex AUS\", \"United States\", \"United States\", \"EU\", \"Australia\", \"Australia\", \"Worldwide\", \"Australia\", \"Worldwide\", \"United Kingdom\", \"United States\", \"Australia\", \"United States\", \"Worldwide\", \"United States\", \"Worldwide\", \"Worldwide\", \"Worldwide ex AUS\", \"Worldwide\", \"Worldwide\", \"Worldwide\", \"United States\", \"United States and Canada\", \"Worldwide\", \"Australia\", \"Worldwide\", \"Worldwide\", \"Worldwide\", \"EU\", \"EU\", \"EU\", \"Australia\", \"EU\", \"Worldwide\", \"Worldwide\", \"EU\", \"Worldwide\", \"Worldwide\", \"Worldwide\", \"Worldwide\", \"EU\", \"Worldwide\", \"Worldwide\", \"Worldwide\", \"Worldwide\", \"Worldwide\", \"Worldwide\", \"Worldwide\", \"United States\", \"Worldwide\", \"Worldwide\", \"United States\", \"Worldwide\"], \"x0\": \" \", \"xaxis\": \"x\", \"y\": [470.6260850984, 110.4639757578, 283.10685997999997, 549.2590205608, 366.17341561994283, 100.714431697, 69.78518849358571, 22.007806198125, 61.06586285800001, 110.0799113794286, 105.73310701428571, 100.69812037142857, 110.76777116, 90.62834864642856, 90.62833520904762, 126.04404897, 157.55535526, 162.9827508568, 218.6174718, 85.06212746780001, 177.95551181919998, 95.60353808026, 52.763331267800005, 60.300873754, 73.98032596304999, 48.0872129882, 263.86692856999997, 100.7633019153, 91.194135785578, 96.1744259764, 320.246568306, 83.3774923721992, 97.654031161, 162.1518798956, 90.62590653414999, 80.59824395518842, 106.259480402, 250.9244539208, 98.46014416065, 103.57248749036, 111.59747190106667, 55.36375288928571, 166.44110286999998, 91.9035876895, 65.329107356, 99.654513094, 110.727989992, 291.9210181235, 119.8245445145, 116.234222995, 118.26816150171429, 311.8275163855, 123.8139789525, 39.45479964021429, 136.589829212, 66.89166408999999, 120.3404255013, 189.096480766, 149.774960872, 78.790482777, 133.339304466, 148.15478274, 131.80691422860005, 163.354968583, 106.52804376592857, 27.929597008366073, 119.5177953075, 118.566194867, 146.4261408, 83.78880615676785, 284.524294842, 114.91038348128573, 270.29822536392857, 30.92205112860714, 51.105216838357144, 174.2900411426667, 125.49480481642856, 21.026244720852, 259.62852193867855, 40.69741235128571, 72.92229527399998, 78.39096533819999, 102.203679606, 85.0753417112, 28.745077769975, 85.16829848685714, 147.1754408464, 95.5979626445, 91.89747964318572, 104.8670538073, 72.9544284804, 51.29242988346, 44.75218432999999, 179.771900972, 95.9129350114, 27.473891472000002, 127.36264133359997, 140.227973846, 107.9146876018, 63.28701944659999, 148.5899713698, 22.707465856, 113.80845320899999, 90.40964524268573, 59.74968897539999, 121.9374849864, 67.80722436856, 94.0271174608, 171.77876587999998, 78.10154333333332, 95.037291748164, 141.0744830021, 107.67703576279997, 92.41548414457144, 69.178917311178, 103.2908530892, 51.06809993628, 41.1720095836, 112.3577728284, 125.3904657908, 78.67434005213998, 226.48527059999998, 68.80250072, 181.7944032775, 159.98516079, 177.76204849, 128.768627325, 55.69739214928571, 261.7548, 93.20480782928571, 112.690676496, 35.42962230080357, 74.5417684925, 74.5417684925, 52.553936824821434, 82.49267960699999, 65.31261364767856, 54.32541696607143, 99.3888428825, 68.633199205, 64.43105308450001, 68.63335501142858, 79.41862032934999, 134.71510709375, 61.63001185357143, 130.35734410916666, 68.28321901482143, 98.4879701125, 34.764309374999996, 99.89482425928573, 108.3364944625, 98.4879701125, 155.47144475, 95.48421692767856, 173.930611375, 125.514916664, 165.96781223, 99.838224317, 96.3352006385, 91.95632187199999, 40.54532068, 201.032385741, 192.6556712685, 92.58757160399999, 90.07549600499999, 135.1132440075, 65.7119925, 101.0844451485, 118.67067301885713, 80.06706782485715, 160.134493266, 105.53784075449998, 47.79912685467856, 43.01927228185714, 70.05863428047, 90.07528739550001, 114.71794021285713, 57.190711644, 60.050254110313496, 101.57317250496429, 80.0669963016, 184.02612208199997, 92.076895548, 159.178227318, 74.91989662457142, 230.1928646985, 92.076895548, 80.42446060039286, 130.491500535, 85.78606746599999, 63.81188776992857, 60.050254110313496, 100.083745377, 75.06280903274998, 70.05868434675, 175.310834391, 76.0638217185, 80.067246633, 62.909711285142855, 57.190711644, 85.071371319, 80.067246633, 52.18654225596429, 94.6792156167, 32.5272016018125, 55.04599737449999, 200.167490754, 127.1822445927, 68.05697188949999, 80.067246633, 67.91397007725, 66.918589848, 100.377884772, 47.799171556714285, 57.1875825015, 60.872371305428565, 38.961176777678574, 41.46328382271429, 37.2534149735, 21.2677646011875, 60.050211464571426, 62.909800689214286, 66.918589848, 150.5674529865, 46.46745321075, 83.217667302, 80.067246633, 92.076895548, 66.57392105990999, 69.34783078673999, 64.33964000357143, 88.84213002000001, 82.21673502000002, 71.52548083714285, 40.709034972, 162.50698746000003, 127.17933968571428, 110.42325, 87.23364636857143, 43.557607777499996, 134.062617294, 70.55898444, 60.980640372, 42.347701980000004, 40.65378428571428, 127.00650852, 96.55282782, 55.89892791288, 92.51288321616, 46.69326, 51.67808100000001, 112.89483783, 29.219884920000005, 35.063861904, 127.00650852, 45.73548616824, 66.06238143600001, 63.013353624000004, 56.447397882000004, 67.10499025071428, 71.09501212764, 85.60418981142858, 47.32425, 138.67084944, 71.09501212764, 115.56131142857144, 85.60418981142858, 81.25144651800001, 87.0551062457143, 76.17323298857143, 72.545929884, 85.60418981142858, 76.17322637820001, 97.93700955, 60.938582364540004, 141.02121708, 63.45950562, 119.64706182, 72.18306730602, 567.84010014, 76.9952675304, 76.9952675304, 92.394351324, 76.9952675304, 76.9952675304, 82.49494151571427, 72.183068568, 72.18306255857144, 72.183068568, 92.394351324, 88.89419090160001, 76.8026241801, 154.55039986800003, 656.7179862600001, 58.729183920000004, 79.50582169714286, 47.32425, 93.57489154800001, 24.45170382, 82.2404686572, 71.96041070604, 127.83058146, 165.70554588, 62.36621028, 43.86305952000001, 157.85182368000002, 111.81163833, 112.0722372, 91.43171298, 72.18306255857144, 66.4084226619, 72.18306255857144, 82.49494151571427, 76.9952675304, 78.92014278857143, 173.23937017199998, 115.9023465, 156.02453637212, 137.2635294394, 85.10428859334999, 125.79100079962, 76.99895633128399, 113.47241392838, 71.7051614981, 120.56440811214799, 127.656432890025, 94.2407821875, 42.07178556689643, 92.19228806059999, 79.38760450321999, 51.21781640625, 99.2883731138, 371.7748049222999, 42.552139926088, 102.66939678004285, 69.66849917457857, 100.10265717777, 105.1056244108, 71.8686214519, 85.22085214864, 30.800820282752003, 102.66937180526, 98.00407612385, 99.36467107542856, 71.8686214519, 97.02266081299999, 174.3864213, 51.13254625388, 65.23844097290001, 155.4766395858, 99.1445808015, 80.3685390495, 120.38974197328, 52.97017204542143, 69.57943285521428, 80.02076519821428, 205.6518524632, 102.8258013576857, 165.1618603778, 159.3800108355, 77.1194446737, 322.6117575571429, 94.01220048740001, 59.22567875076667, 45.58981152635, 80.5993496784, 392.1467014928, 42.38008277933333, 65.689046746188, 124.54151529444, 176.2381087588, 131.1238129957, 90.81433825911428, 183.5812904674, 190.92447217600002, 146.8649449863, 483.536340786, 80.00957544685714, 90.57696704514285, 126.807579726, 43.63747629100001, 123.8175366016, 386.32726116999993, 80.24999754359997, 386.3277868032, 128.598790546, 91.8565042328, 76.77218302102857, 96.73287851965713, 109.623966758, 120.585507012, 163.918473734, 109.278762894, 98.3511030628571, 386.220539146, 447.202382808, 131.135306016, 131.209090048, 111.824970784, 119.27979315999998, 47.687930454699995, 105.7363019422, 124.23616634965715, 95.3822880621, 97.1483178978, 150.138414036, 167.8015877265, 84.90594884056073, 72.35489219399999, 113.700271035, 90.6322371201, 87.99239343375, 203.7742279259143, 170.76917835565715, 39.622798489299996, 35.06984709470357, 80.45018828228571, 98.19551435849999, 105.947844774525, 135.5083338102, 27.213904446767998, 76.02542792676, 31.009126141421998, 143.42767318035, 87.9921059004, 124.03646513254286, 89.8524466749, 103.4999295993, 82.2178611657, 143.58754172295, 116.10855453015, 149.75426948039998, 172.65802600799992, 140.7377986911, 132.1359509925, 120.683928962025, 102.8196256932, 341.5505152644, 112.59012393953999, 139.7251062324, 74.24768316085714, 80.60278633875, 100.602168498, 134.55036853245, 97.10541792197999, 126.49655939895, 64.37296639799999, 64.07142606623572, 88.892821371276, 41.3455705299, 90.96008264576999, 73.83125271767143, 349.8930078813, 86.825548595448, 63.3545232723, 83.724639431706, 113.6998876572, 262.8393286829143, 129.52480313448, 112.5071993214, 100.4265292753, 109.5567775906, 104.19932327720001, 72.5048766086, 122.6322408732, 94.2973449471857, 88.68834740625714, 122.6322408732, 39.98201631140358, 102.5954361674, 137.5258327323714, 45.413542529775, 95.05158477763999, 155.6210852209, 52.80671164059999, 80.13720671164286, 76.915479329848, 73.92890012139999, 83.23921877346667, 79.652643548994, 41.74223560261905, 29.571609666104, 38.2846643681625, 97.715550715, 74.165191270314, 35.855578580809, 87.80264766502998, 27.705171322228, 90.52525976734286, 90.5253483701, 41.490788361410715, 38.02062150667, 148.4205717301375, 39.22765243708928, 31.155804813129, 43.565289015775, 33.94699456344286, 39.6048011482125, 197.8939922703, 149.58945252840002, 45.75750581656666, 122.0740435032, 79.195802417, 144.6884796198, 143.6167406694, 100.16346768934285, 116.1534300654, 82.67904260855713, 78.44126133717143, 93.1339907459, 162.77389720228572, 325.54814881560003, 147.83175103219997, 77.51164120922859, 96.1817483861, 142.87961003135, 137.27225164142857, 68.6359486152, 85.90874601055, 116.15347436677857, 84.47510909859999, 105.5941964829, 93.52614654901427, 118.8510296093714, 131.9925905488, 129.18600961354286, 58.0767150327, 56.56825309234286, 86.1695482262, 142.55194817516, 84.47510909859999, 79.00698994152857, 93.97872943249999, 121.0072663072, 65.7649534755, 69.52259640592857, 63.88591050339285, 126.735611762, 71.8511654664, 108.84174005004357, 71.66589710121428, 63.367805881, 77.55213266924285, 95.05162021874285, 42.245307290549995, 116.17420741195, 211.2256061238, 103.500633831364, 113.53393385185, 211.2256061238, 126.73548771813998, 120.70052356197142, 111.64797986468571, 98.54019429628, 114.9626090094, 166.47802406739999, 42.24520392066667, 93.40719734755, 99.52535063239999, 49.034537858, 78.98926939009999, 122.0740435032, 126.71297375755, 98.05162097284287, 129.2549425586, 114.04170739276, 59.75474049953929, 71.80824629084, 112.6336855379, 131.9925905488, 105.59407243903999, 105.66073715351429, 64.41145775738572, 71.56830116422142, 100.19560833949643, 200.3909951721, 114.50931730385715, 68.70553722065999, 93.03878708335, 108.67672737831428, 78.3049651254, 114.63161448999001, 88.57897711137001, 140.6842017483, 122.81960485367142, 89.32334247535714, 138.93349932, 103.1686485102, 132.49633310537143, 130.2631868931, 145.8947091759, 58.57915051892143, 98.2603665519, 100.9423604747472, 137.3772636945, 119.8421720379, 117.28872124450713, 258.29326337415, 114.20216935382143, 156.315222828, 101.6053960413, 94.8316361448, 47.87926753110001, 143.20859034900002, 151.9406591641, 144.9549090484, 114.37348571508572, 116.6359319685, 115.82171206320002, 107.1785277328, 420.82093312499995, 160.38231897799997, 145.5574211144, 133.6752788517143, 83.17546719740001, 162.35852705279999, 161.152791754, 273.2915614978286, 158.88122548464864, 115.9426270512, 64.971954684, 147.3674019024, 31.681516830357143, 85.35996301890953, 67.566296301, 38.017820196428566, 357.0434020983, 138.53271984984002, 122.13042345861, 120.7860200412, 120.7860200412, 113.68091393994, 106.57585137647, 84.42187190989, 78.14303279126, 66.23119741321071, 79.330249088618, 108.1776525856, 36.79511445877143, 131.32231344515998, 111.6241191581, 88.30820580042858, 81.6730184021, 152.5279500094, 144.0538624042, 143.4473646715, 68.651381096286, 71.51185123997999, 61.71548760695715, 96.1119582722, 75.80252065139, 96.0019419424, 76.00685761693929, 71.4113392795, 147.6043740738, 79.290523578609, 110.4778807356, 67.3799983878, 165.1884336375, 92.50566651816, 103.6616465052, 90.07343697315001, 106.19847850042501, 279.7110929712, 152.92582135614, 139.57513730745, 105.92598974621998, 66.9784608603, 126.514853409, 88.8500175531, 115.72899095865, 96.611211984, 66.62847408041999, 50.604555866700004, 103.43197217094, 71.9831835513, 182.9291056656, 313.576947642, 100.7765288124, 102.2953926177, 79.33455826212, 100.21541796231, 114.9751010436, 117.35403000972, 122.8872633219, 113.9118604596, 418.945526328, 380.8596533586, 403.2630869169, 403.26308691689997, 326.4510874662, 96.73680135154, 170.670330765, 296.27857968719997, 66.68461351034999, 310.22462094855, 45.524556000000004, 43.71546976005, 98.54510951670001, 48.1611323391, 48.902044488, 65.80803791064649, 60.221261809800026, 262.070847028, 297.2023629517143, 80.77806024014285, 72.39544898348214, 83.86398483798001, 206.11329392239995, 121.73804588379001, 132.2619160808, 117.4321077147, 88.48853328850001, 93.404797917, 161.518604735, 94.8452839525, 109.1659342813, 193.254851626, 115.512858273, 66.5163543349, 310.588572753, 83.62143688433927, 359.99391088321426, 156.2372564535, 71.99878217664285, 102.687145176, 101.312629473, 164.296263175, 101.312629473, 153.995318169, 36.22659696700001, 156.387319374, 84.528838636, 86.282635714, 102.663545446, 113.246001517, 351.103634519, 146.631528131, 161.780194818, 95.21903469885714, 97.068049463, 146.631528131, 360.593085952, 86.253978899, 95.34230234980001, 94.5585890304, 113.66843668400001, 86.61370621200001, 47.353907590137496, 157.07643149, 109.4061905904, 91.06306204246428, 108.6836679995, 145.87487583533334, 316.79266135, 197.99542538442856, 111.1427261516, 180.897998952, 91.24289860743751, 143.703813055, 263.9939245939286, 100.345040543, 382.366871128, 152.40358862457143, 125.982775798, 108.68365595882142, 289.7333313387857, 113.668436684, 107.353823214, 89.116289009, 79.03977021089285, 79.21971815214286, 99.46015180970001, 142.01306097, 130.07159759, 250.9717380680714, 67.93302687285714, 397.592068368, 118.423782279, 178.98247147942857, 101.1247756222, 86.26361144185715, 94.80640867133333, 69.0176800962, 72.99942654179999, 160.717869829, 84.27054521013333, 127.41716738740001, 61.13972418557143, 87.5993320785, 66.363115038, 86.27218440499999, 168.41523482614284, 62.271933273, 102.99556667598, 143.800234809, 67.93302687285714, 351.7345179134286, 116.79909595244, 109.964964769, 100.38988003, 173.4580155, 135.341754438, 107.54811160342857, 135.341417299, 105.673522438, 162.838137, 427.63722177, 121.61255532066667, 46.99310685064285, 105.2451873385, 95.22182813628571, 79.2950928, 50.71339959360714, 103.44326703963999, 150.35031578914285, 152.02091980533334, 96.00990499759999, 157.868033862, 126.8702942155, 361.84697332080003, 56.39169932314286, 391.041457598, 93.80892675, 382.894830802, 134.41394791, 65.7903495909, 36.83580714, 102.8677842522, 104.5136294224, 381.937693181, 94.29950445168001, 104.24289717285714, 145.338600066, 99.43882776795, 78.32186883242856, 125.70954336844446, 62.65747580085714, 119.02730323137497, 152.02080742566667, 253.40250544179997, 79.2950928, 82.27857066660002, 147.02651055085715, 100.2047232912, 133.091351613, 140.69282464600002, 117.869862902, 178.769303306, 192.52052883800002, 110.01182709, 96.26026441900001, 401.2685691630001, 31.99111971, 137.514952432, 89.05656724328573, 99.01098152, 82.452399535, 95.47025141657143, 119.33781427071428, 189.935346986, 88.97523005139999, 150.2350722798, 400.0167593947, 467.9986051311429, 64.06637955, 259.9992110784536, 66.07633975735, 52.86107180588, 103.69063062346963, 84.57765219448001, 124.42874835152143, 62.92983805835, 71.338991198, 93.5905966751, 94.70495703708927, 72.792729841, 346.12988101375, 149.3142405248, 427.6985293232, 129.5096964562, 81.93466913598, 46.42399882199286, 285.99914758014285, 84.32601042722, 72.68399332524999, 129.98719670158, 119.2676962808, 126.48903243411428, 76.31630234759, 59.27413599099999, 74.00550131191858, 82.287093, 346.6496611512, 92.50691484462, 112.99056253645, 24.9575412964914, 72.99821246752, 176.7824558548, 62.442141658460706, 112.5783993624643, 82.95322661, 32.860762824599995, 311.86903408944283, 85.89924560298799, 65.36499022941072, 89.203060631639, 133.70107630345714, 100.6876625247, 138.15779004242856, 301.57028380868, 86.84321178642, 47.021195999999996, 76.648554118526, 66.07633975735, 431.3387535802, 66.36205883026666, 274.31012607545716, 99.543002039874, 245.6990717722, 350.9989538483572, 77.1771648365848, 370.8534299489, 78.7605033, 488.495368378, 69.259329904446, 43.14790334816, 90.80021862455861, 102.7330845507, 58.70456376564285, 78.262991617289, 90.5158023, 359.56557201699286, 359.5656000058, 335.60583762877144, 342.1011441248, 251.6958416354, 293.22944015174284, 146.90824429414, 81.8086523307, 129.5934949447857, 88.5424794412, 150.78516429538573, 85.58468947548002, 182.49513932549996, 165.9048858468, 59.25178692849643, 214.49936068510715, 80.55013001976, 103.9897260138, 24.04761924265, 92.5067581073, 267.17264438834286, 270.99513175745716, 338.74394268562855, 272.17337657175, 371.146136894, 296.91690951519996, 340.2167696951, 272.1735724934, 340.21676969509997, 331.3799755711143, 98.55601735505715, 117.09797443492, 106.1373683112, 114.40606786461998, 72.02167527725715, 102.6918515072, 90.52692579437144, 139.7875523804, 95.69131072275, 165.67450811700002, 95.69122795088572, 140.8772715643429, 110.3639204266, 93.06680804060001, 87.62076701243001, 81.11121237255, 109.4662319678, 151.8908958262, 73.96162705114288, 172.577129786, 163.4407162249, 113.2323517928, 106.3235498246, 155.3194168074, 97.0569637116, 77.6597084037, 148.4164088697, 94.3608081856, 88.26104600955, 233.9119641216, 146.69075345245, 489.0887927156001, 119.4868145832, 127.588414297, 154.28421669140002, 95.69122795088572, 182.26905291894286, 97.05688645786003, 154.1691086188, 131.15875107234285, 94.3608081856, 142.66383787683333, 94.5029550672, 148.852506232, 691.104232666, 143.23909497612001, 80.53599390013333, 189.8348427646, 118.6250491135, 74.20824306172, 111.6397659427, 86.28856489300001, 87.1853704519143, 89.7402619962, 44.257219138375014, 121.3212046395, 75.7874640148, 144.9647117665, 109.58700531466667, 102.80329002715, 121.2088004478, 186.38314566140002, 97.00752131800002, 131.1586958911, 77.659804970875, 354.0577531070001, 450.4267722639, 71.49629466401429, 105.2605383622, 154.8588741545143, 157.78491473825716, 489.0887927156, 170.11779559997, 121.51273873345714, 104.80474129619999, 93.28250048267999, 96.2865231988286, 170.11783422684, 128.06120718580001, 95.70884732173, 130.16593015085715, 114.97133348020002, 110.56420074755, 104.8143980137, 329.7259151566, 147.18749500065002, 593.27009633, 269.6688576806, 118.6544055347, 107.86763136222858, 67.95658347845715, 75.27905715186003, 376.82972768431426, 91.32716969641, 95.38066791608573, 122.64974824252859, 82.1180217391, 114.3336038565, 95.53473394614286, 91.6824210198, 101.75580656649001, 465.3468422513429, 118.6482252355, 98.54183209689334, 107.861671788, 78.69660810197999, 93.8493884268, 101.25758064285715, 123.177225743, 116.3340894538, 85.53979846879801, 80.65676724699999, 66.95672694850715, 125.11969378156, 98.61649599722857, 175.2137999322, 360.7208330007571, 118.14425494448572, 154.18826754632, 116.39208494004286, 98.61649599722857, 109.4909531646, 109.1053466395143, 59.01584260452857, 82.11840800780001, 302.79346800220713, 234.16027971445718, 107.861671788, 316.2509315571, 91.97243155976, 176.8932962398, 78.19984080253333, 27.142068280227498, 107.86183733172858, 154.08832327925714, 33.0326852686625, 67.58250983312857, 91.6986443052, 89.37981811785714, 68.43174916070001, 91.89420662988572, 88.96138978952, 85.21087522, 94.65337913522856, 63.202153798575004, 324.4877253159, 141.5126283946, 126.35100251655, 113.21204509542858, 163.7497311849, 172.368544688, 165.47364839300002, 278.1322256225714, 132.96968910042855, 96.02838534474286, 90.97446774644, 134.44715584168, 85.92034045941429, 75.81229557408572, 131.9034219447, 103.10384570262002, 123.1200579754, 80.86647252423, 66.71477320113901, 100.8304226419, 90.9747767614, 70.758075582572, 62.204289642579596, 54.17794588706321, 48.15817586433498, 58.1911339881068, 94.81139062415, 45.14828977141851, 51.16806311605755], \"y0\": \" \", \"yaxis\": \"y\"}],\n",
       "                        {\"boxmode\": \"group\", \"legend\": {\"tracegroupgap\": 0}, \"margin\": {\"t\": 60}, \"template\": {\"data\": {\"bar\": [{\"error_x\": {\"color\": \"#2a3f5f\"}, \"error_y\": {\"color\": \"#2a3f5f\"}, \"marker\": {\"line\": {\"color\": \"#E5ECF6\", \"width\": 0.5}}, \"type\": \"bar\"}], \"barpolar\": [{\"marker\": {\"line\": {\"color\": \"#E5ECF6\", \"width\": 0.5}}, \"type\": \"barpolar\"}], \"carpet\": [{\"aaxis\": {\"endlinecolor\": \"#2a3f5f\", \"gridcolor\": \"white\", \"linecolor\": \"white\", \"minorgridcolor\": \"white\", \"startlinecolor\": \"#2a3f5f\"}, \"baxis\": {\"endlinecolor\": \"#2a3f5f\", \"gridcolor\": \"white\", \"linecolor\": \"white\", \"minorgridcolor\": \"white\", \"startlinecolor\": \"#2a3f5f\"}, \"type\": \"carpet\"}], \"choropleth\": [{\"colorbar\": {\"outlinewidth\": 0, \"ticks\": \"\"}, \"type\": \"choropleth\"}], \"contour\": [{\"colorbar\": {\"outlinewidth\": 0, \"ticks\": \"\"}, \"colorscale\": [[0.0, \"#0d0887\"], [0.1111111111111111, \"#46039f\"], [0.2222222222222222, \"#7201a8\"], [0.3333333333333333, \"#9c179e\"], [0.4444444444444444, \"#bd3786\"], [0.5555555555555556, \"#d8576b\"], [0.6666666666666666, \"#ed7953\"], [0.7777777777777778, \"#fb9f3a\"], [0.8888888888888888, \"#fdca26\"], [1.0, \"#f0f921\"]], \"type\": \"contour\"}], \"contourcarpet\": [{\"colorbar\": {\"outlinewidth\": 0, \"ticks\": \"\"}, \"type\": \"contourcarpet\"}], \"heatmap\": [{\"colorbar\": {\"outlinewidth\": 0, \"ticks\": \"\"}, \"colorscale\": [[0.0, \"#0d0887\"], [0.1111111111111111, \"#46039f\"], [0.2222222222222222, \"#7201a8\"], [0.3333333333333333, \"#9c179e\"], [0.4444444444444444, \"#bd3786\"], [0.5555555555555556, \"#d8576b\"], [0.6666666666666666, \"#ed7953\"], [0.7777777777777778, \"#fb9f3a\"], [0.8888888888888888, \"#fdca26\"], [1.0, \"#f0f921\"]], \"type\": \"heatmap\"}], \"heatmapgl\": [{\"colorbar\": {\"outlinewidth\": 0, \"ticks\": \"\"}, \"colorscale\": [[0.0, \"#0d0887\"], [0.1111111111111111, \"#46039f\"], [0.2222222222222222, \"#7201a8\"], [0.3333333333333333, \"#9c179e\"], [0.4444444444444444, \"#bd3786\"], [0.5555555555555556, \"#d8576b\"], [0.6666666666666666, \"#ed7953\"], [0.7777777777777778, \"#fb9f3a\"], [0.8888888888888888, \"#fdca26\"], [1.0, \"#f0f921\"]], \"type\": \"heatmapgl\"}], \"histogram\": [{\"marker\": {\"colorbar\": {\"outlinewidth\": 0, \"ticks\": \"\"}}, \"type\": \"histogram\"}], \"histogram2d\": [{\"colorbar\": {\"outlinewidth\": 0, \"ticks\": \"\"}, \"colorscale\": [[0.0, \"#0d0887\"], [0.1111111111111111, \"#46039f\"], [0.2222222222222222, \"#7201a8\"], [0.3333333333333333, \"#9c179e\"], [0.4444444444444444, \"#bd3786\"], [0.5555555555555556, \"#d8576b\"], [0.6666666666666666, \"#ed7953\"], [0.7777777777777778, \"#fb9f3a\"], [0.8888888888888888, \"#fdca26\"], [1.0, \"#f0f921\"]], \"type\": \"histogram2d\"}], \"histogram2dcontour\": [{\"colorbar\": {\"outlinewidth\": 0, \"ticks\": \"\"}, \"colorscale\": [[0.0, \"#0d0887\"], [0.1111111111111111, \"#46039f\"], [0.2222222222222222, \"#7201a8\"], [0.3333333333333333, \"#9c179e\"], [0.4444444444444444, \"#bd3786\"], [0.5555555555555556, \"#d8576b\"], [0.6666666666666666, \"#ed7953\"], [0.7777777777777778, \"#fb9f3a\"], [0.8888888888888888, \"#fdca26\"], [1.0, \"#f0f921\"]], \"type\": \"histogram2dcontour\"}], \"mesh3d\": [{\"colorbar\": {\"outlinewidth\": 0, \"ticks\": \"\"}, \"type\": \"mesh3d\"}], \"parcoords\": [{\"line\": {\"colorbar\": {\"outlinewidth\": 0, \"ticks\": \"\"}}, \"type\": \"parcoords\"}], \"pie\": [{\"automargin\": true, \"type\": \"pie\"}], \"scatter\": [{\"marker\": {\"colorbar\": {\"outlinewidth\": 0, \"ticks\": \"\"}}, \"type\": \"scatter\"}], \"scatter3d\": [{\"line\": {\"colorbar\": {\"outlinewidth\": 0, \"ticks\": \"\"}}, \"marker\": {\"colorbar\": {\"outlinewidth\": 0, \"ticks\": \"\"}}, \"type\": \"scatter3d\"}], \"scattercarpet\": [{\"marker\": {\"colorbar\": {\"outlinewidth\": 0, \"ticks\": \"\"}}, \"type\": \"scattercarpet\"}], \"scattergeo\": [{\"marker\": {\"colorbar\": {\"outlinewidth\": 0, \"ticks\": \"\"}}, \"type\": \"scattergeo\"}], \"scattergl\": [{\"marker\": {\"colorbar\": {\"outlinewidth\": 0, \"ticks\": \"\"}}, \"type\": \"scattergl\"}], \"scattermapbox\": [{\"marker\": {\"colorbar\": {\"outlinewidth\": 0, \"ticks\": \"\"}}, \"type\": \"scattermapbox\"}], \"scatterpolar\": [{\"marker\": {\"colorbar\": {\"outlinewidth\": 0, \"ticks\": \"\"}}, \"type\": \"scatterpolar\"}], \"scatterpolargl\": [{\"marker\": {\"colorbar\": {\"outlinewidth\": 0, \"ticks\": \"\"}}, \"type\": \"scatterpolargl\"}], \"scatterternary\": [{\"marker\": {\"colorbar\": {\"outlinewidth\": 0, \"ticks\": \"\"}}, \"type\": \"scatterternary\"}], \"surface\": [{\"colorbar\": {\"outlinewidth\": 0, \"ticks\": \"\"}, \"colorscale\": [[0.0, \"#0d0887\"], [0.1111111111111111, \"#46039f\"], [0.2222222222222222, \"#7201a8\"], [0.3333333333333333, \"#9c179e\"], [0.4444444444444444, \"#bd3786\"], [0.5555555555555556, \"#d8576b\"], [0.6666666666666666, \"#ed7953\"], [0.7777777777777778, \"#fb9f3a\"], [0.8888888888888888, \"#fdca26\"], [1.0, \"#f0f921\"]], \"type\": \"surface\"}], \"table\": [{\"cells\": {\"fill\": {\"color\": \"#EBF0F8\"}, \"line\": {\"color\": \"white\"}}, \"header\": {\"fill\": {\"color\": \"#C8D4E3\"}, \"line\": {\"color\": \"white\"}}, \"type\": \"table\"}]}, \"layout\": {\"annotationdefaults\": {\"arrowcolor\": \"#2a3f5f\", \"arrowhead\": 0, \"arrowwidth\": 1}, \"coloraxis\": {\"colorbar\": {\"outlinewidth\": 0, \"ticks\": \"\"}}, \"colorscale\": {\"diverging\": [[0, \"#8e0152\"], [0.1, \"#c51b7d\"], [0.2, \"#de77ae\"], [0.3, \"#f1b6da\"], [0.4, \"#fde0ef\"], [0.5, \"#f7f7f7\"], [0.6, \"#e6f5d0\"], [0.7, \"#b8e186\"], [0.8, \"#7fbc41\"], [0.9, \"#4d9221\"], [1, \"#276419\"]], \"sequential\": [[0.0, \"#0d0887\"], [0.1111111111111111, \"#46039f\"], [0.2222222222222222, \"#7201a8\"], [0.3333333333333333, \"#9c179e\"], [0.4444444444444444, \"#bd3786\"], [0.5555555555555556, \"#d8576b\"], [0.6666666666666666, \"#ed7953\"], [0.7777777777777778, \"#fb9f3a\"], [0.8888888888888888, \"#fdca26\"], [1.0, \"#f0f921\"]], \"sequentialminus\": [[0.0, \"#0d0887\"], [0.1111111111111111, \"#46039f\"], [0.2222222222222222, \"#7201a8\"], [0.3333333333333333, \"#9c179e\"], [0.4444444444444444, \"#bd3786\"], [0.5555555555555556, \"#d8576b\"], [0.6666666666666666, \"#ed7953\"], [0.7777777777777778, \"#fb9f3a\"], [0.8888888888888888, \"#fdca26\"], [1.0, \"#f0f921\"]]}, \"colorway\": [\"#636efa\", \"#EF553B\", \"#00cc96\", \"#ab63fa\", \"#FFA15A\", \"#19d3f3\", \"#FF6692\", \"#B6E880\", \"#FF97FF\", \"#FECB52\"], \"font\": {\"color\": \"#2a3f5f\"}, \"geo\": {\"bgcolor\": \"white\", \"lakecolor\": \"white\", \"landcolor\": \"#E5ECF6\", \"showlakes\": true, \"showland\": true, \"subunitcolor\": \"white\"}, \"hoverlabel\": {\"align\": \"left\"}, \"hovermode\": \"closest\", \"mapbox\": {\"style\": \"light\"}, \"paper_bgcolor\": \"white\", \"plot_bgcolor\": \"#E5ECF6\", \"polar\": {\"angularaxis\": {\"gridcolor\": \"white\", \"linecolor\": \"white\", \"ticks\": \"\"}, \"bgcolor\": \"#E5ECF6\", \"radialaxis\": {\"gridcolor\": \"white\", \"linecolor\": \"white\", \"ticks\": \"\"}}, \"scene\": {\"xaxis\": {\"backgroundcolor\": \"#E5ECF6\", \"gridcolor\": \"white\", \"gridwidth\": 2, \"linecolor\": \"white\", \"showbackground\": true, \"ticks\": \"\", \"zerolinecolor\": \"white\"}, \"yaxis\": {\"backgroundcolor\": \"#E5ECF6\", \"gridcolor\": \"white\", \"gridwidth\": 2, \"linecolor\": \"white\", \"showbackground\": true, \"ticks\": \"\", \"zerolinecolor\": \"white\"}, \"zaxis\": {\"backgroundcolor\": \"#E5ECF6\", \"gridcolor\": \"white\", \"gridwidth\": 2, \"linecolor\": \"white\", \"showbackground\": true, \"ticks\": \"\", \"zerolinecolor\": \"white\"}}, \"shapedefaults\": {\"line\": {\"color\": \"#2a3f5f\"}}, \"ternary\": {\"aaxis\": {\"gridcolor\": \"white\", \"linecolor\": \"white\", \"ticks\": \"\"}, \"baxis\": {\"gridcolor\": \"white\", \"linecolor\": \"white\", \"ticks\": \"\"}, \"bgcolor\": \"#E5ECF6\", \"caxis\": {\"gridcolor\": \"white\", \"linecolor\": \"white\", \"ticks\": \"\"}}, \"title\": {\"x\": 0.05}, \"xaxis\": {\"automargin\": true, \"gridcolor\": \"white\", \"linecolor\": \"white\", \"ticks\": \"\", \"title\": {\"standoff\": 15}, \"zerolinecolor\": \"white\", \"zerolinewidth\": 2}, \"yaxis\": {\"automargin\": true, \"gridcolor\": \"white\", \"linecolor\": \"white\", \"ticks\": \"\", \"title\": {\"standoff\": 15}, \"zerolinecolor\": \"white\", \"zerolinewidth\": 2}}}, \"xaxis\": {\"anchor\": \"y\", \"domain\": [0.0, 1.0], \"title\": {\"text\": \"Destination\"}}, \"yaxis\": {\"anchor\": \"x\", \"domain\": [0.0, 1.0], \"title\": {\"text\": \"Gram_Price\"}}},\n",
       "                        {\"responsive\": true}\n",
       "                    ).then(function(){\n",
       "                            \n",
       "var gd = document.getElementById('b3e301f5-e08d-47f9-83c3-cbbe7cd18691');\n",
       "var x = new MutationObserver(function (mutations, observer) {{\n",
       "        var display = window.getComputedStyle(gd).display;\n",
       "        if (!display || display === 'none') {{\n",
       "            console.log([gd, 'removed!']);\n",
       "            Plotly.purge(gd);\n",
       "            observer.disconnect();\n",
       "        }}\n",
       "}});\n",
       "\n",
       "// Listen for the removal of the full notebook cells\n",
       "var notebookContainer = gd.closest('#notebook-container');\n",
       "if (notebookContainer) {{\n",
       "    x.observe(notebookContainer, {childList: true});\n",
       "}}\n",
       "\n",
       "// Listen for the clearing of the current output cell\n",
       "var outputEl = gd.closest('.output');\n",
       "if (outputEl) {{\n",
       "    x.observe(outputEl, {childList: true});\n",
       "}}\n",
       "\n",
       "                        })\n",
       "                };\n",
       "                });\n",
       "            </script>\n",
       "        </div>"
      ]
     },
     "metadata": {},
     "output_type": "display_data"
    }
   ],
   "source": [
    "# Proportion\n",
    "\n",
    "# Boxplot of Gram_Price by Destination Country\n",
    "destpricefig = px.box(dfcoca, x=\"Destination\", y=\"Gram_Price\")\n",
    "destpricefig.show()"
   ]
  }
 ],
 "metadata": {
  "kernelspec": {
   "display_name": "Python 3",
   "language": "python",
   "name": "python3"
  },
  "language_info": {
   "codemirror_mode": {
    "name": "ipython",
    "version": 3
   },
   "file_extension": ".py",
   "mimetype": "text/x-python",
   "name": "python",
   "nbconvert_exporter": "python",
   "pygments_lexer": "ipython3",
   "version": "3.7.4"
  }
 },
 "nbformat": 4,
 "nbformat_minor": 2
}
