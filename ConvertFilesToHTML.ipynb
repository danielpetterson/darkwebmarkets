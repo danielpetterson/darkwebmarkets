{
 "cells": [
  {
   "cell_type": "code",
   "execution_count": null,
   "metadata": {},
   "outputs": [],
   "source": [
    "import os\n",
    "import glob\n",
    "\n",
    "# Rename files in directory so that they have the correct file extension.\n",
    "def converthtml(dir, pattern, titlePattern):\n",
    "    \"\"\"Changes file type to from xxxx.html_Item_page=4 to xxxx.html_Item_page=4.html so that the files can be read in correctly\"\"\"\n",
    "    for pathAndFilename in glob.iglob(os.path.join(dir, pattern)):\n",
    "        title, ext = os.path.splitext(os.path.basename(pathAndFilename))\n",
    "        os.rename(pathAndFilename, \n",
    "                  os.path.join(dir, titlePattern % title + ext + ext[0:5]))\n",
    "        \n",
    "# converthtml(r'D:/Darkweb Data/dnmarchives/hydra.tar/hydra/2014-10-27/category/', r'*.html*', r'%s') #test"
   ]
  }
 ],
 "metadata": {
  "kernelspec": {
   "display_name": "Python 3",
   "language": "python",
   "name": "python3"
  },
  "language_info": {
   "codemirror_mode": {
    "name": "ipython",
    "version": 3
   },
   "file_extension": ".py",
   "mimetype": "text/x-python",
   "name": "python",
   "nbconvert_exporter": "python",
   "pygments_lexer": "ipython3",
   "version": "3.7.4"
  }
 },
 "nbformat": 4,
 "nbformat_minor": 2
}
